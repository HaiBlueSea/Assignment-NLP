{
 "cells": [
  {
   "cell_type": "markdown",
   "metadata": {},
   "source": [
    "#  kmeans\n",
    "\n",
    "1. 先随机设定k个聚类中心（此处的k决定了最终的k类）\n",
    "2. 在第n次迭代中，对任意一个样本，求其到k各中心的距离，将该样本归到距离最短的那个中心所在的类；单个图像与图像距离计算的复杂度为d\n",
    "3. 对2中划分K个类求中心点(means的含义)，把这些中心点又放入到2中进行迭代循环，**终止条件是此次计算的中心点和下次计算的中心的基本不变**设此时迭代次数为M次\n",
    "\n",
    "pseudocode:\n",
    "Input: array A of n point , k classes need to find\n",
    "\n",
    "`\n",
    "1 cluster=[]\n",
    "2 for i=0 to n do\n",
    "3     for j=0 to k do\n",
    "4         temp[j] = distance(A[i],A[j])\n",
    "5     index = get_index_of_min(temp) #get the index of the min value in temp\n",
    "6     add i to cluster[index] # this point belong to cluster[index]\n",
    "7 get the new k point from cluster\n",
    "8 go to line2 do it again until new k very close to last k point\n",
    "time :(O(NKDM))\n",
    "`\n",
    " "
   ]
  },
  {
   "cell_type": "code",
   "execution_count": 11,
   "metadata": {
    "ExecuteTime": {
     "end_time": "2019-09-06T13:40:22.788170Z",
     "start_time": "2019-09-06T13:40:22.409149Z"
    }
   },
   "outputs": [],
   "source": [
    "from sklearn.cluster import KMeans\n",
    "import matplotlib.pyplot as plt\n",
    "import random"
   ]
  },
  {
   "cell_type": "code",
   "execution_count": 12,
   "metadata": {
    "ExecuteTime": {
     "end_time": "2019-09-06T13:40:22.796171Z",
     "start_time": "2019-09-06T13:40:22.790170Z"
    }
   },
   "outputs": [],
   "source": [
    "X = [random.randint(0, 100) for _ in range(100)]\n",
    "Y = [random.randint(0, 100) for _ in range(100)]"
   ]
  },
  {
   "cell_type": "code",
   "execution_count": 14,
   "metadata": {
    "ExecuteTime": {
     "end_time": "2019-09-06T13:40:41.106218Z",
     "start_time": "2019-09-06T13:40:40.898206Z"
    }
   },
   "outputs": [
    {
     "data": {
      "text/plain": [
       "<matplotlib.collections.PathCollection at 0x12764f60>"
      ]
     },
     "execution_count": 14,
     "metadata": {},
     "output_type": "execute_result"
    },
    {
     "data": {
      "image/png": "[encoded data removed]",
      "text/plain": [
       "<Figure size 432x288 with 1 Axes>"
      ]
     },
     "metadata": {
      "needs_background": "dark"
     },
     "output_type": "display_data"
    }
   ],
   "source": [
    "plt.scatter(X, Y,s=10)"
   ]
  },
  {
   "cell_type": "code",
   "execution_count": 15,
   "metadata": {
    "ExecuteTime": {
     "end_time": "2019-09-06T13:40:51.002784Z",
     "start_time": "2019-09-06T13:40:50.994784Z"
    }
   },
   "outputs": [],
   "source": [
    "tranning_data = [[x, y] for x, y in zip(X, Y)]"
   ]
  },
  {
   "cell_type": "code",
   "execution_count": 16,
   "metadata": {
    "ExecuteTime": {
     "end_time": "2019-09-06T13:41:02.395436Z",
     "start_time": "2019-09-06T13:41:02.276429Z"
    }
   },
   "outputs": [],
   "source": [
    "KMeans??"
   ]
  },
  {
   "cell_type": "code",
   "execution_count": 17,
   "metadata": {
    "ExecuteTime": {
     "end_time": "2019-09-06T13:43:35.089169Z",
     "start_time": "2019-09-06T13:43:35.076169Z"
    }
   },
   "outputs": [],
   "source": [
    "cluster = KMeans(n_clusters=6, max_iter=500)"
   ]
  },
  {
   "cell_type": "code",
   "execution_count": 18,
   "metadata": {
    "ExecuteTime": {
     "end_time": "2019-09-06T13:43:35.951219Z",
     "start_time": "2019-09-06T13:43:35.865214Z"
    }
   },
   "outputs": [
    {
     "data": {
      "text/plain": [
       "KMeans(algorithm='auto', copy_x=True, init='k-means++', max_iter=500,\n",
       "       n_clusters=6, n_init=10, n_jobs=None, precompute_distances='auto',\n",
       "       random_state=None, tol=0.0001, verbose=0)"
      ]
     },
     "execution_count": 18,
     "metadata": {},
     "output_type": "execute_result"
    }
   ],
   "source": [
    "cluster.fit(tranning_data)"
   ]
  },
  {
   "cell_type": "code",
   "execution_count": 19,
   "metadata": {
    "ExecuteTime": {
     "end_time": "2019-09-06T13:43:39.399416Z",
     "start_time": "2019-09-06T13:43:39.382415Z"
    }
   },
   "outputs": [
    {
     "data": {
      "text/plain": [
       "array([[78.2       , 27.66666667],\n",
       "       [72.04166667, 80.08333333],\n",
       "       [13.0625    , 31.125     ],\n",
       "       [46.08333333, 58.58333333],\n",
       "       [44.47619048, 11.66666667],\n",
       "       [21.08333333, 86.58333333]])"
      ]
     },
     "execution_count": 19,
     "metadata": {},
     "output_type": "execute_result"
    }
   ],
   "source": [
    "cluster.cluster_centers_"
   ]
  },
  {
   "cell_type": "code",
   "execution_count": 20,
   "metadata": {
    "ExecuteTime": {
     "end_time": "2019-09-06T13:43:42.228578Z",
     "start_time": "2019-09-06T13:43:42.207576Z"
    }
   },
   "outputs": [
    {
     "data": {
      "text/plain": [
       "array([4, 5, 0, 4, 4, 5, 1, 5, 2, 5, 4, 1, 3, 1, 3, 3, 0, 3, 2, 4, 2, 2,\n",
       "       0, 2, 3, 4, 0, 1, 1, 0, 0, 4, 2, 1, 1, 4, 1, 3, 4, 2, 2, 1, 0, 3,\n",
       "       1, 2, 3, 4, 4, 0, 1, 1, 4, 2, 4, 4, 3, 2, 5, 4, 5, 0, 5, 1, 3, 2,\n",
       "       1, 4, 4, 0, 5, 1, 2, 0, 4, 3, 1, 1, 5, 2, 1, 2, 1, 0, 5, 5, 2, 1,\n",
       "       1, 1, 4, 0, 3, 1, 1, 4, 0, 4, 0, 5])"
      ]
     },
     "execution_count": 20,
     "metadata": {},
     "output_type": "execute_result"
    }
   ],
   "source": [
    "cluster.labels_"
   ]
  },
  {
   "cell_type": "code",
   "execution_count": 21,
   "metadata": {
    "ExecuteTime": {
     "end_time": "2019-09-06T13:43:51.801125Z",
     "start_time": "2019-09-06T13:43:51.796125Z"
    }
   },
   "outputs": [],
   "source": [
    "from collections import defaultdict"
   ]
  },
  {
   "cell_type": "code",
   "execution_count": 22,
   "metadata": {
    "ExecuteTime": {
     "end_time": "2019-09-06T13:43:56.769409Z",
     "start_time": "2019-09-06T13:43:56.756409Z"
    }
   },
   "outputs": [],
   "source": [
    "centers = defaultdict(list)"
   ]
  },
  {
   "cell_type": "code",
   "execution_count": 23,
   "metadata": {
    "ExecuteTime": {
     "end_time": "2019-09-06T13:43:57.280439Z",
     "start_time": "2019-09-06T13:43:57.269438Z"
    }
   },
   "outputs": [],
   "source": [
    "for label, location in zip(cluster.labels_, tranning_data):\n",
    "    centers[label].append(location)"
   ]
  },
  {
   "cell_type": "code",
   "execution_count": 24,
   "metadata": {
    "ExecuteTime": {
     "end_time": "2019-09-06T13:46:28.269075Z",
     "start_time": "2019-09-06T13:46:27.648039Z"
    }
   },
   "outputs": [
    {
     "data": {
      "image/png": "[encoded data removed]",
      "text/plain": [
       "<Figure size 432x288 with 1 Axes>"
      ]
     },
     "metadata": {
      "needs_background": "dark"
     },
     "output_type": "display_data"
    }
   ],
   "source": [
    "color = ['red', 'green', 'grey', 'black', 'yellow', 'orange']\n",
    "\n",
    "for i, c in enumerate(centers):\n",
    "    for location in centers[c]:\n",
    "        plt.scatter(*location, c=color[i],s=20)\n",
    "        \n",
    "for center in cluster.cluster_centers_:\n",
    "    plt.scatter(*center, s=100)"
   ]
  },
  {
   "cell_type": "markdown",
   "metadata": {},
   "source": [
    "## Activation Function"
   ]
  },
  {
   "cell_type": "code",
   "execution_count": 1,
   "metadata": {},
   "outputs": [],
   "source": [
    "def relu(x):\n",
    "    return x if x > 0 else 0 "
   ]
  },
  {
   "cell_type": "code",
   "execution_count": 2,
   "metadata": {},
   "outputs": [],
   "source": [
    "import matplotlib.pyplot as plt"
   ]
  },
  {
   "cell_type": "code",
   "execution_count": 114,
   "metadata": {},
   "outputs": [],
   "source": [
    "def linear():\n",
    "    w, b = random.randint(-100, 100), random.randint(-100, 100)\n",
    "    def _linear(x):\n",
    "        return w * x + b\n",
    "    return _linear"
   ]
  },
  {
   "cell_type": "code",
   "execution_count": 45,
   "metadata": {},
   "outputs": [],
   "source": [
    "import random"
   ]
  },
  {
   "cell_type": "code",
   "execution_count": 46,
   "metadata": {},
   "outputs": [],
   "source": [
    "import numpy as np"
   ]
  },
  {
   "cell_type": "code",
   "execution_count": 115,
   "metadata": {},
   "outputs": [],
   "source": [
    "X =  np.linspace(-1000, 1000, 4000)"
   ]
  },
  {
   "cell_type": "code",
   "execution_count": 116,
   "metadata": {},
   "outputs": [],
   "source": [
    "L = linear()"
   ]
  },
  {
   "cell_type": "code",
   "execution_count": 117,
   "metadata": {},
   "outputs": [],
   "source": [
    "L2 = linear()"
   ]
  },
  {
   "cell_type": "code",
   "execution_count": 118,
   "metadata": {},
   "outputs": [],
   "source": [
    "L3 = linear()"
   ]
  },
  {
   "cell_type": "code",
   "execution_count": 119,
   "metadata": {},
   "outputs": [],
   "source": [
    "def sigmoid(x):\n",
    "    return 1 / (1 + np.e ** (-x))"
   ]
  },
  {
   "cell_type": "code",
   "execution_count": 120,
   "metadata": {},
   "outputs": [],
   "source": [
    "def add_1(x): return x + 1"
   ]
  },
  {
   "cell_type": "code",
   "execution_count": 121,
   "metadata": {},
   "outputs": [],
   "source": [
    "def add_2(x): return x + 2"
   ]
  },
  {
   "cell_type": "code",
   "execution_count": 122,
   "metadata": {},
   "outputs": [],
   "source": [
    "from functools import reduce"
   ]
  },
  {
   "cell_type": "code",
   "execution_count": 123,
   "metadata": {},
   "outputs": [],
   "source": [
    "initial = 0\n",
    "\n",
    "def chain(funcs, x):\n",
    "    last_value = funcs[0](x)\n",
    "    if len(funcs) == 1: return last_value\n",
    "    else:\n",
    "        return chain(funcs[1:], last_value)"
   ]
  },
  {
   "cell_type": "code",
   "execution_count": 124,
   "metadata": {},
   "outputs": [
    {
     "data": {
      "text/plain": [
       "6"
      ]
     },
     "execution_count": 124,
     "metadata": {},
     "output_type": "execute_result"
    }
   ],
   "source": [
    "chain([add_1, add_2, add_2, add_1], 0)"
   ]
  },
  {
   "cell_type": "code",
   "execution_count": 128,
   "metadata": {},
   "outputs": [],
   "source": [
    "def tanh(x): \n",
    "    return np.tanh(x)"
   ]
  },
  {
   "cell_type": "code",
   "execution_count": 147,
   "metadata": {},
   "outputs": [],
   "source": [
    "computing_chain = [linear(), relu, linear(), relu, linear(), relu]"
   ]
  },
  {
   "cell_type": "code",
   "execution_count": 148,
   "metadata": {},
   "outputs": [],
   "source": [
    "Y = [chain(computing_chain, x) for x in X]"
   ]
  },
  {
   "cell_type": "code",
   "execution_count": 149,
   "metadata": {},
   "outputs": [
    {
     "data": {
      "text/plain": [
       "[<matplotlib.lines.Line2D at 0x120907b38>]"
      ]
     },
     "execution_count": 149,
     "metadata": {},
     "output_type": "execute_result"
    },
    {
     "data": {
      "image/png": "[encoded data removed]",
      "text/plain": [
       "<Figure size 432x288 with 1 Axes>"
      ]
     },
     "metadata": {
      "needs_background": "light"
     },
     "output_type": "display_data"
    }
   ],
   "source": [
    "plt.plot(X, Y)"
   ]
  }
 ],
 "metadata": {
  "kernelspec": {
   "display_name": "Python 3",
   "language": "python",
   "name": "python3"
  },
  "language_info": {
   "codemirror_mode": {
    "name": "ipython",
    "version": 3
   },
   "file_extension": ".py",
   "mimetype": "text/x-python",
   "name": "python",
   "nbconvert_exporter": "python",
   "pygments_lexer": "ipython3",
   "version": "3.6.9"
  },
  "toc": {
   "base_numbering": 1,
   "nav_menu": {},
   "number_sections": true,
   "sideBar": true,
   "skip_h1_title": false,
   "title_cell": "Table of Contents",
   "title_sidebar": "Contents",
   "toc_cell": false,
   "toc_position": {},
   "toc_section_display": true,
   "toc_window_display": false
  }
 },
 "nbformat": 4,
 "nbformat_minor": 2
}
