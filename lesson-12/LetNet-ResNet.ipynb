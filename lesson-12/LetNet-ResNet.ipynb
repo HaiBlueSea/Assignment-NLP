{
 "cells": [
  {
   "cell_type": "markdown",
   "metadata": {},
   "source": [
    "### 总结\n",
    "\n",
    "| CNN模型  | 特点                                                         |\n",
    "| -------- | ------------------------------------------------------------ |\n",
    "| LeNet    | 卷积+pooling+FC                                              |\n",
    "| AlexNet  | 卷积+pooling+FC，相比LeNet区别就是增加了网络层数             |\n",
    "| VGG      | 卷积+pooling+FC，相比以上两个区别是又加深了网络层数          |\n",
    "| GooleNet | 采用Inception结构，该结构将CNN中常用的卷积（1x1，3x3，5x5）、池化操作（3x3）堆叠在一起（卷积、池化后的尺寸相同，将通道相加），一方面增加了网络的宽度，另一方面也增加了网络对尺度的适应性 |\n",
    "| ResNet   | 提出Residual模型，主要用于解决当网络层数过深引起的网络衰退问题，主要结构就是copy一个浅层的加给神深层的输出 |\n",
    "\n"
   ]
  }
 ],
 "metadata": {
  "kernelspec": {
   "display_name": "Python 3",
   "language": "python",
   "name": "python3"
  },
  "language_info": {
   "codemirror_mode": {
    "name": "ipython",
    "version": 3
   },
   "file_extension": ".py",
   "mimetype": "text/x-python",
   "name": "python",
   "nbconvert_exporter": "python",
   "pygments_lexer": "ipython3",
   "version": "3.6.9"
  },
  "toc": {
   "base_numbering": 1,
   "nav_menu": {},
   "number_sections": true,
   "sideBar": true,
   "skip_h1_title": false,
   "title_cell": "Table of Contents",
   "title_sidebar": "Contents",
   "toc_cell": false,
   "toc_position": {},
   "toc_section_display": true,
   "toc_window_display": false
  }
 },
 "nbformat": 4,
 "nbformat_minor": 2
}
