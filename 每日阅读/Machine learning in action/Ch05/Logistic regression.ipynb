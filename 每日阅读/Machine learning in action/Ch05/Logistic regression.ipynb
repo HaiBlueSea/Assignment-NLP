{
 "cells": [
  {
   "cell_type": "markdown",
   "metadata": {},
   "source": [
    "# 逻辑回归"
   ]
  },
  {
   "cell_type": "markdown",
   "metadata": {},
   "source": [
    "## Gradient Descent(梯度下降)"
   ]
  },
  {
   "cell_type": "markdown",
   "metadata": {},
   "source": [
    "$$\n",
    "\\Theta^1 = \\Theta^0 - \\alpha\\nabla J(\\Theta) \\quad evaluated\\quad at\\quad \\Theta^0  \\\\\n",
    "\\begin{align}\\notag\n",
    "\\Theta^1 &：下一步位置  \\\\ \\notag\n",
    "\\Theta^0 &：当前位置\\\\ \\notag\n",
    "\\alpha&:步长\\\\\\notag\n",
    "\\nabla J(\\Theta) &:当前梯度\n",
    "\\end{align}\n",
    "$$"
   ]
  },
  {
   "cell_type": "markdown",
   "metadata": {},
   "source": [
    "### 梯度下降例子"
   ]
  },
  {
   "cell_type": "markdown",
   "metadata": {},
   "source": [
    "$$\n",
    "\\quad\\quad\\ \\ 函数：J(\\theta) = \\theta^2 \\quad \\\\\n",
    "函数微分：J'(\\theta)  = 2\\theta\\\\\n",
    "初始起点：\\theta^0 = 1 \\quad \\ \\ \\ \\\\\n",
    "学习率：\\alpha =0.4 \\\n",
    "$$"
   ]
  },
  {
   "cell_type": "markdown",
   "metadata": {},
   "source": [
    "$$\n",
    "\\begin{align}\\notag\n",
    "\\theta^0 & = 1\\\\ \\notag\n",
    "\\theta^1 &= \\theta^0 - \\alpha*J'(\\theta^0)\\\\\\notag\n",
    "&=1-0.4*2\\\\\\notag\n",
    "&=0.2\\\\\\notag\n",
    "\\theta^2 &= \\theta^1 - \\alpha*J'(\\theta^1)\\\\\\notag\n",
    "&=0.2-0.4*0.4\\\\\\notag\n",
    "&=0.04\\\\\\notag\n",
    "\\theta^3 &= 0.08\\\\\\notag\n",
    "\\theta^4 &= 0.0016\\\\\\notag\n",
    "\\end{align}\\notag\n",
    "$$"
   ]
  },
  {
   "cell_type": "markdown",
   "metadata": {},
   "source": [
    "###  获取实验数据集"
   ]
  },
  {
   "cell_type": "markdown",
   "metadata": {},
   "source": [
    "$$f(x)=\\frac{1}{1 + e^{- x}}$$\n",
    "\n",
    "$$f'(x)=\\frac{e^{- x}}{\\left(1 + e^{- x}\\right)^{2}} = f(x)(1-f(x))$$"
   ]
  },
  {
   "cell_type": "markdown",
   "metadata": {},
   "source": [
    "其中:\n",
    "$$ℎ_𝜃(x_i) = \\theta_0 + \\theta_1x_1 + \\cdots + \\theta_nx_n$$ \n",
    "这里定义的代价函数为交叉熵函数:\n",
    "$$J(\\theta) = - \\frac{1}{m}\\sum 𝑦^{(𝑖)}log (ℎ_𝜃(𝑥^i)) + (1 − 𝑦^𝑖)log (1 − ℎ_𝜃(𝑥^𝑖))$$\n",
    "其中:\n",
    "$$h_\\theta(x^i)=\\frac{1}{1 + e^{- \\theta^Tx^i}}$$\n",
    "求导(推导过程略)：\n",
    "$$\\frac{\\partial J(\\theta)}{\\partial x_j} = \\frac{1}{m} \\sum (ℎ_𝜃(𝑥^𝑖) − 𝑦^𝑖)𝑥_𝑗$$"
   ]
  },
  {
   "cell_type": "code",
   "execution_count": 4,
   "metadata": {},
   "outputs": [],
   "source": [
    "import matplotlib.pyplot as plt\n",
    "import numpy as np"
   ]
  },
  {
   "cell_type": "code",
   "execution_count": 158,
   "metadata": {
    "code_folding": [
     0,
     9,
     13,
     29,
     45
    ]
   },
   "outputs": [],
   "source": [
    "def loadDataSet():\n",
    "    dataMat = []; labelMat = []\n",
    "    with open('testSet.txt') as fr:\n",
    "        for line in fr.readlines():\n",
    "            lineArr = line.strip().split()\n",
    "            dataMat.append([1.0, float(lineArr[0]), float(lineArr[1])])#X0值设为1是为了计算方便\n",
    "            labelMat.append(int(lineArr[2]))\n",
    "    return dataMat,labelMat\n",
    "\n",
    "def sigmoid(inX):\n",
    "    return 1/(1+np.exp(-inX))\n",
    "\n",
    "#这里是上升求极大值点，而不是梯度下降求小值点\n",
    "def gradAscent(dataMatin, classLabels):\n",
    "    dataMatrix = np.mat(dataMatin)\n",
    "    labelMat = np.mat(classLabels).transpose()\n",
    "    m, n  = np.shape(dataMatrix)\n",
    "    aplpha = 0.001\n",
    "    maxCycles = 500\n",
    "    weight = np.ones((n,1)) #初始值\n",
    "    for k in range(maxCycles):\n",
    "        h = sigmoid(dataMatrix*weight)\n",
    "        error = labelMat - h #相当于loss函数\n",
    "        ##这里省略了1/m，导致的结果是学习速率变快，如果/m那么同样条件下maxCycles次数要扩大才能得到一样的效果\n",
    "        weight = weight + aplpha * dataMatrix.transpose()*error \n",
    "        \n",
    "    weight = np.array(weight)\n",
    "    return weight.flatten()\n",
    "\n",
    "def plotbestfit(dataset, labelvec, weight):\n",
    "    dataset = np.array(dataset)\n",
    "    #plt.figure(figsize=(10,10))\n",
    "    plt.scatter(dataset[:, 1],dataset[:, 2],20,['green' if num==1 else 'red' for num in labelvec])\n",
    "    \n",
    "    #print(weight)\n",
    "    x = np.arange(-3, 3, 0.1)\n",
    "    y = (-weight[0]- weight[1]*x) / weight[2]\n",
    "    plt.plot(x, y)\n",
    "    plt.tick_params(axis='both',colors ='white')\n",
    "    plt.xlabel('X1',c = 'white')\n",
    "    plt.ylabel('X2',c = 'white')\n",
    "\n",
    "# 随机梯度下降，每次仅使用一个或一小集合数据来更新一次\n",
    "# 当一轮数据被更新完可以以继续重复同样的数据再次更新这样更新n次才能公平地和普通的梯度下降迭代n次对比\n",
    "# 而普通的梯度下降是所有数据更新迭代n次，\n",
    "def stocGradAscent0(dataMatrix, classLabels):\n",
    "    dataMatrix = np.array(dataMatrix)\n",
    "    m,n = np.shape(dataMatrix)\n",
    "    alpha = 0.01\n",
    "    weights = np.ones(n)   #initialize to all ones\n",
    "    #相当于在整个数据集只运行了一次\n",
    "    for i in range(m):\n",
    "        h = sigmoid(sum(dataMatrix[i]*weights))\n",
    "        error = classLabels[i] - h\n",
    "        weights = weights + alpha * error * dataMatrix[i]\n",
    "    return weights\n",
    "\n",
    "#改进算法1\n",
    "def stocGradAscent1(dataMatrix, classLabels, numIter=150):\n",
    "    dataMatrix = np.array(dataMatrix)\n",
    "    m,n = np.shape(dataMatrix)\n",
    "    weights = np.ones(n)   #initialize to all ones\n",
    "    for j in range(numIter):\n",
    "        dataIndex = list(range(m))\n",
    "        for i in range(m):\n",
    "            alpha = 8/(1.0+j+i)+0.0001   #可减少回归系数的波动或高频波动\n",
    "            randIndex = int(np.random.uniform(0,len(dataIndex)))##可减少回归系数周期性波动\n",
    "            \n",
    "            h = sigmoid(sum(dataMatrix[randIndex]*weights))\n",
    "            error = classLabels[randIndex] - h\n",
    "            weights = weights + alpha * error * dataMatrix[randIndex]\n",
    "            del(dataIndex[randIndex])\n",
    "    return weights"
   ]
  },
  {
   "cell_type": "code",
   "execution_count": 130,
   "metadata": {},
   "outputs": [],
   "source": [
    "dataMat,labelMat = loadDataSet()\n",
    "weight = gradAscent(dataMat, labelMat)"
   ]
  },
  {
   "cell_type": "code",
   "execution_count": 145,
   "metadata": {},
   "outputs": [
    {
     "data": {
      "text/plain": [
       "numpy.ndarray"
      ]
     },
     "execution_count": 145,
     "metadata": {},
     "output_type": "execute_result"
    }
   ],
   "source": [
    "type(weight2)"
   ]
  },
  {
   "cell_type": "code",
   "execution_count": 131,
   "metadata": {},
   "outputs": [],
   "source": [
    "weight1 = stocGradAscent0(dataMat, labelMat)\n",
    "weight2 = stocGradAscent1(dataMat, labelMat)"
   ]
  },
  {
   "cell_type": "code",
   "execution_count": 133,
   "metadata": {},
   "outputs": [
    {
     "data": {
      "image/png": "[encoded data removed]",
      "text/plain": [
       "<Figure size 432x288 with 1 Axes>"
      ]
     },
     "metadata": {
      "needs_background": "dark"
     },
     "output_type": "display_data"
    }
   ],
   "source": [
    "#plotbestfit(dataMat,labelMat, weight)\n",
    "#plotbestfit(dataMat,labelMat, weight1)\n",
    "plotbestfit(dataMat,labelMat, weight2)"
   ]
  },
  {
   "cell_type": "markdown",
   "metadata": {},
   "source": [
    "## 预测病马的死亡率"
   ]
  },
  {
   "cell_type": "code",
   "execution_count": 160,
   "metadata": {
    "code_folding": [
     0,
     7,
     34
    ]
   },
   "outputs": [],
   "source": [
    "def classifyVector(inX, weight):\n",
    "    if isinstance(inX, list):\n",
    "        inX = np.array(inX)\n",
    "    prob = sigmoid(sum(inX*weight))\n",
    "    if prob > 0.5:return 1\n",
    "    else:return 0\n",
    "\n",
    "def colicTest():\n",
    "    trainingSet = []; trainingLabels = []\n",
    "    with open('horseColicTraining.txt') as frTrain:\n",
    "        for line in frTrain.readlines():\n",
    "            currLine = line.strip().split('\\t')\n",
    "            lineArr =[]\n",
    "            for i in range(21):\n",
    "                lineArr.append(float(currLine[i]))\n",
    "            trainingSet.append(lineArr)\n",
    "            trainingLabels.append(float(currLine[21]))\n",
    "    trainWeights = stocGradAscent1(trainingSet, trainingLabels, 1000)\n",
    "    errorCount = 0; numTestVec = 0.0\n",
    "    \n",
    "    #print(type(trainWeights))\n",
    "    with open('horseColicTest.txt') as frTest:\n",
    "        for line in frTest.readlines():\n",
    "            numTestVec += 1.0\n",
    "            currLine = line.strip().split('\\t')\n",
    "            lineArr =[]\n",
    "            for i in range(21):\n",
    "                lineArr.append(float(currLine[i]))\n",
    "            if int(classifyVector(lineArr, trainWeights))!= int(currLine[21]):\n",
    "                errorCount += 1\n",
    "    errorRate = (float(errorCount)/numTestVec)\n",
    "    print(\"the error rate of this test is: %f\" % errorRate)\n",
    "    return errorRate\n",
    "\n",
    "def multiTest():\n",
    "    numTests = 10; errorSum=0.0\n",
    "    for k in range(numTests):\n",
    "        errorSum += colicTest()\n",
    "    print(\"after %d iterations the average error rate is: %f\" % (numTests, errorSum/float(numTests))) "
   ]
  },
  {
   "cell_type": "code",
   "execution_count": 161,
   "metadata": {},
   "outputs": [
    {
     "name": "stdout",
     "output_type": "stream",
     "text": [
      "the error rate of this test is: 0.328358\n",
      "the error rate of this test is: 0.373134\n",
      "the error rate of this test is: 0.417910\n",
      "the error rate of this test is: 0.388060\n",
      "the error rate of this test is: 0.283582\n",
      "the error rate of this test is: 0.358209\n",
      "the error rate of this test is: 0.238806\n",
      "the error rate of this test is: 0.343284\n",
      "the error rate of this test is: 0.313433\n",
      "the error rate of this test is: 0.417910\n",
      "after 10 iterations the average error rate is: 0.346269\n"
     ]
    }
   ],
   "source": [
    "multiTest()"
   ]
  },
  {
   "cell_type": "code",
   "execution_count": null,
   "metadata": {},
   "outputs": [],
   "source": []
  },
  {
   "cell_type": "code",
   "execution_count": null,
   "metadata": {},
   "outputs": [],
   "source": []
  }
 ],
 "metadata": {
  "kernelspec": {
   "display_name": "Python 3",
   "language": "python",
   "name": "python3"
  },
  "language_info": {
   "codemirror_mode": {
    "name": "ipython",
    "version": 3
   },
   "file_extension": ".py",
   "mimetype": "text/x-python",
   "name": "python",
   "nbconvert_exporter": "python",
   "pygments_lexer": "ipython3",
   "version": "3.6.9"
  },
  "toc": {
   "base_numbering": 1,
   "nav_menu": {},
   "number_sections": true,
   "sideBar": true,
   "skip_h1_title": false,
   "title_cell": "Table of Contents",
   "title_sidebar": "Contents",
   "toc_cell": false,
   "toc_position": {},
   "toc_section_display": true,
   "toc_window_display": false
  }
 },
 "nbformat": 4,
 "nbformat_minor": 2
}
