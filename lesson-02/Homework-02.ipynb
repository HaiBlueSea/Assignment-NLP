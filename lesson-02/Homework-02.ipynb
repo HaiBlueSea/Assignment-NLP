{
 "cells": [
  {
   "cell_type": "markdown",
   "metadata": {},
   "source": [
    "## Assignments for Week-02"
   ]
  },
  {
   "cell_type": "markdown",
   "metadata": {},
   "source": [
    "In this course, we learnt what's the search problem and what's the machine leanring. In this assignment, we need you do some more practice."
   ]
  },
  {
   "cell_type": "markdown",
   "metadata": {},
   "source": [
    "### 1. Re-code the house price machine learning\n",
    "\n",
    "###### 1. Random Choose Method to get optimal *k* and *b*\n",
    "###### 2.Supervised Direction to get optimal *k* and *b*\n",
    "###### 3.Gradient Descent to get optimal *k* and *b*\n",
    "###### 4. Try different Loss function and learning rate. \n",
    "\n",
    "For example, you can change the loss function: $Loss = \\frac{1}{n} sum({y_i - \\hat{y_i}})^2$ to $Loss = \\frac{1}{n} sum(|{y_i - \\hat{y_i}}|)$\n",
    "\n",
    "And you can change the learning rate and observe the performance."
   ]
  },
  {
   "cell_type": "markdown",
   "metadata": {},
   "source": [
    "![](https://timgsa.baidu.com/timg?image&quality=80&size=b9999_10000&sec=1562414412237&di=8377c38d7b50c6f8d45b92ccc78dc1e7&imgtype=0&src=http%3A%2F%2Fmmbiz.qpic.cn%2Fmmbiz_jpg%2FlSyiavfm6wPgQDuDYa42IMgSkLOcPJU91RbkMibGy7VHLrhhNVLibTYk1iaLcmXKTdHc4icTDVia59QFXwqpW8cLflaw%2F640%3Fwx_fmt%3Djpeg)"
   ]
  },
  {
   "cell_type": "code",
   "execution_count": 1,
   "metadata": {},
   "outputs": [],
   "source": [
    "from sklearn.datasets import load_boston"
   ]
  },
  {
   "cell_type": "code",
   "execution_count": 2,
   "metadata": {},
   "outputs": [],
   "source": [
    "dataset = load_boston()"
   ]
  },
  {
   "cell_type": "code",
   "execution_count": 3,
   "metadata": {},
   "outputs": [],
   "source": [
    "x, y = dataset['data'], dataset['target']"
   ]
  },
  {
   "cell_type": "code",
   "execution_count": 4,
   "metadata": {},
   "outputs": [],
   "source": [
    "x_rm = x[:, 5]"
   ]
  },
  {
   "cell_type": "code",
   "execution_count": 5,
   "metadata": {},
   "outputs": [],
   "source": [
    "import random\n",
    "import numpy as np\n",
    "import matplotlib.pyplot as plt"
   ]
  },
  {
   "cell_type": "code",
   "execution_count": 6,
   "metadata": {},
   "outputs": [],
   "source": [
    "%matplotlib inline"
   ]
  },
  {
   "cell_type": "code",
   "execution_count": 7,
   "metadata": {},
   "outputs": [],
   "source": [
    "def draw_rm_price():\n",
    "    plt.scatter(x_rm,y)"
   ]
  },
  {
   "cell_type": "code",
   "execution_count": 8,
   "metadata": {},
   "outputs": [
    {
     "data": {
      "image/png": "[encoded data removed]",
      "text/plain": [
       "<Figure size 432x288 with 1 Axes>"
      ]
     },
     "metadata": {
      "needs_background": "light"
     },
     "output_type": "display_data"
    }
   ],
   "source": [
    "draw_rm_price()"
   ]
  },
  {
   "cell_type": "markdown",
   "metadata": {},
   "source": [
    "$$y = k*x + b$$"
   ]
  },
  {
   "cell_type": "markdown",
   "metadata": {},
   "source": [
    "$$ loss = \\frac{1}{n} \\sum{(y_i - {y_1i})^2}$$"
   ]
  },
  {
   "cell_type": "code",
   "execution_count": 9,
   "metadata": {},
   "outputs": [],
   "source": [
    "def loss_var(y, y_get):\n",
    "    return np.mean(np.square(y - y_get))"
   ]
  },
  {
   "cell_type": "markdown",
   "metadata": {},
   "source": [
    "$$ loss = \\frac{1}{n} \\sum{|y_i- y_{1i}|} $$"
   ]
  },
  {
   "cell_type": "code",
   "execution_count": 10,
   "metadata": {},
   "outputs": [],
   "source": [
    "def loss_avrange_var(y, y_get):\n",
    "    return np.mean(np.abs(y - y_get))"
   ]
  },
  {
   "cell_type": "markdown",
   "metadata": {},
   "source": [
    "### Random Choose Method to get k and b "
   ]
  },
  {
   "cell_type": "code",
   "execution_count": 11,
   "metadata": {},
   "outputs": [
    {
     "name": "stdout",
     "output_type": "stream",
     "text": [
      "when time is :0, k = 58.35491768028663, b = 65.35153994925665, loss = 168976.60109668892\n",
      "when time is :3, k = -9.319644845970359, b = -47.22091932067314, loss = 16677.92450858097\n",
      "when time is :15, k = -9.658403037655702, b = -24.90721777482166, loss = 11911.171551360838\n",
      "when time is :17, k = 11.741169842897307, b = -45.74622291553776, loss = 77.39133182611907\n",
      "when time is :76, k = 7.277348649542262, b = -26.757599148501626, loss = 57.87863039975573\n",
      "when time is :296, k = 7.863330382566929, b = -25.3928282080943, loss = 46.5842501477212\n"
     ]
    }
   ],
   "source": [
    "trying_time = 1000\n",
    "min_loss = float('inf')\n",
    "best_k = None\n",
    "best_b = None\n",
    "\n",
    "for i in range(trying_time):\n",
    "    k = random.random()*200 - 100\n",
    "    b = random.random()*200 - 100\n",
    "    price_by_random_k_b = [k*i + b for i in x_rm]\n",
    "    \n",
    "    current_loss = loss_var(y, np.array(price_by_random_k_b))\n",
    "    if current_loss < min_loss:\n",
    "        best_k = k \n",
    "        best_b = b\n",
    "        print('when time is :{}, k = {}, b = {}, loss = {}'.format(i, k ,b , current_loss))\n",
    "        min_loss = current_loss\n",
    "        "
   ]
  },
  {
   "cell_type": "code",
   "execution_count": 12,
   "metadata": {},
   "outputs": [
    {
     "data": {
      "text/plain": [
       "60.43042934749012"
      ]
     },
     "execution_count": 12,
     "metadata": {},
     "output_type": "execute_result"
    }
   ],
   "source": [
    "price_by_random_k_b = [3.3*i + 1.3 for i in x_rm]\n",
    "current_loss = loss_var(y, np.array(price_by_random_k_b))\n",
    "current_loss"
   ]
  },
  {
   "cell_type": "code",
   "execution_count": 13,
   "metadata": {},
   "outputs": [
    {
     "data": {
      "text/plain": [
       "<matplotlib.collections.PathCollection at 0x950b4e0>"
      ]
     },
     "execution_count": 13,
     "metadata": {},
     "output_type": "execute_result"
    },
    {
     "data": {
      "image/png": "[encoded data removed]",
      "text/plain": [
       "<Figure size 432x288 with 1 Axes>"
      ]
     },
     "metadata": {
      "needs_background": "light"
     },
     "output_type": "display_data"
    }
   ],
   "source": [
    "best_k = 3.3\n",
    "best_b = 1.3\n",
    "draw_rm_price()\n",
    "plt.scatter(x_rm, [[best_k*i + best_b for i in x_rm]])"
   ]
  },
  {
   "cell_type": "markdown",
   "metadata": {},
   "source": [
    "### Supervised Direction to get k and b"
   ]
  },
  {
   "cell_type": "code",
   "execution_count": 90,
   "metadata": {},
   "outputs": [
    {
     "name": "stdout",
     "output_type": "stream",
     "text": [
      "when time is :0, k = 0.5712382023143476, b = -17.45026143505821, loss = 1403.9105073966605\n",
      "when time is :1, k = 1.5712382023143476, b = -16.45026143505821, loss = 918.8428153366747\n",
      "when time is :2, k = 2.5712382023143476, b = -15.45026143505821, loss = 540.8923100237243\n",
      "when time is :3, k = 3.5712382023143476, b = -14.45026143505821, loss = 270.05899145780967\n",
      "when time is :4, k = 4.571238202314348, b = -13.45026143505821, loss = 106.3428596389305\n",
      "when time is :5, k = 5.571238202314348, b = -12.45026143505821, loss = 49.74391456708693\n",
      "when time is :502, k = 6.571238202314348, b = -17.45026143505821, loss = 48.48501446737231\n",
      "when time is :504, k = 6.571238202314348, b = -19.45026143505821, loss = 47.2259672090701\n",
      "when time is :541, k = 7.571238202314348, b = -26.45026143505821, loss = 46.71690620283192\n",
      "when time is :547, k = 7.571238202314348, b = -24.45026143505821, loss = 45.11449101054125\n"
     ]
    }
   ],
   "source": [
    "trying_time = 1000\n",
    "min_loss = float('inf')\n",
    "best_k = None\n",
    "best_b = None\n",
    "k = random.random()*200 - 100\n",
    "b = random.random()*200 - 100\n",
    "direction = [[1, 1], [1, -1], [-1, 1], [-1, -1]]\n",
    "current_direction = random.choice(direction)\n",
    "\n",
    "for i in range(trying_time):\n",
    "    k += current_direction[0]\n",
    "    b += current_direction[1]\n",
    "    \n",
    "    price_by_random_k_b = [k*i + b for i in x_rm]\n",
    "    \n",
    "    current_loss = loss_var(y, np.array(price_by_random_k_b))\n",
    "    if current_loss < min_loss:\n",
    "        best_k = k \n",
    "        best_b = b\n",
    "        print('when time is :{}, k = {}, b = {}, loss = {}'.format(i, k ,b , current_loss))\n",
    "        min_loss = current_loss\n",
    "        \n",
    "    else:\n",
    "        current_direction  = random.choice([i for i in direction if i!=current_direction])"
   ]
  },
  {
   "cell_type": "code",
   "execution_count": 91,
   "metadata": {},
   "outputs": [
    {
     "data": {
      "text/plain": [
       "<matplotlib.collections.PathCollection at 0xb3dd438>"
      ]
     },
     "execution_count": 91,
     "metadata": {},
     "output_type": "execute_result"
    },
    {
     "data": {
      "image/png": "[encoded data removed]",
      "text/plain": [
       "<Figure size 432x288 with 1 Axes>"
      ]
     },
     "metadata": {
      "needs_background": "light"
     },
     "output_type": "display_data"
    }
   ],
   "source": [
    "draw_rm_price()\n",
    "plt.scatter(x_rm, [[best_k*i + best_b for i in x_rm]])"
   ]
  },
  {
   "cell_type": "markdown",
   "metadata": {},
   "source": [
    "### Gradient Descent Method to get k and b"
   ]
  },
  {
   "cell_type": "markdown",
   "metadata": {},
   "source": [
    "$$ loss(\\theta) = \\frac{1}{2n}\\sum_{i = 0} ^n(h_\\theta (x^i) - y^i)^2$$\n",
    "½是一个常量，这样是为了在求梯度的时候，二次方乘下来就和这里的½抵消了，自然就没有多余的常数系数，方便后续的计算，同时对结果不会有影响\n"
   ]
  },
  {
   "cell_type": "markdown",
   "metadata": {},
   "source": [
    "$$可以看到变量有2个,即 \\theta_0 和 \\theta_1  分别对应之前的k 和 b$$\n",
    "$$h_\\theta (x^i) = \\theta_0* x^i + \\theta_1$$"
   ]
  },
  {
   "cell_type": "markdown",
   "metadata": {},
   "source": [
    "$$ \\frac{\\partial h(\\theta)}{\\partial\\theta_1}=\\frac1n\\sum_{i=0}^n(h_\\theta(x^i) - y^i)$$\n",
    "$$ \\frac{\\partial h(\\theta)}{\\partial\\theta_0}=\\frac1n\\sum_{i=0}^n(h_\\theta(x^i) - y^i)x^i$$\n",
    "\n",
    "$$梯度下降公式: \\Theta^n = \\Theta^{n-1} - \\alpha \\nabla loss $$"
   ]
  },
  {
   "cell_type": "code",
   "execution_count": 16,
   "metadata": {},
   "outputs": [],
   "source": [
    "def loss_var_new(theta, x, y):\n",
    "    #theta为传入的含k，b 的矩阵\n",
    "    diff = np.dot(x, theta) - y  #h(x)  - y 的值\n",
    "    return np.mean(np.square(diff))/2"
   ]
  },
  {
   "cell_type": "code",
   "execution_count": 17,
   "metadata": {},
   "outputs": [],
   "source": [
    "def gradient_function(theta, x, y):\n",
    "    #theta为传入的含k，b 的矩阵\n",
    "    diff = np.dot(x, theta) - y  #h(x)  - y 的值\n",
    "    return  (1.0/y.shape[0]) * np.dot(np.transpose(x), diff)"
   ]
  },
  {
   "cell_type": "code",
   "execution_count": 18,
   "metadata": {},
   "outputs": [],
   "source": [
    "#格式化输入参数，调整矩阵，方便矩阵运算\n",
    "num = x_rm.shape[0] \n",
    "X0 = np.ones((num, 1))\n",
    "X = np.hstack((x_rm.reshape(num, 1), X0)) #增加一个维度，方便矩阵运算\n",
    "Y = y.reshape(y.shape[0], 1)\n",
    "alpha = 0.04\n",
    "\n",
    "\n",
    "def gradient_descent(X, Y, alpha):\n",
    "    theta = np.array([1, 1]).reshape(2, 1) #初始k b值[[1],[1]]\n",
    "    gradient = gradient_function(theta, X, Y)\n",
    "    while not np.all(np.abs(gradient) <= 1e-5):\n",
    "        theta = theta - alpha * gradient\n",
    "        gradient = gradient_function(theta, X, Y)\n",
    "        #print(theta)\n",
    "    return theta"
   ]
  },
  {
   "cell_type": "code",
   "execution_count": 19,
   "metadata": {},
   "outputs": [],
   "source": [
    "theta = gradient_descent(X,Y,alpha)"
   ]
  },
  {
   "cell_type": "code",
   "execution_count": 20,
   "metadata": {},
   "outputs": [
    {
     "data": {
      "text/plain": [
       "array([[  9.10197825],\n",
       "       [-34.66978915]])"
      ]
     },
     "execution_count": 20,
     "metadata": {},
     "output_type": "execute_result"
    }
   ],
   "source": [
    "theta"
   ]
  },
  {
   "cell_type": "code",
   "execution_count": 21,
   "metadata": {},
   "outputs": [
    {
     "data": {
      "text/plain": [
       "21.800275889845267"
      ]
     },
     "execution_count": 21,
     "metadata": {},
     "output_type": "execute_result"
    }
   ],
   "source": [
    "loss_var_new(theta, X, Y)"
   ]
  },
  {
   "cell_type": "code",
   "execution_count": 22,
   "metadata": {},
   "outputs": [
    {
     "data": {
      "text/plain": [
       "<matplotlib.collections.PathCollection at 0xa5ec4a8>"
      ]
     },
     "execution_count": 22,
     "metadata": {},
     "output_type": "execute_result"
    },
    {
     "data": {
      "image/png": "[encoded data removed]",
      "text/plain": [
       "<Figure size 432x288 with 1 Axes>"
      ]
     },
     "metadata": {
      "needs_background": "light"
     },
     "output_type": "display_data"
    }
   ],
   "source": [
    "best_k, best_b = theta[0][0], theta[1][0]\n",
    "draw_rm_price()\n",
    "plt.scatter(x_rm, [[best_k*i + best_b for i in x_rm]])"
   ]
  },
  {
   "cell_type": "code",
   "execution_count": null,
   "metadata": {},
   "outputs": [],
   "source": []
  },
  {
   "cell_type": "markdown",
   "metadata": {},
   "source": [
    "## 2. Answer following questions:\n",
    "\n",
    "\n",
    "###### 1. Why do we need machine learning methods instead of creating a complicated formula?\n"
   ]
  },
  {
   "cell_type": "markdown",
   "metadata": {},
   "source": [
    "Ans: 一个固定的公式难以随着情况的改变而做出相应变化；这样符合要求的式子很难被设计出来"
   ]
  },
  {
   "cell_type": "markdown",
   "metadata": {},
   "source": [
    "###### 2.  Wha't's the disadvantages of `the 1st Random Choosen` methods in our course? "
   ]
  },
  {
   "cell_type": "markdown",
   "metadata": {},
   "source": [
    "Ans:获得好的参数所花费的时间太长，因为都是随机的"
   ]
  },
  {
   "cell_type": "markdown",
   "metadata": {},
   "source": [
    "###### 3. Is the `2nd method supervised direction` better than 1st one?  What's the disadvantages of `the 2nd supversied directin` method? "
   ]
  },
  {
   "cell_type": "markdown",
   "metadata": {},
   "source": [
    "Ans:方法理论上来说2优于方法1；方法2的缺点是找到对的方向花费的平均时间较长，尤其受到初始值的影响，有时候效果还不如方法1"
   ]
  },
  {
   "cell_type": "markdown",
   "metadata": {},
   "source": [
    "###### 4. Why do we use `Derivative / Gradient` to fit a target function? "
   ]
  },
  {
   "cell_type": "markdown",
   "metadata": {},
   "source": [
    "Ans:可以更快更准确得找到合适的K和B值"
   ]
  },
  {
   "cell_type": "markdown",
   "metadata": {},
   "source": [
    "###### 5. In the words 'Gredient Descent', what's the `Gredient` and what's the `Descent`?"
   ]
  },
  {
   "cell_type": "markdown",
   "metadata": {},
   "source": [
    "Ans:梯度是函数在该点处的方向导数沿着该方向取得最大值,该最大值就是当前点的梯度，下降指沿着该方向函数值下降的最快"
   ]
  },
  {
   "cell_type": "markdown",
   "metadata": {},
   "source": [
    "###### 6. What's the advantages of `the 3rd gradient descent method` compared to the previous methods?"
   ]
  },
  {
   "cell_type": "markdown",
   "metadata": {},
   "source": [
    "Ans:方法3的优点在于目标性强，不断迭代参数使得达到预期效果值,并且可以控制步长，设定最大loss值"
   ]
  },
  {
   "cell_type": "markdown",
   "metadata": {},
   "source": [
    "###### 7. Using the simple words to describe: What's the machine leanring."
   ]
  },
  {
   "cell_type": "markdown",
   "metadata": {},
   "source": [
    "Ans:根据变化调整自身以达目的"
   ]
  },
  {
   "cell_type": "markdown",
   "metadata": {},
   "source": [
    "## 3. Finish the search problem"
   ]
  },
  {
   "cell_type": "markdown",
   "metadata": {},
   "source": [
    "Please using the search policy to implement an agent. This agent receives two input, one is @param start station and the other is @param destination. Your agent should give the optimal route based on Beijing Subway system. "
   ]
  },
  {
   "cell_type": "markdown",
   "metadata": {},
   "source": [
    "> Deadline: 2019-July-13\n",
    "\n",
    ">Submit: Submit the source code and result to github. \n",
    "\n"
   ]
  },
  {
   "cell_type": "markdown",
   "metadata": {},
   "source": [
    "![](https://timgsa.baidu.com/timg?image&quality=80&size=b9999_10000&sec=1562414356407&di=b57814aafd215bb8b8d9d8cd37c573d6&imgtype=0&src=http%3A%2F%2Fcli.clewm.net%2Ffile%2F2015%2F03%2F24%2F174ed60082b8422ac0636cfd3efb9e7f.jpg)"
   ]
  },
  {
   "cell_type": "markdown",
   "metadata": {},
   "source": [
    "#### Dataflow: "
   ]
  },
  {
   "cell_type": "markdown",
   "metadata": {},
   "source": [
    "##### 1.\tGet data from web page.\n",
    "\n",
    "> a.\tGet web page source from: https://baike.baidu.com/item/%E5%8C%97%E4%BA%AC%E5%9C%B0%E9%93%81/408485\n",
    "\n",
    "> b.\tYou may need @package **requests**[https://2.python-requests.org/en/master/] page to get the response via url\n",
    "\n",
    "> c.\tYou may need save the page source to file system.\n",
    "\n",
    "> d.\tThe target of this step is to get station information of all the subway lines;\n",
    "\n",
    "> e.\tYou may need install @package beautiful soup[https://www.crummy.com/software/BeautifulSoup/bs4/doc/]  to get the url information, or just use > Regular Expression to get the url.  Our recommendation is that using the Regular Expression and BeautiflSoup both. \n",
    "\n",
    "> f.\tYou may need BFS to get all the related page url from one url. \n",
    "Question: Why do we use BFS to traverse web page (or someone said, build a web spider)?  Can DFS do this job? which is better? "
   ]
  },
  {
   "cell_type": "markdown",
   "metadata": {},
   "source": [
    "##### 2.\tPreprocessing data from page source.\n",
    "\n",
    "> a.\tBased on the page source gotten from url. You may need some more preprocessing of the page. \n",
    "\n",
    "> b.\tthe Regular Expression you may need to process the text information.\n",
    "\n",
    "> c.\tYou may need @package networkx, @package matplotlib to visualize data. \n",
    "\n",
    "> d.\tYou should build a dictionary or graph which could represent the connection information of Beijing subway routes. \n",
    "\n",
    "> e.\tYou may need the defaultdict, set data structures to implement this procedure. "
   ]
  },
  {
   "cell_type": "markdown",
   "metadata": {},
   "source": [
    "##### 3. Build the search agent\n",
    "\n",
    "> Build the search agent based on the graph we build.\n",
    "\n",
    "for example, when you run: \n",
    "\n",
    "```python\n",
    ">>> search('奥体中心', '天安门') \n",
    "```\n",
    "you need get the result: \n",
    "\n",
    "奥体中心-> A -> B -> C -> ... -> 天安门\n",
    "\n"
   ]
  },
  {
   "cell_type": "markdown",
   "metadata": {},
   "source": [
    "### Search Problem Answer "
   ]
  },
  {
   "cell_type": "markdown",
   "metadata": {},
   "source": [
    "#### Get data from web"
   ]
  },
  {
   "cell_type": "code",
   "execution_count": 23,
   "metadata": {},
   "outputs": [],
   "source": [
    "import urllib.request\n",
    "import urllib.parse\n",
    "import re\n",
    "from bs4 import BeautifulSoup as bs"
   ]
  },
  {
   "cell_type": "code",
   "execution_count": 24,
   "metadata": {},
   "outputs": [],
   "source": [
    "def url_open(url):\n",
    "    req = urllib.request.Request(url)\n",
    "    req.add_header('User-Agent', 'Mozilla/5.0 (Windows NT 6.1; Win64; x64; rv:67.0) Gecko/20100101 Firefox/67.0')\n",
    "    response = urllib.request.urlopen(req, timeout=10)\n",
    "    html = response.read().decode('utf-8')\n",
    "    response.close()\n",
    "    return html"
   ]
  },
  {
   "cell_type": "code",
   "execution_count": 25,
   "metadata": {},
   "outputs": [],
   "source": [
    "url = 'https://baike.baidu.com/item/%E4%B8%8A%E6%B5%B7%E5%9C%B0%E9%93%81/1273732?fr=aladdin'"
   ]
  },
  {
   "cell_type": "code",
   "execution_count": 26,
   "metadata": {},
   "outputs": [],
   "source": [
    "def get_subway_line_url(html):\n",
    "    #获取所有地铁具体url, 以list返回\n",
    "    #beautifulsoup + 正则\n",
    "    soup = bs(html)\n",
    "    table = soup.find_all('table')[1]\n",
    "    table = str(table)\n",
    "    url_list = re.findall('<a data-lemmaid=\"\\w*?\" href=\"(.*?)\" target=\"_blank\">(\\w*?)</a>', table)\n",
    "    for i, item in enumerate(url_list):\n",
    "        url_list[i] = list(item)\n",
    "    for item in url_list:\n",
    "        item[0] = 'https://baike.baidu.com' + item[0]\n",
    "    return url_list"
   ]
  },
  {
   "cell_type": "code",
   "execution_count": 27,
   "metadata": {},
   "outputs": [],
   "source": [
    "html = url_open(url)"
   ]
  },
  {
   "cell_type": "code",
   "execution_count": 28,
   "metadata": {},
   "outputs": [
    {
     "data": {
      "text/plain": [
       "['https://baike.baidu.com/item/%E4%B8%8A%E6%B5%B7%E5%9C%B0%E9%93%814%E5%8F%B7%E7%BA%BF/6310090',\n",
       " '上海地铁4号线']"
      ]
     },
     "execution_count": 28,
     "metadata": {},
     "output_type": "execute_result"
    }
   ],
   "source": [
    "get_subway_line_url(html)[3]"
   ]
  },
  {
   "cell_type": "code",
   "execution_count": 29,
   "metadata": {},
   "outputs": [],
   "source": [
    "soup  = bs(url_open('https://baike.baidu.com/item/%E4%B8%8A%E6%B5%B7%E5%9C%B0%E9%93%814%E5%8F%B7%E7%BA%BF/6310090'))"
   ]
  },
  {
   "cell_type": "code",
   "execution_count": 30,
   "metadata": {},
   "outputs": [],
   "source": [
    "def get_station(html):\n",
    "    soup = bs(html)\n",
    "    table = soup.find_all('table')[0]\n",
    "    station_list = []\n",
    "    for item in table.find_all('tr'):\n",
    "        station = re.findall('href=\".*?\" target=\"_blank\">(\\w*)?</a>', str(item.td))\n",
    "        if not station:\n",
    "            station = re.findall('valign=\"middle\">(\\w*?)</td>', str(item.td))          \n",
    "        if station:\n",
    "            if station[0].endswith('站'):\n",
    "                station_list.append(station[0])\n",
    "    return station_list"
   ]
  },
  {
   "cell_type": "code",
   "execution_count": 31,
   "metadata": {},
   "outputs": [],
   "source": [
    "def get_all_line(url):\n",
    "    #获取所有地铁站点信息\n",
    "    html = url_open(url)\n",
    "    sub_line_url = get_subway_line_url(html)\n",
    "    subway_inf = []\n",
    "    for subway in sub_line_url:\n",
    "        html = url_open(subway[0])\n",
    "        station = get_station(html)\n",
    "        subway_inf.append({subway[1]: station})\n",
    "        \n",
    "    return subway_inf"
   ]
  },
  {
   "cell_type": "code",
   "execution_count": 32,
   "metadata": {},
   "outputs": [],
   "source": [
    "html = url_open('https://baike.baidu.com/item/%E4%B8%8A%E6%B5%B7%E5%9C%B0%E9%93%812%E5%8F%B7%E7%BA%BF/22947836')"
   ]
  },
  {
   "cell_type": "code",
   "execution_count": 33,
   "metadata": {},
   "outputs": [
    {
     "data": {
      "text/plain": [
       "['浦东国际机场站',\n",
       " '海天三路站',\n",
       " '远东大道站',\n",
       " '凌空路站',\n",
       " '川沙站',\n",
       " '华夏东路站',\n",
       " '创新中路站',\n",
       " '唐镇站',\n",
       " '广兰路站',\n",
       " '金科路站',\n",
       " '张江高科站',\n",
       " '龙阳路站',\n",
       " '世纪公园站',\n",
       " '上海科技馆站',\n",
       " '世纪大道站',\n",
       " '东昌路站',\n",
       " '陆家嘴站',\n",
       " '南京东路站',\n",
       " '人民广场站',\n",
       " '南京西路站',\n",
       " '静安寺站',\n",
       " '江苏路站',\n",
       " '中山公园站',\n",
       " '娄山关路站',\n",
       " '威宁路站',\n",
       " '北新泾站',\n",
       " '淞虹路站',\n",
       " '虹桥2号航站楼站',\n",
       " '虹桥火车站站',\n",
       " '徐泾东站']"
      ]
     },
     "execution_count": 33,
     "metadata": {},
     "output_type": "execute_result"
    }
   ],
   "source": [
    "get_station(html)"
   ]
  },
  {
   "cell_type": "code",
   "execution_count": 34,
   "metadata": {},
   "outputs": [],
   "source": [
    "url = 'https://baike.baidu.com/item/%E4%B8%8A%E6%B5%B7%E5%9C%B0%E9%93%81/1273732?fr=aladdin'"
   ]
  },
  {
   "cell_type": "code",
   "execution_count": 35,
   "metadata": {},
   "outputs": [],
   "source": [
    "subway_inf_origin = get_all_line(url)"
   ]
  },
  {
   "cell_type": "code",
   "execution_count": 36,
   "metadata": {},
   "outputs": [],
   "source": [
    "subway_inf = subway_inf_origin.copy()"
   ]
  },
  {
   "cell_type": "code",
   "execution_count": 37,
   "metadata": {},
   "outputs": [],
   "source": [
    "subway_inf[9]['上海地铁10号线'] = subway_inf[9]['上海地铁10号线'][:3]+ ['龙溪路站']+ subway_inf[9]['上海地铁10号线'][3:]"
   ]
  },
  {
   "cell_type": "code",
   "execution_count": 38,
   "metadata": {},
   "outputs": [
    {
     "data": {
      "text/plain": [
       "['新江湾城站',\n",
       " '殷高东路站',\n",
       " '三门路站',\n",
       " '江湾体育场站',\n",
       " '五角场站',\n",
       " '国权路站',\n",
       " '同济大学站',\n",
       " '四平路站',\n",
       " '邮电新村站',\n",
       " '海伦路站',\n",
       " '四川北路站',\n",
       " '天潼路站',\n",
       " '南京东路站',\n",
       " '豫园站',\n",
       " '老西门站',\n",
       " '新天地站',\n",
       " '陕西南路站',\n",
       " '上海图书馆站',\n",
       " '交通大学站',\n",
       " '虹桥路站',\n",
       " '宋园路站',\n",
       " '伊犁路站',\n",
       " '水城路站',\n",
       " '龙溪路站',\n",
       " '上海动物园站',\n",
       " '虹桥1号航站楼站',\n",
       " '虹桥2号航站楼站',\n",
       " '虹桥火车站站',\n",
       " '龙溪路站',\n",
       " '龙柏新村站',\n",
       " '紫藤路站',\n",
       " '航中路站']"
      ]
     },
     "execution_count": 38,
     "metadata": {},
     "output_type": "execute_result"
    }
   ],
   "source": [
    "subway_inf[9]['上海地铁10号线'] = list(reversed(subway_inf[9]['上海地铁10号线']))\n",
    "subway_inf[9]['上海地铁10号线']"
   ]
  },
  {
   "cell_type": "markdown",
   "metadata": {},
   "source": [
    "#### Create net infomation"
   ]
  },
  {
   "cell_type": "code",
   "execution_count": 39,
   "metadata": {},
   "outputs": [],
   "source": [
    "from collections import defaultdict\n",
    "from collections import Counter"
   ]
  },
  {
   "cell_type": "code",
   "execution_count": 40,
   "metadata": {},
   "outputs": [],
   "source": [
    "def create_subway_connection(stations):   \n",
    "    station_connect = defaultdict(list)\n",
    "    station_count = Counter(stations)\n",
    "    change_point = station_count.most_common(1)[0][0] #获取地铁分支点  \n",
    "    length = len(stations)\n",
    "    pre_station = None\n",
    "    appear_time = 0\n",
    "    for i, station in enumerate(stations):\n",
    "        if i< length-1 and (stations[i+1]!= change_point or (stations[i+1]==change_point and appear_time==0)):\n",
    "            next_station = stations[i+1]\n",
    "        else:\n",
    "            next_station = None\n",
    "        if station == change_point:\n",
    "            appear_time +=1\n",
    "            if appear_time ==2: #change_point appear 2 times\n",
    "                pre_station = None\n",
    "\n",
    "        if pre_station != None:\n",
    "            station_connect[station].append(pre_station)\n",
    "        if next_station !=None:\n",
    "            station_connect[station].append(next_station)\n",
    "        pre_station = station   \n",
    "    return station_connect"
   ]
  },
  {
   "cell_type": "code",
   "execution_count": 41,
   "metadata": {},
   "outputs": [
    {
     "data": {
      "text/plain": [
       "defaultdict(list,\n",
       "            {'莘庄站': ['外环路站'],\n",
       "             '外环路站': ['莘庄站', '莲花路站'],\n",
       "             '莲花路站': ['外环路站', '锦江乐园站'],\n",
       "             '锦江乐园站': ['莲花路站', '上海南站站'],\n",
       "             '上海南站站': ['锦江乐园站', '漕宝路站'],\n",
       "             '漕宝路站': ['上海南站站', '上海体育馆站'],\n",
       "             '上海体育馆站': ['漕宝路站', '徐家汇站'],\n",
       "             '徐家汇站': ['上海体育馆站', '衡山路站'],\n",
       "             '衡山路站': ['徐家汇站', '常熟路站'],\n",
       "             '常熟路站': ['衡山路站', '陕西南路站'],\n",
       "             '陕西南路站': ['常熟路站', '黄陂南路站'],\n",
       "             '黄陂南路站': ['陕西南路站', '人民广场站'],\n",
       "             '人民广场站': ['黄陂南路站', '新闸路站'],\n",
       "             '新闸路站': ['人民广场站', '汉中路站'],\n",
       "             '汉中路站': ['新闸路站', '上海火车站站'],\n",
       "             '上海火车站站': ['汉中路站', '中山北路站'],\n",
       "             '中山北路站': ['上海火车站站', '延长路站'],\n",
       "             '延长路站': ['中山北路站', '上海马戏城站'],\n",
       "             '上海马戏城站': ['延长路站', '汶水路站'],\n",
       "             '汶水路站': ['上海马戏城站', '彭浦新村站'],\n",
       "             '彭浦新村站': ['汶水路站', '共康路站'],\n",
       "             '共康路站': ['彭浦新村站', '通河新村站'],\n",
       "             '通河新村站': ['共康路站', '呼兰路站'],\n",
       "             '呼兰路站': ['通河新村站', '共富新村站'],\n",
       "             '共富新村站': ['呼兰路站', '宝安公路站'],\n",
       "             '宝安公路站': ['共富新村站', '友谊西路站'],\n",
       "             '友谊西路站': ['宝安公路站', '富锦路站'],\n",
       "             '富锦路站': ['友谊西路站']})"
      ]
     },
     "execution_count": 41,
     "metadata": {},
     "output_type": "execute_result"
    }
   ],
   "source": [
    "create_subway_connection(subway_inf[0]['上海地铁1号线'])"
   ]
  },
  {
   "cell_type": "code",
   "execution_count": 42,
   "metadata": {},
   "outputs": [],
   "source": [
    "stations_connection_all = defaultdict(list)"
   ]
  },
  {
   "cell_type": "code",
   "execution_count": 43,
   "metadata": {},
   "outputs": [],
   "source": [
    "stations_connection_list = []\n",
    "subway_name = []\n",
    "for items in subway_inf:\n",
    "    for key in items:\n",
    "        connection  = create_subway_connection(items[key])\n",
    "        subway_name.append(key)\n",
    "        stations_connection_list.append(connection)"
   ]
  },
  {
   "cell_type": "code",
   "execution_count": 44,
   "metadata": {},
   "outputs": [],
   "source": [
    "stations_tag = defaultdict(list)\n",
    "for i, station in enumerate(stations_connection_list):\n",
    "    for key, items in station.items():\n",
    "        if key not in stations_connection_all:\n",
    "            stations_connection_all[key] = items\n",
    "        else:\n",
    "            stations_connection_all[key] += items\n",
    "        if key in stations_tag: #统计站点归属\n",
    "            stations_tag[key] += [subway_name[i]]\n",
    "        else:\n",
    "            stations_tag[key] = [subway_name[i]]"
   ]
  },
  {
   "cell_type": "code",
   "execution_count": 45,
   "metadata": {},
   "outputs": [],
   "source": [
    "#stations_connection_all"
   ]
  },
  {
   "cell_type": "code",
   "execution_count": 46,
   "metadata": {},
   "outputs": [],
   "source": [
    "#stations_tag"
   ]
  },
  {
   "cell_type": "code",
   "execution_count": 47,
   "metadata": {},
   "outputs": [],
   "source": [
    "import networkx as nx\n",
    "import matplotlib.pyplot as plt"
   ]
  },
  {
   "cell_type": "code",
   "execution_count": 48,
   "metadata": {},
   "outputs": [],
   "source": [
    "%matplotlib inline"
   ]
  },
  {
   "cell_type": "code",
   "execution_count": 49,
   "metadata": {},
   "outputs": [],
   "source": [
    "plt.rcParams['font.sans-serif'] = ['SimHei']\n",
    "plt.rcParams['axes.unicode_minus'] = False"
   ]
  },
  {
   "cell_type": "code",
   "execution_count": 50,
   "metadata": {},
   "outputs": [
    {
     "name": "stderr",
     "output_type": "stream",
     "text": [
      "D:\\Design Software\\Anaconda\\lib\\site-packages\\networkx\\drawing\\nx_pylab.py:611: MatplotlibDeprecationWarning: isinstance(..., numbers.Number)\n",
      "  if cb.is_numlike(alpha):\n"
     ]
    },
    {
     "data": {
      "image/png": "[encoded data removed]",
      "text/plain": [
       "<Figure size 432x288 with 1 Axes>"
      ]
     },
     "metadata": {},
     "output_type": "display_data"
    }
   ],
   "source": [
    "nx.draw(nx.Graph(create_subway_connection(subway_inf[4]['上海地铁5号线'])), with_labels=True, node_size=10)"
   ]
  },
  {
   "cell_type": "markdown",
   "metadata": {},
   "source": [
    "#### Build Search agent"
   ]
  },
  {
   "cell_type": "code",
   "execution_count": 51,
   "metadata": {},
   "outputs": [],
   "source": [
    "def search(start, destination, connection_grpah, sort_candidate, by_the_way =[]):\n",
    "    #默认算法一定要是广度优先，这样sort_candidate的策略才能有效发挥，默认是深度优先的话容易一条路走到黑，\n",
    "    #排序算法发挥不了作用，反而起到反效果\n",
    "    pathes = [[start]]  #每走一步都添加一个新的路径\n",
    "    \n",
    "    visitied = set()\n",
    "    \n",
    "    while pathes: # if we find existing pathes\n",
    "        path = pathes.pop(0)   #获取当前要访问的路径, 控制深度 广度path = pathes.pop()则变成深度优先 \n",
    "        froninter = path[-1]   #获取当前达到的节点\n",
    "        \n",
    "        if froninter in visitied: continue\n",
    "            \n",
    "        successors = connection_grpah[froninter]  #获取当前节点的所有连接节点\n",
    "        #print('当前访问节点：', froninter)\n",
    "       # print('当前节点邻接节点: ', successors)\n",
    "        for city in successors:\n",
    "            if city in path: continue  # eliminate loop 防止环形,也防止重复访问,和city in visitied有同样效果\n",
    "                \n",
    "            new_path = path + [city]\n",
    "            \n",
    "            pathes.append(new_path)\n",
    "            \n",
    "            if city == destination: return new_path\n",
    "        \n",
    "        visitied.add(froninter)\n",
    "        \n",
    "        if by_the_way==[]:          \n",
    "            pathes = sort_candidate(pathes) # 搜索策略控制\n",
    "        else:\n",
    "            pathes = sort_candidate(pathes, by_the_way)\n",
    "        #print('sorted', pathes , '\\n')"
   ]
  },
  {
   "cell_type": "code",
   "execution_count": 52,
   "metadata": {},
   "outputs": [],
   "source": [
    "def transfer_stations_first(pathes): \n",
    "    return sorted(pathes, key=len)"
   ]
  },
  {
   "cell_type": "code",
   "execution_count": 53,
   "metadata": {},
   "outputs": [],
   "source": [
    "def transfer_as_much_possible(pathes):\n",
    "    return sorted(pathes, key=len, reverse=True)"
   ]
  },
  {
   "cell_type": "code",
   "execution_count": 54,
   "metadata": {},
   "outputs": [],
   "source": [
    "def pretty_print(station):\n",
    "    print(len(station))\n",
    "    print('🚗->'.join(station))"
   ]
  },
  {
   "cell_type": "code",
   "execution_count": 55,
   "metadata": {},
   "outputs": [
    {
     "name": "stdout",
     "output_type": "stream",
     "text": [
      "23\n",
      "环城东路站🚗->萧塘站🚗->西渡站🚗->江川路站🚗->东川路站🚗->剑川路站🚗->北桥站🚗->颛桥站🚗->银都路站🚗->春申路站🚗->莘庄站🚗->外环路站🚗->莲花路站🚗->锦江乐园站🚗->上海南站站🚗->漕宝路站🚗->上海体育馆站🚗->徐家汇站🚗->衡山路站🚗->常熟路站🚗->陕西南路站🚗->黄陂南路站🚗->人民广场站\n"
     ]
    }
   ],
   "source": [
    "pretty_print(search('环城东路站', '人民广场站', stations_connection_all, sort_candidate=transfer_stations_first))"
   ]
  },
  {
   "cell_type": "code",
   "execution_count": 56,
   "metadata": {},
   "outputs": [
    {
     "data": {
      "text/plain": [
       "['环城东路站',\n",
       " '萧塘站',\n",
       " '西渡站',\n",
       " '江川路站',\n",
       " '东川路站',\n",
       " '剑川路站',\n",
       " '北桥站',\n",
       " '颛桥站',\n",
       " '银都路站',\n",
       " '春申路站',\n",
       " '莘庄站',\n",
       " '外环路站',\n",
       " '莲花路站',\n",
       " '锦江乐园站',\n",
       " '上海南站站',\n",
       " '漕宝路站',\n",
       " '上海体育馆站',\n",
       " '徐家汇站',\n",
       " '衡山路站',\n",
       " '常熟路站',\n",
       " '陕西南路站',\n",
       " '黄陂南路站',\n",
       " '人民广场站']"
      ]
     },
     "execution_count": 56,
     "metadata": {},
     "output_type": "execute_result"
    }
   ],
   "source": [
    "ss = search('环城东路站', '人民广场站', stations_connection_all, sort_candidate=transfer_stations_first)\n",
    "ss"
   ]
  },
  {
   "cell_type": "markdown",
   "metadata": {},
   "source": [
    "# （Optional）Create different policies for transfer system.\n"
   ]
  },
  {
   "cell_type": "code",
   "execution_count": 57,
   "metadata": {},
   "outputs": [],
   "source": [
    "def Sortest_Path_first(pathes):\n",
    "    return sorted(pathes, key=len)"
   ]
  },
  {
   "cell_type": "code",
   "execution_count": 58,
   "metadata": {},
   "outputs": [],
   "source": [
    "#计算换乘信息\n",
    "def tansfer_calcu(path):\n",
    "    transfer = []\n",
    "    previous = None #上一个站的标识\n",
    "    pre_line = None\n",
    "    current_line = None  #当前地铁号\n",
    "    pre_station  = None\n",
    "    current_flag = -1\n",
    "    for _a, station in enumerate(path):\n",
    "        if previous:\n",
    "            current_line = [x for x in previous if x in stations_tag[station]][0] #获取两站标识的交集\n",
    "           # print(current_line)\n",
    "            if current_line!= pre_line:\n",
    "                transfer.append([current_line,[pre_station]])\n",
    "                current_flag += 1\n",
    "                pre_line = current_line\n",
    "            transfer[current_flag][1]  +=  [station]          \n",
    "            \n",
    "        previous = stations_tag[station]\n",
    "        pre_station = station\n",
    "        \n",
    "    return transfer "
   ]
  },
  {
   "cell_type": "code",
   "execution_count": 59,
   "metadata": {},
   "outputs": [],
   "source": [
    "nn = ['22',[]]"
   ]
  },
  {
   "cell_type": "code",
   "execution_count": 60,
   "metadata": {},
   "outputs": [
    {
     "data": {
      "text/plain": [
       "['上海地铁4号线']"
      ]
     },
     "execution_count": 60,
     "metadata": {},
     "output_type": "execute_result"
    }
   ],
   "source": [
    "stations_tag['上海体育场站']"
   ]
  },
  {
   "cell_type": "code",
   "execution_count": 61,
   "metadata": {},
   "outputs": [],
   "source": [
    "def Minimum_Transfer_Priority(pathes):  \n",
    "    '''1. 该算法可能会使得最小次数换乘次数与实际不符，\n",
    "    因为最后一个站如果成功会直接搜索函数会直接返回,\n",
    "    如果最后这个站换乘了，那么导致换乘次数+1,如何解决该问题？\n",
    "    2. 该算法在一定程度上变成来深度优先算法！一条道走到黑，所以\n",
    "    换乘数量少，导致实际效果并不理想'''\n",
    "    if len(pathes) <= 1: return pathes\n",
    "    \n",
    "    def tansfer_calcu(path):\n",
    "        transfer = [] \n",
    "        previous = None #上一个站的标识\n",
    "        previous_line = None #上一个地铁号\n",
    "        current_line = None \n",
    "        for i in path:\n",
    "            if previous:\n",
    "                current_line = [x for x in previous if x in stations_tag[i]][0] #获取两站标识的交集                 \n",
    "            if previous_line != current_line:\n",
    "                transfer.append(current_line)\n",
    "                previous_line = current_line\n",
    "            previous = stations_tag[i]            \n",
    "        return len(transfer)  \n",
    "    \n",
    "    return sorted(pathes, key=tansfer_calcu)"
   ]
  },
  {
   "cell_type": "code",
   "execution_count": 62,
   "metadata": {},
   "outputs": [],
   "source": [
    "def tansfer_calcu_test(path):\n",
    "    transfer = [] \n",
    "    previous = None #上一个站的标识\n",
    "    previous_line = None #上一个地铁号\n",
    "    current_line = None \n",
    "    for i in path:\n",
    "        if previous:\n",
    "            current_line = [x for x in previous if x in stations_tag[i]][0] #获取两站标识的交集                 \n",
    "        if previous_line != current_line:\n",
    "            transfer.append(current_line)\n",
    "            previous_line = current_line\n",
    "        previous = stations_tag[i]            \n",
    "    return len(transfer)  "
   ]
  },
  {
   "cell_type": "code",
   "execution_count": 63,
   "metadata": {},
   "outputs": [],
   "source": [
    "def pretty_print_improve(station):\n",
    "    print(len(station))\n",
    "    tansfer_info = tansfer_calcu(station)\n",
    "    for i in tansfer_info:\n",
    "        print(i[0][4:]+':','🚗->'.join(i[1]))"
   ]
  },
  {
   "cell_type": "code",
   "execution_count": 64,
   "metadata": {},
   "outputs": [],
   "source": [
    "ss = search('环城东路站', '陆家浜路站', stations_connection_all, sort_candidate= Minimum_Transfer_Priority)"
   ]
  },
  {
   "cell_type": "code",
   "execution_count": 65,
   "metadata": {},
   "outputs": [
    {
     "data": {
      "text/plain": [
       "4"
      ]
     },
     "execution_count": 65,
     "metadata": {},
     "output_type": "execute_result"
    }
   ],
   "source": [
    "tansfer_calcu_test(ss)"
   ]
  },
  {
   "cell_type": "code",
   "execution_count": 66,
   "metadata": {},
   "outputs": [],
   "source": [
    "ssss  = search('环城东路站', '人民广场站', stations_connection_all, sort_candidate=Minimum_Transfer_Priority)"
   ]
  },
  {
   "cell_type": "code",
   "execution_count": 67,
   "metadata": {},
   "outputs": [
    {
     "name": "stdout",
     "output_type": "stream",
     "text": [
      "23\n",
      "5号线: 环城东路站🚗->萧塘站🚗->西渡站🚗->江川路站🚗->东川路站🚗->剑川路站🚗->北桥站🚗->颛桥站🚗->银都路站🚗->春申路站🚗->莘庄站\n",
      "1号线: 莘庄站🚗->外环路站🚗->莲花路站🚗->锦江乐园站🚗->上海南站站🚗->漕宝路站🚗->上海体育馆站🚗->徐家汇站🚗->衡山路站🚗->常熟路站🚗->陕西南路站🚗->黄陂南路站🚗->人民广场站\n"
     ]
    }
   ],
   "source": [
    "pretty_print_improve(search('环城东路站', '人民广场站', stations_connection_all, sort_candidate=Minimum_Transfer_Priority))"
   ]
  },
  {
   "cell_type": "code",
   "execution_count": 68,
   "metadata": {},
   "outputs": [],
   "source": [
    "#stations_tag"
   ]
  },
  {
   "cell_type": "code",
   "execution_count": 69,
   "metadata": {},
   "outputs": [],
   "source": [
    "def Comprehensive_Priority(pathes):\n",
    "    #取路径短的前两位 进行换乘次数排序\n",
    "    new_pathes = Sortest_Path_first(pathes)\n",
    "    if len(new_pathes)> 2:\n",
    "        final_pathes = Minimum_Transfer_Priority(new_pathes[:2])+ new_pathes[2:]\n",
    "    return final_pathes"
   ]
  },
  {
   "cell_type": "code",
   "execution_count": 70,
   "metadata": {},
   "outputs": [],
   "source": [
    "def By_the_Way(pathes, by_the_way):\n",
    "    '''有一定局限性，当遍历到目标节点，而另一条路线还为到达by_the_way的点\n",
    "    时，会出现不同by_the_way的点的情况\n",
    "    '''   \n",
    "    if len(pathes) <= 1: return pathes\n",
    "    \n",
    "    fit_status = []\n",
    "    for path in pathes:\n",
    "        fit = [i for i in path if i in by_the_way]\n",
    "        #print(fit)\n",
    "        fit_status.append(len(fit))\n",
    "    new_pathes_array = list(zip(pathes,fit_status))\n",
    "    new_pathes_array = sorted(new_pathes_array, key=lambda x:x[1], reverse=True)\n",
    "    new_pathes = list(list(zip(*new_pathes_array))[0])\n",
    "    return new_pathes"
   ]
  },
  {
   "cell_type": "code",
   "execution_count": 71,
   "metadata": {},
   "outputs": [],
   "source": [
    "ss = [1,3,4,5,5]\n",
    "ss.reverse()"
   ]
  },
  {
   "cell_type": "code",
   "execution_count": 72,
   "metadata": {},
   "outputs": [],
   "source": [
    "ss = search('环城东路站', '陆家浜路站', stations_connection_all, sort_candidate= Minimum_Transfer_Priority)"
   ]
  },
  {
   "cell_type": "code",
   "execution_count": 73,
   "metadata": {},
   "outputs": [],
   "source": [
    "tt = search('环城东路站', '人民广场站', stations_connection_all, sort_candidate=By_the_Way,by_the_way=['上海体育场站'])"
   ]
  },
  {
   "cell_type": "code",
   "execution_count": 74,
   "metadata": {},
   "outputs": [
    {
     "data": {
      "text/plain": [
       "['环城东路站',\n",
       " '萧塘站',\n",
       " '西渡站',\n",
       " '江川路站',\n",
       " '东川路站',\n",
       " '剑川路站',\n",
       " '北桥站',\n",
       " '颛桥站',\n",
       " '银都路站',\n",
       " '春申路站',\n",
       " '莘庄站',\n",
       " '外环路站',\n",
       " '莲花路站',\n",
       " '锦江乐园站',\n",
       " '上海南站站',\n",
       " '漕宝路站',\n",
       " '上海体育馆站',\n",
       " '上海体育场站',\n",
       " '东安路站',\n",
       " '大木桥路站',\n",
       " '嘉善路站',\n",
       " '陕西南路站',\n",
       " '黄陂南路站',\n",
       " '人民广场站']"
      ]
     },
     "execution_count": 74,
     "metadata": {},
     "output_type": "execute_result"
    }
   ],
   "source": [
    "tt"
   ]
  },
  {
   "cell_type": "code",
   "execution_count": 75,
   "metadata": {},
   "outputs": [
    {
     "data": {
      "text/plain": [
       "[['上海地铁5号线',\n",
       "  ['环城东路站',\n",
       "   '萧塘站',\n",
       "   '西渡站',\n",
       "   '江川路站',\n",
       "   '东川路站',\n",
       "   '剑川路站',\n",
       "   '北桥站',\n",
       "   '颛桥站',\n",
       "   '银都路站',\n",
       "   '春申路站',\n",
       "   '莘庄站']],\n",
       " ['上海地铁1号线', ['莘庄站', '外环路站', '莲花路站', '锦江乐园站', '上海南站站', '漕宝路站', '上海体育馆站']],\n",
       " ['上海地铁4号线', ['上海体育馆站', '上海体育场站', '东安路站', '大木桥路站']],\n",
       " ['上海地铁12号线', ['大木桥路站', '嘉善路站', '陕西南路站']],\n",
       " ['上海地铁1号线', ['陕西南路站', '黄陂南路站', '人民广场站']]]"
      ]
     },
     "execution_count": 75,
     "metadata": {},
     "output_type": "execute_result"
    }
   ],
   "source": [
    "tansfer_calcu(tt)"
   ]
  },
  {
   "cell_type": "code",
   "execution_count": 76,
   "metadata": {},
   "outputs": [
    {
     "name": "stdout",
     "output_type": "stream",
     "text": [
      "27\n",
      "5号线: 环城东路站🚗->萧塘站🚗->西渡站🚗->江川路站🚗->东川路站🚗->剑川路站🚗->北桥站🚗->颛桥站🚗->银都路站🚗->春申路站🚗->莘庄站\n",
      "1号线: 莘庄站🚗->外环路站🚗->莲花路站🚗->锦江乐园站🚗->上海南站站🚗->漕宝路站🚗->上海体育馆站\n",
      "4号线: 上海体育馆站🚗->上海体育场站🚗->东安路站🚗->大木桥路站\n",
      "12号线: 大木桥路站🚗->嘉善路站\n",
      "9号线: 嘉善路站🚗->打浦桥站🚗->马当路站🚗->陆家浜路站\n",
      "8号线: 陆家浜路站🚗->老西门站🚗->大世界站🚗->人民广场站\n"
     ]
    }
   ],
   "source": [
    "pretty_print_improve(search('环城东路站', '人民广场站', stations_connection_all, sort_candidate=By_the_Way,by_the_way=['东安路站','马当路站']))"
   ]
  },
  {
   "cell_type": "code",
   "execution_count": 77,
   "metadata": {},
   "outputs": [
    {
     "name": "stdout",
     "output_type": "stream",
     "text": [
      "23\n",
      "5号线: 环城东路站🚗->萧塘站🚗->西渡站🚗->江川路站🚗->东川路站🚗->剑川路站🚗->北桥站🚗->颛桥站🚗->银都路站🚗->春申路站🚗->莘庄站\n",
      "1号线: 莘庄站🚗->外环路站🚗->莲花路站🚗->锦江乐园站🚗->上海南站站🚗->漕宝路站🚗->上海体育馆站🚗->徐家汇站🚗->衡山路站🚗->常熟路站🚗->陕西南路站🚗->黄陂南路站🚗->人民广场站\n"
     ]
    }
   ],
   "source": [
    "pretty_print_improve(search('环城东路站', '人民广场站', stations_connection_all, sort_candidate=Sortest_Path_first))"
   ]
  },
  {
   "cell_type": "markdown",
   "metadata": {},
   "source": [
    "以下情况原因分析,因为在徐家汇站的时候Sortest_Path_first换乘了,故Minimum_Transfer_Priority算法根据排序结果会选择新路线,但是\n",
    "\n",
    "新路线走到**陕西南路站**时候进行排序的时候(此时1号线已经走到头走完了,现在是返回到原来的点)和 原来徐家汇站的那条路线处于同等优先级别, 但徐家汇站的那条路线已经被排到后面来,所以\n",
    "\n",
    "继续沿着**陕西南路站**当走到**老西门**站时候往下走 ,还没来得及排序就找到了终点站,直接返回了。如何解决该问题？？"
   ]
  },
  {
   "cell_type": "code",
   "execution_count": 78,
   "metadata": {},
   "outputs": [
    {
     "name": "stdout",
     "output_type": "stream",
     "text": [
      "23\n",
      "5号线: 环城东路站🚗->萧塘站🚗->西渡站🚗->江川路站🚗->东川路站🚗->剑川路站🚗->北桥站🚗->颛桥站🚗->银都路站🚗->春申路站🚗->莘庄站\n",
      "1号线: 莘庄站🚗->外环路站🚗->莲花路站🚗->锦江乐园站🚗->上海南站站🚗->漕宝路站🚗->上海体育馆站🚗->徐家汇站\n",
      "9号线: 徐家汇站🚗->肇嘉浜路站🚗->嘉善路站🚗->打浦桥站🚗->马当路站🚗->陆家浜路站\n"
     ]
    }
   ],
   "source": [
    "pretty_print_improve(search('环城东路站', '陆家浜路站', stations_connection_all, sort_candidate=Sortest_Path_first))"
   ]
  },
  {
   "cell_type": "code",
   "execution_count": 79,
   "metadata": {},
   "outputs": [
    {
     "name": "stdout",
     "output_type": "stream",
     "text": [
      "24\n",
      "5号线: 环城东路站🚗->萧塘站🚗->西渡站🚗->江川路站🚗->东川路站🚗->剑川路站🚗->北桥站🚗->颛桥站🚗->银都路站🚗->春申路站🚗->莘庄站\n",
      "1号线: 莘庄站🚗->外环路站🚗->莲花路站🚗->锦江乐园站🚗->上海南站站🚗->漕宝路站🚗->上海体育馆站🚗->徐家汇站🚗->衡山路站🚗->常熟路站🚗->陕西南路站\n",
      "10号线: 陕西南路站🚗->新天地站🚗->老西门站\n",
      "8号线: 老西门站🚗->陆家浜路站\n"
     ]
    }
   ],
   "source": [
    "pretty_print_improve(search('环城东路站', '陆家浜路站', stations_connection_all, sort_candidate= Minimum_Transfer_Priority))"
   ]
  },
  {
   "cell_type": "code",
   "execution_count": 80,
   "metadata": {},
   "outputs": [],
   "source": [
    "ss = list(zip([[22,33,44],[11,55],[77,88]],[4,5,6]))"
   ]
  },
  {
   "cell_type": "code",
   "execution_count": 81,
   "metadata": {},
   "outputs": [],
   "source": [
    "ss = [[1,2,3],[3,5,5],[4,4,4],[5,5,5]]\n"
   ]
  },
  {
   "cell_type": "code",
   "execution_count": 82,
   "metadata": {},
   "outputs": [
    {
     "data": {
      "text/plain": [
       "[[1, 2, 3], [4, 4, 4], [3, 5, 5], [5, 5, 5]]"
      ]
     },
     "execution_count": 82,
     "metadata": {},
     "output_type": "execute_result"
    }
   ],
   "source": [
    "sorted(ss, key = lambda x: x[2])"
   ]
  },
  {
   "cell_type": "code",
   "execution_count": 83,
   "metadata": {},
   "outputs": [
    {
     "data": {
      "text/plain": [
       "[(1, 3, 4, 5), (2, 5, 4, 5), (3, 5, 4, 5)]"
      ]
     },
     "execution_count": 83,
     "metadata": {},
     "output_type": "execute_result"
    }
   ],
   "source": [
    "list(zip(*ss))"
   ]
  },
  {
   "cell_type": "markdown",
   "metadata": {},
   "source": [
    "As much as you can to use the already implemented search agent. You just need to define the **is_goal()**, **get_successor()**, **strategy()** three functions. \n",
    "\n",
    "> a.\tDefine different policies for transfer system. \n",
    "\n",
    "> b.\tSuch as Shortest Path Priority（路程最短优先）, Minimum Transfer Priority(最少换乘优先), Comprehensive Priority(综合优先)\n",
    "\n",
    "> c.\tImplement Continuous transfer. Based on the Agent you implemented, please add this feature: Besides the @param start and @param destination two stations, add some more stations, we called @param by_way, it means, our path should from the start and end, but also include the  @param by_way stations. \n",
    "\n",
    "e.g \n",
    "```\n",
    "1. Input:  start=A,  destination=B, by_way=[C] \n",
    "    Output: [A, … .., C, …. B]\n",
    "2. Input: start=A, destination=B, by_way=[C, D, E]\n",
    "    Output: [A … C … E … D … B]  \n",
    "    # based on your policy, the E station could be reached firstly. \n",
    "![image.png](attachment:image.png)\n",
    "```"
   ]
  },
  {
   "cell_type": "markdown",
   "metadata": {},
   "source": [
    "##### 5.\tTest your result with commercial applications. \n",
    "\n",
    "将你的结果和高德地图或者百度地图进行比较，如果有不同，请分析原因\n"
   ]
  },
  {
   "cell_type": "markdown",
   "metadata": {},
   "source": [
    "Ans：路程最短优先和by_the_way策略实际效果还可以，最少换乘算法效果不理想，因为最少换乘算法实现是根据当前换乘数来排序，容易一条路走到黑，类似深度优先算法了,有待进一步优化"
   ]
  },
  {
   "cell_type": "markdown",
   "metadata": {},
   "source": [
    "![](https://timgsa.baidu.com/timg?image&quality=80&size=b9999_10000&sec=1562415163815&di=4b29a2a863a8285212033760f288ed7a&imgtype=0&src=http%3A%2F%2F5b0988e595225.cdn.sohucs.com%2Fimages%2F20180710%2F8704194a1d7f46a383ddc29d40c9bca5.jpeg)"
   ]
  }
 ],
 "metadata": {
  "kernelspec": {
   "display_name": "Python 3",
   "language": "python",
   "name": "python3"
  },
  "language_info": {
   "codemirror_mode": {
    "name": "ipython",
    "version": 3
   },
   "file_extension": ".py",
   "mimetype": "text/x-python",
   "name": "python",
   "nbconvert_exporter": "python",
   "pygments_lexer": "ipython3",
   "version": "3.7.1"
  },
  "toc": {
   "base_numbering": 1,
   "nav_menu": {},
   "number_sections": true,
   "sideBar": true,
   "skip_h1_title": false,
   "title_cell": "Table of Contents",
   "title_sidebar": "Contents",
   "toc_cell": false,
   "toc_position": {},
   "toc_section_display": true,
   "toc_window_display": false
  }
 },
 "nbformat": 4,
 "nbformat_minor": 2
}
