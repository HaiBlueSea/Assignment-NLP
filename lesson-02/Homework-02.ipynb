{
 "cells": [
  {
   "cell_type": "markdown",
   "metadata": {},
   "source": [
    "## Assignments for Week-02"
   ]
  },
  {
   "cell_type": "markdown",
   "metadata": {},
   "source": [
    "In this course, we learnt what's the search problem and what's the machine leanring. In this assignment, we need you do some more practice."
   ]
  },
  {
   "cell_type": "markdown",
   "metadata": {},
   "source": [
    "### 1. Re-code the house price machine learning\n",
    "\n",
    "###### 1. Random Choose Method to get optimal *k* and *b*\n",
    "###### 2.Supervised Direction to get optimal *k* and *b*\n",
    "###### 3.Gradient Descent to get optimal *k* and *b*\n",
    "###### 4. Try different Loss function and learning rate. \n",
    "\n",
    "For example, you can change the loss function: $Loss = \\frac{1}{n} sum({y_i - \\hat{y_i}})^2$ to $Loss = \\frac{1}{n} sum(|{y_i - \\hat{y_i}}|)$\n",
    "\n",
    "And you can change the learning rate and observe the performance."
   ]
  },
  {
   "cell_type": "markdown",
   "metadata": {},
   "source": [
    "![](https://timgsa.baidu.com/timg?image&quality=80&size=b9999_10000&sec=1562414412237&di=8377c38d7b50c6f8d45b92ccc78dc1e7&imgtype=0&src=http%3A%2F%2Fmmbiz.qpic.cn%2Fmmbiz_jpg%2FlSyiavfm6wPgQDuDYa42IMgSkLOcPJU91RbkMibGy7VHLrhhNVLibTYk1iaLcmXKTdHc4icTDVia59QFXwqpW8cLflaw%2F640%3Fwx_fmt%3Djpeg)"
   ]
  },
  {
   "cell_type": "code",
   "execution_count": 1,
   "metadata": {},
   "outputs": [],
   "source": [
    "from sklearn.datasets import load_boston"
   ]
  },
  {
   "cell_type": "code",
   "execution_count": 2,
   "metadata": {},
   "outputs": [],
   "source": [
    "dataset = load_boston()"
   ]
  },
  {
   "cell_type": "code",
   "execution_count": 3,
   "metadata": {},
   "outputs": [],
   "source": [
    "x, y = dataset['data'], dataset['target']"
   ]
  },
  {
   "cell_type": "code",
   "execution_count": 4,
   "metadata": {},
   "outputs": [],
   "source": [
    "x_rm = x[:, 5]"
   ]
  },
  {
   "cell_type": "code",
   "execution_count": 5,
   "metadata": {},
   "outputs": [],
   "source": [
    "import random\n",
    "import numpy as np\n",
    "import matplotlib.pyplot as plt"
   ]
  },
  {
   "cell_type": "code",
   "execution_count": 6,
   "metadata": {},
   "outputs": [],
   "source": [
    "%matplotlib inline"
   ]
  },
  {
   "cell_type": "code",
   "execution_count": 7,
   "metadata": {},
   "outputs": [],
   "source": [
    "def draw_rm_price():\n",
    "    plt.scatter(x_rm,y)"
   ]
  },
  {
   "cell_type": "code",
   "execution_count": 8,
   "metadata": {},
   "outputs": [
    {
     "data": {
      "image/png": "[encoded data removed]",
      "text/plain": [
       "<Figure size 432x288 with 1 Axes>"
      ]
     },
     "metadata": {
      "needs_background": "light"
     },
     "output_type": "display_data"
    }
   ],
   "source": [
    "draw_rm_price()"
   ]
  },
  {
   "cell_type": "markdown",
   "metadata": {},
   "source": [
    "$$y = k*x + b$$"
   ]
  },
  {
   "cell_type": "markdown",
   "metadata": {},
   "source": [
    "$$ loss = \\frac{1}{n} \\sum{(y_i - {y_1i})^2}$$"
   ]
  },
  {
   "cell_type": "code",
   "execution_count": 9,
   "metadata": {},
   "outputs": [],
   "source": [
    "def loss_var(y, y_get):\n",
    "    return np.mean(np.square(y - y_get))"
   ]
  },
  {
   "cell_type": "markdown",
   "metadata": {},
   "source": [
    "$$ loss = \\frac{1}{n} \\sum{|y_i- y_{1i}|} $$"
   ]
  },
  {
   "cell_type": "code",
   "execution_count": 10,
   "metadata": {},
   "outputs": [],
   "source": [
    "def loss_avrange_var(y, y_get):\n",
    "    return np.mean(np.abs(y - y_get))"
   ]
  },
  {
   "cell_type": "markdown",
   "metadata": {},
   "source": [
    "### Random Choose Method to get k and b "
   ]
  },
  {
   "cell_type": "code",
   "execution_count": 11,
   "metadata": {},
   "outputs": [
    {
     "name": "stdout",
     "output_type": "stream",
     "text": [
      "when time is :0, k = 40.66902222812786, b = -74.21217039410017, loss = 25766.27752019726\n",
      "when time is :2, k = 4.269273678479664, b = -3.2189498869743716, loss = 56.27247525797353\n",
      "when time is :972, k = 11.255324367173074, b = -47.11687023364372, loss = 47.06407917654868\n"
     ]
    }
   ],
   "source": [
    "trying_time = 1000\n",
    "min_loss = float('inf')\n",
    "best_k = None\n",
    "best_b = None\n",
    "\n",
    "for i in range(trying_time):\n",
    "    k = random.random()*200 - 100\n",
    "    b = random.random()*200 - 100\n",
    "    price_by_random_k_b = [k*i + b for i in x_rm]\n",
    "    \n",
    "    current_loss = loss_var(y, np.array(price_by_random_k_b))\n",
    "    if current_loss < min_loss:\n",
    "        best_k = k \n",
    "        best_b = b\n",
    "        print('when time is :{}, k = {}, b = {}, loss = {}'.format(i, k ,b , current_loss))\n",
    "        min_loss = current_loss\n",
    "        "
   ]
  },
  {
   "cell_type": "code",
   "execution_count": 12,
   "metadata": {},
   "outputs": [
    {
     "data": {
      "text/plain": [
       "60.43042934749012"
      ]
     },
     "execution_count": 12,
     "metadata": {},
     "output_type": "execute_result"
    }
   ],
   "source": [
    "price_by_random_k_b = [3.3*i + 1.3 for i in x_rm]\n",
    "current_loss = loss_var(y, np.array(price_by_random_k_b))\n",
    "current_loss"
   ]
  },
  {
   "cell_type": "code",
   "execution_count": 13,
   "metadata": {},
   "outputs": [
    {
     "data": {
      "text/plain": [
       "<matplotlib.collections.PathCollection at 0xa5085f8>"
      ]
     },
     "execution_count": 13,
     "metadata": {},
     "output_type": "execute_result"
    },
    {
     "data": {
      "image/png": "[encoded data removed]",
      "text/plain": [
       "<Figure size 432x288 with 1 Axes>"
      ]
     },
     "metadata": {
      "needs_background": "light"
     },
     "output_type": "display_data"
    }
   ],
   "source": [
    "best_k = 3.3\n",
    "best_b = 1.3\n",
    "draw_rm_price()\n",
    "plt.scatter(x_rm, [[best_k*i + best_b for i in x_rm]])"
   ]
  },
  {
   "cell_type": "markdown",
   "metadata": {},
   "source": [
    "### Supervised Direction to get k and b"
   ]
  },
  {
   "cell_type": "code",
   "execution_count": 14,
   "metadata": {},
   "outputs": [
    {
     "name": "stdout",
     "output_type": "stream",
     "text": [
      "when time is :0, k = 9.085535794559732, b = -46.49134053109454, loss = 185.80335884616298\n",
      "when time is :1, k = 10.085535794559732, b = -45.49134053109454, loss = 65.60889508774868\n",
      "when time is :2, k = 11.085535794559732, b = -44.49134053109454, loss = 52.531618076369895\n",
      "when time is :232, k = 9.085535794559732, b = -36.49134053109454, loss = 47.30583538216993\n",
      "when time is :236, k = 9.085535794559732, b = -34.49134053109454, loss = 43.606330689371326\n"
     ]
    }
   ],
   "source": [
    "trying_time = 1000\n",
    "min_loss = float('inf')\n",
    "best_k = None\n",
    "best_b = None\n",
    "k = random.random()*200 - 100\n",
    "b = random.random()*200 - 100\n",
    "direction = [[1, 1], [1, -1], [-1, 1], [-1, -1]]\n",
    "current_direction = random.choice(direction)\n",
    "\n",
    "for i in range(trying_time):\n",
    "    k += current_direction[0]\n",
    "    b += current_direction[1]\n",
    "    \n",
    "    price_by_random_k_b = [k*i + b for i in x_rm]\n",
    "    \n",
    "    current_loss = loss_var(y, np.array(price_by_random_k_b))\n",
    "    if current_loss < min_loss:\n",
    "        best_k = k \n",
    "        best_b = b\n",
    "        print('when time is :{}, k = {}, b = {}, loss = {}'.format(i, k ,b , current_loss))\n",
    "        min_loss = current_loss\n",
    "        \n",
    "    else:\n",
    "        current_direction  = random.choice([i for i in direction if i!=current_direction])"
   ]
  },
  {
   "cell_type": "code",
   "execution_count": 15,
   "metadata": {},
   "outputs": [
    {
     "data": {
      "text/plain": [
       "<matplotlib.collections.PathCollection at 0xa57c898>"
      ]
     },
     "execution_count": 15,
     "metadata": {},
     "output_type": "execute_result"
    },
    {
     "data": {
      "image/png": "[encoded data removed]",
      "text/plain": [
       "<Figure size 432x288 with 1 Axes>"
      ]
     },
     "metadata": {
      "needs_background": "light"
     },
     "output_type": "display_data"
    }
   ],
   "source": [
    "draw_rm_price()\n",
    "plt.scatter(x_rm, [[best_k*i + best_b for i in x_rm]])"
   ]
  },
  {
   "cell_type": "markdown",
   "metadata": {},
   "source": [
    "### Gradient Descent Method to get k and b"
   ]
  },
  {
   "cell_type": "markdown",
   "metadata": {},
   "source": [
    "$$ loss(\\theta) = \\frac{1}{2n}\\sum_{i = 0} ^n(h_\\theta (x^i) - y^i)^2$$\n",
    "½是一个常量，这样是为了在求梯度的时候，二次方乘下来就和这里的½抵消了，自然就没有多余的常数系数，方便后续的计算，同时对结果不会有影响\n"
   ]
  },
  {
   "cell_type": "markdown",
   "metadata": {},
   "source": [
    "$$可以看到变量有2个,即 \\theta_0 和 \\theta_1  分别对应之前的k 和 b$$\n",
    "$$h_\\theta (x^i) = \\theta_0* x^i + \\theta_1$$"
   ]
  },
  {
   "cell_type": "markdown",
   "metadata": {},
   "source": [
    "$$ \\frac{\\partial h(\\theta)}{\\partial\\theta_1}=\\frac1n\\sum_{i=0}^n(h_\\theta(x^i) - y^i)$$\n",
    "$$ \\frac{\\partial h(\\theta)}{\\partial\\theta_0}=\\frac1n\\sum_{i=0}^n(h_\\theta(x^i) - y^i)x^i$$\n",
    "\n",
    "$$梯度下降公式: \\Theta^n = \\Theta^{n-1} - \\alpha \\nabla loss $$"
   ]
  },
  {
   "cell_type": "code",
   "execution_count": 16,
   "metadata": {},
   "outputs": [],
   "source": [
    "def loss_var_new(theta, x, y):\n",
    "    #theta为传入的含k，b 的矩阵\n",
    "    diff = np.dot(x, theta) - y  #h(x)  - y 的值\n",
    "    return np.mean(np.square(diff))/2"
   ]
  },
  {
   "cell_type": "code",
   "execution_count": 17,
   "metadata": {},
   "outputs": [],
   "source": [
    "def gradient_function(theta, x, y):\n",
    "    #theta为传入的含k，b 的矩阵\n",
    "    diff = np.dot(x, theta) - y  #h(x)  - y 的值\n",
    "    return  (1.0/y.shape[0]) * np.dot(np.transpose(x), diff)"
   ]
  },
  {
   "cell_type": "code",
   "execution_count": 18,
   "metadata": {},
   "outputs": [],
   "source": [
    "#格式化输入参数，调整矩阵，方便矩阵运算\n",
    "num = x_rm.shape[0] \n",
    "X0 = np.ones((num, 1))\n",
    "X = np.hstack((x_rm.reshape(num, 1), X0)) #增加一个维度，方便矩阵运算\n",
    "Y = y.reshape(y.shape[0], 1)\n",
    "alpha = 0.04\n",
    "\n",
    "\n",
    "def gradient_descent(X, Y, alpha):\n",
    "    theta = np.array([1, 1]).reshape(2, 1) #初始k b值[[1],[1]]\n",
    "    gradient = gradient_function(theta, X, Y)\n",
    "    while not np.all(np.abs(gradient) <= 1e-5):\n",
    "        theta = theta - alpha * gradient\n",
    "        gradient = gradient_function(theta, X, Y)\n",
    "        #print(theta)\n",
    "    return theta"
   ]
  },
  {
   "cell_type": "code",
   "execution_count": 19,
   "metadata": {},
   "outputs": [],
   "source": [
    "theta = gradient_descent(X,Y,alpha)"
   ]
  },
  {
   "cell_type": "code",
   "execution_count": 20,
   "metadata": {},
   "outputs": [
    {
     "data": {
      "text/plain": [
       "array([[  9.10197825],\n",
       "       [-34.66978915]])"
      ]
     },
     "execution_count": 20,
     "metadata": {},
     "output_type": "execute_result"
    }
   ],
   "source": [
    "theta"
   ]
  },
  {
   "cell_type": "code",
   "execution_count": 21,
   "metadata": {},
   "outputs": [
    {
     "data": {
      "text/plain": [
       "21.800275889845267"
      ]
     },
     "execution_count": 21,
     "metadata": {},
     "output_type": "execute_result"
    }
   ],
   "source": [
    "loss_var_new(theta, X, Y)"
   ]
  },
  {
   "cell_type": "code",
   "execution_count": 22,
   "metadata": {},
   "outputs": [
    {
     "data": {
      "text/plain": [
       "<matplotlib.collections.PathCollection at 0xa5f2c18>"
      ]
     },
     "execution_count": 22,
     "metadata": {},
     "output_type": "execute_result"
    },
    {
     "data": {
      "image/png": "[encoded data removed]",
      "text/plain": [
       "<Figure size 432x288 with 1 Axes>"
      ]
     },
     "metadata": {
      "needs_background": "light"
     },
     "output_type": "display_data"
    }
   ],
   "source": [
    "best_k, best_b = theta[0][0], theta[1][0]\n",
    "draw_rm_price()\n",
    "plt.scatter(x_rm, [[best_k*i + best_b for i in x_rm]])"
   ]
  },
  {
   "cell_type": "markdown",
   "metadata": {},
   "source": [
    "#### Least squares Method to get k and b"
   ]
  },
  {
   "cell_type": "markdown",
   "metadata": {},
   "source": [
    "$$ \\varepsilon = \\sum_{i = 0} ^n (ax_i+b-y_i)^2 $$\n",
    "$$ \\frac{d}{da}\\varepsilon = 2\\sum(ax_i+b-y_i)x_i=0$$\n",
    "$$ \\frac{d}{db}\\varepsilon = 2\\sum(ax_i+b-y_i)=0$$\n",
    "上述方程式二元一次方程组,求解即可得出 a,b的值"
   ]
  },
  {
   "cell_type": "markdown",
   "metadata": {},
   "source": [
    "将上述方程组化成以下形式：\n",
    "$$a*k_{11}+ b*k_{12} - k_{13}= 0$$\n",
    "$$a*k_{21}+ b*k_{22} - k_{23}= 0$$\n",
    "$$k_{11}= \\sum x_i^2 \\quad k_{12}= \\sum x_i  \\quad k_{13}= \\sum{x_i y_i}$$\n",
    "$$k_{21}= \\sum x_i\\quad k_{22}= \\sum 1  \\quad   k_{23}= \\sum y_i$$"
   ]
  },
  {
   "cell_type": "code",
   "execution_count": 23,
   "metadata": {},
   "outputs": [],
   "source": [
    "import sympy \n",
    "def least_square(x, y):\n",
    "    \n",
    "    k11 = np.sum(np.square(x))\n",
    "    k12 = np.sum(x)\n",
    "    k13 = np.sum(x*y)\n",
    "    k21 = np.sum(x)\n",
    "    k22 = x.shape[0]*1\n",
    "    k23 = np.sum(y)\n",
    "    \n",
    "    a,b= sympy.symbols(\"a b\")   # 申明未知数\"a\"和\"b\"\n",
    "    result = sympy.solve([a*k11 + b*k12 - k13,a*k21 + b*k22 - k23],[a,b]) \n",
    "    return result[a],result[b]"
   ]
  },
  {
   "cell_type": "code",
   "execution_count": 24,
   "metadata": {},
   "outputs": [],
   "source": [
    "test_x = np.array([25,27,31,33,35])\n",
    "test_y = np.array([110,115,155,160,180])"
   ]
  },
  {
   "cell_type": "code",
   "execution_count": 25,
   "metadata": {},
   "outputs": [
    {
     "data": {
      "text/plain": [
       "(310/43, -3170/43)"
      ]
     },
     "execution_count": 25,
     "metadata": {},
     "output_type": "execute_result"
    }
   ],
   "source": [
    "result =least_square(test_x, test_y)\n",
    "result"
   ]
  },
  {
   "cell_type": "code",
   "execution_count": 26,
   "metadata": {},
   "outputs": [
    {
     "data": {
      "text/plain": [
       "[<matplotlib.lines.Line2D at 0xa861518>]"
      ]
     },
     "execution_count": 26,
     "metadata": {},
     "output_type": "execute_result"
    },
    {
     "data": {
      "image/png": "[encoded data removed]",
      "text/plain": [
       "<Figure size 432x288 with 1 Axes>"
      ]
     },
     "metadata": {
      "needs_background": "light"
     },
     "output_type": "display_data"
    }
   ],
   "source": [
    "best_k, best_b = float(result[0]), float(result[1])\n",
    "plt.scatter(test_x, test_y)\n",
    "plt.plot(test_x, [best_k*i + best_b for i in test_x], color = 'g')"
   ]
  },
  {
   "cell_type": "code",
   "execution_count": 27,
   "metadata": {},
   "outputs": [
    {
     "data": {
      "text/plain": [
       "(9.10210898118031, -34.6706207764386)"
      ]
     },
     "execution_count": 27,
     "metadata": {},
     "output_type": "execute_result"
    }
   ],
   "source": [
    "result =least_square(x_rm, y)\n",
    "result"
   ]
  },
  {
   "cell_type": "code",
   "execution_count": 28,
   "metadata": {},
   "outputs": [
    {
     "data": {
      "text/plain": [
       "<matplotlib.collections.PathCollection at 0xbcfbe80>"
      ]
     },
     "execution_count": 28,
     "metadata": {},
     "output_type": "execute_result"
    },
    {
     "data": {
      "image/png": "[encoded data removed]",
      "text/plain": [
       "<Figure size 432x288 with 1 Axes>"
      ]
     },
     "metadata": {
      "needs_background": "light"
     },
     "output_type": "display_data"
    }
   ],
   "source": [
    "best_k, best_b = float(result[0]), float(result[1])\n",
    "draw_rm_price()\n",
    "plt.scatter(x_rm, [best_k*i + best_b for i in x_rm])"
   ]
  },
  {
   "cell_type": "markdown",
   "metadata": {},
   "source": [
    "## 2. Answer following questions:\n",
    "\n",
    "\n",
    "###### 1. Why do we need machine learning methods instead of creating a complicated formula?\n"
   ]
  },
  {
   "cell_type": "markdown",
   "metadata": {},
   "source": [
    "Ans: 一个固定的公式难以随着情况的改变而做出相应变化；这样符合要求的式子很难被设计出来"
   ]
  },
  {
   "cell_type": "markdown",
   "metadata": {},
   "source": [
    "###### 2.  Wha't's the disadvantages of `the 1st Random Choosen` methods in our course? "
   ]
  },
  {
   "cell_type": "markdown",
   "metadata": {},
   "source": [
    "Ans:获得好的参数所花费的时间太长，因为都是随机的"
   ]
  },
  {
   "cell_type": "markdown",
   "metadata": {},
   "source": [
    "###### 3. Is the `2nd method supervised direction` better than 1st one?  What's the disadvantages of `the 2nd supversied directin` method? "
   ]
  },
  {
   "cell_type": "markdown",
   "metadata": {},
   "source": [
    "Ans:方法理论上来说2优于方法1；方法2的缺点是找到对的方向花费的平均时间较长，尤其受到初始值的影响，有时候效果还不如方法1"
   ]
  },
  {
   "cell_type": "markdown",
   "metadata": {},
   "source": [
    "###### 4. Why do we use `Derivative / Gradient` to fit a target function? "
   ]
  },
  {
   "cell_type": "markdown",
   "metadata": {},
   "source": [
    "Ans:可以更快更准确得找到合适的K和B值"
   ]
  },
  {
   "cell_type": "markdown",
   "metadata": {},
   "source": [
    "###### 5. In the words 'Gredient Descent', what's the `Gredient` and what's the `Descent`?"
   ]
  },
  {
   "cell_type": "markdown",
   "metadata": {},
   "source": [
    "Ans:梯度是函数在该点处的方向导数沿着该方向取得最大值,该最大值就是当前点的梯度，下降指沿着该方向函数值下降的最快"
   ]
  },
  {
   "cell_type": "markdown",
   "metadata": {},
   "source": [
    "###### 6. What's the advantages of `the 3rd gradient descent method` compared to the previous methods?"
   ]
  },
  {
   "cell_type": "markdown",
   "metadata": {},
   "source": [
    "Ans:方法3的优点在于目标性强，不断迭代参数使得达到预期效果值,并且可以控制步长，设定最大loss值"
   ]
  },
  {
   "cell_type": "markdown",
   "metadata": {},
   "source": [
    "###### 7. Using the simple words to describe: What's the machine leanring."
   ]
  },
  {
   "cell_type": "markdown",
   "metadata": {},
   "source": [
    "Ans:根据变化调整自身以达目的"
   ]
  },
  {
   "cell_type": "markdown",
   "metadata": {},
   "source": [
    "## 3. Finish the search problem"
   ]
  },
  {
   "cell_type": "markdown",
   "metadata": {},
   "source": [
    "Please using the search policy to implement an agent. This agent receives two input, one is @param start station and the other is @param destination. Your agent should give the optimal route based on Beijing Subway system. "
   ]
  },
  {
   "cell_type": "markdown",
   "metadata": {},
   "source": [
    "> Deadline: 2019-July-13\n",
    "\n",
    ">Submit: Submit the source code and result to github. \n",
    "\n"
   ]
  },
  {
   "cell_type": "markdown",
   "metadata": {},
   "source": [
    "![](https://timgsa.baidu.com/timg?image&quality=80&size=b9999_10000&sec=1562414356407&di=b57814aafd215bb8b8d9d8cd37c573d6&imgtype=0&src=http%3A%2F%2Fcli.clewm.net%2Ffile%2F2015%2F03%2F24%2F174ed60082b8422ac0636cfd3efb9e7f.jpg)"
   ]
  },
  {
   "cell_type": "markdown",
   "metadata": {},
   "source": [
    "#### Dataflow: "
   ]
  },
  {
   "cell_type": "markdown",
   "metadata": {},
   "source": [
    "##### 1.\tGet data from web page.\n",
    "\n",
    "> a.\tGet web page source from: https://baike.baidu.com/item/%E5%8C%97%E4%BA%AC%E5%9C%B0%E9%93%81/408485\n",
    "\n",
    "> b.\tYou may need @package **requests**[https://2.python-requests.org/en/master/] page to get the response via url\n",
    "\n",
    "> c.\tYou may need save the page source to file system.\n",
    "\n",
    "> d.\tThe target of this step is to get station information of all the subway lines;\n",
    "\n",
    "> e.\tYou may need install @package beautiful soup[https://www.crummy.com/software/BeautifulSoup/bs4/doc/]  to get the url information, or just use > Regular Expression to get the url.  Our recommendation is that using the Regular Expression and BeautiflSoup both. \n",
    "\n",
    "> f.\tYou may need BFS to get all the related page url from one url. \n",
    "Question: Why do we use BFS to traverse web page (or someone said, build a web spider)?  Can DFS do this job? which is better? "
   ]
  },
  {
   "cell_type": "markdown",
   "metadata": {},
   "source": [
    "##### 2.\tPreprocessing data from page source.\n",
    "\n",
    "> a.\tBased on the page source gotten from url. You may need some more preprocessing of the page. \n",
    "\n",
    "> b.\tthe Regular Expression you may need to process the text information.\n",
    "\n",
    "> c.\tYou may need @package networkx, @package matplotlib to visualize data. \n",
    "\n",
    "> d.\tYou should build a dictionary or graph which could represent the connection information of Beijing subway routes. \n",
    "\n",
    "> e.\tYou may need the defaultdict, set data structures to implement this procedure. "
   ]
  },
  {
   "cell_type": "markdown",
   "metadata": {},
   "source": [
    "##### 3. Build the search agent\n",
    "\n",
    "> Build the search agent based on the graph we build.\n",
    "\n",
    "for example, when you run: \n",
    "\n",
    "```python\n",
    ">>> search('奥体中心', '天安门') \n",
    "```\n",
    "you need get the result: \n",
    "\n",
    "奥体中心-> A -> B -> C -> ... -> 天安门\n",
    "\n"
   ]
  },
  {
   "cell_type": "markdown",
   "metadata": {},
   "source": [
    "### Search Problem Answer "
   ]
  },
  {
   "cell_type": "markdown",
   "metadata": {},
   "source": [
    "#### Get data from web"
   ]
  },
  {
   "cell_type": "code",
   "execution_count": 29,
   "metadata": {},
   "outputs": [],
   "source": [
    "from urllib import request\n",
    "import urllib\n",
    "import re"
   ]
  },
  {
   "cell_type": "code",
   "execution_count": 30,
   "metadata": {},
   "outputs": [],
   "source": [
    "def get_location1(name):\n",
    "    #百度地图api调用，获取地铁站经纬度\n",
    "    city  = urllib.parse.quote('上海')\n",
    "    my_ak = '02maPGXipeuzo92LTipwcAcH24pByq62'\n",
    "    tag = urllib.parse.quote('地铁站')\n",
    "    qurey = urllib.parse.quote(name)\n",
    "    try:\n",
    "        url = 'http://api.map.baidu.com/place/v2/search?query='+qurey+'&tag='+tag+'&region='+city+'&output=json&ak='+my_ak\n",
    "        req = request.urlopen(url)\n",
    "        res = req.read().decode('utf-8')\n",
    "        print(res)\n",
    "        lat = re.findall('\"lat\":(.*)',res)[0].split(',')[0]\n",
    "        lng = re.findall('\"lng\":(.*)',res)[0]\n",
    "        return lat,lng\n",
    "    except:\n",
    "        return 0,0"
   ]
  },
  {
   "cell_type": "code",
   "execution_count": 31,
   "metadata": {},
   "outputs": [],
   "source": [
    "def geo_distance(origin, destination):\n",
    "    \"\"\"\n",
    "    Calculate the Haversine distance.\n",
    "\n",
    "    Parameters\n",
    "    ----------\n",
    "    origin : tuple of float\n",
    "        (lat, long)\n",
    "    destination : tuple of float\n",
    "        (lat, long)\n",
    "\n",
    "    Returns\n",
    "    -------\n",
    "    distance_in_km : float\n",
    "\n",
    "    Examples\n",
    "    --------\n",
    "    >>> origin = (48.1372, 11.5756)  # Munich\n",
    "    >>> destination = (52.5186, 13.4083)  # Berlin\n",
    "    >>> round(distance(origin, destination), 1)\n",
    "    504.2\n",
    "    \"\"\"\n",
    "    lat1, lon1 = origin\n",
    "    lat2, lon2 = destination\n",
    "    radius = 6371  # km\n",
    "\n",
    "    dlat = math.radians(lat2 - lat1)\n",
    "    dlon = math.radians(lon2 - lon1)\n",
    "    a = (math.sin(dlat / 2) * math.sin(dlat / 2) +\n",
    "         math.cos(math.radians(lat1)) * math.cos(math.radians(lat2)) *\n",
    "         math.sin(dlon / 2) * math.sin(dlon / 2))\n",
    "    c = 2 * math.atan2(math.sqrt(a), math.sqrt(1 - a))\n",
    "    d = radius * c\n",
    "\n",
    "    return d"
   ]
  },
  {
   "cell_type": "code",
   "execution_count": 32,
   "metadata": {},
   "outputs": [
    {
     "name": "stdout",
     "output_type": "stream",
     "text": [
      "{\n",
      "    \"status\":0,\n",
      "    \"message\":\"ok\",\n",
      "    \"results\":[\n",
      "        {\n",
      "            \"name\":\"莘庄\",\n",
      "            \"location\":{\n",
      "                \"lat\":31.116917,\n",
      "                \"lng\":121.392129\n",
      "            },\n",
      "            \"address\":\"地铁1号线;地铁5号线\",\n",
      "            \"province\":\"上海市\",\n",
      "            \"city\":\"上海市\",\n",
      "            \"area\":\"闵行区\",\n",
      "            \"detail\":1,\n",
      "            \"uid\":\"480c789657a7fe38f32d832a\"\n",
      "        },\n",
      "        {\n",
      "            \"name\":\"莘庄\",\n",
      "            \"location\":{\n",
      "                \"lat\":31.11525,\n",
      "                \"lng\":121.384781\n",
      "            },\n",
      "            \"address\":\"91路;125路;150路;153路;166路;189路;196路;700路;704路b线;708路;712路;747路;816路;831路;scip短驳2线;虹桥枢纽4路;虹桥枢纽5路;南江线;松莘线;松莘线b线;徐闵线;徐闵夜宵专线;莘团线;莘团线区间;莘庄1路;莘庄2路;闵行1路;闵行20路;闵行31路\",\n",
      "            \"province\":\"上海市\",\n",
      "            \"city\":\"上海市\",\n",
      "            \"area\":\"闵行区\",\n",
      "            \"detail\":0,\n",
      "            \"uid\":\"9d71aab82e011e2d6f3e1b0d\"\n",
      "        },\n",
      "        {\n",
      "            \"name\":\"莘庄地铁站\",\n",
      "            \"location\":{\n",
      "                \"lat\":31.116616,\n",
      "                \"lng\":121.390475\n",
      "            },\n",
      "            \"address\":\"莘庄1路\",\n",
      "            \"province\":\"上海市\",\n",
      "            \"city\":\"上海市\",\n",
      "            \"area\":\"闵行区\",\n",
      "            \"detail\":0,\n",
      "            \"uid\":\"951e0fb8fe72b1d5adcb6608\"\n",
      "        },\n",
      "        {\n",
      "            \"name\":\"莘庄地铁站(南广场)\",\n",
      "            \"location\":{\n",
      "                \"lat\":31.114392,\n",
      "                \"lng\":121.393902\n",
      "            },\n",
      "            \"address\":\"143路;725路;759路;873路;机场九线;庄莘线;莘海专线;莘虹快线;莘金专线;莘南高速线;莘南专线;闵行25路;闵行30路;闵行41路\",\n",
      "            \"province\":\"上海市\",\n",
      "            \"city\":\"上海市\",\n",
      "            \"area\":\"闵行区\",\n",
      "            \"detail\":0,\n",
      "            \"uid\":\"d9d8e0fd6325d2344107c1e4\"\n",
      "        },\n",
      "        {\n",
      "            \"name\":\"七莘路莘松路(莘庄)\",\n",
      "            \"location\":{\n",
      "                \"lat\":31.11667,\n",
      "                \"lng\":121.38476\n",
      "            },\n",
      "            \"address\":\"scip4号线\",\n",
      "            \"province\":\"上海市\",\n",
      "            \"city\":\"上海市\",\n",
      "            \"area\":\"闵行区\",\n",
      "            \"detail\":0,\n",
      "            \"uid\":\"62ff1d3fdde580d304fef516\"\n",
      "        },\n",
      "        {\n",
      "            \"name\":\"莘松路莘东路(莘庄)\",\n",
      "            \"location\":{\n",
      "                \"lat\":31.114557,\n",
      "                \"lng\":121.384573\n",
      "            },\n",
      "            \"address\":\"闵行31路\",\n",
      "            \"province\":\"上海市\",\n",
      "            \"city\":\"上海市\",\n",
      "            \"area\":\"闵行区\",\n",
      "            \"detail\":0,\n",
      "            \"uid\":\"94ecb411d12bdd6a9e95de73\"\n",
      "        },\n",
      "        {\n",
      "            \"name\":\"莘庄地铁站南广场\",\n",
      "            \"location\":{\n",
      "                \"lat\":31.11462,\n",
      "                \"lng\":121.395002\n",
      "            },\n",
      "            \"address\":\"759路;闵行12路;闵行31路;闵行9路\",\n",
      "            \"province\":\"上海市\",\n",
      "            \"city\":\"上海市\",\n",
      "            \"area\":\"闵行区\",\n",
      "            \"detail\":0,\n",
      "            \"uid\":\"ae8e7547462a194bb9bd6341\"\n",
      "        },\n",
      "        {\n",
      "            \"name\":\"莘庄地铁站(北广场)\",\n",
      "            \"location\":{\n",
      "                \"lat\":31.117632,\n",
      "                \"lng\":121.39109\n",
      "            },\n",
      "            \"address\":\"708路;759路;闵行6路\",\n",
      "            \"province\":\"上海市\",\n",
      "            \"city\":\"上海市\",\n",
      "            \"area\":\"闵行区\",\n",
      "            \"detail\":0,\n",
      "            \"uid\":\"9883c420df4728442ad7ab47\"\n",
      "        },\n",
      "        {\n",
      "            \"name\":\"莘庄地铁站(北广场)(下客站)\",\n",
      "            \"location\":{\n",
      "                \"lat\":31.116624,\n",
      "                \"lng\":121.390502\n",
      "            },\n",
      "            \"address\":\"莘虹快线\",\n",
      "            \"province\":\"上海市\",\n",
      "            \"city\":\"上海市\",\n",
      "            \"area\":\"闵行区\",\n",
      "            \"detail\":0,\n",
      "            \"uid\":\"dba14bbb3d8750d787154163\"\n",
      "        },\n",
      "        {\n",
      "            \"name\":\"莘庄水站\",\n",
      "            \"location\":{\n",
      "                \"lat\":31.104418,\n",
      "                \"lng\":121.390146\n",
      "            },\n",
      "            \"address\":\"上海市闵行区沁春路2号\",\n",
      "            \"province\":\"上海市\",\n",
      "            \"city\":\"上海市\",\n",
      "            \"area\":\"闵行区\",\n",
      "            \"street_id\":\"a07435d120002ec8c51e5197\",\n",
      "            \"telephone\":\"15800999648\",\n",
      "            \"detail\":1,\n",
      "            \"uid\":\"a07435d120002ec8c51e5197\"\n",
      "        }\n",
      "    ]\n",
      "}\n"
     ]
    },
    {
     "data": {
      "text/plain": [
       "('31.116917', '121.392129')"
      ]
     },
     "execution_count": 32,
     "metadata": {},
     "output_type": "execute_result"
    }
   ],
   "source": [
    "get_location1('莘庄站')"
   ]
  },
  {
   "cell_type": "code",
   "execution_count": 33,
   "metadata": {},
   "outputs": [
    {
     "name": "stdout",
     "output_type": "stream",
     "text": [
      "{\"status\":401,\"message\":\"当前并发量已经超过约定并发配额，限制访问\"}\n"
     ]
    },
    {
     "data": {
      "text/plain": [
       "(0, 0)"
      ]
     },
     "execution_count": 33,
     "metadata": {},
     "output_type": "execute_result"
    }
   ],
   "source": [
    "get_location1('环城东路站')"
   ]
  },
  {
   "cell_type": "code",
   "execution_count": 34,
   "metadata": {},
   "outputs": [],
   "source": [
    "import urllib.request\n",
    "import urllib.parse\n",
    "import re\n",
    "from bs4 import BeautifulSoup as bs"
   ]
  },
  {
   "cell_type": "code",
   "execution_count": 35,
   "metadata": {},
   "outputs": [],
   "source": [
    "url = 'http://service.shmetro.com/yxxlt/index.htm'"
   ]
  },
  {
   "cell_type": "code",
   "execution_count": 36,
   "metadata": {},
   "outputs": [],
   "source": [
    "req = urllib.request.Request(url)\n",
    "req.add_header('User-Agent', 'Mozilla/5.0 (Windows NT 6.1; Win64; x64; rv:67.0) Gecko/20100101 Firefox/67.0')\n",
    "response = urllib.request.urlopen(req, timeout=10)\n",
    "html = response.read().decode('utf-8')\n",
    "response.close()"
   ]
  },
  {
   "cell_type": "code",
   "execution_count": null,
   "metadata": {},
   "outputs": [],
   "source": []
  },
  {
   "cell_type": "code",
   "execution_count": 39,
   "metadata": {},
   "outputs": [],
   "source": [
    "def url_open(url):\n",
    "    req = urllib.request.Request(url)\n",
    "    req.add_header('User-Agent', 'Mozilla/5.0 (Windows NT 6.1; Win64; x64; rv:67.0) Gecko/20100101 Firefox/67.0')\n",
    "    response = urllib.request.urlopen(req, timeout=10)\n",
    "    html = response.read().decode('utf-8')\n",
    "    response.close()\n",
    "    return html"
   ]
  },
  {
   "cell_type": "code",
   "execution_count": 40,
   "metadata": {},
   "outputs": [],
   "source": [
    "url = 'https://baike.baidu.com/item/%E4%B8%8A%E6%B5%B7%E5%9C%B0%E9%93%81/1273732?fr=aladdin'"
   ]
  },
  {
   "cell_type": "code",
   "execution_count": 41,
   "metadata": {},
   "outputs": [],
   "source": [
    "def get_subway_line_url(html):\n",
    "    #获取所有地铁具体url, 以list返回\n",
    "    #beautifulsoup + 正则\n",
    "    soup = bs(html)\n",
    "    table = soup.find_all('table')[1]\n",
    "    table = str(table)\n",
    "    url_list = re.findall('<a data-lemmaid=\"\\w*?\" href=\"(.*?)\" target=\"_blank\">(\\w*?)</a>', table)\n",
    "    for i, item in enumerate(url_list):\n",
    "        url_list[i] = list(item)\n",
    "    for item in url_list:\n",
    "        item[0] = 'https://baike.baidu.com' + item[0]\n",
    "    return url_list"
   ]
  },
  {
   "cell_type": "code",
   "execution_count": 42,
   "metadata": {},
   "outputs": [],
   "source": [
    "html = url_open(url)"
   ]
  },
  {
   "cell_type": "code",
   "execution_count": 43,
   "metadata": {},
   "outputs": [
    {
     "data": {
      "text/plain": [
       "['https://baike.baidu.com/item/%E4%B8%8A%E6%B5%B7%E5%9C%B0%E9%93%814%E5%8F%B7%E7%BA%BF/6310090',\n",
       " '上海地铁4号线']"
      ]
     },
     "execution_count": 43,
     "metadata": {},
     "output_type": "execute_result"
    }
   ],
   "source": [
    "get_subway_line_url(html)[3]"
   ]
  },
  {
   "cell_type": "code",
   "execution_count": 45,
   "metadata": {},
   "outputs": [],
   "source": [
    "def get_station(html):\n",
    "    soup = bs(html)\n",
    "    table = soup.find_all('table')[0]\n",
    "    station_list = []\n",
    "    for item in table.find_all('tr'):\n",
    "        station = re.findall('href=\".*?\" target=\"_blank\">(\\w*)?</a>', str(item.td))\n",
    "        if not station:\n",
    "            station = re.findall('href=\".*?\" target=\"_blank\"><b>(\\w*)?</b></a>', str(item.td))        \n",
    "        if not station:\n",
    "            station = re.findall('valign=\"middle\">(\\w*?)</td>', str(item.td))          \n",
    "        if station:\n",
    "            if station[0].endswith('站'):\n",
    "                station_list.append(station[0])\n",
    "    return station_list"
   ]
  },
  {
   "cell_type": "code",
   "execution_count": 46,
   "metadata": {},
   "outputs": [],
   "source": [
    "def get_all_line(url):\n",
    "    #获取所有地铁站点信息\n",
    "    html = url_open(url)\n",
    "    sub_line_url = get_subway_line_url(html)\n",
    "    subway_inf = []\n",
    "    for subway in sub_line_url:\n",
    "        html = url_open(subway[0])\n",
    "        station = get_station(html)\n",
    "        if subway[1] == '上海地铁17号线':\n",
    "            if station[0] == '虹桥火车站':\n",
    "                station[0] = '虹桥火车站站'  \n",
    "        subway_inf.append({subway[1]: station})\n",
    "        \n",
    "    return subway_inf"
   ]
  },
  {
   "cell_type": "code",
   "execution_count": 47,
   "metadata": {},
   "outputs": [],
   "source": [
    "url = 'https://baike.baidu.com/item/%E4%B8%8A%E6%B5%B7%E5%9C%B0%E9%93%81/1273732?fr=aladdin'"
   ]
  },
  {
   "cell_type": "code",
   "execution_count": 48,
   "metadata": {},
   "outputs": [],
   "source": [
    "html = url_open(url)"
   ]
  },
  {
   "cell_type": "code",
   "execution_count": 49,
   "metadata": {},
   "outputs": [],
   "source": [
    "sub_line_url = get_subway_line_url(html)"
   ]
  },
  {
   "cell_type": "code",
   "execution_count": 50,
   "metadata": {},
   "outputs": [],
   "source": [
    "url = sub_line_url[14][0] #17号线"
   ]
  },
  {
   "cell_type": "code",
   "execution_count": 51,
   "metadata": {},
   "outputs": [],
   "source": [
    "html = url_open(url)"
   ]
  },
  {
   "cell_type": "code",
   "execution_count": 52,
   "metadata": {},
   "outputs": [],
   "source": [
    "soup = bs(html)\n",
    "table = soup.find_all('table')[0]\n"
   ]
  },
  {
   "cell_type": "code",
   "execution_count": 53,
   "metadata": {},
   "outputs": [
    {
     "name": "stdout",
     "output_type": "stream",
     "text": [
      "[]\n",
      "['虹桥火车站']\n",
      "['诸光路站']\n",
      "['蟠龙路站']\n",
      "['徐盈路站']\n",
      "['徐泾北城站']\n",
      "['嘉松中路站']\n",
      "['赵巷站']\n",
      "['汇金路站']\n",
      "['青浦新城站']\n",
      "['漕盈路站']\n",
      "['淀山湖大道站']\n",
      "['朱家角站']\n",
      "['东方绿舟站']\n",
      "[]\n"
     ]
    }
   ],
   "source": [
    "for item in table.find_all('tr'):\n",
    "    station = re.findall('href=\".*?\" target=\"_blank\">(\\w*)?</a>', str(item.td))\n",
    "    if not station:\n",
    "        station = re.findall('href=\".*?\" target=\"_blank\"><b>(\\w*)?</b></a>', str(item.td))\n",
    "    if not station:\n",
    "        station = re.findall('valign=\"middle\">(\\w*?)</td>', str(item.td))  \n",
    "    print(station)"
   ]
  },
  {
   "cell_type": "code",
   "execution_count": 54,
   "metadata": {},
   "outputs": [],
   "source": [
    "#html = url_open('https://baike.baidu.com/item/%E4%B8%8A%E6%B5%B7%E5%9C%B0%E9%93%812%E5%8F%B7%E7%BA%BF/22947836')"
   ]
  },
  {
   "cell_type": "code",
   "execution_count": 55,
   "metadata": {},
   "outputs": [
    {
     "data": {
      "text/plain": [
       "['虹桥火车站',\n",
       " '诸光路站',\n",
       " '蟠龙路站',\n",
       " '徐盈路站',\n",
       " '徐泾北城站',\n",
       " '嘉松中路站',\n",
       " '赵巷站',\n",
       " '汇金路站',\n",
       " '青浦新城站',\n",
       " '漕盈路站',\n",
       " '淀山湖大道站',\n",
       " '朱家角站',\n",
       " '东方绿舟站']"
      ]
     },
     "execution_count": 55,
     "metadata": {},
     "output_type": "execute_result"
    }
   ],
   "source": [
    "get_station(html)"
   ]
  },
  {
   "cell_type": "code",
   "execution_count": 56,
   "metadata": {},
   "outputs": [],
   "source": [
    "url = 'https://baike.baidu.com/item/%E4%B8%8A%E6%B5%B7%E5%9C%B0%E9%93%81/1273732?fr=aladdin'"
   ]
  },
  {
   "cell_type": "code",
   "execution_count": 57,
   "metadata": {},
   "outputs": [],
   "source": [
    "subway_inf_origin = get_all_line(url)"
   ]
  },
  {
   "cell_type": "code",
   "execution_count": 58,
   "metadata": {},
   "outputs": [],
   "source": [
    "subway_inf = subway_inf_origin.copy()"
   ]
  },
  {
   "cell_type": "code",
   "execution_count": 59,
   "metadata": {},
   "outputs": [],
   "source": [
    "subway_inf[9]['上海地铁10号线'] = subway_inf[9]['上海地铁10号线'][:3]+ ['龙溪路站']+ subway_inf[9]['上海地铁10号线'][3:]"
   ]
  },
  {
   "cell_type": "code",
   "execution_count": 60,
   "metadata": {},
   "outputs": [
    {
     "data": {
      "text/plain": [
       "['新江湾城站',\n",
       " '殷高东路站',\n",
       " '三门路站',\n",
       " '江湾体育场站',\n",
       " '五角场站',\n",
       " '国权路站',\n",
       " '同济大学站',\n",
       " '四平路站',\n",
       " '邮电新村站',\n",
       " '海伦路站',\n",
       " '四川北路站',\n",
       " '天潼路站',\n",
       " '南京东路站',\n",
       " '豫园站',\n",
       " '老西门站',\n",
       " '新天地站',\n",
       " '陕西南路站',\n",
       " '上海图书馆站',\n",
       " '交通大学站',\n",
       " '虹桥路站',\n",
       " '宋园路站',\n",
       " '伊犁路站',\n",
       " '水城路站',\n",
       " '龙溪路站',\n",
       " '上海动物园站',\n",
       " '虹桥1号航站楼站',\n",
       " '虹桥2号航站楼站',\n",
       " '虹桥火车站站',\n",
       " '龙溪路站',\n",
       " '龙柏新村站',\n",
       " '紫藤路站',\n",
       " '航中路站']"
      ]
     },
     "execution_count": 60,
     "metadata": {},
     "output_type": "execute_result"
    }
   ],
   "source": [
    "subway_inf[9]['上海地铁10号线'] = list(reversed(subway_inf[9]['上海地铁10号线']))\n",
    "subway_inf[9]['上海地铁10号线']"
   ]
  },
  {
   "cell_type": "code",
   "execution_count": 61,
   "metadata": {},
   "outputs": [
    {
     "data": {
      "text/plain": [
       "{'上海地铁17号线': ['虹桥火车站站',\n",
       "  '诸光路站',\n",
       "  '蟠龙路站',\n",
       "  '徐盈路站',\n",
       "  '徐泾北城站',\n",
       "  '嘉松中路站',\n",
       "  '赵巷站',\n",
       "  '汇金路站',\n",
       "  '青浦新城站',\n",
       "  '漕盈路站',\n",
       "  '淀山湖大道站',\n",
       "  '朱家角站',\n",
       "  '东方绿舟站']}"
      ]
     },
     "execution_count": 61,
     "metadata": {},
     "output_type": "execute_result"
    }
   ],
   "source": [
    "subway_inf[14]"
   ]
  },
  {
   "cell_type": "markdown",
   "metadata": {},
   "source": [
    "#### Create net infomation"
   ]
  },
  {
   "cell_type": "code",
   "execution_count": 62,
   "metadata": {},
   "outputs": [],
   "source": [
    "from collections import defaultdict\n",
    "from collections import Counter"
   ]
  },
  {
   "cell_type": "code",
   "execution_count": 63,
   "metadata": {},
   "outputs": [],
   "source": [
    "def create_subway_connection(stations):   \n",
    "    station_connect = defaultdict(list)\n",
    "    station_count = Counter(stations)\n",
    "    change_point = station_count.most_common(1)[0][0] #获取地铁分支点  \n",
    "    length = len(stations)\n",
    "    pre_station = None\n",
    "    appear_time = 0\n",
    "    for i, station in enumerate(stations):\n",
    "        if i< length-1 and (stations[i+1]!= change_point or (stations[i+1]==change_point and appear_time==0)):\n",
    "            next_station = stations[i+1]\n",
    "        else:\n",
    "            next_station = None\n",
    "        if station == change_point:\n",
    "            appear_time +=1\n",
    "            if appear_time ==2: #change_point appear 2 times\n",
    "                pre_station = None\n",
    "\n",
    "        if pre_station != None:\n",
    "            station_connect[station].append(pre_station)\n",
    "        if next_station !=None:\n",
    "            station_connect[station].append(next_station)\n",
    "        pre_station = station   \n",
    "    return station_connect"
   ]
  },
  {
   "cell_type": "code",
   "execution_count": 64,
   "metadata": {},
   "outputs": [
    {
     "data": {
      "text/plain": [
       "defaultdict(list,\n",
       "            {'莘庄站': ['外环路站'],\n",
       "             '外环路站': ['莘庄站', '莲花路站'],\n",
       "             '莲花路站': ['外环路站', '锦江乐园站'],\n",
       "             '锦江乐园站': ['莲花路站', '上海南站站'],\n",
       "             '上海南站站': ['锦江乐园站', '漕宝路站'],\n",
       "             '漕宝路站': ['上海南站站', '上海体育馆站'],\n",
       "             '上海体育馆站': ['漕宝路站', '徐家汇站'],\n",
       "             '徐家汇站': ['上海体育馆站', '衡山路站'],\n",
       "             '衡山路站': ['徐家汇站', '常熟路站'],\n",
       "             '常熟路站': ['衡山路站', '陕西南路站'],\n",
       "             '陕西南路站': ['常熟路站', '黄陂南路站'],\n",
       "             '黄陂南路站': ['陕西南路站', '人民广场站'],\n",
       "             '人民广场站': ['黄陂南路站', '新闸路站'],\n",
       "             '新闸路站': ['人民广场站', '汉中路站'],\n",
       "             '汉中路站': ['新闸路站', '上海火车站站'],\n",
       "             '上海火车站站': ['汉中路站', '中山北路站'],\n",
       "             '中山北路站': ['上海火车站站', '延长路站'],\n",
       "             '延长路站': ['中山北路站', '上海马戏城站'],\n",
       "             '上海马戏城站': ['延长路站', '汶水路站'],\n",
       "             '汶水路站': ['上海马戏城站', '彭浦新村站'],\n",
       "             '彭浦新村站': ['汶水路站', '共康路站'],\n",
       "             '共康路站': ['彭浦新村站', '通河新村站'],\n",
       "             '通河新村站': ['共康路站', '呼兰路站'],\n",
       "             '呼兰路站': ['通河新村站', '共富新村站'],\n",
       "             '共富新村站': ['呼兰路站', '宝安公路站'],\n",
       "             '宝安公路站': ['共富新村站', '友谊西路站'],\n",
       "             '友谊西路站': ['宝安公路站', '富锦路站'],\n",
       "             '富锦路站': ['友谊西路站']})"
      ]
     },
     "execution_count": 64,
     "metadata": {},
     "output_type": "execute_result"
    }
   ],
   "source": [
    "create_subway_connection(subway_inf[0]['上海地铁1号线'])"
   ]
  },
  {
   "cell_type": "code",
   "execution_count": 65,
   "metadata": {},
   "outputs": [],
   "source": [
    "stations_connection_all = defaultdict(list)"
   ]
  },
  {
   "cell_type": "code",
   "execution_count": 66,
   "metadata": {},
   "outputs": [],
   "source": [
    "stations_connection_list = []\n",
    "subway_name = []\n",
    "for items in subway_inf:\n",
    "    for key in items: #这里的key对应地铁线路号，其实就一个key\n",
    "        connection  = create_subway_connection(items[key])\n",
    "        subway_name.append(key)\n",
    "        \n",
    "        stations_connection_list.append(connection)"
   ]
  },
  {
   "cell_type": "code",
   "execution_count": 67,
   "metadata": {},
   "outputs": [],
   "source": [
    "stations_tag = defaultdict(list)\n",
    "for i, station in enumerate(stations_connection_list):\n",
    "    for key, items in station.items():\n",
    "        if key not in stations_connection_all:\n",
    "            stations_connection_all[key] = items\n",
    "        else:\n",
    "            for _a in items:\n",
    "                if _a not in stations_connection_all[key]:\n",
    "                    stations_connection_all[key] += [_a]\n",
    "        \n",
    "        if key in stations_tag: #统计站点归属\n",
    "            stations_tag[key] += [subway_name[i]]\n",
    "        else:\n",
    "            stations_tag[key] = [subway_name[i]]"
   ]
  },
  {
   "cell_type": "code",
   "execution_count": 68,
   "metadata": {},
   "outputs": [
    {
     "data": {
      "text/plain": [
       "['虹桥2号航站楼站', '徐泾东站', '诸光路站']"
      ]
     },
     "execution_count": 68,
     "metadata": {},
     "output_type": "execute_result"
    }
   ],
   "source": [
    "stations_connection_all[\"虹桥火车站站\"] #stations_connection_list#stations_connection_all"
   ]
  },
  {
   "cell_type": "code",
   "execution_count": 69,
   "metadata": {},
   "outputs": [],
   "source": [
    "#stations_tag"
   ]
  },
  {
   "cell_type": "code",
   "execution_count": 70,
   "metadata": {},
   "outputs": [],
   "source": [
    "import networkx as nx\n",
    "import matplotlib.pyplot as plt"
   ]
  },
  {
   "cell_type": "code",
   "execution_count": 71,
   "metadata": {},
   "outputs": [],
   "source": [
    "%matplotlib inline"
   ]
  },
  {
   "cell_type": "code",
   "execution_count": 72,
   "metadata": {},
   "outputs": [],
   "source": [
    "plt.rcParams['font.sans-serif'] = ['SimHei']\n",
    "plt.rcParams['axes.unicode_minus'] = False"
   ]
  },
  {
   "cell_type": "code",
   "execution_count": 74,
   "metadata": {},
   "outputs": [],
   "source": [
    "station_location={}"
   ]
  },
  {
   "cell_type": "code",
   "execution_count": 75,
   "metadata": {},
   "outputs": [],
   "source": [
    "import pickle\n",
    "def save_obj(obj):\n",
    "    with open('station.pkl', 'wb') as f: \n",
    "        pickle.dump(obj, f, pickle.HIGHEST_PROTOCOL) \n",
    "def load_obj(): \n",
    "    with open('station.pkl', 'rb') as f: \n",
    "        return pickle.load(f)\n",
    "\n",
    "#station_location"
   ]
  },
  {
   "cell_type": "code",
   "execution_count": 76,
   "metadata": {},
   "outputs": [
    {
     "name": "stdout",
     "output_type": "stream",
     "text": [
      "0\n"
     ]
    }
   ],
   "source": [
    "station_location = load_obj()\n",
    "i = 0\n",
    "for key in  stations_connection_all:\n",
    "    if key not in station_location:\n",
    "    #if station_location[key] == (0,0):\n",
    "    #    i += 1\n",
    "        station_location[key] = get_location1(key)       \n",
    "#print(i)\n",
    "save_obj(station_location)\n",
    "\n",
    "station_location = load_obj()\n",
    "for key in  station_location:\n",
    "    if station_location[key] == (0,0):\n",
    "        i += 1\n",
    "        station_location[key] = get_location1(key)       \n",
    "print(i)\n",
    "save_obj(station_location)"
   ]
  },
  {
   "cell_type": "code",
   "execution_count": 77,
   "metadata": {},
   "outputs": [],
   "source": [
    "for key,item in station_location.items():\n",
    "    station_location[key] = tuple(map(float, item))"
   ]
  },
  {
   "cell_type": "code",
   "execution_count": 78,
   "metadata": {},
   "outputs": [
    {
     "data": {
      "text/plain": [
       "{'莘庄站': (31.116917, 121.392129),\n",
       " '外环路站': (31.126655, 121.399619),\n",
       " '莲花路站': (31.136734, 121.409334),\n",
       " '锦江乐园站': (31.148347, 121.420556),\n",
       " '上海南站站': (31.160424, 121.436696),\n",
       " '漕宝路站': (31.174658, 121.440716),\n",
       " '上海体育馆站': (31.188814, 121.443402),\n",
       " '徐家汇站': (31.200871, 121.443173),\n",
       " '衡山路站': (31.211335, 121.45316),\n",
       " '常熟路站': (31.219964, 121.456628),\n",
       " '陕西南路站': (31.221939, 121.465323),\n",
       " '黄陂南路站': (31.228753, 121.479798),\n",
       " '人民广场站': (31.238795, 121.481022),\n",
       " '新闸路站': (31.244699, 121.474802),\n",
       " '汉中路站': (31.247272, 121.465134),\n",
       " '上海火车站站': (31.255923, 121.462056),\n",
       " '中山北路站': (31.265275, 121.465616),\n",
       " '延长路站': (31.27806, 121.461893),\n",
       " '上海马戏城站': (31.285845, 121.458503),\n",
       " '汶水路站': (31.298815, 121.45656),\n",
       " '彭浦新村站': (31.312805, 121.454963),\n",
       " '共康路站': (31.325355, 121.453464),\n",
       " '通河新村站': (31.337798, 121.447817),\n",
       " '呼兰路站': (31.345991, 121.444185),\n",
       " '共富新村站': (31.36141, 121.440526),\n",
       " '宝安公路站': (31.376207, 121.437357),\n",
       " '友谊西路站': (31.387741, 121.434336),\n",
       " '富锦路站': (31.398683, 121.43103),\n",
       " '浦东国际机场站': (31.155853, 121.813092),\n",
       " '海天三路站': (31.174953, 121.803224),\n",
       " '远东大道站': (31.2052, 121.762161),\n",
       " '凌空路站': (31.198595, 121.730308),\n",
       " '川沙站': (31.192886, 121.704499),\n",
       " '华夏东路站': (31.203168, 121.687294),\n",
       " '创新中路站': (31.219787, 121.680356),\n",
       " '唐镇站': (31.220153, 121.66282),\n",
       " '广兰路站': (31.216703, 121.627179),\n",
       " '金科路站': (31.209932, 121.608557),\n",
       " '张江高科站': (31.207879, 121.594061),\n",
       " '龙阳路站': (31.209166, 121.56405),\n",
       " '世纪公园站': (31.215933, 121.557176),\n",
       " '上海科技馆站': (31.225461, 121.550557),\n",
       " '世纪大道站': (31.23481, 121.533534),\n",
       " '东昌路站': (31.239079, 121.521998),\n",
       " '陆家嘴站': (31.243637, 121.508824),\n",
       " '南京东路站': (31.243738, 121.490857),\n",
       " '南京西路站': (31.23413, 121.465932),\n",
       " '静安寺站': (31.229402, 121.453901),\n",
       " '江苏路站': (31.226557, 121.437714),\n",
       " '中山公园站': (31.224379, 121.4231),\n",
       " '娄山关路站': (31.216958, 121.410818),\n",
       " '威宁路站': (31.220484, 121.393672),\n",
       " '北新泾站': (31.222104, 121.38064),\n",
       " '淞虹路站': (31.224017, 121.366164),\n",
       " '虹桥2号航站楼站': (31.200811, 121.333905),\n",
       " '虹桥火车站站': (31.200547, 121.326997),\n",
       " '徐泾东站': (31.195432, 121.307524),\n",
       " '石龙路站': (31.164304, 121.44963),\n",
       " '龙漕路站': (31.176206, 121.450294),\n",
       " '漕溪路站': (31.182978, 121.444739),\n",
       " '宜山路站': (31.192763, 121.433677),\n",
       " '虹桥路站': (31.203176, 121.428043),\n",
       " '延安西路站': (31.215772, 121.423577),\n",
       " '金沙江路站': (31.237991, 121.419507),\n",
       " '曹杨路站': (31.244676, 121.424411),\n",
       " '镇坪路站': (31.252819, 121.436864),\n",
       " '中潭路站': (31.260932, 121.447467),\n",
       " '宝山路站': (31.257393, 121.48291),\n",
       " '东宝兴路站': (31.265746, 121.486639),\n",
       " '虹口足球场站': (31.277482, 121.485651),\n",
       " '赤峰路站': (31.287038, 121.48899),\n",
       " '大柏树站': (31.295096, 121.489614),\n",
       " '江湾镇站': (31.310916, 121.491745),\n",
       " '殷高西路站': (31.325555, 121.49148),\n",
       " '长江南路站': (31.337669, 121.498185),\n",
       " '淞发路站': (31.350804, 121.50714),\n",
       " '张华浜站': (31.363646, 121.505376),\n",
       " '淞滨路站': (31.376563, 121.499387),\n",
       " '水产路站': (31.387092, 121.494702),\n",
       " '宝杨路站': (31.401287, 121.486126),\n",
       " '友谊路站': (31.40993, 121.48254),\n",
       " '铁力路站': (31.414309, 121.467842),\n",
       " '江杨北路站': (31.414218, 121.446217),\n",
       " '上海体育场站': (31.19218, 121.450248),\n",
       " '东安路站': (31.197304, 121.461153),\n",
       " '大木桥路站': (31.200222, 121.470166),\n",
       " '鲁班路站': (31.20494, 121.480988),\n",
       " '西藏南路站': (31.207689, 121.496079),\n",
       " '南浦大桥站': (31.214259, 121.506359),\n",
       " '塘桥站': (31.215407, 121.525353),\n",
       " '蓝村路站': (31.217627, 121.534381),\n",
       " '浦电路站': (31.229007, 121.538513),\n",
       " '浦东大道站': (31.245796, 121.526013),\n",
       " '杨树浦路站': (31.257681, 121.523944),\n",
       " '大连路站': (31.263959, 121.519428),\n",
       " '临平路站': (31.26658, 121.507604),\n",
       " '海伦路站': (31.264854, 121.495621),\n",
       " '春申路站': (31.103958, 121.392332),\n",
       " '银都路站': (31.095083, 121.396872),\n",
       " '颛桥站': (31.072842, 121.408435),\n",
       " '北桥站': (31.051134, 121.416485),\n",
       " '剑川路站': (31.032572, 121.422973),\n",
       " '东川路站': (31.024314, 121.426387),\n",
       " '江川路站': (31.011737, 121.429892),\n",
       " '西渡站': (30.99619, 121.440193),\n",
       " '萧塘站': (30.972266, 121.448398),\n",
       " '环城东路站': (30.937138, 121.470082),\n",
       " '望园路站': (30.937713, 121.490294),\n",
       " '金海湖站': (30.934607, 121.499044),\n",
       " '奉贤新城站': (30.919831, 121.502763),\n",
       " '金平路站': (31.017172, 121.416547),\n",
       " '华宁路站': (31.013097, 121.401623),\n",
       " '文井路站': (31.009181, 121.387328),\n",
       " '闵行开发区站': (31.006272, 121.376509),\n",
       " '东方体育中心站': (31.159351, 121.487012),\n",
       " '灵岩南路站': (31.154367, 121.50168),\n",
       " '上南路站': (31.154788, 121.512956),\n",
       " '华夏西路站': (31.15557, 121.521145),\n",
       " '高青路站': (31.165247, 121.52227),\n",
       " '东明路站': (31.178411, 121.518251),\n",
       " '高科西路站': (31.191269, 121.516417),\n",
       " '临沂新村站': (31.198949, 121.52308),\n",
       " '上海儿童医学中心站': (31.209399, 121.52979),\n",
       " '源深体育中心站': (31.239044, 121.540892),\n",
       " '民生路站': (31.242115, 121.549926),\n",
       " '北洋泾路站': (31.245588, 121.559229),\n",
       " '德平路站': (31.251659, 121.570573),\n",
       " '云山路站': (31.256659, 121.579314),\n",
       " '金桥路站': (31.263292, 121.588374),\n",
       " '博兴路站': (31.270058, 121.593414),\n",
       " '五莲路站': (31.278007, 121.59454),\n",
       " '巨峰路站': (31.286325, 121.595535),\n",
       " '东靖路站': (31.296804, 121.595327),\n",
       " '五洲大道站': (31.308625, 121.595846),\n",
       " '洲海路站': (31.318355, 121.595922),\n",
       " '外高桥保税区南站': (31.327186, 121.608806),\n",
       " '航津路站': (31.341305, 121.600539),\n",
       " '外高桥保税区北站': (31.353503, 121.593271),\n",
       " '港城路站': (31.359297, 121.581148),\n",
       " '美兰湖站': (31.407853, 121.356426),\n",
       " '罗南新村站': (31.394383, 121.364185),\n",
       " '潘广路站': (31.370198, 121.362293),\n",
       " '刘行站': (31.363427, 121.368889),\n",
       " '顾村公园站': (31.3502, 121.379599),\n",
       " '祁华路站': (31.328108, 121.38016),\n",
       " '上海大学站': (31.326259, 121.395296),\n",
       " '南陈路站': (31.327224, 121.405224),\n",
       " '上大路站': (31.321458, 121.414775),\n",
       " '场中路站': (31.309963, 121.420161),\n",
       " '大场镇站': (31.29971, 121.422947),\n",
       " '行知路站': (31.291225, 121.428059),\n",
       " '大华三路站': (31.280186, 121.429488),\n",
       " '新村路站': (31.270157, 121.429033),\n",
       " '岚皋路站': (31.262583, 121.428339),\n",
       " '长寿路站': (31.246718, 121.444762),\n",
       " '昌平路站': (31.240163, 121.449039),\n",
       " '肇嘉浜路站': (31.205392, 121.456463),\n",
       " '龙华中路站': (31.19094, 121.463344),\n",
       " '后滩站': (31.177884, 121.480035),\n",
       " '长清路站': (31.18033, 121.492645),\n",
       " '耀华路站': (31.184118, 121.501154),\n",
       " '云台路站': (31.187813, 121.507205),\n",
       " '杨高南路站': (31.193453, 121.531652),\n",
       " '锦绣路站': (31.193767, 121.546398),\n",
       " '芳华路站': (31.199531, 121.556478),\n",
       " '花木路站': (31.21757, 121.569227),\n",
       " '沈杜公路站': (31.067057, 121.518849),\n",
       " '联航路站': (31.079655, 121.51713),\n",
       " '江月路站': (31.089988, 121.515133),\n",
       " '浦江镇站': (31.102197, 121.512891),\n",
       " '芦恒路站': (31.124907, 121.504377),\n",
       " '凌兆新村站': (31.146696, 121.496279),\n",
       " '杨思站': (31.16671, 121.50029),\n",
       " '成山路站': (31.176811, 121.503259),\n",
       " '中华艺术宫站': (31.190935, 121.500283),\n",
       " '陆家浜路站': (31.217388, 121.492691),\n",
       " '老西门站': (31.224798, 121.49008),\n",
       " '大世界站': (31.233128, 121.485885),\n",
       " '曲阜路站': (31.248288, 121.478036),\n",
       " '中兴路站': (31.259035, 121.475411),\n",
       " '西藏北路站': (31.2694, 121.47525),\n",
       " '曲阳路站': (31.282122, 121.497039),\n",
       " '四平路站': (31.280778, 121.50817),\n",
       " '鞍山新村站': (31.278922, 121.516066),\n",
       " '江浦路站': (31.280818, 121.524804),\n",
       " '黄兴路站': (31.284573, 121.534441),\n",
       " '延吉中路站': (31.294724, 121.541405),\n",
       " '黄兴公园站': (31.301934, 121.539677),\n",
       " '翔殷路站': (31.311024, 121.538472),\n",
       " '嫩江路站': (31.320923, 121.538559),\n",
       " '市光路站': (31.328516, 121.538527),\n",
       " '曹路站': (31.277549, 121.689449),\n",
       " '民雷路站': (31.274649, 121.674609),\n",
       " '顾唐路站': (31.272188, 121.663),\n",
       " '金海路站': (31.269219, 121.645332),\n",
       " '金吉路站': (31.26994, 121.634401),\n",
       " '金桥站': (31.266889, 121.619064),\n",
       " '台儿庄路站': (31.258705, 121.603984),\n",
       " '蓝天路站': (31.247521, 121.584168),\n",
       " '芳甸路站': (31.237704, 121.56462),\n",
       " '杨高中路站': (31.233791, 121.555022),\n",
       " '商城路站': (31.236125, 121.52289),\n",
       " '小南门站': (31.222656, 121.504895),\n",
       " '马当路站': (31.215626, 121.483385),\n",
       " '打浦桥站': (31.212073, 121.475402),\n",
       " '嘉善路站': (31.208616, 121.467353),\n",
       " '桂林路站': (31.181001, 121.424982),\n",
       " '漕河泾开发区站': (31.17622, 121.404164),\n",
       " '合川路站': (31.172225, 121.391169),\n",
       " '星中路站': (31.163862, 121.375571),\n",
       " '七宝站': (31.161393, 121.356049),\n",
       " '中春路站': (31.155954, 121.344743),\n",
       " '九亭站': (31.143606, 121.32593),\n",
       " '泗泾站': (31.123976, 121.267259),\n",
       " '佘山站': (31.110609, 121.236257),\n",
       " '洞泾站': (31.090393, 121.237014),\n",
       " '松江大学城站': (31.061188, 121.239034),\n",
       " '松江新城站': (31.036209, 121.237259),\n",
       " '松江体育中心站': (31.022048, 121.237089),\n",
       " '醉白池站': (31.006987, 121.235829),\n",
       " '松江南站站': (30.989169, 121.236737),\n",
       " '新江湾城站': (31.334451, 121.513188),\n",
       " '殷高东路站': (31.327743, 121.513177),\n",
       " '三门路站': (31.318793, 121.514588),\n",
       " '江湾体育场站': (31.308746, 121.520633),\n",
       " '五角场站': (31.303805, 121.521191),\n",
       " '国权路站': (31.295351, 121.516744),\n",
       " '同济大学站': (31.288214, 121.51305),\n",
       " '邮电新村站': (31.274187, 121.500859),\n",
       " '四川北路站': (31.257732, 121.490774),\n",
       " '天潼路站': (31.250088, 121.488783),\n",
       " '豫园站': (31.234006, 121.4939),\n",
       " '新天地站': (31.221998, 121.481686),\n",
       " '上海图书馆站': (31.214439, 121.450771),\n",
       " '交通大学站': (31.208554, 121.440977),\n",
       " '宋园路站': (31.202693, 121.418434),\n",
       " '伊犁路站': (31.204634, 121.410671),\n",
       " '水城路站': (31.205074, 121.398444),\n",
       " '龙溪路站': (31.199878, 121.386467),\n",
       " '上海动物园站': (31.19602, 121.374583),\n",
       " '虹桥1号航站楼站': (31.197475, 121.3539),\n",
       " '龙柏新村站': (31.182886, 121.37699),\n",
       " '紫藤路站': (31.175533, 121.37097),\n",
       " '航中路站': (31.171619, 121.361249),\n",
       " '花桥站': (31.341458, 121.05221),\n",
       " '光明路站': (31.335981, 121.626326),\n",
       " '兆丰路站': (31.199297, 121.47391),\n",
       " '安亭站': (31.311158, 121.184836),\n",
       " '上海汽车城站': (31.291581, 121.18725),\n",
       " '昌吉东路站': (31.29994, 121.206771),\n",
       " '上海赛车场站': (31.337944, 121.232625),\n",
       " '嘉定北站': (31.397409, 121.24401),\n",
       " '嘉定西站': (31.383236, 121.234404),\n",
       " '白银路站': (31.351371, 121.251801),\n",
       " '嘉定新城站': (31.335744, 121.26104),\n",
       " '马陆站': (31.325402, 121.28343),\n",
       " '南翔站': (31.303357, 121.329747),\n",
       " '桃浦新村站': (31.287647, 121.355937),\n",
       " '武威路站': (31.282825, 121.371318),\n",
       " '祁连山路站': (31.277205, 121.382499),\n",
       " '李子园站': (31.274628, 121.396533),\n",
       " '上海西站站': (31.26863, 121.407439),\n",
       " '真如站': (31.256497, 121.413834),\n",
       " '枫桥路站': (31.248068, 121.41754),\n",
       " '隆德路站': (31.236733, 121.430026),\n",
       " '上海游泳馆站': (31.185365, 121.448026),\n",
       " '龙华站': (31.179259, 121.459229),\n",
       " '云锦路站': (31.17265, 121.464914),\n",
       " '龙耀路站': (31.166117, 121.466),\n",
       " '三林站': (31.148688, 121.517556),\n",
       " '三林东站': (31.152393, 121.529691),\n",
       " '浦三路站': (31.157148, 121.54554),\n",
       " '御桥站': (31.164498, 121.576153),\n",
       " '罗山路站': (31.159214, 121.599696),\n",
       " '秀沿路站': (31.143725, 121.605134),\n",
       " '康新公路站': (31.136033, 121.62383),\n",
       " '迪士尼站': (31.147665, 121.674752),\n",
       " '七莘路站': (31.137798, 121.369817),\n",
       " '虹莘路站': (31.142943, 121.38597),\n",
       " '顾戴路站': (31.146669, 121.398948),\n",
       " '东兰路站': (31.161467, 121.398339),\n",
       " '虹梅路站': (31.166073, 121.403932),\n",
       " '虹漕路站': (31.170066, 121.41697),\n",
       " '桂林公园站': (31.173038, 121.425093),\n",
       " '国际客运中心站': (31.255835, 121.504856),\n",
       " '提篮桥站': (31.259141, 121.51328),\n",
       " '江浦公园站': (31.270507, 121.530286),\n",
       " '宁国路站': (31.274769, 121.539069),\n",
       " '隆昌路站': (31.281332, 121.551485),\n",
       " '爱国路站': (31.286351, 121.559427),\n",
       " '复兴岛站': (31.28718, 121.567839),\n",
       " '东陆路站': (31.288712, 121.585248),\n",
       " '杨高北路站': (31.285853, 121.609423),\n",
       " '金京路站': (31.285413, 121.622205),\n",
       " '申江路站': (31.285855, 121.633793),\n",
       " '金运路站': (31.247368, 121.326035),\n",
       " '金沙江西路站': (31.247399, 121.341691),\n",
       " '丰庄站': (31.248368, 121.362183),\n",
       " '祁连山南路站': (31.24317, 121.374143),\n",
       " '真北路站': (31.237861, 121.388887),\n",
       " '大渡河路站': (31.237535, 121.401707),\n",
       " '武宁路站': (31.240291, 121.436675),\n",
       " '江宁路站': (31.250552, 121.450569),\n",
       " '自然博物馆站': (31.24239, 121.469049),\n",
       " '淮海中路站': (31.226198, 121.470677),\n",
       " '世博会博物馆站': (31.202606, 121.488515),\n",
       " '世博大道站': (31.188231, 121.490937),\n",
       " '华鹏路站': (31.182442, 121.533485),\n",
       " '下南路站': (31.185533, 121.546672),\n",
       " '北蔡站': (31.186467, 121.558763),\n",
       " '陈春路站': (31.181339, 121.564036),\n",
       " '莲溪路站': (31.175344, 121.572553),\n",
       " '华夏中路站': (31.181362, 121.588836),\n",
       " '中科路站': (31.184652, 121.609041),\n",
       " '学林路站': (31.189108, 121.620837),\n",
       " '张江路站': (31.194945, 121.635521),\n",
       " '滴水湖站': (30.9134, 121.935988),\n",
       " '临港大道站': (30.930355, 121.916745),\n",
       " '书院站': (30.965002, 121.85722),\n",
       " '惠南东站': (31.032886, 121.800261),\n",
       " '惠南站': (31.059659, 121.768452),\n",
       " '野生动物园站': (31.056406, 121.706186),\n",
       " '新场站': (31.051489, 121.655259),\n",
       " '航头东站': (31.060692, 121.624049),\n",
       " '鹤沙航城站': (31.083402, 121.617792),\n",
       " '周浦东站': (31.1158, 121.613533),\n",
       " '虹桥火车站': (31.200547, 121.326997),\n",
       " '漕盈路站': (31.166648, 121.10271),\n",
       " '三鲁公路站': (31.062031, 121.533465),\n",
       " '闵瑞路站': (31.054469, 121.536872),\n",
       " '浦航路站': (31.047041, 121.53709),\n",
       " '东城一路站': (31.036014, 121.538758),\n",
       " '汇臻路站': (31.031163, 121.531392),\n",
       " '诸光路站': (31.197876, 121.299641),\n",
       " '蟠龙路站': (31.192486, 121.285138),\n",
       " '徐盈路站': (31.183966, 121.260624),\n",
       " '徐泾北城站': (31.181269, 121.248372),\n",
       " '嘉松中路站': (31.170012, 121.231307),\n",
       " '赵巷站': (31.16745, 121.198722),\n",
       " '汇金路站': (31.16694, 121.158335),\n",
       " '青浦新城站': (31.164518, 121.131697),\n",
       " '淀山湖大道站': (31.140749, 121.088537),\n",
       " '朱家角站': (31.106624, 121.055824),\n",
       " '东方绿舟站': (31.10417, 121.026283)}"
      ]
     },
     "execution_count": 78,
     "metadata": {},
     "output_type": "execute_result"
    }
   ],
   "source": [
    "station_location"
   ]
  },
  {
   "cell_type": "code",
   "execution_count": 86,
   "metadata": {},
   "outputs": [
    {
     "data": {
      "image/png": "[encoded data removed]",
      "text/plain": [
       "<Figure size 432x288 with 1 Axes>"
      ]
     },
     "metadata": {},
     "output_type": "display_data"
    }
   ],
   "source": [
    "nx.draw(nx.Graph(create_subway_connection(subway_inf[4]['上海地铁5号线'])),station_location, with_labels=True, node_size=10)"
   ]
  },
  {
   "cell_type": "code",
   "execution_count": 87,
   "metadata": {},
   "outputs": [],
   "source": [
    "station_location_from_official ={}"
   ]
  },
  {
   "cell_type": "code",
   "execution_count": 88,
   "metadata": {},
   "outputs": [],
   "source": [
    "with open('staion_inf.js', 'r',encoding='utf-8') as f: \n",
    "    ss = 'start'\n",
    "    while(ss != ''):\n",
    "        ss = f.readline()\n",
    "        if ss.startswith('﻿var gis ='): \n",
    "            ss.replace('var gis = ', '')\n",
    "            gis = eval(ss.replace('﻿var gis =', ''))\n",
    "        if ss.startswith('var stations ='):      \n",
    "            station_tag= eval(ss.replace('var stations =',''))\n",
    "        "
   ]
  },
  {
   "cell_type": "code",
   "execution_count": 89,
   "metadata": {},
   "outputs": [
    {
     "data": {
      "text/plain": [
       "313"
      ]
     },
     "execution_count": 89,
     "metadata": {},
     "output_type": "execute_result"
    }
   ],
   "source": [
    "len(gis)"
   ]
  },
  {
   "cell_type": "code",
   "execution_count": 90,
   "metadata": {},
   "outputs": [
    {
     "data": {
      "text/plain": [
       "423"
      ]
     },
     "execution_count": 90,
     "metadata": {},
     "output_type": "execute_result"
    }
   ],
   "source": [
    "len(station_tag)"
   ]
  },
  {
   "cell_type": "code",
   "execution_count": 91,
   "metadata": {},
   "outputs": [],
   "source": [
    "station_test = {'莘庄站': (31.116917, 121.392129),\n",
    " '外环路站': (31.126655, 121.399619),\n",
    " '莲花路站': (31.136734, 121.409334),\n",
    " '锦江乐园站': (31.148347, 121.420556),\n",
    " '上海南站站': (31.160424, 121.436696)}\n",
    "\n",
    "stations_connection_test ={\n",
    "    '莘庄站':['外环路站'],\n",
    "    '外环路站':['莘庄站','莲花路站'],\n",
    "    '莲花路站':['外环路站','锦江乐园站'],\n",
    "    '上海南站站':['锦江乐园站']    \n",
    "}"
   ]
  },
  {
   "cell_type": "code",
   "execution_count": 92,
   "metadata": {},
   "outputs": [
    {
     "data": {
      "image/png": "[encoded data removed]",
      "text/plain": [
       "<Figure size 432x288 with 1 Axes>"
      ]
     },
     "metadata": {},
     "output_type": "display_data"
    }
   ],
   "source": [
    "nx.draw(nx.Graph(stations_connection_test),station_test,with_labels=True, node_size=10)"
   ]
  },
  {
   "cell_type": "code",
   "execution_count": 93,
   "metadata": {},
   "outputs": [],
   "source": [
    "#stations_connection_all"
   ]
  },
  {
   "cell_type": "code",
   "execution_count": 94,
   "metadata": {},
   "outputs": [
    {
     "data": {
      "image/png": "[encoded data removed]",
      "text/plain": [
       "<Figure size 432x288 with 1 Axes>"
      ]
     },
     "metadata": {},
     "output_type": "display_data"
    }
   ],
   "source": [
    "nx.draw(nx.Graph(stations_connection_all),with_labels=False, node_size=10)"
   ]
  },
  {
   "cell_type": "code",
   "execution_count": 95,
   "metadata": {},
   "outputs": [
    {
     "data": {
      "image/png": "[encoded data removed]",
      "text/plain": [
       "<Figure size 432x288 with 1 Axes>"
      ]
     },
     "metadata": {},
     "output_type": "display_data"
    }
   ],
   "source": [
    "nx.draw(nx.Graph(stations_connection_all),station_location,with_labels=False, node_size=5)"
   ]
  },
  {
   "cell_type": "code",
   "execution_count": 96,
   "metadata": {},
   "outputs": [
    {
     "data": {
      "text/plain": [
       "{'上海地铁17号线': ['虹桥火车站站',\n",
       "  '诸光路站',\n",
       "  '蟠龙路站',\n",
       "  '徐盈路站',\n",
       "  '徐泾北城站',\n",
       "  '嘉松中路站',\n",
       "  '赵巷站',\n",
       "  '汇金路站',\n",
       "  '青浦新城站',\n",
       "  '漕盈路站',\n",
       "  '淀山湖大道站',\n",
       "  '朱家角站',\n",
       "  '东方绿舟站']}"
      ]
     },
     "execution_count": 96,
     "metadata": {},
     "output_type": "execute_result"
    }
   ],
   "source": [
    "subway_inf[14]"
   ]
  },
  {
   "cell_type": "code",
   "execution_count": 97,
   "metadata": {},
   "outputs": [],
   "source": [
    "#create_subway_connection(subway_inf[4]['上海地铁5号线'])"
   ]
  },
  {
   "cell_type": "code",
   "execution_count": 98,
   "metadata": {},
   "outputs": [
    {
     "data": {
      "text/plain": [
       "['虹桥2号航站楼站', '徐泾东站', '诸光路站']"
      ]
     },
     "execution_count": 98,
     "metadata": {},
     "output_type": "execute_result"
    }
   ],
   "source": [
    "stations_connection_all[\"虹桥火车站站\"]"
   ]
  },
  {
   "cell_type": "markdown",
   "metadata": {},
   "source": [
    "#### Build Search agent"
   ]
  },
  {
   "cell_type": "code",
   "execution_count": 99,
   "metadata": {},
   "outputs": [],
   "source": [
    "def search(start, destination, connection_grpah, sort_candidate, by_the_way =[]):\n",
    "    #默认算法一定要是广度优先，这样sort_candidate的策略才能有效发挥，默认是深度优先的话容易一条路走到黑，\n",
    "    #排序算法发挥不了作用，反而起到反效果\n",
    "    pathes = [[start]]  #每走一步都添加一个新的路径\n",
    "    \n",
    "    visitied = set()\n",
    "    \n",
    "    while pathes: # if we find existing pathes\n",
    "        path = pathes.pop(0)   #获取当前要访问的路径, 控制深度 广度path = pathes.pop()则变成深度优先 \n",
    "        froninter = path[-1]   #获取当前达到的节点\n",
    "        \n",
    "        if froninter in visitied: continue\n",
    "            \n",
    "        successors = connection_grpah[froninter]  #获取当前节点的所有连接节点\n",
    "        #print('当前访问节点：', froninter)\n",
    "       # print('当前节点邻接节点: ', successors)\n",
    "        for city in successors:\n",
    "            if city in path: continue  # eliminate loop 防止环形,也防止重复访问,和city in visitied有同样效果\n",
    "                \n",
    "            new_path = path + [city]\n",
    "            \n",
    "            pathes.append(new_path)\n",
    "            \n",
    "            if city == destination: return new_path\n",
    "        \n",
    "        visitied.add(froninter)\n",
    "        \n",
    "        if by_the_way==[]:          \n",
    "            pathes = sort_candidate(pathes) # 搜索策略控制\n",
    "        else:\n",
    "            pathes = sort_candidate(pathes, by_the_way)\n",
    "        #print('sorted', pathes , '\\n')"
   ]
  },
  {
   "cell_type": "code",
   "execution_count": 100,
   "metadata": {},
   "outputs": [],
   "source": [
    "def transfer_stations_first(pathes): \n",
    "    return sorted(pathes, key=len)"
   ]
  },
  {
   "cell_type": "code",
   "execution_count": 101,
   "metadata": {},
   "outputs": [],
   "source": [
    "def transfer_as_much_possible(pathes):\n",
    "    return sorted(pathes, key=len, reverse=True)"
   ]
  },
  {
   "cell_type": "code",
   "execution_count": 102,
   "metadata": {},
   "outputs": [],
   "source": [
    "def pretty_print(station):\n",
    "    print(len(station))\n",
    "    print('🚗->'.join(station))"
   ]
  },
  {
   "cell_type": "code",
   "execution_count": 103,
   "metadata": {},
   "outputs": [
    {
     "name": "stdout",
     "output_type": "stream",
     "text": [
      "23\n",
      "环城东路站🚗->萧塘站🚗->西渡站🚗->江川路站🚗->东川路站🚗->剑川路站🚗->北桥站🚗->颛桥站🚗->银都路站🚗->春申路站🚗->莘庄站🚗->外环路站🚗->莲花路站🚗->锦江乐园站🚗->上海南站站🚗->漕宝路站🚗->上海体育馆站🚗->徐家汇站🚗->衡山路站🚗->常熟路站🚗->陕西南路站🚗->黄陂南路站🚗->人民广场站\n"
     ]
    }
   ],
   "source": [
    "pretty_print(search('环城东路站', '人民广场站', stations_connection_all, sort_candidate=transfer_stations_first))"
   ]
  },
  {
   "cell_type": "code",
   "execution_count": 104,
   "metadata": {},
   "outputs": [
    {
     "data": {
      "text/plain": [
       "['环城东路站',\n",
       " '萧塘站',\n",
       " '西渡站',\n",
       " '江川路站',\n",
       " '东川路站',\n",
       " '剑川路站',\n",
       " '北桥站',\n",
       " '颛桥站',\n",
       " '银都路站',\n",
       " '春申路站',\n",
       " '莘庄站',\n",
       " '外环路站',\n",
       " '莲花路站',\n",
       " '锦江乐园站',\n",
       " '上海南站站',\n",
       " '漕宝路站',\n",
       " '上海体育馆站',\n",
       " '徐家汇站',\n",
       " '衡山路站',\n",
       " '常熟路站',\n",
       " '陕西南路站',\n",
       " '黄陂南路站',\n",
       " '人民广场站']"
      ]
     },
     "execution_count": 104,
     "metadata": {},
     "output_type": "execute_result"
    }
   ],
   "source": [
    "ss = search('环城东路站', '人民广场站', stations_connection_all, sort_candidate=transfer_stations_first)\n",
    "ss"
   ]
  },
  {
   "cell_type": "markdown",
   "metadata": {},
   "source": [
    "# （Optional）Create different policies for transfer system.\n"
   ]
  },
  {
   "cell_type": "code",
   "execution_count": 105,
   "metadata": {},
   "outputs": [],
   "source": [
    "def Sortest_Path_first(pathes):\n",
    "    return sorted(pathes, key=len)"
   ]
  },
  {
   "cell_type": "code",
   "execution_count": 106,
   "metadata": {},
   "outputs": [],
   "source": [
    "#计算换乘信息\n",
    "def tansfer_calcu(path):\n",
    "    transfer = []\n",
    "    previous = None #上一个站的标识\n",
    "    pre_line = None\n",
    "    current_line = None  #当前地铁号\n",
    "    pre_station  = None\n",
    "    current_flag = -1\n",
    "    for _a, station in enumerate(path):\n",
    "        if previous:\n",
    "            current_line = [x for x in previous if x in stations_tag[station]][0] #获取两站标识的交集\n",
    "           # print(current_line)\n",
    "            if current_line!= pre_line:\n",
    "                transfer.append([current_line,[pre_station]])\n",
    "                current_flag += 1\n",
    "                pre_line = current_line\n",
    "            transfer[current_flag][1]  +=  [station]          \n",
    "            \n",
    "        previous = stations_tag[station]\n",
    "        pre_station = station\n",
    "        \n",
    "    return transfer "
   ]
  },
  {
   "cell_type": "code",
   "execution_count": 107,
   "metadata": {},
   "outputs": [],
   "source": [
    "nn = ['22',[]]"
   ]
  },
  {
   "cell_type": "code",
   "execution_count": 108,
   "metadata": {},
   "outputs": [
    {
     "data": {
      "text/plain": [
       "['上海地铁4号线']"
      ]
     },
     "execution_count": 108,
     "metadata": {},
     "output_type": "execute_result"
    }
   ],
   "source": [
    "stations_tag['上海体育场站']"
   ]
  },
  {
   "cell_type": "code",
   "execution_count": 109,
   "metadata": {},
   "outputs": [],
   "source": [
    "def Minimum_Transfer_Priority(pathes):  \n",
    "    '''1. 该算法可能会使得最小次数换乘次数与实际不符，\n",
    "    因为最后一个站如果成功会直接搜索函数会直接返回,\n",
    "    如果最后这个站换乘了，那么导致换乘次数+1,如何解决该问题？\n",
    "    2. 该算法在一定程度上变成来深度优先算法！一条道走到黑，所以\n",
    "    换乘数量少，导致实际效果并不理想'''\n",
    "    if len(pathes) <= 1: return pathes\n",
    "    \n",
    "    def tansfer_calcu(path):\n",
    "        transfer = [] \n",
    "        previous = None #上一个站的标识\n",
    "        previous_line = None #上一个地铁号\n",
    "        current_line = None \n",
    "        for i in path:\n",
    "            if previous:\n",
    "                current_line = [x for x in previous if x in stations_tag[i]][0] #获取两站标识的交集                 \n",
    "            if previous_line != current_line:\n",
    "                transfer.append(current_line)\n",
    "                previous_line = current_line\n",
    "            previous = stations_tag[i]            \n",
    "        return len(transfer)  \n",
    "    \n",
    "    return sorted(pathes, key=tansfer_calcu)"
   ]
  },
  {
   "cell_type": "code",
   "execution_count": 110,
   "metadata": {},
   "outputs": [],
   "source": [
    "def tansfer_calcu_test(path):\n",
    "    transfer = [] \n",
    "    previous = None #上一个站的标识\n",
    "    previous_line = None #上一个地铁号\n",
    "    current_line = None \n",
    "    for i in path:\n",
    "        if previous:\n",
    "            current_line = [x for x in previous if x in stations_tag[i]][0] #获取两站标识的交集                 \n",
    "        if previous_line != current_line:\n",
    "            transfer.append(current_line)\n",
    "            previous_line = current_line\n",
    "        previous = stations_tag[i]            \n",
    "    return len(transfer)  "
   ]
  },
  {
   "cell_type": "code",
   "execution_count": 111,
   "metadata": {},
   "outputs": [],
   "source": [
    "def pretty_print_improve(station):\n",
    "    print(len(station))\n",
    "    tansfer_info = tansfer_calcu(station)\n",
    "    for i in tansfer_info:\n",
    "        print(i[0][4:]+':','🚗->'.join(i[1]))"
   ]
  },
  {
   "cell_type": "code",
   "execution_count": 112,
   "metadata": {},
   "outputs": [],
   "source": [
    "ss = search('环城东路站', '陆家浜路站', stations_connection_all, sort_candidate= Minimum_Transfer_Priority)"
   ]
  },
  {
   "cell_type": "code",
   "execution_count": 113,
   "metadata": {},
   "outputs": [
    {
     "data": {
      "text/plain": [
       "4"
      ]
     },
     "execution_count": 113,
     "metadata": {},
     "output_type": "execute_result"
    }
   ],
   "source": [
    "tansfer_calcu_test(ss)"
   ]
  },
  {
   "cell_type": "code",
   "execution_count": 114,
   "metadata": {},
   "outputs": [],
   "source": [
    "ssss  = search('环城东路站', '人民广场站', stations_connection_all, sort_candidate=Minimum_Transfer_Priority)"
   ]
  },
  {
   "cell_type": "code",
   "execution_count": 115,
   "metadata": {},
   "outputs": [
    {
     "name": "stdout",
     "output_type": "stream",
     "text": [
      "23\n",
      "5号线: 环城东路站🚗->萧塘站🚗->西渡站🚗->江川路站🚗->东川路站🚗->剑川路站🚗->北桥站🚗->颛桥站🚗->银都路站🚗->春申路站🚗->莘庄站\n",
      "1号线: 莘庄站🚗->外环路站🚗->莲花路站🚗->锦江乐园站🚗->上海南站站🚗->漕宝路站🚗->上海体育馆站🚗->徐家汇站🚗->衡山路站🚗->常熟路站🚗->陕西南路站🚗->黄陂南路站🚗->人民广场站\n"
     ]
    }
   ],
   "source": [
    "pretty_print_improve(search('环城东路站', '人民广场站', stations_connection_all, sort_candidate=Minimum_Transfer_Priority))"
   ]
  },
  {
   "cell_type": "code",
   "execution_count": 116,
   "metadata": {},
   "outputs": [],
   "source": [
    "#stations_tag"
   ]
  },
  {
   "cell_type": "code",
   "execution_count": 117,
   "metadata": {},
   "outputs": [],
   "source": [
    "def Comprehensive_Priority(pathes):\n",
    "    #取路径短的前两位 进行换乘次数排序\n",
    "    new_pathes = Sortest_Path_first(pathes)\n",
    "    if len(new_pathes)> 2:\n",
    "        final_pathes = Minimum_Transfer_Priority(new_pathes[:2])+ new_pathes[2:]\n",
    "    return final_pathes"
   ]
  },
  {
   "cell_type": "code",
   "execution_count": 118,
   "metadata": {},
   "outputs": [],
   "source": [
    "def By_the_Way(pathes, by_the_way):\n",
    "    '''有一定局限性，当遍历到目标节点，而另一条路线还为到达by_the_way的点\n",
    "    时，会出现不同by_the_way的点的情况\n",
    "    '''   \n",
    "    if len(pathes) <= 1: return pathes\n",
    "    \n",
    "    fit_status = []\n",
    "    for path in pathes:\n",
    "        fit = [i for i in path if i in by_the_way]\n",
    "        #print(fit)\n",
    "        fit_status.append(len(fit))\n",
    "    new_pathes_array = list(zip(pathes,fit_status))\n",
    "    new_pathes_array = sorted(new_pathes_array, key=lambda x:x[1], reverse=True)\n",
    "    new_pathes = list(list(zip(*new_pathes_array))[0])\n",
    "    return new_pathes"
   ]
  },
  {
   "cell_type": "code",
   "execution_count": 119,
   "metadata": {},
   "outputs": [],
   "source": [
    "ss = [1,3,4,5,5]\n",
    "ss.reverse()"
   ]
  },
  {
   "cell_type": "code",
   "execution_count": 120,
   "metadata": {},
   "outputs": [],
   "source": [
    "ss = search('环城东路站', '陆家浜路站', stations_connection_all, sort_candidate= Minimum_Transfer_Priority)"
   ]
  },
  {
   "cell_type": "code",
   "execution_count": 121,
   "metadata": {},
   "outputs": [],
   "source": [
    "tt = search('环城东路站', '人民广场站', stations_connection_all, sort_candidate=By_the_Way,by_the_way=['上海体育场站'])"
   ]
  },
  {
   "cell_type": "code",
   "execution_count": 122,
   "metadata": {},
   "outputs": [
    {
     "data": {
      "text/plain": [
       "['环城东路站',\n",
       " '萧塘站',\n",
       " '西渡站',\n",
       " '江川路站',\n",
       " '东川路站',\n",
       " '剑川路站',\n",
       " '北桥站',\n",
       " '颛桥站',\n",
       " '银都路站',\n",
       " '春申路站',\n",
       " '莘庄站',\n",
       " '外环路站',\n",
       " '莲花路站',\n",
       " '锦江乐园站',\n",
       " '上海南站站',\n",
       " '漕宝路站',\n",
       " '上海体育馆站',\n",
       " '上海体育场站',\n",
       " '东安路站',\n",
       " '大木桥路站',\n",
       " '嘉善路站',\n",
       " '陕西南路站',\n",
       " '黄陂南路站',\n",
       " '人民广场站']"
      ]
     },
     "execution_count": 122,
     "metadata": {},
     "output_type": "execute_result"
    }
   ],
   "source": [
    "tt"
   ]
  },
  {
   "cell_type": "code",
   "execution_count": 123,
   "metadata": {},
   "outputs": [
    {
     "data": {
      "text/plain": [
       "[['上海地铁5号线',\n",
       "  ['环城东路站',\n",
       "   '萧塘站',\n",
       "   '西渡站',\n",
       "   '江川路站',\n",
       "   '东川路站',\n",
       "   '剑川路站',\n",
       "   '北桥站',\n",
       "   '颛桥站',\n",
       "   '银都路站',\n",
       "   '春申路站',\n",
       "   '莘庄站']],\n",
       " ['上海地铁1号线', ['莘庄站', '外环路站', '莲花路站', '锦江乐园站', '上海南站站', '漕宝路站', '上海体育馆站']],\n",
       " ['上海地铁4号线', ['上海体育馆站', '上海体育场站', '东安路站', '大木桥路站']],\n",
       " ['上海地铁12号线', ['大木桥路站', '嘉善路站', '陕西南路站']],\n",
       " ['上海地铁1号线', ['陕西南路站', '黄陂南路站', '人民广场站']]]"
      ]
     },
     "execution_count": 123,
     "metadata": {},
     "output_type": "execute_result"
    }
   ],
   "source": [
    "tansfer_calcu(tt)"
   ]
  },
  {
   "cell_type": "code",
   "execution_count": 124,
   "metadata": {},
   "outputs": [
    {
     "name": "stdout",
     "output_type": "stream",
     "text": [
      "27\n",
      "5号线: 环城东路站🚗->萧塘站🚗->西渡站🚗->江川路站🚗->东川路站🚗->剑川路站🚗->北桥站🚗->颛桥站🚗->银都路站🚗->春申路站🚗->莘庄站\n",
      "1号线: 莘庄站🚗->外环路站🚗->莲花路站🚗->锦江乐园站🚗->上海南站站🚗->漕宝路站🚗->上海体育馆站\n",
      "4号线: 上海体育馆站🚗->上海体育场站🚗->东安路站🚗->大木桥路站\n",
      "12号线: 大木桥路站🚗->嘉善路站\n",
      "9号线: 嘉善路站🚗->打浦桥站🚗->马当路站🚗->陆家浜路站\n",
      "8号线: 陆家浜路站🚗->老西门站🚗->大世界站🚗->人民广场站\n"
     ]
    }
   ],
   "source": [
    "pretty_print_improve(search('环城东路站', '人民广场站', stations_connection_all, sort_candidate=By_the_Way,by_the_way=['东安路站','马当路站']))"
   ]
  },
  {
   "cell_type": "code",
   "execution_count": 125,
   "metadata": {},
   "outputs": [
    {
     "name": "stdout",
     "output_type": "stream",
     "text": [
      "23\n",
      "5号线: 环城东路站🚗->萧塘站🚗->西渡站🚗->江川路站🚗->东川路站🚗->剑川路站🚗->北桥站🚗->颛桥站🚗->银都路站🚗->春申路站🚗->莘庄站\n",
      "1号线: 莘庄站🚗->外环路站🚗->莲花路站🚗->锦江乐园站🚗->上海南站站🚗->漕宝路站🚗->上海体育馆站🚗->徐家汇站🚗->衡山路站🚗->常熟路站🚗->陕西南路站🚗->黄陂南路站🚗->人民广场站\n"
     ]
    }
   ],
   "source": [
    "pretty_print_improve(search('环城东路站', '人民广场站', stations_connection_all, sort_candidate=Sortest_Path_first))"
   ]
  },
  {
   "cell_type": "markdown",
   "metadata": {},
   "source": [
    "以下情况原因分析,因为在徐家汇站的时候Sortest_Path_first换乘了,故Minimum_Transfer_Priority算法根据排序结果会选择新路线,但是\n",
    "\n",
    "新路线走到**陕西南路站**时候进行排序的时候(此时1号线已经走到头走完了,现在是返回到原来的点)和 原来徐家汇站的那条路线处于同等优先级别, 但徐家汇站的那条路线已经被排到后面来,所以\n",
    "\n",
    "继续沿着**陕西南路站**当走到**老西门**站时候往下走 ,还没来得及排序就找到了终点站,直接返回了。如何解决该问题？？"
   ]
  },
  {
   "cell_type": "code",
   "execution_count": 126,
   "metadata": {},
   "outputs": [
    {
     "name": "stdout",
     "output_type": "stream",
     "text": [
      "23\n",
      "5号线: 环城东路站🚗->萧塘站🚗->西渡站🚗->江川路站🚗->东川路站🚗->剑川路站🚗->北桥站🚗->颛桥站🚗->银都路站🚗->春申路站🚗->莘庄站\n",
      "1号线: 莘庄站🚗->外环路站🚗->莲花路站🚗->锦江乐园站🚗->上海南站站🚗->漕宝路站🚗->上海体育馆站🚗->徐家汇站\n",
      "9号线: 徐家汇站🚗->肇嘉浜路站🚗->嘉善路站🚗->打浦桥站🚗->马当路站🚗->陆家浜路站\n"
     ]
    }
   ],
   "source": [
    "pretty_print_improve(search('环城东路站', '陆家浜路站', stations_connection_all, sort_candidate=Sortest_Path_first))"
   ]
  },
  {
   "cell_type": "code",
   "execution_count": 127,
   "metadata": {},
   "outputs": [
    {
     "name": "stdout",
     "output_type": "stream",
     "text": [
      "24\n",
      "5号线: 环城东路站🚗->萧塘站🚗->西渡站🚗->江川路站🚗->东川路站🚗->剑川路站🚗->北桥站🚗->颛桥站🚗->银都路站🚗->春申路站🚗->莘庄站\n",
      "1号线: 莘庄站🚗->外环路站🚗->莲花路站🚗->锦江乐园站🚗->上海南站站🚗->漕宝路站🚗->上海体育馆站🚗->徐家汇站🚗->衡山路站🚗->常熟路站🚗->陕西南路站\n",
      "10号线: 陕西南路站🚗->新天地站🚗->老西门站\n",
      "8号线: 老西门站🚗->陆家浜路站\n"
     ]
    }
   ],
   "source": [
    "pretty_print_improve(search('环城东路站', '陆家浜路站', stations_connection_all, sort_candidate= Minimum_Transfer_Priority))"
   ]
  },
  {
   "cell_type": "code",
   "execution_count": null,
   "metadata": {},
   "outputs": [],
   "source": [
    "ss = list(zip([[22,33,44],[11,55],[77,88]],[4,5,6]))"
   ]
  },
  {
   "cell_type": "code",
   "execution_count": null,
   "metadata": {},
   "outputs": [],
   "source": [
    "ss = [[1,2,3],[3,5,5],[4,4,4],[5,5,5]]\n"
   ]
  },
  {
   "cell_type": "code",
   "execution_count": null,
   "metadata": {},
   "outputs": [],
   "source": [
    "sorted(ss, key = lambda x: x[2])"
   ]
  },
  {
   "cell_type": "code",
   "execution_count": null,
   "metadata": {},
   "outputs": [],
   "source": [
    "list(zip(*ss))"
   ]
  },
  {
   "cell_type": "markdown",
   "metadata": {},
   "source": [
    "As much as you can to use the already implemented search agent. You just need to define the **is_goal()**, **get_successor()**, **strategy()** three functions. \n",
    "\n",
    "> a.\tDefine different policies for transfer system. \n",
    "\n",
    "> b.\tSuch as Shortest Path Priority（路程最短优先）, Minimum Transfer Priority(最少换乘优先), Comprehensive Priority(综合优先)\n",
    "\n",
    "> c.\tImplement Continuous transfer. Based on the Agent you implemented, please add this feature: Besides the @param start and @param destination two stations, add some more stations, we called @param by_way, it means, our path should from the start and end, but also include the  @param by_way stations. \n",
    "\n",
    "e.g \n",
    "```\n",
    "1. Input:  start=A,  destination=B, by_way=[C] \n",
    "    Output: [A, … .., C, …. B]\n",
    "2. Input: start=A, destination=B, by_way=[C, D, E]\n",
    "    Output: [A … C … E … D … B]  \n",
    "    # based on your policy, the E station could be reached firstly. \n",
    "![image.png](attachment:image.png)\n",
    "```"
   ]
  },
  {
   "cell_type": "markdown",
   "metadata": {},
   "source": [
    "##### 5.\tTest your result with commercial applications. \n",
    "\n",
    "将你的结果和高德地图或者百度地图进行比较，如果有不同，请分析原因\n"
   ]
  },
  {
   "cell_type": "markdown",
   "metadata": {},
   "source": [
    "Ans：路程最短优先和by_the_way策略实际效果还可以，最少换乘算法效果不理想，因为最少换乘算法实现是根据当前换乘数来排序，容易一条路走到黑，类似深度优先算法了,有待进一步优化"
   ]
  },
  {
   "cell_type": "markdown",
   "metadata": {},
   "source": [
    "![](https://timgsa.baidu.com/timg?image&quality=80&size=b9999_10000&sec=1562415163815&di=4b29a2a863a8285212033760f288ed7a&imgtype=0&src=http%3A%2F%2F5b0988e595225.cdn.sohucs.com%2Fimages%2F20180710%2F8704194a1d7f46a383ddc29d40c9bca5.jpeg)"
   ]
  }
 ],
 "metadata": {
  "kernelspec": {
   "display_name": "Python 3",
   "language": "python",
   "name": "python3"
  },
  "language_info": {
   "codemirror_mode": {
    "name": "ipython",
    "version": 3
   },
   "file_extension": ".py",
   "mimetype": "text/x-python",
   "name": "python",
   "nbconvert_exporter": "python",
   "pygments_lexer": "ipython3",
   "version": "3.7.1"
  },
  "toc": {
   "base_numbering": 1,
   "nav_menu": {},
   "number_sections": true,
   "sideBar": true,
   "skip_h1_title": false,
   "title_cell": "Table of Contents",
   "title_sidebar": "Contents",
   "toc_cell": false,
   "toc_position": {},
   "toc_section_display": true,
   "toc_window_display": false
  }
 },
 "nbformat": 4,
 "nbformat_minor": 2
}
