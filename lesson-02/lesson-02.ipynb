{
 "cells": [
  {
   "cell_type": "markdown",
   "metadata": {},
   "source": [
    "## Search Based Problem Solving"
   ]
  },
  {
   "cell_type": "markdown",
   "metadata": {},
   "source": [
    "#### 我们根据中国的城市，做一个简易版的导航地图"
   ]
  },
  {
   "cell_type": "markdown",
   "metadata": {},
   "source": [
    "## 问题描述\n",
    "\n",
    "大家好，我们在用 networkx 显示中文的时候，会发现不能显示中文。 \n",
    "\n",
    "## 解决办法\n",
    "\n",
    "1. 下载附件中的字体； \n",
    "2. 在 jupyter notebook 中执行\n",
    "```python\n",
    "import matplotlib\n",
    "print(matplotlib.__path__)\n",
    "```\n",
    "找到 matplotlib 的路径，然后 cd 到这个路径。 cd 到这个路径之后，继续 cd，cd 到 mpl-data/fonts/ttf 这个路径。 然后把 `DejaVuSans.ttf` 这个文件换成我们刚刚下在的文件。 \n",
    "\n",
    "```bash\n",
    "$ mv SimHei.ttf DejaVuSans.ttf\n",
    "```\n",
    "\n",
    "其中，用到的 ttf 字体。 我给大家传到附件上了。 "
   ]
  },
  {
   "cell_type": "markdown",
   "metadata": {},
   "source": [
    "Previous Course"
   ]
  },
  {
   "cell_type": "markdown",
   "metadata": {},
   "source": [
    "1. What's the language model? OOV problem? \n",
    "2. Syntax Tree. lambda "
   ]
  },
  {
   "cell_type": "markdown",
   "metadata": {},
   "source": [
    "$$ pr(w) $$"
   ]
  },
  {
   "cell_type": "markdown",
   "metadata": {},
   "source": [
    "## Out of Vocabulary(OOV)"
   ]
  },
  {
   "cell_type": "markdown",
   "metadata": {},
   "source": [
    "Pr(w_o) = constant < Pr(w_1)"
   ]
  },
  {
   "cell_type": "markdown",
   "metadata": {},
   "source": [
    "## Language Model: Smooth"
   ]
  },
  {
   "cell_type": "markdown",
   "metadata": {},
   "source": [
    "## Search Policy"
   ]
  },
  {
   "cell_type": "code",
   "execution_count": 1,
   "metadata": {},
   "outputs": [
    {
     "name": "stdout",
     "output_type": "stream",
     "text": [
      "['D:\\\\Design Software\\\\Anaconda\\\\lib\\\\site-packages\\\\matplotlib']\n"
     ]
    }
   ],
   "source": [
    "import matplotlib\n",
    "print(matplotlib.__path__)"
   ]
  },
  {
   "cell_type": "code",
   "execution_count": 2,
   "metadata": {},
   "outputs": [],
   "source": [
    "coordination_source = \"\"\"\n",
    "{name:'兰州', geoCoord:[103.73, 36.03]},\n",
    "{name:'嘉峪关', geoCoord:[98.17, 39.47]},\n",
    "{name:'西宁', geoCoord:[101.74, 36.56]},\n",
    "{name:'成都', geoCoord:[104.06, 30.67]},\n",
    "{name:'石家庄', geoCoord:[114.48, 38.03]},\n",
    "{name:'拉萨', geoCoord:[102.73, 25.04]},\n",
    "{name:'贵阳', geoCoord:[106.71, 26.57]},\n",
    "{name:'武汉', geoCoord:[114.31, 30.52]},\n",
    "{name:'郑州', geoCoord:[113.65, 34.76]},\n",
    "{name:'济南', geoCoord:[117, 36.65]},\n",
    "{name:'南京', geoCoord:[118.78, 32.04]},\n",
    "{name:'合肥', geoCoord:[117.27, 31.86]},\n",
    "{name:'杭州', geoCoord:[120.19, 30.26]},\n",
    "{name:'南昌', geoCoord:[115.89, 28.68]},\n",
    "{name:'福州', geoCoord:[119.3, 26.08]},\n",
    "{name:'广州', geoCoord:[113.23, 23.16]},\n",
    "{name:'长沙', geoCoord:[113, 28.21]},\n",
    "//{name:'海口', geoCoord:[110.35, 20.02]},\n",
    "{name:'沈阳', geoCoord:[123.38, 41.8]},\n",
    "{name:'长春', geoCoord:[125.35, 43.88]},\n",
    "{name:'哈尔滨', geoCoord:[126.63, 45.75]},\n",
    "{name:'太原', geoCoord:[112.53, 37.87]},\n",
    "{name:'西安', geoCoord:[108.95, 34.27]},\n",
    "//{name:'台湾', geoCoord:[121.30, 25.03]},\n",
    "{name:'北京', geoCoord:[116.46, 39.92]},\n",
    "{name:'上海', geoCoord:[121.48, 31.22]},\n",
    "{name:'重庆', geoCoord:[106.54, 29.59]},\n",
    "{name:'天津', geoCoord:[117.2, 39.13]},\n",
    "{name:'呼和浩特', geoCoord:[111.65, 40.82]},\n",
    "{name:'南宁', geoCoord:[108.33, 22.84]},\n",
    "//{name:'西藏', geoCoord:[91.11, 29.97]},\n",
    "{name:'银川', geoCoord:[106.27, 38.47]},\n",
    "{name:'乌鲁木齐', geoCoord:[87.68, 43.77]},\n",
    "{name:'香港', geoCoord:[114.17, 22.28]},\n",
    "{name:'澳门', geoCoord:[113.54, 22.19]}\n",
    "\"\"\""
   ]
  },
  {
   "cell_type": "code",
   "execution_count": 3,
   "metadata": {},
   "outputs": [],
   "source": [
    "import networkx as nx"
   ]
  },
  {
   "cell_type": "code",
   "execution_count": 4,
   "metadata": {},
   "outputs": [],
   "source": [
    "import re"
   ]
  },
  {
   "cell_type": "code",
   "execution_count": 5,
   "metadata": {},
   "outputs": [],
   "source": [
    "ss = \"{name:'澳门',name:'heihehie' geoCoord:[113.54, 22.19]}\""
   ]
  },
  {
   "cell_type": "code",
   "execution_count": 6,
   "metadata": {},
   "outputs": [],
   "source": [
    "city = re.findall(\"name:'(\\w+)'\", ss)"
   ]
  },
  {
   "cell_type": "code",
   "execution_count": 7,
   "metadata": {},
   "outputs": [
    {
     "data": {
      "text/plain": [
       "list"
      ]
     },
     "execution_count": 7,
     "metadata": {},
     "output_type": "execute_result"
    }
   ],
   "source": [
    "type(city)"
   ]
  },
  {
   "cell_type": "code",
   "execution_count": 8,
   "metadata": {},
   "outputs": [],
   "source": [
    "city_location = {}\n"
   ]
  },
  {
   "cell_type": "code",
   "execution_count": 9,
   "metadata": {},
   "outputs": [
    {
     "name": "stdout",
     "output_type": "stream",
     "text": [
      "兰州 (103.73, 36.03)\n",
      "嘉峪关 (98.17, 39.47)\n",
      "西宁 (101.74, 36.56)\n",
      "成都 (104.06, 30.67)\n",
      "石家庄 (114.48, 38.03)\n",
      "拉萨 (102.73, 25.04)\n",
      "贵阳 (106.71, 26.57)\n",
      "武汉 (114.31, 30.52)\n",
      "郑州 (113.65, 34.76)\n",
      "济南 (117.0, 36.65)\n",
      "南京 (118.78, 32.04)\n",
      "合肥 (117.27, 31.86)\n",
      "杭州 (120.19, 30.26)\n",
      "南昌 (115.89, 28.68)\n",
      "福州 (119.3, 26.08)\n",
      "广州 (113.23, 23.16)\n",
      "长沙 (113.0, 28.21)\n",
      "沈阳 (123.38, 41.8)\n",
      "长春 (125.35, 43.88)\n",
      "哈尔滨 (126.63, 45.75)\n",
      "太原 (112.53, 37.87)\n",
      "西安 (108.95, 34.27)\n",
      "北京 (116.46, 39.92)\n",
      "上海 (121.48, 31.22)\n",
      "重庆 (106.54, 29.59)\n",
      "天津 (117.2, 39.13)\n",
      "呼和浩特 (111.65, 40.82)\n",
      "南宁 (108.33, 22.84)\n",
      "银川 (106.27, 38.47)\n",
      "乌鲁木齐 (87.68, 43.77)\n",
      "香港 (114.17, 22.28)\n",
      "澳门 (113.54, 22.19)\n"
     ]
    }
   ],
   "source": [
    "for line in coordination_source.split('\\n'):\n",
    "    if line.startswith('//'): continue\n",
    "    if line.strip() == '': continue\n",
    "    \n",
    "    city = re.findall(\"name:'(\\w+)'\", line)[0]\n",
    "    # python re referenes: https://docs.python.org/3/library/re.html\n",
    "    x_y = re.findall(\"Coord:\\[(\\d+.\\d+),\\s(\\d+.\\d+)\\]\", line)[0]\n",
    "    x_y = tuple(map(float, x_y))\n",
    "    city_location[city] = x_y\n",
    "    print(city, x_y)"
   ]
  },
  {
   "cell_type": "code",
   "execution_count": 10,
   "metadata": {},
   "outputs": [],
   "source": [
    "import math"
   ]
  },
  {
   "cell_type": "code",
   "execution_count": 11,
   "metadata": {},
   "outputs": [],
   "source": [
    "def geo_distance(origin, destination):\n",
    "    \"\"\"\n",
    "    Calculate the Haversine distance.\n",
    "\n",
    "    Parameters\n",
    "    ----------\n",
    "    origin : tuple of float\n",
    "        (lat, long)\n",
    "    destination : tuple of float\n",
    "        (lat, long)\n",
    "\n",
    "    Returns\n",
    "    -------\n",
    "    distance_in_km : float\n",
    "\n",
    "    Examples\n",
    "    --------\n",
    "    >>> origin = (48.1372, 11.5756)  # Munich\n",
    "    >>> destination = (52.5186, 13.4083)  # Berlin\n",
    "    >>> round(distance(origin, destination), 1)\n",
    "    504.2\n",
    "    \"\"\"\n",
    "    lat1, lon1 = origin\n",
    "    lat2, lon2 = destination\n",
    "    radius = 6371  # km\n",
    "\n",
    "    dlat = math.radians(lat2 - lat1)\n",
    "    dlon = math.radians(lon2 - lon1)\n",
    "    a = (math.sin(dlat / 2) * math.sin(dlat / 2) +\n",
    "         math.cos(math.radians(lat1)) * math.cos(math.radians(lat2)) *\n",
    "         math.sin(dlon / 2) * math.sin(dlon / 2))\n",
    "    c = 2 * math.atan2(math.sqrt(a), math.sqrt(1 - a))\n",
    "    d = radius * c\n",
    "\n",
    "    return d"
   ]
  },
  {
   "cell_type": "code",
   "execution_count": 12,
   "metadata": {},
   "outputs": [],
   "source": [
    "def get_city_distance(city1, city2):\n",
    "    return geo_distance(city_location[city1], city_location[city2])"
   ]
  },
  {
   "cell_type": "code",
   "execution_count": 13,
   "metadata": {},
   "outputs": [
    {
     "data": {
      "text/plain": [
       "153.5185697155768"
      ]
     },
     "execution_count": 13,
     "metadata": {},
     "output_type": "execute_result"
    }
   ],
   "source": [
    "get_city_distance('杭州', '上海')"
   ]
  },
  {
   "cell_type": "code",
   "execution_count": 14,
   "metadata": {},
   "outputs": [],
   "source": [
    "import networkx as nx  "
   ]
  },
  {
   "cell_type": "code",
   "execution_count": 15,
   "metadata": {},
   "outputs": [],
   "source": [
    "cities = list(city_location.keys())"
   ]
  },
  {
   "cell_type": "code",
   "execution_count": 16,
   "metadata": {},
   "outputs": [
    {
     "data": {
      "text/plain": [
       "['兰州', '嘉峪关', '西宁', '成都', '石家庄']"
      ]
     },
     "execution_count": 16,
     "metadata": {},
     "output_type": "execute_result"
    }
   ],
   "source": [
    "cities[:5]"
   ]
  },
  {
   "cell_type": "code",
   "execution_count": 17,
   "metadata": {},
   "outputs": [],
   "source": [
    "city_graph = nx.Graph()"
   ]
  },
  {
   "cell_type": "code",
   "execution_count": 18,
   "metadata": {},
   "outputs": [],
   "source": [
    "city_graph.add_nodes_from(cities)"
   ]
  },
  {
   "cell_type": "code",
   "execution_count": 19,
   "metadata": {},
   "outputs": [],
   "source": [
    "%matplotlib inline"
   ]
  },
  {
   "cell_type": "code",
   "execution_count": 20,
   "metadata": {},
   "outputs": [],
   "source": [
    "import matplotlib.pyplot as plt"
   ]
  },
  {
   "cell_type": "code",
   "execution_count": 21,
   "metadata": {},
   "outputs": [],
   "source": [
    "plt.rcParams['font.sans-serif'] = ['SimHei']\n",
    "plt.rcParams['axes.unicode_minus'] = False"
   ]
  },
  {
   "cell_type": "code",
   "execution_count": 22,
   "metadata": {},
   "outputs": [
    {
     "data": {
      "text/plain": [
       "{'兰州': (103.73, 36.03),\n",
       " '嘉峪关': (98.17, 39.47),\n",
       " '西宁': (101.74, 36.56),\n",
       " '成都': (104.06, 30.67),\n",
       " '石家庄': (114.48, 38.03),\n",
       " '拉萨': (102.73, 25.04),\n",
       " '贵阳': (106.71, 26.57),\n",
       " '武汉': (114.31, 30.52),\n",
       " '郑州': (113.65, 34.76),\n",
       " '济南': (117.0, 36.65),\n",
       " '南京': (118.78, 32.04),\n",
       " '合肥': (117.27, 31.86),\n",
       " '杭州': (120.19, 30.26),\n",
       " '南昌': (115.89, 28.68),\n",
       " '福州': (119.3, 26.08),\n",
       " '广州': (113.23, 23.16),\n",
       " '长沙': (113.0, 28.21),\n",
       " '沈阳': (123.38, 41.8),\n",
       " '长春': (125.35, 43.88),\n",
       " '哈尔滨': (126.63, 45.75),\n",
       " '太原': (112.53, 37.87),\n",
       " '西安': (108.95, 34.27),\n",
       " '北京': (116.46, 39.92),\n",
       " '上海': (121.48, 31.22),\n",
       " '重庆': (106.54, 29.59),\n",
       " '天津': (117.2, 39.13),\n",
       " '呼和浩特': (111.65, 40.82),\n",
       " '南宁': (108.33, 22.84),\n",
       " '银川': (106.27, 38.47),\n",
       " '乌鲁木齐': (87.68, 43.77),\n",
       " '香港': (114.17, 22.28),\n",
       " '澳门': (113.54, 22.19)}"
      ]
     },
     "execution_count": 22,
     "metadata": {},
     "output_type": "execute_result"
    }
   ],
   "source": [
    "city_location"
   ]
  },
  {
   "cell_type": "code",
   "execution_count": 23,
   "metadata": {},
   "outputs": [
    {
     "data": {
      "image/png": "[encoded data removed]",
      "text/plain": [
       "<Figure size 432x288 with 1 Axes>"
      ]
     },
     "metadata": {},
     "output_type": "display_data"
    }
   ],
   "source": [
    "nx.draw(city_graph, city_location, with_labels=True, node_size=10)"
   ]
  },
  {
   "cell_type": "code",
   "execution_count": 24,
   "metadata": {},
   "outputs": [],
   "source": [
    "threshold = 700"
   ]
  },
  {
   "cell_type": "code",
   "execution_count": 25,
   "metadata": {},
   "outputs": [],
   "source": [
    "from collections import defaultdict"
   ]
  },
  {
   "cell_type": "code",
   "execution_count": 26,
   "metadata": {},
   "outputs": [],
   "source": [
    "cities_connection = defaultdict(list)"
   ]
  },
  {
   "cell_type": "code",
   "execution_count": 27,
   "metadata": {},
   "outputs": [],
   "source": [
    "#所有小于threshold的城市都连接起来\n",
    "for c1 in cities:\n",
    "    for c2 in cities:\n",
    "        if c1 == c2: continue\n",
    "        \n",
    "        if get_city_distance(c1, c2) < threshold: \n",
    "            cities_connection[c1].append(c2)"
   ]
  },
  {
   "cell_type": "code",
   "execution_count": 28,
   "metadata": {},
   "outputs": [
    {
     "data": {
      "text/plain": [
       "['嘉峪关', '西宁', '成都', '拉萨', '贵阳', '西安', '重庆', '南宁', '银川']"
      ]
     },
     "execution_count": 28,
     "metadata": {},
     "output_type": "execute_result"
    }
   ],
   "source": [
    "cities_connection['兰州']"
   ]
  },
  {
   "cell_type": "code",
   "execution_count": 29,
   "metadata": {},
   "outputs": [],
   "source": [
    "cities_connection_graph = nx.Graph(cities_connection)"
   ]
  },
  {
   "cell_type": "code",
   "execution_count": 30,
   "metadata": {},
   "outputs": [
    {
     "name": "stdout",
     "output_type": "stream",
     "text": [
      "兰州 ['嘉峪关', '西宁', '成都', '拉萨', '贵阳', '西安', '重庆', '南宁', '银川']\n",
      "嘉峪关 ['兰州', '西宁', '成都', '拉萨']\n",
      "西宁 ['兰州', '嘉峪关', '成都', '拉萨', '贵阳', '重庆', '银川']\n",
      "成都 ['兰州', '嘉峪关', '西宁', '拉萨', '贵阳', '西安', '重庆', '南宁', '银川']\n",
      "石家庄 ['武汉', '郑州', '济南', '南京', '合肥', '南昌', '广州', '长沙', '太原', '西安', '北京', '天津', '呼和浩特']\n"
     ]
    }
   ],
   "source": [
    "j = 0\n",
    "for i in cities_connection:\n",
    "    j += 1\n",
    "    if(j > 5):break\n",
    "    print(i, cities_connection[i])"
   ]
  },
  {
   "cell_type": "code",
   "execution_count": 31,
   "metadata": {},
   "outputs": [
    {
     "name": "stderr",
     "output_type": "stream",
     "text": [
      "D:\\Design Software\\Anaconda\\lib\\site-packages\\networkx\\drawing\\nx_pylab.py:611: MatplotlibDeprecationWarning: isinstance(..., numbers.Number)\n",
      "  if cb.is_numlike(alpha):\n"
     ]
    },
    {
     "data": {
      "image/png": "[encoded data removed]",
      "text/plain": [
       "<Figure size 432x288 with 1 Axes>"
      ]
     },
     "metadata": {},
     "output_type": "display_data"
    }
   ],
   "source": [
    "nx.draw(cities_connection_graph, city_location, with_labels=True, node_size=10)"
   ]
  },
  {
   "cell_type": "code",
   "execution_count": 32,
   "metadata": {},
   "outputs": [],
   "source": [
    "simple_connection_info_src = {\n",
    "    '北京': ['太原', '沈阳'],\n",
    "    '太原': ['北京', '西安', '郑州'],\n",
    "    '兰州': ['西安'],\n",
    "    '郑州': ['太原'],\n",
    "    '西安': ['兰州', '长沙'],\n",
    "    '长沙': ['福州', '南宁'],\n",
    "    '沈阳': ['北京','上海'],\n",
    "    '上海': ['福州'],\n",
    "    '福州': ['长沙','上海'],\n",
    "    '南宁': ['长沙']\n",
    "}"
   ]
  },
  {
   "cell_type": "code",
   "execution_count": 33,
   "metadata": {},
   "outputs": [],
   "source": [
    "simple_connection_info = defaultdict(list)"
   ]
  },
  {
   "cell_type": "code",
   "execution_count": 34,
   "metadata": {},
   "outputs": [],
   "source": [
    "simple_connection_info.update(simple_connection_info_src)"
   ]
  },
  {
   "cell_type": "markdown",
   "metadata": {},
   "source": [
    "## 标准广度和深度搜索方法"
   ]
  },
  {
   "cell_type": "code",
   "execution_count": 35,
   "metadata": {},
   "outputs": [],
   "source": [
    "def bfs(graph, start):\n",
    "    \"\"\"\n",
    "    breath first search\n",
    "    \"\"\"\n",
    "    visited = [start]\n",
    "    \n",
    "    seen = set()\n",
    "    \n",
    "    while visited:\n",
    "        froninter = visited.pop(0) # 模拟队列\n",
    "        \n",
    "        if froninter in seen: continue  #如果元素已经被访问则跳过本次\n",
    "        \n",
    "        for successor in graph[froninter]: #遍历栈顶元素所有连接点\n",
    "            if successor in seen: continue  #如果当前元素连接点被访问则跳过本次\n",
    "            print(successor)\n",
    "            \n",
    "            #visited = visited + [successor] # 我们每次扩展都扩展最新发现的点 -> depth first  相当与把元素放入队首\n",
    "            visited = [successor] + visited # 我们每次扩展都先考虑已经发现的 老的点 -> breath first\n",
    "            # 所以说，这个扩展顺序其实是决定了我们的深度优先还是广度优先\n",
    "    \n",
    "        seen.add(froninter)\n",
    "    \n",
    "    return seen"
   ]
  },
  {
   "cell_type": "code",
   "execution_count": 36,
   "metadata": {},
   "outputs": [],
   "source": [
    "number_grpah = defaultdict(list)\n",
    "\n",
    "number_grpah.update({\n",
    "    1: [2, 3],\n",
    "    2: [1, 4], \n",
    "    3: [1, 5],\n",
    "    4: [2, 6], \n",
    "    5: [3, 7],\n",
    "    7: [5, 8]\n",
    "})"
   ]
  },
  {
   "cell_type": "code",
   "execution_count": 37,
   "metadata": {},
   "outputs": [
    {
     "data": {
      "image/png": "[encoded data removed]",
      "text/plain": [
       "<Figure size 432x288 with 1 Axes>"
      ]
     },
     "metadata": {},
     "output_type": "display_data"
    }
   ],
   "source": [
    "nx.draw(nx.Graph(number_grpah),with_labels=True, node_size=10)"
   ]
  },
  {
   "cell_type": "code",
   "execution_count": 38,
   "metadata": {},
   "outputs": [
    {
     "name": "stdout",
     "output_type": "stream",
     "text": [
      "2\n",
      "3\n",
      "5\n",
      "7\n",
      "8\n",
      "4\n",
      "6\n"
     ]
    },
    {
     "data": {
      "text/plain": [
       "{1, 2, 3, 4, 5, 6, 7, 8}"
      ]
     },
     "execution_count": 38,
     "metadata": {},
     "output_type": "execute_result"
    }
   ],
   "source": [
    "bfs(number_grpah, 1)"
   ]
  },
  {
   "cell_type": "code",
   "execution_count": 39,
   "metadata": {},
   "outputs": [
    {
     "data": {
      "text/plain": [
       "['兰州', '长沙']"
      ]
     },
     "execution_count": 39,
     "metadata": {},
     "output_type": "execute_result"
    }
   ],
   "source": [
    "simple_connection_info['西安']"
   ]
  },
  {
   "cell_type": "code",
   "execution_count": 40,
   "metadata": {},
   "outputs": [
    {
     "data": {
      "image/png": "[encoded data removed]",
      "text/plain": [
       "<Figure size 432x288 with 1 Axes>"
      ]
     },
     "metadata": {},
     "output_type": "display_data"
    }
   ],
   "source": [
    "nx.draw(nx.Graph(simple_connection_info), city_location, with_labels=True, node_size=10)"
   ]
  },
  {
   "cell_type": "markdown",
   "metadata": {},
   "source": [
    "## 自定义搜索策略,不是广度和深度了，因为每次改变了pathes的排序"
   ]
  },
  {
   "cell_type": "code",
   "execution_count": 41,
   "metadata": {},
   "outputs": [],
   "source": [
    "def search(start, destination, connection_grpah, sort_candidate):\n",
    "    pathes = [[start]]  #每走一步都添加一个新的路径\n",
    "    \n",
    "    visitied = set()\n",
    "    \n",
    "    while pathes: # if we find existing pathes\n",
    "        path = pathes.pop(0)   #获取当前要访问的路径\n",
    "        froninter = path[-1]   #获取当前达到的节点\n",
    "        \n",
    "        if froninter in visitied: continue\n",
    "            \n",
    "        successors = connection_grpah[froninter]  #获取当前节点的所有连接节点\n",
    "        print('当前访问节点：', froninter)\n",
    "        print('当前节点邻接节点: ', successors)\n",
    "        for city in successors:\n",
    "            if city in path: continue  # eliminate loop 防止环形,也防止重复访问,和city in visitied有同样效果\n",
    "                \n",
    "            new_path = path + [city]\n",
    "            \n",
    "            pathes.append(new_path)\n",
    "            \n",
    "            if city == destination: return new_path\n",
    "        \n",
    "        visitied.add(froninter)\n",
    "        \n",
    "        pathes = sort_candidate(pathes) # 我们可以加一个排序函数 对我们的搜索策略进行控制\n",
    "        print('sorted', pathes , '\\n')"
   ]
  },
  {
   "cell_type": "code",
   "execution_count": 42,
   "metadata": {},
   "outputs": [],
   "source": [
    "def transfer_stations_first(pathes): \n",
    "    return sorted(pathes, key=len)"
   ]
  },
  {
   "cell_type": "code",
   "execution_count": 43,
   "metadata": {},
   "outputs": [],
   "source": [
    "def transfer_as_much_possible(pathes):\n",
    "    return sorted(pathes, key=len, reverse=True)"
   ]
  },
  {
   "cell_type": "code",
   "execution_count": 44,
   "metadata": {},
   "outputs": [],
   "source": [
    "def shortest_path_first(pathes):\n",
    "    #print(pathes)\n",
    "    if len(pathes) <= 1: return pathes\n",
    "    \n",
    "    def get_path_distnace(path):\n",
    "        distance = 0\n",
    "        for i, station in enumerate(path[:-1]):\n",
    "            #print(station, path[i+1])\n",
    "            distance += get_city_distance(station, path[i+1])\n",
    "            \n",
    "        return distance\n",
    "    \n",
    "    return sorted(pathes, key=get_path_distnace)"
   ]
  },
  {
   "cell_type": "code",
   "execution_count": 45,
   "metadata": {},
   "outputs": [
    {
     "data": {
      "text/plain": [
       "664.4873799505449"
      ]
     },
     "execution_count": 45,
     "metadata": {},
     "output_type": "execute_result"
    }
   ],
   "source": [
    "get_city_distance('沈阳', '上海')"
   ]
  },
  {
   "cell_type": "code",
   "execution_count": 46,
   "metadata": {},
   "outputs": [
    {
     "data": {
      "text/plain": [
       "776.4154006857316"
      ]
     },
     "execution_count": 46,
     "metadata": {},
     "output_type": "execute_result"
    }
   ],
   "source": [
    "get_city_distance('沈阳', '北京')"
   ]
  },
  {
   "cell_type": "code",
   "execution_count": 47,
   "metadata": {},
   "outputs": [
    {
     "name": "stdout",
     "output_type": "stream",
     "text": [
      "当前访问节点： 沈阳\n",
      "当前节点邻接节点:  ['北京', '上海']\n",
      "sorted [['沈阳', '上海'], ['沈阳', '北京']] \n",
      "\n",
      "当前访问节点： 上海\n",
      "当前节点邻接节点:  ['福州']\n",
      "sorted [['沈阳', '北京'], ['沈阳', '上海', '福州']] \n",
      "\n",
      "当前访问节点： 北京\n",
      "当前节点邻接节点:  ['太原', '沈阳']\n",
      "sorted [['沈阳', '上海', '福州'], ['沈阳', '北京', '太原']] \n",
      "\n",
      "当前访问节点： 福州\n",
      "当前节点邻接节点:  ['长沙', '上海']\n",
      "sorted [['沈阳', '北京', '太原'], ['沈阳', '上海', '福州', '长沙']] \n",
      "\n",
      "当前访问节点： 太原\n",
      "当前节点邻接节点:  ['北京', '西安', '郑州']\n",
      "sorted [['沈阳', '北京', '太原', '郑州'], ['沈阳', '北京', '太原', '西安'], ['沈阳', '上海', '福州', '长沙']] \n",
      "\n",
      "当前访问节点： 郑州\n",
      "当前节点邻接节点:  ['太原']\n",
      "sorted [['沈阳', '北京', '太原', '西安'], ['沈阳', '上海', '福州', '长沙']] \n",
      "\n",
      "当前访问节点： 西安\n",
      "当前节点邻接节点:  ['兰州', '长沙']\n",
      "sorted [['沈阳', '上海', '福州', '长沙'], ['沈阳', '北京', '太原', '西安', '长沙'], ['沈阳', '北京', '太原', '西安', '兰州']] \n",
      "\n",
      "当前访问节点： 长沙\n",
      "当前节点邻接节点:  ['福州', '南宁']\n"
     ]
    },
    {
     "data": {
      "text/plain": [
       "['沈阳', '上海', '福州', '长沙', '南宁']"
      ]
     },
     "execution_count": 47,
     "metadata": {},
     "output_type": "execute_result"
    }
   ],
   "source": [
    "search('沈阳', '南宁', simple_connection_info, sort_candidate=shortest_path_first)"
   ]
  },
  {
   "cell_type": "code",
   "execution_count": 48,
   "metadata": {},
   "outputs": [],
   "source": [
    "def pretty_print(cities):\n",
    "    print('🚗->'.join(cities))"
   ]
  },
  {
   "cell_type": "code",
   "execution_count": 49,
   "metadata": {},
   "outputs": [
    {
     "name": "stdout",
     "output_type": "stream",
     "text": [
      "当前访问节点： 北京\n",
      "当前节点邻接节点:  ['太原', '沈阳']\n",
      "sorted [['北京', '太原'], ['北京', '沈阳']] \n",
      "\n",
      "当前访问节点： 太原\n",
      "当前节点邻接节点:  ['北京', '西安', '郑州']\n",
      "sorted [['北京', '沈阳'], ['北京', '太原', '西安'], ['北京', '太原', '郑州']] \n",
      "\n",
      "当前访问节点： 沈阳\n",
      "当前节点邻接节点:  ['北京', '上海']\n",
      "sorted [['北京', '太原', '西安'], ['北京', '太原', '郑州'], ['北京', '沈阳', '上海']] \n",
      "\n",
      "当前访问节点： 西安\n",
      "当前节点邻接节点:  ['兰州', '长沙']\n",
      "sorted [['北京', '太原', '郑州'], ['北京', '沈阳', '上海'], ['北京', '太原', '西安', '兰州'], ['北京', '太原', '西安', '长沙']] \n",
      "\n",
      "当前访问节点： 郑州\n",
      "当前节点邻接节点:  ['太原']\n",
      "sorted [['北京', '沈阳', '上海'], ['北京', '太原', '西安', '兰州'], ['北京', '太原', '西安', '长沙']] \n",
      "\n",
      "当前访问节点： 上海\n",
      "当前节点邻接节点:  ['福州']\n",
      "北京🚗->沈阳🚗->上海🚗->福州\n"
     ]
    }
   ],
   "source": [
    "pretty_print(search('北京', '福州', simple_connection_info ,sort_candidate=transfer_stations_first))"
   ]
  },
  {
   "cell_type": "markdown",
   "metadata": {},
   "source": [
    "## Assignment"
   ]
  },
  {
   "cell_type": "markdown",
   "metadata": {},
   "source": [
    "1. 网络爬虫 + 正则\n",
    "2. 数据处理\n",
    "3. 算法的应用能力"
   ]
  },
  {
   "cell_type": "code",
   "execution_count": 50,
   "metadata": {},
   "outputs": [],
   "source": [
    "import requests"
   ]
  },
  {
   "cell_type": "code",
   "execution_count": 51,
   "metadata": {},
   "outputs": [],
   "source": [
    "url = 'https://movie.douban.com/subject/26931786/?from=showing'"
   ]
  },
  {
   "cell_type": "code",
   "execution_count": 52,
   "metadata": {},
   "outputs": [],
   "source": [
    "response = requests.get(url)"
   ]
  },
  {
   "cell_type": "code",
   "execution_count": 53,
   "metadata": {},
   "outputs": [],
   "source": [
    "what_we_want = r'<a href=\"https://(movie\\.douban\\.com/subject/\\d+/\\?from=subject-page)\" class=\"\" '"
   ]
  },
  {
   "cell_type": "code",
   "execution_count": 54,
   "metadata": {},
   "outputs": [],
   "source": [
    "pattern = re.compile(what_we_want)"
   ]
  },
  {
   "cell_type": "code",
   "execution_count": 55,
   "metadata": {},
   "outputs": [],
   "source": [
    "likes = pattern.findall(response.text)"
   ]
  },
  {
   "cell_type": "code",
   "execution_count": 56,
   "metadata": {},
   "outputs": [
    {
     "name": "stdout",
     "output_type": "stream",
     "text": [
      "movie.douban.com/subject/24753477/?from=subject-page\n",
      "movie.douban.com/subject/26100958/?from=subject-page\n",
      "movie.douban.com/subject/25820460/?from=subject-page\n",
      "movie.douban.com/subject/1432146/?from=subject-page\n",
      "movie.douban.com/subject/25937854/?from=subject-page\n",
      "movie.douban.com/subject/1866473/?from=subject-page\n",
      "movie.douban.com/subject/25821634/?from=subject-page\n",
      "movie.douban.com/subject/26213252/?from=subject-page\n",
      "movie.douban.com/subject/4920389/?from=subject-page\n",
      "movie.douban.com/subject/3168101/?from=subject-page\n"
     ]
    }
   ],
   "source": [
    "for like in likes:\n",
    "    print(like)"
   ]
  },
  {
   "cell_type": "markdown",
   "metadata": {},
   "source": [
    "## Machine Learning, the first step"
   ]
  },
  {
   "cell_type": "code",
   "execution_count": 57,
   "metadata": {},
   "outputs": [],
   "source": [
    "from sklearn.datasets import load_boston"
   ]
  },
  {
   "cell_type": "code",
   "execution_count": 58,
   "metadata": {},
   "outputs": [],
   "source": [
    "dataset = load_boston()"
   ]
  },
  {
   "cell_type": "code",
   "execution_count": 59,
   "metadata": {},
   "outputs": [
    {
     "data": {
      "text/plain": [
       "sklearn.utils.Bunch"
      ]
     },
     "execution_count": 59,
     "metadata": {},
     "output_type": "execute_result"
    }
   ],
   "source": [
    "type(dataset)"
   ]
  },
  {
   "cell_type": "code",
   "execution_count": 60,
   "metadata": {},
   "outputs": [],
   "source": [
    "X, y = dataset['data'], dataset['target']"
   ]
  },
  {
   "cell_type": "code",
   "execution_count": 61,
   "metadata": {},
   "outputs": [
    {
     "data": {
      "text/plain": [
       "(506, 13)"
      ]
     },
     "execution_count": 61,
     "metadata": {},
     "output_type": "execute_result"
    }
   ],
   "source": [
    "X.shape"
   ]
  },
  {
   "cell_type": "code",
   "execution_count": 62,
   "metadata": {},
   "outputs": [
    {
     "data": {
      "text/plain": [
       "(506,)"
      ]
     },
     "execution_count": 62,
     "metadata": {},
     "output_type": "execute_result"
    }
   ],
   "source": [
    "y.shape"
   ]
  },
  {
   "cell_type": "code",
   "execution_count": 63,
   "metadata": {},
   "outputs": [
    {
     "data": {
      "text/plain": [
       "array([24. , 21.6, 34.7])"
      ]
     },
     "execution_count": 63,
     "metadata": {},
     "output_type": "execute_result"
    }
   ],
   "source": [
    "y[:3]"
   ]
  },
  {
   "cell_type": "code",
   "execution_count": 64,
   "metadata": {},
   "outputs": [
    {
     "data": {
      "text/plain": [
       "array([6.320e-03, 1.800e+01, 2.310e+00, 0.000e+00, 5.380e-01, 6.575e+00,\n",
       "       6.520e+01, 4.090e+00, 1.000e+00, 2.960e+02, 1.530e+01, 3.969e+02,\n",
       "       4.980e+00])"
      ]
     },
     "execution_count": 64,
     "metadata": {},
     "output_type": "execute_result"
    }
   ],
   "source": [
    "X[0] #Attribute的值"
   ]
  },
  {
   "cell_type": "code",
   "execution_count": 65,
   "metadata": {},
   "outputs": [
    {
     "data": {
      "text/plain": [
       "(506,)"
      ]
     },
     "execution_count": 65,
     "metadata": {},
     "output_type": "execute_result"
    }
   ],
   "source": [
    "X[:, 0].shape"
   ]
  },
  {
   "cell_type": "code",
   "execution_count": 66,
   "metadata": {},
   "outputs": [
    {
     "data": {
      "text/plain": [
       "(506,)"
      ]
     },
     "execution_count": 66,
     "metadata": {},
     "output_type": "execute_result"
    }
   ],
   "source": [
    "y.shape"
   ]
  },
  {
   "cell_type": "code",
   "execution_count": 67,
   "metadata": {},
   "outputs": [
    {
     "name": "stdout",
     "output_type": "stream",
     "text": [
      ".. _boston_dataset:\n",
      "\n",
      "Boston house prices dataset\n",
      "---------------------------\n",
      "\n",
      "**Data Set Characteristics:**  \n",
      "\n",
      "    :Number of Instances: 506 \n",
      "\n",
      "    :Number of Attributes: 13 numeric/categorical predictive. Median Value (attribute 14) is usually the target.\n",
      "\n",
      "    :Attribute Information (in order):\n",
      "        - CRIM     per capita crime rate by town\n",
      "        - ZN       proportion of residential land zoned for lots over 25,000 sq.ft.\n",
      "        - INDUS    proportion of non-retail business acres per town\n",
      "        - CHAS     Charles River dummy variable (= 1 if tract bounds river; 0 otherwise)\n",
      "        - NOX      nitric oxides concentration (parts per 10 million)\n",
      "        - RM       average number of rooms per dwelling\n",
      "        - AGE      proportion of owner-occupied units built prior to 1940\n",
      "        - DIS      weighted distances to five Boston employment centres\n",
      "        - RAD      index of accessibility to radial highways\n",
      "        - TAX      full-value property-tax rate per $10,000\n",
      "        - PTRATIO  pupil-teacher ratio by town\n",
      "        - B        1000(Bk - 0.63)^2 where Bk is the proportion of blacks by town\n",
      "        - LSTAT    % lower status of the population\n",
      "        - MEDV     Median value of owner-occupied homes in $1000's\n",
      "\n",
      "    :Missing Attribute Values: None\n",
      "\n",
      "    :Creator: Harrison, D. and Rubinfeld, D.L.\n",
      "\n",
      "This is a copy of UCI ML housing dataset.\n",
      "https://archive.ics.uci.edu/ml/machine-learning-databases/housing/\n",
      "\n",
      "\n",
      "This dataset was taken from the StatLib library which is maintained at Carnegie Mellon University.\n",
      "\n",
      "The Boston house-price data of Harrison, D. and Rubinfeld, D.L. 'Hedonic\n",
      "prices and the demand for clean air', J. Environ. Economics & Management,\n",
      "vol.5, 81-102, 1978.   Used in Belsley, Kuh & Welsch, 'Regression diagnostics\n",
      "...', Wiley, 1980.   N.B. Various transformations are used in the table on\n",
      "pages 244-261 of the latter.\n",
      "\n",
      "The Boston house-price data has been used in many machine learning papers that address regression\n",
      "problems.   \n",
      "     \n",
      ".. topic:: References\n",
      "\n",
      "   - Belsley, Kuh & Welsch, 'Regression diagnostics: Identifying Influential Data and Sources of Collinearity', Wiley, 1980. 244-261.\n",
      "   - Quinlan,R. (1993). Combining Instance-Based and Model-Based Learning. In Proceedings on the Tenth International Conference of Machine Learning, 236-243, University of Massachusetts, Amherst. Morgan Kaufmann.\n",
      "\n"
     ]
    }
   ],
   "source": [
    "print(dataset['DESCR'])"
   ]
  },
  {
   "cell_type": "code",
   "execution_count": 68,
   "metadata": {},
   "outputs": [
    {
     "data": {
      "text/plain": [
       "<matplotlib.collections.PathCollection at 0xb6bccc0>"
      ]
     },
     "execution_count": 68,
     "metadata": {},
     "output_type": "execute_result"
    },
    {
     "data": {
      "image/png": "[encoded data removed]",
      "text/plain": [
       "<Figure size 432x288 with 1 Axes>"
      ]
     },
     "metadata": {
      "needs_background": "light"
     },
     "output_type": "display_data"
    }
   ],
   "source": [
    "plt.scatter(X[:, 5], y)"
   ]
  },
  {
   "cell_type": "code",
   "execution_count": 69,
   "metadata": {},
   "outputs": [],
   "source": [
    "room_num = X[:, 5]#获取索引号为5的所有数据，这里是average number of rooms per dwelling"
   ]
  },
  {
   "cell_type": "code",
   "execution_count": 70,
   "metadata": {},
   "outputs": [
    {
     "data": {
      "text/plain": [
       "array([[6.3200e-03, 1.8000e+01, 2.3100e+00, 0.0000e+00, 5.3800e-01,\n",
       "        6.5750e+00, 6.5200e+01, 4.0900e+00, 1.0000e+00, 2.9600e+02,\n",
       "        1.5300e+01, 3.9690e+02, 4.9800e+00],\n",
       "       [2.7310e-02, 0.0000e+00, 7.0700e+00, 0.0000e+00, 4.6900e-01,\n",
       "        6.4210e+00, 7.8900e+01, 4.9671e+00, 2.0000e+00, 2.4200e+02,\n",
       "        1.7800e+01, 3.9690e+02, 9.1400e+00]])"
      ]
     },
     "execution_count": 70,
     "metadata": {},
     "output_type": "execute_result"
    }
   ],
   "source": [
    "X[:2]"
   ]
  },
  {
   "cell_type": "code",
   "execution_count": 71,
   "metadata": {},
   "outputs": [
    {
     "data": {
      "text/plain": [
       "array([6.575, 6.421, 7.185])"
      ]
     },
     "execution_count": 71,
     "metadata": {},
     "output_type": "execute_result"
    }
   ],
   "source": [
    "room_num[:3]"
   ]
  },
  {
   "cell_type": "code",
   "execution_count": 72,
   "metadata": {},
   "outputs": [],
   "source": [
    "price = y"
   ]
  },
  {
   "cell_type": "code",
   "execution_count": 73,
   "metadata": {},
   "outputs": [],
   "source": [
    "import random"
   ]
  },
  {
   "cell_type": "code",
   "execution_count": 74,
   "metadata": {},
   "outputs": [],
   "source": [
    "import numpy as np"
   ]
  },
  {
   "cell_type": "code",
   "execution_count": 75,
   "metadata": {},
   "outputs": [],
   "source": [
    "def draw_rm_and_price():\n",
    "    plt.scatter(X[:, 5], y)"
   ]
  },
  {
   "cell_type": "code",
   "execution_count": 76,
   "metadata": {},
   "outputs": [],
   "source": [
    "def price(rm, k, b):\n",
    "    \"\"\"f(x) = k * x + b\"\"\"\n",
    "    return k * rm + b  "
   ]
  },
  {
   "cell_type": "code",
   "execution_count": 77,
   "metadata": {},
   "outputs": [
    {
     "data": {
      "text/plain": [
       "<matplotlib.collections.PathCollection at 0xb7316a0>"
      ]
     },
     "execution_count": 77,
     "metadata": {},
     "output_type": "execute_result"
    },
    {
     "data": {
      "image/png": "[encoded data removed]",
      "text/plain": [
       "<Figure size 432x288 with 1 Axes>"
      ]
     },
     "metadata": {
      "needs_background": "light"
     },
     "output_type": "display_data"
    }
   ],
   "source": [
    "X_rm = X[:, 5]\n",
    "k = random.randint(-100, 100)\n",
    "b = random.randint(-100, 100)\n",
    "price_by_random_k_and_b = [price(r, k, b) for r in X_rm]\n",
    "\n",
    "draw_rm_and_price()\n",
    "plt.scatter(X_rm, price_by_random_k_and_b)"
   ]
  },
  {
   "cell_type": "markdown",
   "metadata": {},
   "source": [
    "## loss\n",
    "\n",
    "$$ loss = \\frac{1}{n} \\sum{(y_i - \\hat{y_i})}$$"
   ]
  },
  {
   "cell_type": "code",
   "execution_count": 78,
   "metadata": {},
   "outputs": [],
   "source": [
    "def loss(y, y_hat): # to evaluate the performance \n",
    "    #return sum((y_i - y_hat_i)**2 for y_i, y_hat_i in zip(list(y), list(y_hat))) / len(list(y))\n",
    "    return np.mean(np.square(y - y_hat))"
   ]
  },
  {
   "cell_type": "markdown",
   "metadata": {},
   "source": [
    "## First-Method: Random generation: get best k and best b"
   ]
  },
  {
   "cell_type": "code",
   "execution_count": 79,
   "metadata": {},
   "outputs": [],
   "source": [
    "X_rm = X[:, 5]"
   ]
  },
  {
   "cell_type": "code",
   "execution_count": 90,
   "metadata": {},
   "outputs": [
    {
     "name": "stdout",
     "output_type": "stream",
     "text": [
      "When time is : 0, get best_k: 27.887330893725817 best_b: 75.0881676116029, and the loss is: 52118.06879893667\n",
      "When time is : 4, get best_k: 37.395229471229584 best_b: -43.330827203222746, and the loss is: 29050.304914628723\n",
      "When time is : 10, get best_k: -7.411252852455789 best_b: 7.679030663801939, and the loss is: 3951.6961450012477\n",
      "When time is : 23, get best_k: 8.012813845170854 best_b: -12.705018408734503, and the loss is: 272.7929344795723\n",
      "When time is : 52, get best_k: 17.14526378937586 best_b: -72.64149579201785, and the loss is: 233.66545737934865\n",
      "When time is : 72, get best_k: 12.979928970829562 best_b: -52.671895183181185, and the loss is: 91.57878861032782\n",
      "When time is : 98, get best_k: 5.892467482689128 best_b: -9.664683182414052, and the loss is: 72.04872677870448\n",
      "When time is : 250, get best_k: 6.075808380172873 best_b: -14.942392631683958, and the loss is: 48.615629692762504\n",
      "When time is : 788, get best_k: 10.89745347482176 best_b: -46.673194106992135, and the loss is: 45.70630273362345\n"
     ]
    }
   ],
   "source": [
    "trying_times = 2000\n",
    "\n",
    "min_loss = float('inf') # 无穷大\n",
    "best_k, best_b = None, None\n",
    "\n",
    "for i in range(trying_times):\n",
    "    k = random.random() * 200 - 100\n",
    "    b = random.random() * 200 - 100\n",
    "    price_by_random_k_and_b = [price(r, k, b) for r in X_rm]\n",
    "\n",
    "    current_loss = loss(y, np.array(price_by_random_k_and_b))\n",
    "    \n",
    "    if current_loss < min_loss:\n",
    "        min_loss = current_loss\n",
    "        best_k, best_b = k, b\n",
    "        print('When time is : {}, get best_k: {} best_b: {}, and the loss is: {}'.format(i, best_k, best_b, min_loss))"
   ]
  },
  {
   "cell_type": "code",
   "execution_count": 81,
   "metadata": {},
   "outputs": [
    {
     "data": {
      "text/plain": [
       "<matplotlib.collections.PathCollection at 0xb7a0048>"
      ]
     },
     "execution_count": 81,
     "metadata": {},
     "output_type": "execute_result"
    },
    {
     "data": {
      "image/png": "[encoded data removed]",
      "text/plain": [
       "<Figure size 432x288 with 1 Axes>"
      ]
     },
     "metadata": {
      "needs_background": "light"
     },
     "output_type": "display_data"
    }
   ],
   "source": [
    "X_rm = X[:, 5]\n",
    "k = 9\n",
    "b = -37\n",
    "price_by_random_k_and_b = [price(r, k, b) for r in X_rm]\n",
    "\n",
    "draw_rm_and_price()\n",
    "plt.scatter(X_rm, price_by_random_k_and_b)"
   ]
  },
  {
   "cell_type": "markdown",
   "metadata": {},
   "source": [
    "## 2nd-Method: Direction Adjusting"
   ]
  },
  {
   "cell_type": "code",
   "execution_count": 88,
   "metadata": {},
   "outputs": [
    {
     "name": "stdout",
     "output_type": "stream",
     "text": [
      "When time is : 0, get best_k: -57.72221890733494 best_b: -75.26972495445536, and the loss is: 214364.37366529138\n",
      "When time is : 2, get best_k: -57.22221890733494 best_b: -74.76972495445536, and the loss is: 210989.78747525264\n",
      "When time is : 3, get best_k: -56.72221890733494 best_b: -74.26972495445536, and the loss is: 207641.98058190066\n",
      "When time is : 4, get best_k: -56.22221890733494 best_b: -73.76972495445536, and the loss is: 204320.95298523543\n",
      "When time is : 5, get best_k: -55.72221890733494 best_b: -73.26972495445536, and the loss is: 201026.70468525696\n",
      "When time is : 6, get best_k: -55.22221890733494 best_b: -72.76972495445536, and the loss is: 197759.23568196528\n",
      "When time is : 7, get best_k: -54.72221890733494 best_b: -72.26972495445536, and the loss is: 194518.54597536032\n",
      "When time is : 8, get best_k: -54.22221890733494 best_b: -71.76972495445536, and the loss is: 191304.63556544212\n",
      "When time is : 9, get best_k: -53.72221890733494 best_b: -71.26972495445536, and the loss is: 188117.5044522107\n",
      "When time is : 10, get best_k: -53.22221890733494 best_b: -70.76972495445536, and the loss is: 184957.15263566602\n",
      "When time is : 11, get best_k: -52.72221890733494 best_b: -70.26972495445536, and the loss is: 181823.5801158081\n",
      "When time is : 12, get best_k: -52.22221890733494 best_b: -69.76972495445536, and the loss is: 178716.78689263697\n",
      "When time is : 13, get best_k: -51.72221890733494 best_b: -69.26972495445536, and the loss is: 175636.77296615258\n",
      "When time is : 14, get best_k: -51.22221890733494 best_b: -68.76972495445536, and the loss is: 172583.53833635492\n",
      "When time is : 15, get best_k: -50.72221890733494 best_b: -68.26972495445536, and the loss is: 169557.08300324407\n",
      "When time is : 16, get best_k: -50.22221890733494 best_b: -67.76972495445536, and the loss is: 166557.40696681995\n",
      "When time is : 17, get best_k: -49.72221890733494 best_b: -67.26972495445536, and the loss is: 163584.51022708256\n",
      "When time is : 18, get best_k: -49.22221890733494 best_b: -66.76972495445536, and the loss is: 160638.39278403198\n",
      "When time is : 19, get best_k: -48.72221890733494 best_b: -66.26972495445536, and the loss is: 157719.05463766813\n",
      "When time is : 20, get best_k: -48.22221890733494 best_b: -65.76972495445536, and the loss is: 154826.49578799107\n",
      "When time is : 21, get best_k: -47.72221890733494 best_b: -65.26972495445536, and the loss is: 151960.71623500076\n",
      "When time is : 22, get best_k: -47.22221890733494 best_b: -64.76972495445536, and the loss is: 149121.71597869718\n",
      "When time is : 23, get best_k: -46.72221890733494 best_b: -64.26972495445536, and the loss is: 146309.49501908038\n",
      "When time is : 24, get best_k: -46.22221890733494 best_b: -63.769724954455356, and the loss is: 143524.0533561503\n",
      "When time is : 25, get best_k: -45.72221890733494 best_b: -63.269724954455356, and the loss is: 140765.39098990703\n",
      "When time is : 26, get best_k: -45.22221890733494 best_b: -62.769724954455356, and the loss is: 138033.50792035047\n",
      "When time is : 27, get best_k: -44.72221890733494 best_b: -62.269724954455356, and the loss is: 135328.40414748073\n",
      "When time is : 28, get best_k: -44.22221890733494 best_b: -61.769724954455356, and the loss is: 132650.07967129772\n",
      "When time is : 29, get best_k: -43.72221890733494 best_b: -61.269724954455356, and the loss is: 129998.53449180147\n",
      "When time is : 30, get best_k: -43.22221890733494 best_b: -60.769724954455356, and the loss is: 127373.76860899199\n",
      "When time is : 31, get best_k: -42.72221890733494 best_b: -60.269724954455356, and the loss is: 124775.78202286923\n",
      "When time is : 32, get best_k: -42.22221890733494 best_b: -59.769724954455356, and the loss is: 122204.57473343326\n",
      "When time is : 33, get best_k: -41.72221890733494 best_b: -59.269724954455356, and the loss is: 119660.14674068404\n",
      "When time is : 34, get best_k: -41.22221890733494 best_b: -58.769724954455356, and the loss is: 117142.49804462158\n",
      "When time is : 35, get best_k: -40.72221890733494 best_b: -58.269724954455356, and the loss is: 114651.62864524589\n",
      "When time is : 36, get best_k: -40.22221890733494 best_b: -57.769724954455356, and the loss is: 112187.53854255694\n",
      "When time is : 37, get best_k: -39.72221890733494 best_b: -57.269724954455356, and the loss is: 109750.22773655476\n",
      "When time is : 38, get best_k: -39.22221890733494 best_b: -56.769724954455356, and the loss is: 107339.69622723934\n",
      "When time is : 39, get best_k: -38.72221890733494 best_b: -56.269724954455356, and the loss is: 104955.94401461068\n",
      "When time is : 40, get best_k: -38.22221890733494 best_b: -55.769724954455356, and the loss is: 102598.97109866877\n",
      "When time is : 41, get best_k: -37.72221890733494 best_b: -55.269724954455356, and the loss is: 100268.77747941362\n",
      "When time is : 42, get best_k: -37.22221890733494 best_b: -54.769724954455356, and the loss is: 97965.36315684524\n",
      "When time is : 43, get best_k: -36.72221890733494 best_b: -54.269724954455356, and the loss is: 95688.72813096362\n",
      "When time is : 44, get best_k: -36.22221890733494 best_b: -53.769724954455356, and the loss is: 93438.87240176875\n",
      "When time is : 45, get best_k: -35.72221890733494 best_b: -53.269724954455356, and the loss is: 91215.79596926062\n",
      "When time is : 46, get best_k: -35.22221890733494 best_b: -52.769724954455356, and the loss is: 89019.49883343927\n",
      "When time is : 47, get best_k: -34.72221890733494 best_b: -52.269724954455356, and the loss is: 86849.98099430469\n",
      "When time is : 48, get best_k: -34.22221890733494 best_b: -51.769724954455356, and the loss is: 84707.24245185684\n",
      "When time is : 49, get best_k: -33.72221890733494 best_b: -51.269724954455356, and the loss is: 82591.28320609577\n",
      "When time is : 50, get best_k: -33.22221890733494 best_b: -50.769724954455356, and the loss is: 80502.10325702147\n",
      "When time is : 51, get best_k: -32.72221890733494 best_b: -50.269724954455356, and the loss is: 78439.7026046339\n",
      "When time is : 52, get best_k: -32.22221890733494 best_b: -49.769724954455356, and the loss is: 76404.08124893311\n",
      "When time is : 53, get best_k: -31.72221890733494 best_b: -49.269724954455356, and the loss is: 74395.23918991907\n",
      "When time is : 54, get best_k: -31.22221890733494 best_b: -48.769724954455356, and the loss is: 72413.17642759178\n",
      "When time is : 55, get best_k: -30.72221890733494 best_b: -48.269724954455356, and the loss is: 70457.89296195126\n",
      "When time is : 56, get best_k: -30.22221890733494 best_b: -47.769724954455356, and the loss is: 68529.3887929975\n",
      "When time is : 57, get best_k: -29.72221890733494 best_b: -47.269724954455356, and the loss is: 66627.6639207305\n",
      "When time is : 58, get best_k: -29.22221890733494 best_b: -46.769724954455356, and the loss is: 64752.71834515025\n",
      "When time is : 59, get best_k: -28.72221890733494 best_b: -46.269724954455356, and the loss is: 62904.552066256765\n",
      "When time is : 60, get best_k: -28.22221890733494 best_b: -45.769724954455356, and the loss is: 61083.16508405003\n",
      "When time is : 61, get best_k: -27.72221890733494 best_b: -45.269724954455356, and the loss is: 59288.55739853007\n",
      "When time is : 62, get best_k: -27.22221890733494 best_b: -44.769724954455356, and the loss is: 57520.72900969686\n",
      "When time is : 63, get best_k: -26.72221890733494 best_b: -44.269724954455356, and the loss is: 55779.67991755041\n",
      "When time is : 64, get best_k: -26.22221890733494 best_b: -43.769724954455356, and the loss is: 54065.410122090725\n",
      "When time is : 65, get best_k: -25.72221890733494 best_b: -43.269724954455356, and the loss is: 52377.919623317786\n",
      "When time is : 66, get best_k: -25.22221890733494 best_b: -42.769724954455356, and the loss is: 50717.20842123161\n",
      "When time is : 67, get best_k: -24.72221890733494 best_b: -42.269724954455356, and the loss is: 49083.27651583219\n",
      "When time is : 68, get best_k: -24.22221890733494 best_b: -41.769724954455356, and the loss is: 47476.123907119545\n",
      "When time is : 69, get best_k: -23.72221890733494 best_b: -41.269724954455356, and the loss is: 45895.75059509364\n",
      "When time is : 70, get best_k: -23.22221890733494 best_b: -40.769724954455356, and the loss is: 44342.156579754504\n",
      "When time is : 71, get best_k: -22.72221890733494 best_b: -40.269724954455356, and the loss is: 42815.341861102126\n",
      "When time is : 72, get best_k: -22.22221890733494 best_b: -39.769724954455356, and the loss is: 41315.306439136504\n",
      "When time is : 73, get best_k: -21.72221890733494 best_b: -39.269724954455356, and the loss is: 39842.050313857646\n",
      "When time is : 74, get best_k: -21.22221890733494 best_b: -38.769724954455356, and the loss is: 38395.57348526555\n",
      "When time is : 75, get best_k: -20.72221890733494 best_b: -38.269724954455356, and the loss is: 36975.8759533602\n",
      "When time is : 76, get best_k: -20.22221890733494 best_b: -37.769724954455356, and the loss is: 35582.95771814161\n",
      "When time is : 77, get best_k: -19.72221890733494 best_b: -37.269724954455356, and the loss is: 34216.81877960979\n",
      "When time is : 78, get best_k: -19.22221890733494 best_b: -36.769724954455356, and the loss is: 32877.45913776472\n",
      "When time is : 79, get best_k: -18.72221890733494 best_b: -36.269724954455356, and the loss is: 31564.87879260641\n",
      "When time is : 80, get best_k: -18.22221890733494 best_b: -35.769724954455356, and the loss is: 30279.077744134862\n",
      "When time is : 81, get best_k: -17.72221890733494 best_b: -35.269724954455356, and the loss is: 29020.05599235007\n",
      "When time is : 82, get best_k: -17.22221890733494 best_b: -34.769724954455356, and the loss is: 27787.81353725204\n",
      "When time is : 83, get best_k: -16.72221890733494 best_b: -34.269724954455356, and the loss is: 26582.350378840772\n",
      "When time is : 84, get best_k: -16.22221890733494 best_b: -33.769724954455356, and the loss is: 25403.666517116253\n",
      "When time is : 85, get best_k: -15.722218907334941 best_b: -33.269724954455356, and the loss is: 24251.7619520785\n",
      "When time is : 86, get best_k: -15.222218907334941 best_b: -32.769724954455356, and the loss is: 23126.636683727505\n",
      "When time is : 87, get best_k: -14.722218907334941 best_b: -32.269724954455356, and the loss is: 22028.29071206327\n",
      "When time is : 88, get best_k: -14.222218907334941 best_b: -31.769724954455356, and the loss is: 20956.724037085787\n",
      "When time is : 89, get best_k: -13.722218907334941 best_b: -31.269724954455356, and the loss is: 19911.936658795068\n",
      "When time is : 90, get best_k: -13.222218907334941 best_b: -30.769724954455356, and the loss is: 18893.928577191113\n",
      "When time is : 91, get best_k: -12.722218907334941 best_b: -30.269724954455356, and the loss is: 17902.69979227391\n",
      "When time is : 92, get best_k: -12.222218907334941 best_b: -29.769724954455356, and the loss is: 16938.250304043464\n",
      "When time is : 93, get best_k: -11.722218907334941 best_b: -29.269724954455356, and the loss is: 16000.580112499782\n",
      "When time is : 94, get best_k: -11.222218907334941 best_b: -28.769724954455356, and the loss is: 15089.689217642857\n",
      "When time is : 95, get best_k: -10.722218907334941 best_b: -28.269724954455356, and the loss is: 14205.577619472691\n",
      "When time is : 96, get best_k: -10.222218907334941 best_b: -27.769724954455356, and the loss is: 13348.245317989285\n",
      "When time is : 97, get best_k: -9.722218907334941 best_b: -27.269724954455356, and the loss is: 12517.692313192636\n",
      "When time is : 98, get best_k: -9.222218907334941 best_b: -26.769724954455356, and the loss is: 11713.918605082745\n",
      "When time is : 99, get best_k: -8.722218907334941 best_b: -26.269724954455356, and the loss is: 10936.924193659617\n",
      "When time is : 100, get best_k: -8.222218907334941 best_b: -25.769724954455356, and the loss is: 10186.709078923244\n",
      "When time is : 101, get best_k: -7.722218907334941 best_b: -25.269724954455356, and the loss is: 9463.273260873631\n",
      "When time is : 102, get best_k: -7.222218907334941 best_b: -24.769724954455356, and the loss is: 8766.616739510779\n",
      "When time is : 103, get best_k: -6.722218907334941 best_b: -24.269724954455356, and the loss is: 8096.739514834684\n",
      "When time is : 104, get best_k: -6.222218907334941 best_b: -23.769724954455356, and the loss is: 7453.641586845348\n",
      "When time is : 105, get best_k: -5.722218907334941 best_b: -23.269724954455356, and the loss is: 6837.322955542771\n",
      "When time is : 106, get best_k: -5.222218907334941 best_b: -22.769724954455356, and the loss is: 6247.7836209269535\n",
      "When time is : 107, get best_k: -4.722218907334941 best_b: -22.269724954455356, and the loss is: 5685.023582997894\n",
      "When time is : 108, get best_k: -4.222218907334941 best_b: -21.769724954455356, and the loss is: 5149.042841755594\n",
      "When time is : 109, get best_k: -3.722218907334941 best_b: -21.269724954455356, and the loss is: 4639.841397200053\n",
      "When time is : 110, get best_k: -3.222218907334941 best_b: -20.769724954455356, and the loss is: 4157.419249331269\n",
      "When time is : 111, get best_k: -2.722218907334941 best_b: -20.269724954455356, and the loss is: 3701.776398149246\n",
      "When time is : 112, get best_k: -2.222218907334941 best_b: -19.769724954455356, and the loss is: 3272.912843653981\n",
      "When time is : 113, get best_k: -1.7222189073349412 best_b: -19.269724954455356, and the loss is: 2870.828585845475\n",
      "When time is : 114, get best_k: -1.2222189073349412 best_b: -18.769724954455356, and the loss is: 2495.5236247237285\n",
      "When time is : 115, get best_k: -0.7222189073349412 best_b: -18.269724954455356, and the loss is: 2146.99796028874\n",
      "When time is : 116, get best_k: -0.2222189073349412 best_b: -17.769724954455356, and the loss is: 1825.2515925405112\n",
      "When time is : 117, get best_k: 0.2777810926650588 best_b: -17.269724954455356, and the loss is: 1530.284521479041\n",
      "When time is : 118, get best_k: 0.7777810926650588 best_b: -16.769724954455356, and the loss is: 1262.0967471043298\n",
      "When time is : 119, get best_k: 1.2777810926650588 best_b: -16.269724954455356, and the loss is: 1020.688269416377\n",
      "When time is : 120, get best_k: 1.7777810926650588 best_b: -15.769724954455356, and the loss is: 806.0590884151835\n",
      "When time is : 121, get best_k: 2.277781092665059 best_b: -15.269724954455356, and the loss is: 618.2092041007488\n",
      "When time is : 122, get best_k: 2.777781092665059 best_b: -14.769724954455356, and the loss is: 457.138616473073\n",
      "When time is : 123, get best_k: 3.277781092665059 best_b: -14.269724954455356, and the loss is: 322.8473255321561\n",
      "When time is : 124, get best_k: 3.777781092665059 best_b: -13.769724954455356, and the loss is: 215.33533127799805\n",
      "When time is : 125, get best_k: 4.277781092665059 best_b: -13.269724954455356, and the loss is: 134.60263371059895\n",
      "When time is : 126, get best_k: 4.777781092665059 best_b: -12.769724954455356, and the loss is: 80.6492328299587\n",
      "When time is : 127, get best_k: 5.277781092665059 best_b: -12.269724954455356, and the loss is: 53.47512863607738\n",
      "When time is : 128, get best_k: 5.777781092665059 best_b: -11.769724954455356, and the loss is: 53.08032112895493\n",
      "When time is : 131, get best_k: 5.277781092665059 best_b: -11.269724954455356, and the loss is: 51.20791516670106\n"
     ]
    }
   ],
   "source": [
    "trying_times = 2000\n",
    "\n",
    "min_loss = float('inf')\n",
    "\n",
    "best_k = random.random() * 200 - 100\n",
    "best_b = random.random() * 200 - 100\n",
    "\n",
    "direction = [\n",
    "    (+1, -1),  # first element: k's change direction, second element: b's change direction\n",
    "    (+1, +1), \n",
    "    (-1, -1), \n",
    "    (-1, +1),\n",
    "]\n",
    "\n",
    "next_direction = random.choice(direction)\n",
    "\n",
    "scalar = 0.5\n",
    "\n",
    "for i in range(trying_times):\n",
    "    \n",
    "    k_direction, b_direction = next_direction\n",
    "    \n",
    "    current_k, current_b = best_k + k_direction * scalar, best_b + b_direction * scalar\n",
    "    \n",
    "    price_by_k_and_b = [price(r, current_k, current_b) for r in X_rm]\n",
    "\n",
    "    current_loss = loss(y, price_by_k_and_b)\n",
    "    \n",
    "    if current_loss < min_loss: # performance became better\n",
    "        min_loss = current_loss\n",
    "        best_k, best_b = current_k, current_b\n",
    "        \n",
    "        next_direction = next_direction\n",
    "        print('When time is : {}, get best_k: {} best_b: {}, and the loss is: {}'.format(i, best_k, best_b, min_loss))\n",
    "    else:\n",
    "        next_direction = random.choice(direction)"
   ]
  },
  {
   "cell_type": "markdown",
   "metadata": {},
   "source": [
    "如果我们想得到更快的更新，在更短的时间内获得更好的结果，我们需要一件事情：\n",
    "\n",
    "#### 找对改变的方向\n",
    "\n",
    "#### 如何找对改变的方向呢？ \n",
    "\n",
    "#### 2nd-method: 监督让他变化--> 监督学习"
   ]
  },
  {
   "cell_type": "markdown",
   "metadata": {},
   "source": [
    "## 导数"
   ]
  },
  {
   "cell_type": "code",
   "execution_count": null,
   "metadata": {},
   "outputs": [],
   "source": []
  }
 ],
 "metadata": {
  "kernelspec": {
   "display_name": "Python 3",
   "language": "python",
   "name": "python3"
  },
  "language_info": {
   "codemirror_mode": {
    "name": "ipython",
    "version": 3
   },
   "file_extension": ".py",
   "mimetype": "text/x-python",
   "name": "python",
   "nbconvert_exporter": "python",
   "pygments_lexer": "ipython3",
   "version": "3.7.1"
  },
  "toc": {
   "base_numbering": 1,
   "nav_menu": {},
   "number_sections": true,
   "sideBar": true,
   "skip_h1_title": false,
   "title_cell": "Table of Contents",
   "title_sidebar": "Contents",
   "toc_cell": false,
   "toc_position": {},
   "toc_section_display": true,
   "toc_window_display": false
  }
 },
 "nbformat": 4,
 "nbformat_minor": 2
}
