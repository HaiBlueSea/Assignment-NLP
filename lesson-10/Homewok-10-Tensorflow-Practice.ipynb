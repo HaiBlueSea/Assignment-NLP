{
 "cells": [
  {
   "cell_type": "markdown",
   "metadata": {},
   "source": [
    "## 基本数据类型操作\n",
    "\n",
    "sess.run()的第一个参数是一般是[optimizer, cost]，这样返回值也是optimizer, cost的结果，相当于有几个参数就返回几个"
   ]
  },
  {
   "cell_type": "code",
   "execution_count": 1,
   "metadata": {},
   "outputs": [],
   "source": [
    "import tensorflow as tf"
   ]
  },
  {
   "cell_type": "code",
   "execution_count": 2,
   "metadata": {},
   "outputs": [],
   "source": [
    "#常量数据\n",
    "a = tf.constant(2)\n",
    "b = tf.constant(3)"
   ]
  },
  {
   "cell_type": "code",
   "execution_count": 4,
   "metadata": {},
   "outputs": [
    {
     "name": "stdout",
     "output_type": "stream",
     "text": [
      "a=2, b=3\n",
      "Addition with constants: 5\n"
     ]
    }
   ],
   "source": [
    "# Launch the default graph.\n",
    "with tf.Session() as sess:\n",
    "    print('a={}, b={}'.format(sess.run(a), sess.run(b)))\n",
    "    print('Addition with constants: {}'.format(sess.run(a+b)))"
   ]
  },
  {
   "cell_type": "code",
   "execution_count": 6,
   "metadata": {},
   "outputs": [],
   "source": [
    "# Basic Operations with variable as graph input\n",
    "# The value returned by the constructor represents the output\n",
    "# of the Variable op. (define as input when running session)\n",
    "# tf Graph input\n",
    "#类似初始化一个变量，指定类型，但不赋值，而是通过feed_dict传入值\n",
    "#可以把它看成一个神经节点对象，节点的数值里保存了其值，在训练过程中其值会更新，但初始值一定要通过feedfeed_dict传入\n",
    "a = tf.placeholder(tf.int16)\n",
    "b = tf.placeholder(tf.int16)"
   ]
  },
  {
   "cell_type": "code",
   "execution_count": 9,
   "metadata": {},
   "outputs": [],
   "source": [
    "tf.placeholder??"
   ]
  },
  {
   "cell_type": "code",
   "execution_count": 8,
   "metadata": {},
   "outputs": [
    {
     "name": "stdout",
     "output_type": "stream",
     "text": [
      "Addition with variables :11\n"
     ]
    }
   ],
   "source": [
    "# Define some operations\n",
    "add = tf.add(a, b)\n",
    "mul = tf.multiply(a, b)\n",
    "with tf.Session() as sess:\n",
    "    print('Addition with variables :{}'.format(sess.run(add, feed_dict={a:5, b:6})))"
   ]
  },
  {
   "cell_type": "markdown",
   "metadata": {},
   "source": [
    "## Eager API（实时执行，不通过tf.Session()）"
   ]
  },
  {
   "cell_type": "code",
   "execution_count": 1,
   "metadata": {},
   "outputs": [],
   "source": [
    "from __future__ import absolute_import, division, print_function\n",
    "\n",
    "import numpy as np\n",
    "import tensorflow as tf"
   ]
  },
  {
   "cell_type": "code",
   "execution_count": 2,
   "metadata": {},
   "outputs": [
    {
     "name": "stdout",
     "output_type": "stream",
     "text": [
      "Setting Eager mode...\n",
      "\n",
      "WARNING: The TensorFlow contrib module will not be included in TensorFlow 2.0.\n",
      "For more information, please see:\n",
      "  * https://github.com/tensorflow/community/blob/master/rfcs/20180907-contrib-sunset.md\n",
      "  * https://github.com/tensorflow/addons\n",
      "If you depend on functionality not listed there, please file an issue.\n",
      "\n"
     ]
    }
   ],
   "source": [
    "# Set Eager API\n",
    "print(\"Setting Eager mode...\")\n",
    "tf.enable_eager_execution()\n",
    "tfe = tf.contrib.eager"
   ]
  },
  {
   "cell_type": "code",
   "execution_count": 3,
   "metadata": {},
   "outputs": [
    {
     "name": "stdout",
     "output_type": "stream",
     "text": [
      "Define constant tensors\n",
      "a = 2\n",
      "b = 3\n"
     ]
    }
   ],
   "source": [
    "# Define constant tensors\n",
    "print(\"Define constant tensors\")\n",
    "a = tf.constant(2)\n",
    "print(\"a = %i\" % a)\n",
    "b = tf.constant(3)\n",
    "print(\"b = %i\" % b)"
   ]
  },
  {
   "cell_type": "code",
   "execution_count": 4,
   "metadata": {},
   "outputs": [
    {
     "name": "stdout",
     "output_type": "stream",
     "text": [
      "Running operations, without tf.Session\n",
      "a + b = 5\n",
      "a * b = 6\n"
     ]
    }
   ],
   "source": [
    "# Run the operation without the need for tf.Session\n",
    "print(\"Running operations, without tf.Session\")\n",
    "c = a + b\n",
    "print(\"a + b = %i\" % c)\n",
    "d = a * b\n",
    "print(\"a * b = %i\" % d)"
   ]
  },
  {
   "cell_type": "code",
   "execution_count": 8,
   "metadata": {},
   "outputs": [
    {
     "name": "stdout",
     "output_type": "stream",
     "text": [
      "Mixing operations with Tensors and Numpy Arrays\n",
      "Tensor:\n",
      " a = tf.Tensor(\n",
      "[[2. 1.]\n",
      " [1. 0.]], shape=(2, 2), dtype=float32)\n",
      "NumpyArray:\n",
      " b = [[3. 0.]\n",
      " [5. 1.]]\n"
     ]
    }
   ],
   "source": [
    "# Full compatibility with Numpy\n",
    "print(\"Mixing operations with Tensors and Numpy Arrays\")\n",
    "\n",
    "# Define constant tensors\n",
    "a = tf.constant([[2., 1.],\n",
    "                 [1., 0.]], dtype=tf.float32)\n",
    "print(\"Tensor:\\n a = %s\" % a)\n",
    "b = np.array([[3., 0.],\n",
    "              [5., 1.]], dtype=np.float32)\n",
    "print(\"NumpyArray:\\n b = %s\" % b)\n"
   ]
  },
  {
   "cell_type": "code",
   "execution_count": 9,
   "metadata": {},
   "outputs": [
    {
     "name": "stdout",
     "output_type": "stream",
     "text": [
      "Running operations, without tf.Session\n",
      "a + b = tf.Tensor(\n",
      "[[5. 1.]\n",
      " [6. 1.]], shape=(2, 2), dtype=float32)\n",
      "a * b = tf.Tensor(\n",
      "[[11.  1.]\n",
      " [ 3.  0.]], shape=(2, 2), dtype=float32)\n"
     ]
    }
   ],
   "source": [
    "# Run the operation without the need for tf.Session\n",
    "print(\"Running operations, without tf.Session\")\n",
    "c = a + b\n",
    "print(\"a + b = %s\" % c)\n",
    "\n",
    "d = tf.matmul(a, b)\n",
    "print(\"a * b = %s\" % d)"
   ]
  },
  {
   "cell_type": "markdown",
   "metadata": {},
   "source": [
    "## Basic Model "
   ]
  },
  {
   "cell_type": "markdown",
   "metadata": {},
   "source": [
    "### Linear Regression "
   ]
  },
  {
   "cell_type": "code",
   "execution_count": 1,
   "metadata": {},
   "outputs": [],
   "source": [
    "import tensorflow as tf\n",
    "import numpy\n",
    "import matplotlib.pyplot as plt\n",
    "rng = numpy.random"
   ]
  },
  {
   "cell_type": "code",
   "execution_count": 2,
   "metadata": {},
   "outputs": [],
   "source": [
    "# Parameters\n",
    "learning_rate = 0.01\n",
    "training_epochs = 1000\n",
    "display_step = 50"
   ]
  },
  {
   "cell_type": "code",
   "execution_count": 3,
   "metadata": {},
   "outputs": [],
   "source": [
    "# Training Data\n",
    "train_X = numpy.asarray([3.3,4.4,5.5,6.71,6.93,4.168,9.779,6.182,7.59,2.167,\n",
    "                         7.042,10.791,5.313,7.997,5.654,9.27,3.1])\n",
    "train_Y = numpy.asarray([1.7,2.76,2.09,3.19,1.694,1.573,3.366,2.596,2.53,1.221,\n",
    "                         2.827,3.465,1.65,2.904,2.42,2.94,1.3])\n",
    "n_samples = train_X.shape[0]"
   ]
  },
  {
   "cell_type": "code",
   "execution_count": 4,
   "metadata": {},
   "outputs": [
    {
     "name": "stdout",
     "output_type": "stream",
     "text": [
      "WARNING:tensorflow:From D:\\Design Software\\Anaconda\\envs\\py36\\lib\\site-packages\\tensorflow\\python\\framework\\op_def_library.py:263: colocate_with (from tensorflow.python.framework.ops) is deprecated and will be removed in a future version.\n",
      "Instructions for updating:\n",
      "Colocations handled automatically by placer.\n"
     ]
    }
   ],
   "source": [
    "# tf Graph Input\n",
    "X = tf.placeholder(\"float\")\n",
    "Y = tf.placeholder(\"float\")\n",
    "\n",
    "# Set model weights \n",
    "W = tf.Variable(rng.randn(), name=\"weight\")\n",
    "b = tf.Variable(rng.randn(), name=\"bias\")"
   ]
  },
  {
   "cell_type": "code",
   "execution_count": 6,
   "metadata": {},
   "outputs": [
    {
     "name": "stdout",
     "output_type": "stream",
     "text": [
      "WARNING:tensorflow:From D:\\Design Software\\Anaconda\\envs\\py36\\lib\\site-packages\\tensorflow\\python\\ops\\math_ops.py:3066: to_int32 (from tensorflow.python.ops.math_ops) is deprecated and will be removed in a future version.\n",
      "Instructions for updating:\n",
      "Use tf.cast instead.\n"
     ]
    }
   ],
   "source": [
    "# Construct a linear model y = w*x +b\n",
    "pred = tf.add(tf.multiply(X, W), b)\n",
    "# Mean squared error\n",
    "cost = tf.reduce_sum(tf.pow(pred-Y, 2))/(2*n_samples)\n",
    "# Gradient descent\n",
    "optimizer = tf.train.GradientDescentOptimizer(learning_rate).minimize(cost)\n",
    "# Initialize the variables (i.e. assign their default value)\n",
    "init = tf.global_variables_initializer()"
   ]
  },
  {
   "cell_type": "code",
   "execution_count": 7,
   "metadata": {},
   "outputs": [
    {
     "name": "stdout",
     "output_type": "stream",
     "text": [
      "Epoch: 0050 cost= 0.113766648 W= 0.35692215 b= 0.029352799\n",
      "Epoch: 0100 cost= 0.109513290 W= 0.35053873 b= 0.07527407\n",
      "Epoch: 0150 cost= 0.105751358 W= 0.34453505 b= 0.11846421\n",
      "Epoch: 0200 cost= 0.102424122 W= 0.33888835 b= 0.15908578\n",
      "Epoch: 0250 cost= 0.099481337 W= 0.3335776 b= 0.19729121\n",
      "Epoch: 0300 cost= 0.096878655 W= 0.3285827 b= 0.2332243\n",
      "Epoch: 0350 cost= 0.094576731 W= 0.32388487 b= 0.26702031\n",
      "Epoch: 0400 cost= 0.092540920 W= 0.3194664 b= 0.29880637\n",
      "Epoch: 0450 cost= 0.090740405 W= 0.31531072 b= 0.32870182\n",
      "Epoch: 0500 cost= 0.089148037 W= 0.31140226 b= 0.35681942\n",
      "Epoch: 0550 cost= 0.087739773 W= 0.30772623 b= 0.38326493\n",
      "Epoch: 0600 cost= 0.086494327 W= 0.30426875 b= 0.40813756\n",
      "Epoch: 0650 cost= 0.085392959 W= 0.30101702 b= 0.43153027\n",
      "Epoch: 0700 cost= 0.084418960 W= 0.2979585 b= 0.45353207\n",
      "Epoch: 0750 cost= 0.083557606 W= 0.295082 b= 0.47422576\n",
      "Epoch: 0800 cost= 0.082795888 W= 0.2923766 b= 0.49368873\n",
      "Epoch: 0850 cost= 0.082122356 W= 0.28983212 b= 0.5119932\n",
      "Epoch: 0900 cost= 0.081526734 W= 0.28743887 b= 0.52920985\n",
      "Epoch: 0950 cost= 0.081000082 W= 0.28518802 b= 0.5454023\n",
      "Epoch: 1000 cost= 0.080534376 W= 0.283071 b= 0.56063217\n",
      "Optimization Finished!\n",
      "Training cost= 0.080534376 W= 0.283071 b= 0.56063217 \n",
      "\n"
     ]
    },
    {
     "data": {
      "image/png": "[encoded data removed]",
      "text/plain": [
       "<Figure size 432x288 with 1 Axes>"
      ]
     },
     "metadata": {
      "needs_background": "dark"
     },
     "output_type": "display_data"
    }
   ],
   "source": [
    "with tf.Session() as sess:\n",
    "    sess.run(init)\n",
    "    # Fit all training data\n",
    "    for epoch in range(training_epochs):\n",
    "        for (x, y) in zip(train_X, train_Y):\n",
    "            sess.run(optimizer, feed_dict={X: x, Y: y})\n",
    "\n",
    "        #Display logs per epoch step\n",
    "        if (epoch+1) % display_step == 0:\n",
    "            c = sess.run(cost, feed_dict={X: train_X, Y:train_Y})\n",
    "            print(\"Epoch:\", '%04d' % (epoch+1), \"cost=\", \"{:.9f}\".format(c), \\\n",
    "                \"W=\", sess.run(W), \"b=\", sess.run(b))\n",
    "\n",
    "    print(\"Optimization Finished!\")\n",
    "    training_cost = sess.run(cost, feed_dict={X: train_X, Y: train_Y})\n",
    "    print(\"Training cost=\", training_cost, \"W=\", sess.run(W), \"b=\", sess.run(b), '\\n')\n",
    "\n",
    "    #Graphic display\n",
    "    plt.plot(train_X, train_Y, 'ro', label='Original data')\n",
    "    plt.plot(train_X, sess.run(W) * train_X + sess.run(b), label='Fitted line')\n",
    "    plt.legend()\n",
    "    plt.show()"
   ]
  },
  {
   "cell_type": "markdown",
   "metadata": {},
   "source": [
    "### Logistic Regression"
   ]
  },
  {
   "cell_type": "markdown",
   "metadata": {},
   "source": [
    "MNIST Dataset Overview\n",
    "\n",
    "This example is using MNIST handwritten digits. The dataset contains 60,000 examples for training and 10,000 examples for testing. The digits have been size-normalized and centered in a fixed-size image (28x28 pixels) with values from 0 to 1. For simplicity, each image has been flattened and converted to a 1-D numpy array of 784 features (28*28).\n",
    "\n",
    "![overview](https://camo.githubusercontent.com/b06741b45df8ffe29c7de999ab2ec4ff6b2965ba/687474703a2f2f6e657572616c6e6574776f726b73616e64646565706c6561726e696e672e636f6d2f696d616765732f6d6e6973745f3130305f6469676974732e706e67)\n",
    "\n",
    "More info: http://yann.lecun.com/exdb/mnist/"
   ]
  },
  {
   "cell_type": "code",
   "execution_count": 8,
   "metadata": {},
   "outputs": [
    {
     "name": "stdout",
     "output_type": "stream",
     "text": [
      "WARNING:tensorflow:From <ipython-input-8-ed3a09c0f9cd>:4: read_data_sets (from tensorflow.contrib.learn.python.learn.datasets.mnist) is deprecated and will be removed in a future version.\n",
      "Instructions for updating:\n",
      "Please use alternatives such as official/mnist/dataset.py from tensorflow/models.\n",
      "WARNING:tensorflow:From D:\\Design Software\\Anaconda\\envs\\py36\\lib\\site-packages\\tensorflow\\contrib\\learn\\python\\learn\\datasets\\mnist.py:260: maybe_download (from tensorflow.contrib.learn.python.learn.datasets.base) is deprecated and will be removed in a future version.\n",
      "Instructions for updating:\n",
      "Please write your own downloading logic.\n",
      "WARNING:tensorflow:From D:\\Design Software\\Anaconda\\envs\\py36\\lib\\site-packages\\tensorflow\\contrib\\learn\\python\\learn\\datasets\\base.py:252: _internal_retry.<locals>.wrap.<locals>.wrapped_fn (from tensorflow.contrib.learn.python.learn.datasets.base) is deprecated and will be removed in a future version.\n",
      "Instructions for updating:\n",
      "Please use urllib or similar directly.\n",
      "Successfully downloaded train-images-idx3-ubyte.gz 9912422 bytes.\n",
      "WARNING:tensorflow:From D:\\Design Software\\Anaconda\\envs\\py36\\lib\\site-packages\\tensorflow\\contrib\\learn\\python\\learn\\datasets\\mnist.py:262: extract_images (from tensorflow.contrib.learn.python.learn.datasets.mnist) is deprecated and will be removed in a future version.\n",
      "Instructions for updating:\n",
      "Please use tf.data to implement this functionality.\n",
      "Extracting /tmp/data/train-images-idx3-ubyte.gz\n",
      "Successfully downloaded train-labels-idx1-ubyte.gz 28881 bytes.\n",
      "WARNING:tensorflow:From D:\\Design Software\\Anaconda\\envs\\py36\\lib\\site-packages\\tensorflow\\contrib\\learn\\python\\learn\\datasets\\mnist.py:267: extract_labels (from tensorflow.contrib.learn.python.learn.datasets.mnist) is deprecated and will be removed in a future version.\n",
      "Instructions for updating:\n",
      "Please use tf.data to implement this functionality.\n",
      "Extracting /tmp/data/train-labels-idx1-ubyte.gz\n",
      "WARNING:tensorflow:From D:\\Design Software\\Anaconda\\envs\\py36\\lib\\site-packages\\tensorflow\\contrib\\learn\\python\\learn\\datasets\\mnist.py:110: dense_to_one_hot (from tensorflow.contrib.learn.python.learn.datasets.mnist) is deprecated and will be removed in a future version.\n",
      "Instructions for updating:\n",
      "Please use tf.one_hot on tensors.\n",
      "Successfully downloaded t10k-images-idx3-ubyte.gz 1648877 bytes.\n",
      "Extracting /tmp/data/t10k-images-idx3-ubyte.gz\n",
      "Successfully downloaded t10k-labels-idx1-ubyte.gz 4542 bytes.\n",
      "Extracting /tmp/data/t10k-labels-idx1-ubyte.gz\n",
      "WARNING:tensorflow:From D:\\Design Software\\Anaconda\\envs\\py36\\lib\\site-packages\\tensorflow\\contrib\\learn\\python\\learn\\datasets\\mnist.py:290: DataSet.__init__ (from tensorflow.contrib.learn.python.learn.datasets.mnist) is deprecated and will be removed in a future version.\n",
      "Instructions for updating:\n",
      "Please use alternatives such as official/mnist/dataset.py from tensorflow/models.\n"
     ]
    }
   ],
   "source": [
    "# Import MINST data\n",
    "from tensorflow.examples.tutorials.mnist import input_data\n",
    "data_path = 'E:/MYGIT/DataSources/MNIST/'\n",
    "mnist = input_data.read_data_sets(\"/tmp/data/\", one_hot=True)"
   ]
  },
  {
   "cell_type": "code",
   "execution_count": 15,
   "metadata": {},
   "outputs": [
    {
     "data": {
      "image/png": "[encoded data removed]",
      "text/plain": [
       "<Figure size 432x288 with 20 Axes>"
      ]
     },
     "metadata": {},
     "output_type": "display_data"
    }
   ],
   "source": [
    "#display dataset image\n",
    "#load data\n",
    "train_X = mnist.train.images                #训练集样本\n",
    "validation_X = mnist.validation.images      #验证集样本\n",
    "test_X = mnist.test.images                  #测试集样本\n",
    "#labels\n",
    "train_Y = mnist.train.labels                #训练集标签\n",
    "validation_Y = mnist.validation.labels      #验证集标签\n",
    "test_Y = mnist.test.labels                  #测试集标签\n",
    "\n",
    "fig, ax = plt.subplots(nrows=4,ncols=5,sharex='all',sharey='all') #20个子图\n",
    "ax = ax.flatten()\n",
    "for i in range(20):\n",
    "    img = train_X[i].reshape(28, 28)\n",
    "    ax[i].imshow(img,cmap='Greys')\n",
    "ax[0].set_xticks([])\n",
    "ax[0].set_yticks([])\n",
    "plt.tight_layout()"
   ]
  },
  {
   "cell_type": "code",
   "execution_count": 9,
   "metadata": {},
   "outputs": [
    {
     "data": {
      "text/plain": [
       "tensorflow.contrib.learn.python.learn.datasets.base.Datasets"
      ]
     },
     "execution_count": 9,
     "metadata": {},
     "output_type": "execute_result"
    }
   ],
   "source": [
    "type(mnist)"
   ]
  },
  {
   "cell_type": "code",
   "execution_count": 10,
   "metadata": {},
   "outputs": [],
   "source": [
    "# Parameters\n",
    "learning_rate = 0.01\n",
    "training_epochs = 25\n",
    "batch_size = 100\n",
    "display_step = 1\n",
    "\n",
    "# tf Graph Input\n",
    "x = tf.placeholder(tf.float32, [None, 784]) # mnist data image of shape 28*28=784\n",
    "y = tf.placeholder(tf.float32, [None, 10]) # 0-9 digits recognition => 10 classes\n",
    "\n",
    "# Set model weights\n",
    "W = tf.Variable(tf.zeros([784, 10]))\n",
    "b = tf.Variable(tf.zeros([10]))\n",
    "\n",
    "# Construct model\n",
    "pred = tf.nn.softmax(tf.matmul(x, W) + b) # Softmax\n",
    "\n",
    "# Minimize error using cross entropy\n",
    "cost = tf.reduce_mean(-tf.reduce_sum(y*tf.log(pred), reduction_indices=1))\n",
    "# Gradient Descent\n",
    "optimizer = tf.train.GradientDescentOptimizer(learning_rate).minimize(cost)\n",
    "\n",
    "# Initialize the variables (i.e. assign their default value)\n",
    "init = tf.global_variables_initializer()"
   ]
  },
  {
   "cell_type": "code",
   "execution_count": 14,
   "metadata": {},
   "outputs": [
    {
     "name": "stdout",
     "output_type": "stream",
     "text": [
      "Epoch: 0001 cost= 1.183618286\n",
      "Epoch: 0002 cost= 0.665190355\n",
      "Epoch: 0003 cost= 0.552808906\n",
      "Epoch: 0004 cost= 0.498638095\n",
      "Epoch: 0005 cost= 0.465468787\n",
      "Epoch: 0006 cost= 0.442572292\n",
      "Epoch: 0007 cost= 0.425502479\n",
      "Epoch: 0008 cost= 0.412154034\n",
      "Epoch: 0009 cost= 0.401330161\n",
      "Epoch: 0010 cost= 0.392397824\n",
      "Epoch: 0011 cost= 0.384679402\n",
      "Epoch: 0012 cost= 0.378195118\n",
      "Epoch: 0013 cost= 0.372391337\n",
      "Epoch: 0014 cost= 0.367303040\n",
      "Epoch: 0015 cost= 0.362743215\n",
      "Epoch: 0016 cost= 0.358623285\n",
      "Epoch: 0017 cost= 0.354832501\n",
      "Epoch: 0018 cost= 0.351446068\n",
      "Epoch: 0019 cost= 0.348296994\n",
      "Epoch: 0020 cost= 0.345425053\n",
      "Epoch: 0021 cost= 0.342743633\n",
      "Epoch: 0022 cost= 0.340253351\n",
      "Epoch: 0023 cost= 0.337906931\n",
      "Epoch: 0024 cost= 0.335725858\n",
      "Epoch: 0025 cost= 0.333722814\n",
      "Optimization Finished!\n",
      "Accuracy: 0.8886667\n"
     ]
    }
   ],
   "source": [
    "# Start training\n",
    "with tf.Session() as sess:\n",
    "    sess.run(init)\n",
    "    # Training cycle\n",
    "    for epoch in range(training_epochs):\n",
    "        avg_cost = 0.\n",
    "        total_batch = int(mnist.train.num_examples/batch_size)\n",
    "        # Loop over all batches\n",
    "        for i in range(total_batch):\n",
    "            batch_xs, batch_ys = mnist.train.next_batch(batch_size)\n",
    "            # Fit training using batch data\n",
    "            _, c = sess.run([optimizer, cost], feed_dict={x: batch_xs,\n",
    "                                                          y: batch_ys})\n",
    "            #sess.run()\n",
    "            # Compute average loss\n",
    "            avg_cost += c / total_batch\n",
    "        # Display logs per epoch step\n",
    "        if (epoch+1) % display_step == 0:\n",
    "            print(\"Epoch:\", '%04d' % (epoch+1), \"cost=\", \"{:.9f}\".format(avg_cost))\n",
    "\n",
    "    print(\"Optimization Finished!\")\n",
    "    \n",
    "    # Test model\n",
    "    correct_prediction = tf.equal(tf.argmax(pred, 1), tf.argmax(y, 1))\n",
    "    # Calculate accuracy for 3000 examples\n",
    "    accuracy = tf.reduce_mean(tf.cast(correct_prediction, tf.float32))\n",
    "    print(\"Accuracy:\", accuracy.eval({x: mnist.test.images[:3000], y: mnist.test.labels[:3000]}))"
   ]
  },
  {
   "cell_type": "markdown",
   "metadata": {},
   "source": [
    "### Nearest Neighbor"
   ]
  },
  {
   "cell_type": "code",
   "execution_count": null,
   "metadata": {},
   "outputs": [],
   "source": [
    "import tensorflow as tf\n",
    "# Import MINST data\n",
    "data_path = 'E:/MYGIT/DataSources/MNIST/'\n",
    "from tensorflow.examples.tutorials.mnist import input_data\n",
    "mnist = input_data.read_data_sets(data_path, one_hot=True)"
   ]
  },
  {
   "cell_type": "code",
   "execution_count": 16,
   "metadata": {},
   "outputs": [],
   "source": [
    "import numpy as np"
   ]
  },
  {
   "cell_type": "code",
   "execution_count": 30,
   "metadata": {},
   "outputs": [],
   "source": [
    "# In this example, we limit mnist data\n",
    "Xtr, Ytr = mnist.train.next_batch(5000) #5000 for training (nn candidates)\n",
    "Xte, Yte = mnist.test.next_batch(200) #200 for testing\n",
    "\n",
    "# tf Graph Input\n",
    "xtr = tf.placeholder(\"float\", [None, 784])\n",
    "xte = tf.placeholder(\"float\", [784])\n",
    "\n",
    "#tf.negative()\n",
    "# Nearest Neighbor calculation using L1 Distance\n",
    "# Calculate L1 Distance\n",
    "#distance = tf.reduce_sum(tf.abs(tf.add(xtr, tf.negative(xte))), reduction_indices=1)\n",
    "#L2 Distance\n",
    "distance = tf.reduce_sum(tf.square(tf.add(xtr, tf.negative(xte))), reduction_indices=1)\n",
    "# Prediction: Get min distance index (Nearest neighbor)\n",
    "pred = tf.argmin(distance, 0)\n",
    "\n",
    "accuracy = 0.\n",
    "# Initialize the variables (i.e. assign their default value)"
   ]
  },
  {
   "cell_type": "code",
   "execution_count": 31,
   "metadata": {},
   "outputs": [
    {
     "name": "stdout",
     "output_type": "stream",
     "text": [
      "Test 0 Prediction: 2 True Class: 2\n",
      "Test 1 Prediction: 2 True Class: 2\n",
      "Test 2 Prediction: 3 True Class: 3\n",
      "Test 3 Prediction: 7 True Class: 7\n",
      "Test 4 Prediction: 3 True Class: 3\n",
      "Test 5 Prediction: 7 True Class: 7\n",
      "Test 6 Prediction: 7 True Class: 7\n",
      "Test 7 Prediction: 3 True Class: 3\n",
      "Test 8 Prediction: 0 True Class: 0\n",
      "Test 9 Prediction: 5 True Class: 5\n",
      "Test 10 Prediction: 2 True Class: 2\n",
      "Test 11 Prediction: 7 True Class: 7\n",
      "Test 12 Prediction: 1 True Class: 1\n",
      "Test 13 Prediction: 7 True Class: 7\n",
      "Test 14 Prediction: 1 True Class: 1\n",
      "Test 15 Prediction: 9 True Class: 9\n",
      "Test 16 Prediction: 0 True Class: 0\n",
      "Test 17 Prediction: 6 True Class: 6\n",
      "Test 18 Prediction: 5 True Class: 5\n",
      "Test 19 Prediction: 7 True Class: 7\n",
      "Test 20 Prediction: 8 True Class: 8\n",
      "Test 21 Prediction: 0 True Class: 0\n",
      "Test 22 Prediction: 0 True Class: 0\n",
      "Test 23 Prediction: 2 True Class: 2\n",
      "Test 24 Prediction: 6 True Class: 6\n",
      "Test 25 Prediction: 5 True Class: 5\n",
      "Test 26 Prediction: 0 True Class: 0\n",
      "Test 27 Prediction: 0 True Class: 0\n",
      "Test 28 Prediction: 9 True Class: 9\n",
      "Test 29 Prediction: 4 True Class: 4\n",
      "Test 30 Prediction: 9 True Class: 7\n",
      "Test 31 Prediction: 9 True Class: 9\n",
      "Test 32 Prediction: 0 True Class: 0\n",
      "Test 33 Prediction: 6 True Class: 6\n",
      "Test 34 Prediction: 1 True Class: 1\n",
      "Test 35 Prediction: 8 True Class: 8\n",
      "Test 36 Prediction: 8 True Class: 8\n",
      "Test 37 Prediction: 5 True Class: 5\n",
      "Test 38 Prediction: 1 True Class: 1\n",
      "Test 39 Prediction: 1 True Class: 1\n",
      "Test 40 Prediction: 4 True Class: 4\n",
      "Test 41 Prediction: 7 True Class: 7\n",
      "Test 42 Prediction: 4 True Class: 4\n",
      "Test 43 Prediction: 4 True Class: 4\n",
      "Test 44 Prediction: 7 True Class: 7\n",
      "Test 45 Prediction: 4 True Class: 9\n",
      "Test 46 Prediction: 1 True Class: 1\n",
      "Test 47 Prediction: 6 True Class: 6\n",
      "Test 48 Prediction: 6 True Class: 6\n",
      "Test 49 Prediction: 5 True Class: 5\n",
      "Test 50 Prediction: 7 True Class: 7\n",
      "Test 51 Prediction: 9 True Class: 9\n",
      "Test 52 Prediction: 9 True Class: 9\n",
      "Test 53 Prediction: 4 True Class: 4\n",
      "Test 54 Prediction: 4 True Class: 4\n",
      "Test 55 Prediction: 8 True Class: 3\n",
      "Test 56 Prediction: 7 True Class: 7\n",
      "Test 57 Prediction: 3 True Class: 3\n",
      "Test 58 Prediction: 0 True Class: 0\n",
      "Test 59 Prediction: 4 True Class: 4\n",
      "Test 60 Prediction: 2 True Class: 2\n",
      "Test 61 Prediction: 7 True Class: 7\n",
      "Test 62 Prediction: 0 True Class: 0\n",
      "Test 63 Prediction: 8 True Class: 8\n",
      "Test 64 Prediction: 7 True Class: 7\n",
      "Test 65 Prediction: 8 True Class: 8\n",
      "Test 66 Prediction: 3 True Class: 3\n",
      "Test 67 Prediction: 9 True Class: 9\n",
      "Test 68 Prediction: 7 True Class: 7\n",
      "Test 69 Prediction: 1 True Class: 1\n",
      "Test 70 Prediction: 8 True Class: 8\n",
      "Test 71 Prediction: 1 True Class: 1\n",
      "Test 72 Prediction: 3 True Class: 3\n",
      "Test 73 Prediction: 3 True Class: 3\n",
      "Test 74 Prediction: 8 True Class: 8\n",
      "Test 75 Prediction: 4 True Class: 4\n",
      "Test 76 Prediction: 8 True Class: 8\n",
      "Test 77 Prediction: 3 True Class: 3\n",
      "Test 78 Prediction: 4 True Class: 4\n",
      "Test 79 Prediction: 1 True Class: 1\n",
      "Test 80 Prediction: 1 True Class: 1\n",
      "Test 81 Prediction: 0 True Class: 0\n",
      "Test 82 Prediction: 8 True Class: 8\n",
      "Test 83 Prediction: 3 True Class: 3\n",
      "Test 84 Prediction: 2 True Class: 2\n",
      "Test 85 Prediction: 7 True Class: 7\n",
      "Test 86 Prediction: 0 True Class: 0\n",
      "Test 87 Prediction: 4 True Class: 4\n",
      "Test 88 Prediction: 9 True Class: 9\n",
      "Test 89 Prediction: 4 True Class: 4\n",
      "Test 90 Prediction: 2 True Class: 2\n",
      "Test 91 Prediction: 7 True Class: 7\n",
      "Test 92 Prediction: 2 True Class: 2\n",
      "Test 93 Prediction: 0 True Class: 0\n",
      "Test 94 Prediction: 6 True Class: 6\n",
      "Test 95 Prediction: 5 True Class: 5\n",
      "Test 96 Prediction: 4 True Class: 4\n",
      "Test 97 Prediction: 1 True Class: 1\n",
      "Test 98 Prediction: 3 True Class: 3\n",
      "Test 99 Prediction: 0 True Class: 0\n",
      "Test 100 Prediction: 6 True Class: 6\n",
      "Test 101 Prediction: 0 True Class: 0\n",
      "Test 102 Prediction: 2 True Class: 2\n",
      "Test 103 Prediction: 3 True Class: 3\n",
      "Test 104 Prediction: 1 True Class: 1\n",
      "Test 105 Prediction: 3 True Class: 3\n",
      "Test 106 Prediction: 7 True Class: 7\n",
      "Test 107 Prediction: 2 True Class: 2\n",
      "Test 108 Prediction: 5 True Class: 5\n",
      "Test 109 Prediction: 1 True Class: 1\n",
      "Test 110 Prediction: 3 True Class: 3\n",
      "Test 111 Prediction: 0 True Class: 0\n",
      "Test 112 Prediction: 2 True Class: 2\n",
      "Test 113 Prediction: 2 True Class: 2\n",
      "Test 114 Prediction: 5 True Class: 5\n",
      "Test 115 Prediction: 1 True Class: 1\n",
      "Test 116 Prediction: 8 True Class: 8\n",
      "Test 117 Prediction: 8 True Class: 8\n",
      "Test 118 Prediction: 9 True Class: 9\n",
      "Test 119 Prediction: 8 True Class: 8\n",
      "Test 120 Prediction: 5 True Class: 8\n",
      "Test 121 Prediction: 8 True Class: 8\n",
      "Test 122 Prediction: 2 True Class: 2\n",
      "Test 123 Prediction: 3 True Class: 3\n",
      "Test 124 Prediction: 8 True Class: 8\n",
      "Test 125 Prediction: 5 True Class: 5\n",
      "Test 126 Prediction: 1 True Class: 1\n",
      "Test 127 Prediction: 3 True Class: 3\n",
      "Test 128 Prediction: 4 True Class: 4\n",
      "Test 129 Prediction: 7 True Class: 7\n",
      "Test 130 Prediction: 3 True Class: 3\n",
      "Test 131 Prediction: 0 True Class: 0\n",
      "Test 132 Prediction: 8 True Class: 8\n",
      "Test 133 Prediction: 1 True Class: 7\n",
      "Test 134 Prediction: 0 True Class: 6\n",
      "Test 135 Prediction: 6 True Class: 6\n",
      "Test 136 Prediction: 9 True Class: 9\n",
      "Test 137 Prediction: 7 True Class: 7\n",
      "Test 138 Prediction: 3 True Class: 9\n",
      "Test 139 Prediction: 9 True Class: 9\n",
      "Test 140 Prediction: 3 True Class: 3\n",
      "Test 141 Prediction: 6 True Class: 6\n",
      "Test 142 Prediction: 3 True Class: 3\n",
      "Test 143 Prediction: 1 True Class: 1\n",
      "Test 144 Prediction: 1 True Class: 1\n",
      "Test 145 Prediction: 0 True Class: 0\n",
      "Test 146 Prediction: 7 True Class: 7\n",
      "Test 147 Prediction: 4 True Class: 4\n",
      "Test 148 Prediction: 4 True Class: 4\n",
      "Test 149 Prediction: 0 True Class: 0\n",
      "Test 150 Prediction: 5 True Class: 5\n",
      "Test 151 Prediction: 3 True Class: 5\n",
      "Test 152 Prediction: 2 True Class: 2\n",
      "Test 153 Prediction: 7 True Class: 7\n",
      "Test 154 Prediction: 1 True Class: 1\n",
      "Test 155 Prediction: 2 True Class: 2\n",
      "Test 156 Prediction: 2 True Class: 2\n",
      "Test 157 Prediction: 2 True Class: 7\n",
      "Test 158 Prediction: 2 True Class: 2\n",
      "Test 159 Prediction: 3 True Class: 3\n",
      "Test 160 Prediction: 4 True Class: 4\n",
      "Test 161 Prediction: 1 True Class: 1\n",
      "Test 162 Prediction: 2 True Class: 2\n",
      "Test 163 Prediction: 1 True Class: 1\n",
      "Test 164 Prediction: 4 True Class: 4\n",
      "Test 165 Prediction: 7 True Class: 7\n",
      "Test 166 Prediction: 7 True Class: 7\n",
      "Test 167 Prediction: 5 True Class: 3\n",
      "Test 168 Prediction: 9 True Class: 9\n",
      "Test 169 Prediction: 7 True Class: 7\n",
      "Test 170 Prediction: 3 True Class: 3\n",
      "Test 171 Prediction: 7 True Class: 7\n",
      "Test 172 Prediction: 5 True Class: 5\n",
      "Test 173 Prediction: 9 True Class: 9\n",
      "Test 174 Prediction: 7 True Class: 7\n",
      "Test 175 Prediction: 7 True Class: 7\n",
      "Test 176 Prediction: 2 True Class: 2\n",
      "Test 177 Prediction: 8 True Class: 8\n",
      "Test 178 Prediction: 1 True Class: 1\n",
      "Test 179 Prediction: 6 True Class: 6\n",
      "Test 180 Prediction: 5 True Class: 8\n",
      "Test 181 Prediction: 8 True Class: 8\n",
      "Test 182 Prediction: 1 True Class: 1\n",
      "Test 183 Prediction: 2 True Class: 2\n",
      "Test 184 Prediction: 6 True Class: 6\n",
      "Test 185 Prediction: 8 True Class: 3\n",
      "Test 186 Prediction: 2 True Class: 2\n",
      "Test 187 Prediction: 2 True Class: 2\n",
      "Test 188 Prediction: 5 True Class: 5\n",
      "Test 189 Prediction: 1 True Class: 1\n",
      "Test 190 Prediction: 0 True Class: 0\n",
      "Test 191 Prediction: 4 True Class: 4\n",
      "Test 192 Prediction: 4 True Class: 4\n",
      "Test 193 Prediction: 2 True Class: 2\n",
      "Test 194 Prediction: 9 True Class: 9\n",
      "Test 195 Prediction: 5 True Class: 5\n",
      "Test 196 Prediction: 3 True Class: 3\n",
      "Test 197 Prediction: 3 True Class: 3\n",
      "Test 198 Prediction: 1 True Class: 1\n",
      "Test 199 Prediction: 4 True Class: 4\n",
      "Done!\n",
      "Accuracy: 0.9400000000000007\n"
     ]
    }
   ],
   "source": [
    "# Start training\n",
    "with tf.Session() as sess:\n",
    "    sess.run(init)\n",
    "\n",
    "    # loop over test data\n",
    "    for i in range(len(Xte)):\n",
    "        # Get nearest neighbor\n",
    "        nn_index = sess.run(pred, feed_dict={xtr: Xtr, xte: Xte[i, :]})\n",
    "        # Get nearest neighbor class label and compare it to its true label\n",
    "        print(\"Test\", i, \"Prediction:\", np.argmax(Ytr[nn_index]), \\\n",
    "            \"True Class:\", np.argmax(Yte[i]))\n",
    "        # Calculate accuracy\n",
    "        if np.argmax(Ytr[nn_index]) == np.argmax(Yte[i]):\n",
    "            accuracy += 1./len(Xte)\n",
    "    print(\"Done!\")\n",
    "    print(\"Accuracy:\", accuracy)"
   ]
  },
  {
   "cell_type": "markdown",
   "metadata": {},
   "source": [
    "## Nerual Network Model"
   ]
  },
  {
   "cell_type": "code",
   "execution_count": null,
   "metadata": {},
   "outputs": [],
   "source": [
    "from __future__ import print_function\n",
    "import tensorflow as tf"
   ]
  },
  {
   "cell_type": "code",
   "execution_count": null,
   "metadata": {},
   "outputs": [],
   "source": [
    "# Import MINST data\n",
    "from tensorflow.examples.tutorials.mnist import input_data\n",
    "data_path = 'E:/MYGIT/DataSources/MNIST/'\n",
    "mnist = input_data.read_data_sets(\"/tmp/data/\", one_hot=True)"
   ]
  },
  {
   "cell_type": "code",
   "execution_count": 36,
   "metadata": {},
   "outputs": [],
   "source": [
    "train_X = mnist.train.images                #训练集样本\n",
    "validation_X = mnist.validation.images      #验证集样本\n",
    "test_X = mnist.test.images                  #测试集样本\n",
    "#labels\n",
    "train_Y = mnist.train.labels                #训练集标签\n",
    "validation_Y = mnist.validation.labels      #验证集标签\n",
    "test_Y = mnist.test.labels                  #测试集标签\n",
    "\n",
    "batch_size = 128\n",
    "num_hidden_nodes = 1024\n",
    "image_size = 28\n",
    "num_labels = 10\n",
    "graph = tf.Graph()\n",
    "\n",
    "with graph.as_default():\n",
    "\n",
    "    # Input data. For the training data, we use a placeholder that will be fed\n",
    "    # at run time with a training minibatch.\n",
    "    tf_train_dataset = tf.placeholder(tf.float32,shape=(batch_size, image_size * image_size))\n",
    "    tf_train_labels = tf.placeholder(tf.float32, shape=(batch_size, num_labels))\n",
    "    tf_valid_dataset = tf.constant(validation_X)\n",
    "    tf_test_dataset = tf.constant(test_X)\n",
    "\n",
    "    # Variables.\n",
    "    weights1 = tf.Variable(tf.truncated_normal([image_size * image_size, num_hidden_nodes]))##隐藏层1024个节点\n",
    "    biases1 = tf.Variable(tf.zeros([num_hidden_nodes]))\n",
    "    \n",
    "    weights2 = tf.Variable(tf.truncated_normal([num_hidden_nodes, num_labels]))\n",
    "    biases2 = tf.Variable(tf.zeros([num_labels]))\n",
    "\n",
    "    # Training computation.##设置神经网络tf.nn.relu()里的参数相当于逻辑回归的函数logits\n",
    "    lay1_train = tf.nn.relu(tf.matmul(tf_train_dataset, weights1) + biases1)\n",
    "    logits = tf.matmul(lay1_train, weights2) + biases2\n",
    "    \n",
    "    loss = tf.reduce_mean(tf.nn.softmax_cross_entropy_with_logits_v2(labels=tf_train_labels, logits=logits))\n",
    "    \n",
    "    # Optimizer.\n",
    "    optimizer = tf.train.GradientDescentOptimizer(0.1).minimize(loss)\n",
    "\n",
    "    # Predictions for the training, validation, and test data.\n",
    "    train_prediction = tf.nn.softmax(logits)\n",
    "    \n",
    "    lay1_valid = tf.nn.relu(tf.matmul(tf_valid_dataset, weights1) + biases1) \n",
    "    valid_prediction = tf.nn.softmax(tf.matmul(lay1_valid, weights2) + biases2)\n",
    "    \n",
    "    lay1_test = tf.nn.relu(tf.matmul(tf_test_dataset, weights1) + biases1)\n",
    "    test_prediction = tf.nn.softmax(tf.matmul(lay1_test, weights2) + biases2)"
   ]
  },
  {
   "cell_type": "code",
   "execution_count": 43,
   "metadata": {},
   "outputs": [
    {
     "name": "stdout",
     "output_type": "stream",
     "text": [
      "(55000, 784)\n",
      "(55000, 10)\n"
     ]
    }
   ],
   "source": [
    "print(train_X.shape)\n",
    "print(train_Y.shape)"
   ]
  },
  {
   "cell_type": "code",
   "execution_count": 46,
   "metadata": {},
   "outputs": [
    {
     "name": "stdout",
     "output_type": "stream",
     "text": [
      "Initialized\n",
      "Minibatch loss at step 0: 212.356537\n",
      "Minibatch accuracy: 10.2%\n",
      "Validation accuracy: 12.0%\n",
      "Minibatch loss at step 50: 14.931109\n",
      "Minibatch accuracy: 82.8%\n",
      "Validation accuracy: 84.9%\n",
      "Minibatch loss at step 100: 17.558128\n",
      "Minibatch accuracy: 80.5%\n",
      "Validation accuracy: 86.1%\n",
      "Minibatch loss at step 150: 5.048731\n",
      "Minibatch accuracy: 89.8%\n",
      "Validation accuracy: 88.7%\n",
      "Minibatch loss at step 200: 10.299953\n",
      "Minibatch accuracy: 89.8%\n",
      "Validation accuracy: 89.6%\n",
      "Minibatch loss at step 250: 5.568472\n",
      "Minibatch accuracy: 90.6%\n",
      "Validation accuracy: 89.1%\n",
      "Minibatch loss at step 300: 2.716161\n",
      "Minibatch accuracy: 93.0%\n",
      "Validation accuracy: 90.7%\n",
      "Minibatch loss at step 350: 10.032940\n",
      "Minibatch accuracy: 86.7%\n",
      "Validation accuracy: 91.5%\n",
      "Minibatch loss at step 400: 7.184385\n",
      "Minibatch accuracy: 92.2%\n",
      "Validation accuracy: 91.7%\n",
      "Minibatch loss at step 450: 8.187753\n",
      "Minibatch accuracy: 88.3%\n",
      "Validation accuracy: 92.2%\n",
      "Test accuracy: 92.0%\n"
     ]
    }
   ],
   "source": [
    "def accuracy(predictions, labels):\n",
    "    return (100.0 * np.sum(np.argmax(predictions, 1) == np.argmax(labels, 1))\n",
    "          / predictions.shape[0])\n",
    "\n",
    "num_steps = 500\n",
    "##3001*128 总共的训练数据   ## 之前是801*10000\n",
    "with tf.Session(graph=graph) as session:\n",
    "    tf.global_variables_initializer().run()\n",
    "    print(\"Initialized\")\n",
    "    for step in range(num_steps):\n",
    "        # Pick an offset within the training data, which has been randomized.\n",
    "        # Note: we could use better randomization across epochs.\n",
    "        ##分母减去batch_size是防止当batch_size不能被训练数据量整除时，offset:(offset + batch_size)超出数组界限\n",
    "        offset = (step * batch_size) % (train_Y.shape[0] - batch_size)\n",
    "        # Generate a minibatch.\n",
    "        batch_data = train_X[offset:(offset + batch_size), :]\n",
    "        batch_labels = train_Y[offset:(offset + batch_size), :]\n",
    "        # Prepare a dictionary telling the session where to feed the minibatch.\n",
    "        # The key of the dictionary is the placeholder node of the graph to be fed,\n",
    "        # and the value is the numpy array to feed to it.\n",
    "        feed_dict = {tf_train_dataset : batch_data, tf_train_labels : batch_labels}\n",
    "        _, l, predictions = session.run([optimizer, loss, train_prediction], feed_dict=feed_dict)\n",
    "        if (step % 50 == 0):\n",
    "            print(\"Minibatch loss at step %d: %f\" % (step, l))\n",
    "            print(\"Minibatch accuracy: %.1f%%\" % accuracy(predictions, batch_labels))\n",
    "            print(\"Validation accuracy: %.1f%%\" % accuracy(valid_prediction.eval(), validation_Y))\n",
    "    print(\"Test accuracy: %.1f%%\" % accuracy(test_prediction.eval(), test_Y))"
   ]
  }
 ],
 "metadata": {
  "kernelspec": {
   "display_name": "Python 3",
   "language": "python",
   "name": "python3"
  },
  "language_info": {
   "codemirror_mode": {
    "name": "ipython",
    "version": 3
   },
   "file_extension": ".py",
   "mimetype": "text/x-python",
   "name": "python",
   "nbconvert_exporter": "python",
   "pygments_lexer": "ipython3",
   "version": "3.6.9"
  },
  "toc": {
   "base_numbering": 1,
   "nav_menu": {},
   "number_sections": true,
   "sideBar": true,
   "skip_h1_title": false,
   "title_cell": "Table of Contents",
   "title_sidebar": "Contents",
   "toc_cell": false,
   "toc_position": {},
   "toc_section_display": true,
   "toc_window_display": false
  }
 },
 "nbformat": 4,
 "nbformat_minor": 2
}
