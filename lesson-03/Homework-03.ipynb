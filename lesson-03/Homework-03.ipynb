{
 "cells": [
  {
   "cell_type": "markdown",
   "metadata": {},
   "source": [
    "## Lecture-03 Gradient Descent and Dymanic Programming"
   ]
  },
  {
   "cell_type": "markdown",
   "metadata": {},
   "source": [
    "### Part I Review the online programming. "
   ]
  },
  {
   "cell_type": "markdown",
   "metadata": {},
   "source": [
    "see (https://github.com/HaiBlueSea/Assignment-NLP/blob/master/lesson-03/lesson-03.ipynb)"
   ]
  },
  {
   "cell_type": "markdown",
   "metadata": {},
   "source": [
    "### Part 2: change loss function from $loss = \\frac{1}{n}\\sum{(y_i - \\hat(y_i))^2}$ to $loss = \\frac{1}{n}\\sum{|y_i - \\hat{y_i}|}$, and using your mathmatical knowledge to get the right partial formual. Implemen the gradient descent code."
   ]
  },
  {
   "cell_type": "markdown",
   "metadata": {},
   "source": [
    "$$ loss = \\frac{1}{n} \\sum{|\\hat{y_i} - y_i |}= \\frac{1}{n} \\sum{\\sqrt{{(\\hat y_i - y_i )}^2}}$$\n",
    "$$\\hat{y_i} = k* x_i + b$$"
   ]
  },
  {
   "cell_type": "markdown",
   "metadata": {},
   "source": [
    "$$ \\frac{\\partial loss}{\\partial k}= \\frac1n\\sum_{i=0}^n \\frac{(\\hat y_i - y_i)*x_i}{|\\hat y_i - y_i|}$$\n",
    "$$ \\frac{\\partial loss}{\\partial b}= \\frac1n\\sum_{i=0}^n \\frac{\\hat y_i - y_i}{|\\hat y_i - y_i|}$$\n",
    "\n",
    "$$梯度下降公式: \\Theta^n = \\Theta^{n-1} - \\alpha \\nabla loss $$"
   ]
  },
  {
   "cell_type": "code",
   "execution_count": 1,
   "metadata": {},
   "outputs": [],
   "source": [
    "from sklearn.datasets import load_boston\n",
    "dataset = load_boston()\n",
    "x, y = dataset['data'], dataset['target']\n",
    "x_rm = x[:, 5]"
   ]
  },
  {
   "cell_type": "code",
   "execution_count": 2,
   "metadata": {},
   "outputs": [],
   "source": [
    "import random\n",
    "import numpy as np\n",
    "import matplotlib.pyplot as plt"
   ]
  },
  {
   "cell_type": "code",
   "execution_count": 3,
   "metadata": {},
   "outputs": [],
   "source": [
    "%matplotlib inline"
   ]
  },
  {
   "cell_type": "code",
   "execution_count": 14,
   "metadata": {},
   "outputs": [],
   "source": [
    "#格式化输入参数，调整矩阵，方便矩阵运算\n",
    "num = x_rm.shape[0] \n",
    "X0 = np.ones((num, 1))\n",
    "X = np.hstack((x_rm.reshape(num, 1), X0)) #增加一个维度，方便矩阵运算\n",
    "Y = y.reshape(y.shape[0], 1)\n",
    "alpha = 0.01"
   ]
  },
  {
   "cell_type": "code",
   "execution_count": 15,
   "metadata": {},
   "outputs": [],
   "source": [
    "def loss_var(theta, x, y):\n",
    "    diff = np.dot(x, theta) - y  \n",
    "    return np.mean(np.abs(diff))"
   ]
  },
  {
   "cell_type": "code",
   "execution_count": 16,
   "metadata": {},
   "outputs": [],
   "source": [
    "def gradient_function(theta, x, y):\n",
    "    diff = np.dot(x, theta) - y\n",
    "    diff_av = diff/np.abs(diff)\n",
    "    return (1.0/y.shape[0]) * np.dot(np.transpose(x),diff_av)"
   ]
  },
  {
   "cell_type": "code",
   "execution_count": 36,
   "metadata": {},
   "outputs": [],
   "source": [
    "def gradient_descent(x, y, alpha, try_time = 1000):\n",
    "    theta = np.array([1, 1]).reshape(2, 1) #初始k b值[[1],[1]]\n",
    "    gradient = gradient_function(theta, X, Y)\n",
    "    \n",
    "    for _i in range(try_time):\n",
    "    #while not np.all(np.abs(gradient) <= 1e-4):\n",
    "        theta = theta - alpha * gradient\n",
    "        gradient = gradient_function(theta, X, Y)\n",
    "        \n",
    "    return theta"
   ]
  },
  {
   "cell_type": "code",
   "execution_count": 59,
   "metadata": {},
   "outputs": [],
   "source": [
    "theta = gradient_descent(X, Y ,0.1,100000) "
   ]
  },
  {
   "cell_type": "markdown",
   "metadata": {},
   "source": [
    "为了得到theta, try_time和初始条件在这影响比较大，因为loss函数相当于是一次函数，梯度几乎不变，导致不能快速下降\n",
    "\n",
    "如果loss函数是之前的2次函数，离最低点越远，梯度越大，此时能快速下降到目标点，离目标点越远下降越快，所以try_times很小就能达到预期值"
   ]
  },
  {
   "cell_type": "code",
   "execution_count": 60,
   "metadata": {},
   "outputs": [
    {
     "data": {
      "text/plain": [
       "<matplotlib.collections.PathCollection at 0x9d3b5f8>"
      ]
     },
     "execution_count": 60,
     "metadata": {},
     "output_type": "execute_result"
    },
    {
     "data": {
      "image/png": "[encoded data removed]",
      "text/plain": [
       "<Figure size 432x288 with 1 Axes>"
      ]
     },
     "metadata": {
      "needs_background": "light"
     },
     "output_type": "display_data"
    }
   ],
   "source": [
    "best_k, best_b = theta[0][0], theta[1][0]\n",
    "plt.scatter(x_rm,y)\n",
    "plt.scatter(x_rm, [[best_k*i + best_b for i in x_rm]])"
   ]
  },
  {
   "cell_type": "markdown",
   "metadata": {},
   "source": [
    "### Part 3: Finish the Solution Parse Part of Edit-Distance"
   ]
  },
  {
   "cell_type": "markdown",
   "metadata": {},
   "source": [
    "字符替换：Edit Distance\n",
    "\n",
    "Intention 变成 execution\n",
    "\n",
    "| I    | N    | T    | E    | *    | N    | T    | I    | O    | N    |\n",
    "| ---- | ---- | ---- | ---- | ---- | ---- | ---- | ---- | ---- | ---- |\n",
    "| *    | E    | X    | E    | C    | U    | T    | I    | O    | N    |\n",
    "\n",
    "三个步骤\n",
    "+ 1 Insertion\n",
    "+ 2 Deletion\n",
    "+ 3 Substitution"
   ]
  },
  {
   "cell_type": "markdown",
   "metadata": {},
   "source": [
    "分析：字符串a 长度为n ，字符串b 长度为m\n",
    "\n",
    "定位到两串字符a和b的最末端位置，会有三种情况出现：\n",
    "+ a和b匹配,这里又分为a[-1]==b[-1] 和 a[-1]!=b[-1] 两种情况\n",
    "+ a和b前m-1项匹配\n",
    "+ a前n-1和b匹配\n",
    "\n",
    "在这三种情况中筛选出distance最小的那个即是我们的答案\n",
    "(三种情况中，每一种情况又回到了开始时候的新的a,b的计算)\n",
    "\n",
    "同理也可从字符首个元素分析，情况分析是一致的"
   ]
  },
  {
   "cell_type": "markdown",
   "metadata": {},
   "source": [
    "$$边界条件：D(0,j) = j \\ ;D(i,0) = i\\\\$$\n",
    "$$状态转移公式：D(i,j) = min  \\begin{cases}    D(i-1,j) + 1\\\\   D(i,j-1) + 1\\\\   D(i-1,j-1) + 1 \\ \\ if \\  X[i]!=Y[j]\\ else \\ D(i-1,j-1)\\\\  \\end{cases}$$\n"
   ]
  },
  {
   "cell_type": "markdown",
   "metadata": {},
   "source": [
    "**The Edit Distance Prolem**\n",
    "\n",
    "**edit_distance:**\n",
    "\n",
    "**Input:** two strings  x of length n , y of length m\n",
    "\n",
    "**Output:** min distance and its path\n",
    "\n",
    "1:if n=0 then return m //base case\n",
    "\n",
    "2:if m=0 then return n //base case\n",
    "\n",
    "3:x_1 = 1 to n-1 element of x\n",
    "\n",
    "4:y_1 = 1 to m-1 element of y\n",
    "\n",
    "5:candidates = \n",
    "\n",
    "    edit_distance(x_1, y) + 1\n",
    "    edit_distance(x, y_1) + 1 \n",
    "    edit_distance(x_1, y_1) + 2 if x[i]==y[i] else edit_distance(x_1, y_1)\n",
    "\n",
    "6:return max of candidates"
   ]
  },
  {
   "cell_type": "code",
   "execution_count": 1,
   "metadata": {},
   "outputs": [],
   "source": [
    "from functools import lru_cache"
   ]
  },
  {
   "cell_type": "code",
   "execution_count": 2,
   "metadata": {},
   "outputs": [],
   "source": [
    "solution = {}"
   ]
  },
  {
   "cell_type": "code",
   "execution_count": 3,
   "metadata": {},
   "outputs": [],
   "source": [
    "@lru_cache(maxsize=2**10)\n",
    "def edit_distance_start_0(string1, string2):\n",
    "    '''这里从首个元素分析'''\n",
    "    if len(string1)==0 : return len(string2)  #Base case\n",
    "    if len(string2)==0 : return len(string1)  #Base case\n",
    "    \n",
    "    head_s1 = string1[0]\n",
    "    head_s2 = string2[0]\n",
    "    \n",
    "    candidates = [\n",
    "        (edit_distance_start_0(string1[1:], string2)+1 , 'DEL {}'.format(head_s1)),#删除了head_s1, string[1:]会和string2匹配\n",
    "        (edit_distance_start_0(string1, string2[1:])+1 , 'ADD {}'.format(head_s2)) #增加head_s2, string会和string2匹配\n",
    "    ]\n",
    "    \n",
    "    if head_s1==head_s2:\n",
    "        candidates.append((edit_distance_start_0(string1[1:], string2[1:])+ 0 , 'No Actions'))\n",
    "    else:\n",
    "        candidates.append((edit_distance_start_0(string1[1:], string2[1:])+1 , 'SUB {} => {}'.format(head_s1, head_s2)))\n",
    "        \n",
    "                        \n",
    "    min_distance, steps = min(candidates, key = lambda x:x[0])\n",
    "    solution[(string1, string2)] = steps \n",
    "    \n",
    "    return min_distance"
   ]
  },
  {
   "cell_type": "code",
   "execution_count": 4,
   "metadata": {},
   "outputs": [],
   "source": [
    "def edit_distance_find_path(solution, string1, string2):\n",
    "    '''Find path from solution'''\n",
    "    current = string1, string2\n",
    "    paths = []\n",
    "    while(current in solution):\n",
    "        current_action = solution[current]\n",
    "        \n",
    "        if current_action.startswith('ADD'):\n",
    "            paths.append((current, current_action))\n",
    "            current = current[0], current[1][1:]     \n",
    "            \n",
    "        elif current_action.startswith('DEL'):\n",
    "            paths.append((current, current_action))\n",
    "            current = current[0][1:], current[1]\n",
    "            \n",
    "        else :\n",
    "            paths.append((current, current_action))\n",
    "            current = current[0][1:], current[1][1:]\n",
    "    \n",
    "    return paths"
   ]
  },
  {
   "cell_type": "code",
   "execution_count": 65,
   "metadata": {},
   "outputs": [
    {
     "data": {
      "text/plain": [
       "5"
      ]
     },
     "execution_count": 65,
     "metadata": {},
     "output_type": "execute_result"
    }
   ],
   "source": [
    "edit_distance_start_0('intention', 'execution')"
   ]
  },
  {
   "cell_type": "code",
   "execution_count": 66,
   "metadata": {},
   "outputs": [
    {
     "data": {
      "text/plain": [
       "[(('intention', 'execution'), 'DEL i'),\n",
       " (('ntention', 'execution'), 'SUB n => e'),\n",
       " (('tention', 'xecution'), 'SUB t => x'),\n",
       " (('ention', 'ecution'), 'No Actions'),\n",
       " (('ntion', 'cution'), 'ADD c'),\n",
       " (('ntion', 'ution'), 'SUB n => u'),\n",
       " (('tion', 'tion'), 'No Actions'),\n",
       " (('ion', 'ion'), 'No Actions'),\n",
       " (('on', 'on'), 'No Actions'),\n",
       " (('n', 'n'), 'No Actions')]"
      ]
     },
     "execution_count": 66,
     "metadata": {},
     "output_type": "execute_result"
    }
   ],
   "source": [
    "edit_distance_find_path(solution,'intention', 'execution')"
   ]
  },
  {
   "cell_type": "markdown",
   "metadata": {},
   "source": [
    "### Part 4 Choose 1 - 2 books to keep reading: \n",
    "\n",
    "+ SICP, Structure and Interpretation of Computer Programming. \n",
    "+ Introduction to Algorithms \n",
    "+ Artificial Intelligence A Modern Approach (3rd Edition) \n",
    "+ Code Complete 2 \n",
    "+ Programming Pearls \n",
    "+ Deep Learning\n",
    "+ 黑客与画家\n",
    "+ 数学之美\n",
    "+ Fluent Python\n",
    "+ Hands on Tensorflow\n",
    "+ Conference: NIPS_ ICML_ ICLR_ ACL_ AAAI\n",
    "\n",
    "> most books you may find in our github: https://github.com/Computing-Intelligence/References"
   ]
  },
  {
   "cell_type": "markdown",
   "metadata": {},
   "source": [
    "## Part 5-1: review machine learning"
   ]
  },
  {
   "cell_type": "markdown",
   "metadata": {},
   "source": [
    "1. Why do we use Derivative / Gredient to fit a target function?¶"
   ]
  },
  {
   "cell_type": "markdown",
   "metadata": {},
   "source": [
    "Ans:有方向地向目标值前进,从而快速得到预期值"
   ]
  },
  {
   "cell_type": "markdown",
   "metadata": {},
   "source": [
    "2. In the words 'Gredient Descent', what's the Gredient and what's the Descent?¶"
   ]
  },
  {
   "cell_type": "markdown",
   "metadata": {},
   "source": [
    "Ans:梯度是函数在该点处的方向导数沿着该方向取得最大值,该最大值就是当前点的梯度，下降指沿着该方向函数值下降的最快"
   ]
  },
  {
   "cell_type": "markdown",
   "metadata": {},
   "source": [
    "\n",
    "3. What's the advantages of the 3rd gradient descent method compared to the previous methods?"
   ]
  },
  {
   "cell_type": "markdown",
   "metadata": {},
   "source": [
    "Ans:方法3的优点在于目标性强，不断迭代参数使得达到预期效果值,并且可以控制步长，设定最大loss值"
   ]
  },
  {
   "cell_type": "markdown",
   "metadata": {},
   "source": [
    "4. Using the simple words to describe: What's the machine leanring.¶"
   ]
  },
  {
   "cell_type": "markdown",
   "metadata": {},
   "source": [
    "Ans:根据变化调整自身以达目的"
   ]
  },
  {
   "cell_type": "markdown",
   "metadata": {},
   "source": [
    "### Part 5: Answer following questions: "
   ]
  },
  {
   "cell_type": "markdown",
   "metadata": {},
   "source": [
    "1. Why do we need dynamic programming? What's the difference of dynamic programming and previous talked `search` problme? "
   ]
  },
  {
   "cell_type": "markdown",
   "metadata": {},
   "source": [
    "+ 把一个较复杂的问题按照阶段划分，分解为若干个较小的局部问题，然后按照局部问题的递推关系，依次作出一系列决策，直至整个问题达到总体最优的目标\n",
    "\n",
    "+ "
   ]
  },
  {
   "cell_type": "markdown",
   "metadata": {},
   "source": [
    "2. Why do we still need dynamic programming? Why not we train a machine learning to fit a function which could get the `right` answer based on inputs?"
   ]
  },
  {
   "cell_type": "markdown",
   "metadata": {},
   "source": [
    "+ e"
   ]
  },
  {
   "cell_type": "markdown",
   "metadata": {},
   "source": [
    "3. Can you catch up at least 3 problems which could solved by Dynamic Programming? "
   ]
  },
  {
   "cell_type": "markdown",
   "metadata": {},
   "source": [
    "+ \n",
    "+ \n",
    "+ "
   ]
  },
  {
   "cell_type": "markdown",
   "metadata": {},
   "source": [
    "4. Can you catch up at least 3 problems wich could sloved by Edit Distance? "
   ]
  },
  {
   "cell_type": "markdown",
   "metadata": {},
   "source": [
    "+ \n",
    "+ \n",
    "+ "
   ]
  },
  {
   "cell_type": "markdown",
   "metadata": {},
   "source": [
    "5. Please summarize the three main features of Dynamic Programming, and make a concise explain for each feature. "
   ]
  },
  {
   "cell_type": "markdown",
   "metadata": {},
   "source": [
    "+ 最优化原理：如果问题的最优解所包含的子问题的解也是最优的，就称该问题具有最优子结构，即满足最优化原理\n",
    "+ 某状态以后的过程不会影响以前的状态，只与当前状态有关。\n",
    "+ 有重叠子问题"
   ]
  },
  {
   "cell_type": "markdown",
   "metadata": {},
   "source": [
    "6. What's the disadvantages of Dynamic Programming? (You may need search by yourself in Internet)"
   ]
  },
  {
   "cell_type": "markdown",
   "metadata": {},
   "source": [
    "+ 当前的状态会影响之后状态，导致如果某个状态出错，那么之后的状态都是错的"
   ]
  },
  {
   "cell_type": "markdown",
   "metadata": {},
   "source": [
    "## Part 6 Preparation of Project-01"
   ]
  },
  {
   "cell_type": "markdown",
   "metadata": {},
   "source": [
    "1. Using python Flask or Bottle to finish your first simple web app:\n",
    "> https://bottlepy.org/\n",
    "\n",
    "2. Learn what's the SQL, and try some simple SQL operations:\n",
    "> https://www.w3schools.com/sql/sql_intro.asp\n",
    "\n",
    "3. Learn what's the HTML ( *ONLY* need to know the basic things)\n",
    "> https://getbootstrap.com/; https://www.w3schools.com/html/"
   ]
  },
  {
   "cell_type": "markdown",
   "metadata": {},
   "source": [
    "### (Optinal) Finish the k-person-salesman problem:"
   ]
  },
  {
   "cell_type": "code",
   "execution_count": 6,
   "metadata": {},
   "outputs": [],
   "source": [
    "import random\n",
    "import matplotlib.pylab as plt"
   ]
  },
  {
   "cell_type": "code",
   "execution_count": 9,
   "metadata": {},
   "outputs": [],
   "source": [
    "latitudes = [random.randint(-100, 100) for _ in range(20)]\n",
    "longitude = [random.randint(-100, 100) for _ in range(20)]"
   ]
  },
  {
   "cell_type": "code",
   "execution_count": 10,
   "metadata": {},
   "outputs": [
    {
     "data": {
      "text/plain": [
       "<matplotlib.collections.PathCollection at 0x7cb0240>"
      ]
     },
     "execution_count": 10,
     "metadata": {},
     "output_type": "execute_result"
    },
    {
     "data": {
      "image/png": "[encoded data removed]",
      "text/plain": [
       "<Figure size 432x288 with 1 Axes>"
      ]
     },
     "metadata": {
      "needs_background": "light"
     },
     "output_type": "display_data"
    }
   ],
   "source": [
    "plt.scatter(latitudes, longitude)"
   ]
  },
  {
   "cell_type": "markdown",
   "metadata": {},
   "source": [
    "给定一个初始点 𝑃, 已经 𝑘个车辆，如何从该点出发，经这 k 个车辆经过所以的点全部一次，而且所走过的路程最短?\n",
    "\n",
    "例如："
   ]
  },
  {
   "cell_type": "code",
   "execution_count": 11,
   "metadata": {},
   "outputs": [],
   "source": [
    "chosen_p = (-50, 10)\n",
    "chosen_p2 = (1, 30)\n",
    "chosen_p3 = (99, 15)"
   ]
  },
  {
   "cell_type": "code",
   "execution_count": 12,
   "metadata": {},
   "outputs": [],
   "source": [
    "import matplotlib.pyplot as plt"
   ]
  },
  {
   "cell_type": "code",
   "execution_count": 13,
   "metadata": {
    "scrolled": true
   },
   "outputs": [
    {
     "data": {
      "text/plain": [
       "<matplotlib.collections.PathCollection at 0x7d209e8>"
      ]
     },
     "execution_count": 13,
     "metadata": {},
     "output_type": "execute_result"
    },
    {
     "data": {
      "image/png": "[encoded data removed]",
      "text/plain": [
       "<Figure size 432x288 with 1 Axes>"
      ]
     },
     "metadata": {
      "needs_background": "light"
     },
     "output_type": "display_data"
    }
   ],
   "source": [
    "plt.scatter(latitudes, longitude)\n",
    "plt.scatter([chosen_p[0]], [chosen_p[1]], color='r')\n",
    "plt.scatter([chosen_p2[0]], [chosen_p2[1]], color='r')\n",
    "plt.scatter([chosen_p3[0]], [chosen_p3[1]], color='r')"
   ]
  },
  {
   "cell_type": "markdown",
   "metadata": {},
   "source": [
    "#### 只有一个出发点情况求解"
   ]
  },
  {
   "cell_type": "markdown",
   "metadata": {},
   "source": [
    "假设有n个点编号分别是1~n，随机取编号为j的点出发;\n",
    "\n",
    "因为选取了j点，故把j点从点集合去除，我们再从剩下的点集中选一个点出发，可见，这又变成了n-1点中求最优解的情况了，故可以同动态规划来解决该问题\n",
    "\n",
    "$$其中d(i,j)表示i点和j点的距离$$\t\t\t\n",
    "$$\\begin{align}\\tag{3.21}边界条件：D(2,j) &= d(1, 2)\\\\ \\tag{3.22}转移方程：D(n,j) &= min([D(n-1, i)+d(j,i), for \\ i \\ in \\ range(n) \\ and\\  i!=j ])\\end{align}$$\n"
   ]
  },
  {
   "cell_type": "code",
   "execution_count": 14,
   "metadata": {},
   "outputs": [
    {
     "data": {
      "text/plain": [
       "<matplotlib.collections.PathCollection at 0x7f76fd0>"
      ]
     },
     "execution_count": 14,
     "metadata": {},
     "output_type": "execute_result"
    },
    {
     "data": {
      "image/png": "[encoded data removed]",
      "text/plain": [
       "<Figure size 432x288 with 1 Axes>"
      ]
     },
     "metadata": {
      "needs_background": "light"
     },
     "output_type": "display_data"
    }
   ],
   "source": [
    "latitudes = [random.randint(-100, 100) for _ in range(20)]\n",
    "longitude = [random.randint(-100, 100) for _ in range(20)]\n",
    "chosen_p = (-50, 10)\n",
    "plt.scatter(latitudes, longitude)\n",
    "plt.scatter([chosen_p[0]], [chosen_p[1]], color='r')"
   ]
  },
  {
   "cell_type": "code",
   "execution_count": 15,
   "metadata": {},
   "outputs": [],
   "source": [
    "point_location = {}\n",
    "for i in range(len(latitudes)):\n",
    "    point_location[str(i+1)] = (latitudes[i], longitude[i])\n",
    "\n",
    "point_location[str(i+2)] = chosen_p"
   ]
  },
  {
   "cell_type": "code",
   "execution_count": 16,
   "metadata": {},
   "outputs": [
    {
     "data": {
      "text/plain": [
       "{'1': (-64, 75),\n",
       " '2': (-15, 76),\n",
       " '3': (-88, 83),\n",
       " '4': (-82, -26),\n",
       " '5': (3, -65),\n",
       " '6': (-56, -79),\n",
       " '7': (-86, -8),\n",
       " '8': (-45, -21),\n",
       " '9': (95, -77),\n",
       " '10': (-53, 2),\n",
       " '11': (39, -13),\n",
       " '12': (55, 18),\n",
       " '13': (64, -42),\n",
       " '14': (99, -68),\n",
       " '15': (16, -14),\n",
       " '16': (-42, -2),\n",
       " '17': (35, -60),\n",
       " '18': (84, -29),\n",
       " '19': (-30, -64),\n",
       " '20': (-91, -21),\n",
       " '21': (-50, 10)}"
      ]
     },
     "execution_count": 16,
     "metadata": {},
     "output_type": "execute_result"
    }
   ],
   "source": [
    "point_location"
   ]
  },
  {
   "cell_type": "code",
   "execution_count": 17,
   "metadata": {},
   "outputs": [],
   "source": [
    "import math\n",
    "def distance_calcu(point1, point2):\n",
    "    return math.sqrt((point1[0]-point2[0])**2 + (point1[1]- point2[1])**2)"
   ]
  },
  {
   "cell_type": "code",
   "execution_count": 18,
   "metadata": {},
   "outputs": [],
   "source": [
    "solution_path = {}"
   ]
  },
  {
   "cell_type": "code",
   "execution_count": 19,
   "metadata": {},
   "outputs": [],
   "source": [
    "from functools import lru_cache"
   ]
  },
  {
   "cell_type": "code",
   "execution_count": 20,
   "metadata": {},
   "outputs": [],
   "source": [
    "from numba import jit\n",
    "from numba import autojit"
   ]
  },
  {
   "cell_type": "code",
   "execution_count": 21,
   "metadata": {},
   "outputs": [
    {
     "data": {
      "text/plain": [
       "51090942171709440000"
      ]
     },
     "execution_count": 21,
     "metadata": {},
     "output_type": "execute_result"
    }
   ],
   "source": [
    "mult = 1\n",
    "for i in range(1,22):\n",
    "    mult *= i\n",
    "mult"
   ]
  },
  {
   "cell_type": "code",
   "execution_count": 37,
   "metadata": {},
   "outputs": [],
   "source": [
    "solution_path = {}\n",
    "@lru_cache(maxsize=2**30)\n",
    "def min_way(string, i):\n",
    "    ''' string: 点集合，用字符串来表示，主要是为了能添加到缓存中\n",
    "        i：开始的点 ，字符串格式\n",
    "    '''\n",
    "    array_n = string.split(' ')\n",
    "    \n",
    "    if len(array_n) == 2: #Base case 边界条件\n",
    "        solution_path[(string,i)] =  (i, string.replace(i,'').strip())\n",
    "        return distance_calcu(point_location[array_n[0]], point_location[array_n[1]])\n",
    "    \n",
    "    array_n.remove(i)\n",
    "    string_new = ' '.join(str(i) for i in array_n)\n",
    "       \n",
    "    #状态转移候选\n",
    "    candidates = [(distance_calcu(point_location[i], point_location[j])+ min_way(string_new, j),(i,j)) for j in array_n]\n",
    "    \n",
    "    #筛选出最优点\n",
    "    min_distance, way = min(candidates, key = lambda x:x[0])\n",
    "    \n",
    "    #把当前最优添加到solution\n",
    "    solution_path[(string,i)] = way\n",
    "    \n",
    "    return min_distance"
   ]
  },
  {
   "cell_type": "code",
   "execution_count": 38,
   "metadata": {},
   "outputs": [],
   "source": [
    "array_n = list(range(1, len(point_location)+1))"
   ]
  },
  {
   "cell_type": "code",
   "execution_count": 39,
   "metadata": {},
   "outputs": [
    {
     "data": {
      "text/plain": [
       "[1, 2, 3, 4, 5, 6, 7, 8, 9, 10, 11, 12, 13, 14, 15, 16, 17, 18, 19, 20, 21]"
      ]
     },
     "execution_count": 39,
     "metadata": {},
     "output_type": "execute_result"
    }
   ],
   "source": [
    "array_n"
   ]
  },
  {
   "cell_type": "code",
   "execution_count": 40,
   "metadata": {},
   "outputs": [],
   "source": [
    "string = ' '.join(str(i) for i in array_n)"
   ]
  },
  {
   "cell_type": "code",
   "execution_count": 41,
   "metadata": {},
   "outputs": [
    {
     "data": {
      "text/plain": [
       "'1 2 3 4 5 6 7 8 9 10 11 12 13 14 15 16 17 18 19 20 21'"
      ]
     },
     "execution_count": 41,
     "metadata": {},
     "output_type": "execute_result"
    }
   ],
   "source": [
    "string"
   ]
  },
  {
   "cell_type": "code",
   "execution_count": 42,
   "metadata": {},
   "outputs": [
    {
     "name": "stdout",
     "output_type": "stream",
     "text": [
      "Wall time: 6min 36s\n"
     ]
    },
    {
     "data": {
      "text/plain": [
       "675.9963624776407"
      ]
     },
     "execution_count": 42,
     "metadata": {},
     "output_type": "execute_result"
    }
   ],
   "source": [
    "%%time\n",
    "min_way(string, '21')"
   ]
  },
  {
   "cell_type": "code",
   "execution_count": 391,
   "metadata": {},
   "outputs": [
    {
     "data": {
      "text/plain": [
       "{('19 20', '19'): ('19', '20'),\n",
       " ('19 20', '20'): ('20', '19'),\n",
       " ('18 19 20', '18'): ('18', '20'),\n",
       " ('18 20', '18'): ('18', '20'),\n",
       " ('18 20', '20'): ('20', '18'),\n",
       " ('18 19 20', '19'): ('19', '18'),\n",
       " ('18 19', '18'): ('18', '19'),\n",
       " ('18 19', '19'): ('19', '18'),\n",
       " ('18 19 20', '20'): ('20', '18'),\n",
       " ('17 18 19 20', '17'): ('17', '18'),\n",
       " ('17 19 20', '17'): ('17', '20'),\n",
       " ('17 20', '17'): ('17', '20'),\n",
       " ('17 20', '20'): ('20', '17'),\n",
       " ('17 19 20', '19'): ('19', '17'),\n",
       " ('17 19', '17'): ('17', '19'),\n",
       " ('17 19', '19'): ('19', '17'),\n",
       " ('17 19 20', '20'): ('20', '17'),\n",
       " ('17 18 19 20', '18'): ('18', '17'),\n",
       " ('17 18 20', '17'): ('17', '18'),\n",
       " ('17 18 20', '18'): ('18', '17'),\n",
       " ('17 18', '17'): ('17', '18'),\n",
       " ('17 18', '18'): ('18', '17'),\n",
       " ('17 18 20', '20'): ('20', '18'),\n",
       " ('17 18 19 20', '19'): ('19', '17'),\n",
       " ('17 18 19', '17'): ('17', '18'),\n",
       " ('17 18 19', '18'): ('18', '17'),\n",
       " ('17 18 19', '19'): ('19', '18'),\n",
       " ('17 18 19 20', '20'): ('20', '18'),\n",
       " ('16 17 18 19 20', '16'): ('16', '19'),\n",
       " ('16 18 19 20', '16'): ('16', '19'),\n",
       " ('16 19 20', '16'): ('16', '19'),\n",
       " ('16 20', '16'): ('16', '20'),\n",
       " ('16 20', '20'): ('20', '16'),\n",
       " ('16 19 20', '19'): ('19', '16'),\n",
       " ('16 19', '16'): ('16', '19'),\n",
       " ('16 19', '19'): ('19', '16'),\n",
       " ('16 19 20', '20'): ('20', '16'),\n",
       " ('16 18 19 20', '18'): ('18', '20'),\n",
       " ('16 18 20', '16'): ('16', '20'),\n",
       " ('16 18 20', '18'): ('18', '20'),\n",
       " ('16 18', '16'): ('16', '18'),\n",
       " ('16 18', '18'): ('18', '16'),\n",
       " ('16 18 20', '20'): ('20', '18'),\n",
       " ('16 18 19 20', '19'): ('19', '16'),\n",
       " ('16 18 19', '16'): ('16', '19'),\n",
       " ('16 18 19', '18'): ('18', '19'),\n",
       " ('16 18 19', '19'): ('19', '16'),\n",
       " ('16 18 19 20', '20'): ('20', '18'),\n",
       " ('16 17 18 19 20', '17'): ('17', '18'),\n",
       " ('16 17 19 20', '16'): ('16', '19'),\n",
       " ('16 17 19 20', '17'): ('17', '20'),\n",
       " ('16 17 20', '16'): ('16', '20'),\n",
       " ('16 17 20', '17'): ('17', '20'),\n",
       " ('16 17', '16'): ('16', '17'),\n",
       " ('16 17', '17'): ('17', '16'),\n",
       " ('16 17 20', '20'): ('20', '17'),\n",
       " ('16 17 19 20', '19'): ('19', '16'),\n",
       " ('16 17 19', '16'): ('16', '19'),\n",
       " ('16 17 19', '17'): ('17', '19'),\n",
       " ('16 17 19', '19'): ('19', '16'),\n",
       " ('16 17 19 20', '20'): ('20', '17'),\n",
       " ('16 17 18 19 20', '18'): ('18', '17'),\n",
       " ('16 17 18 20', '16'): ('16', '20'),\n",
       " ('16 17 18 20', '17'): ('17', '18'),\n",
       " ('16 17 18 20', '18'): ('18', '17'),\n",
       " ('16 17 18', '16'): ('16', '18'),\n",
       " ('16 17 18', '17'): ('17', '18'),\n",
       " ('16 17 18', '18'): ('18', '17'),\n",
       " ('16 17 18 20', '20'): ('20', '17'),\n",
       " ('16 17 18 19 20', '19'): ('19', '16'),\n",
       " ('16 17 18 19', '16'): ('16', '19'),\n",
       " ('16 17 18 19', '17'): ('17', '18'),\n",
       " ('16 17 18 19', '18'): ('18', '17'),\n",
       " ('16 17 18 19', '19'): ('19', '16'),\n",
       " ('16 17 18 19 20', '20'): ('20', '18'),\n",
       " ('15 16 17 18 19 20', '15'): ('15', '20'),\n",
       " ('15 17 18 19 20', '15'): ('15', '20'),\n",
       " ('15 18 19 20', '15'): ('15', '20'),\n",
       " ('15 19 20', '15'): ('15', '20'),\n",
       " ('15 20', '15'): ('15', '20'),\n",
       " ('15 20', '20'): ('20', '15'),\n",
       " ('15 19 20', '19'): ('19', '20'),\n",
       " ('15 19', '15'): ('15', '19'),\n",
       " ('15 19', '19'): ('19', '15'),\n",
       " ('15 19 20', '20'): ('20', '15'),\n",
       " ('15 18 19 20', '18'): ('18', '20'),\n",
       " ('15 18 20', '15'): ('15', '20'),\n",
       " ('15 18 20', '18'): ('18', '20'),\n",
       " ('15 18', '15'): ('15', '18'),\n",
       " ('15 18', '18'): ('18', '15'),\n",
       " ('15 18 20', '20'): ('20', '18'),\n",
       " ('15 18 19 20', '19'): ('19', '18'),\n",
       " ('15 18 19', '15'): ('15', '18'),\n",
       " ('15 18 19', '18'): ('18', '15'),\n",
       " ('15 18 19', '19'): ('19', '18'),\n",
       " ('15 18 19 20', '20'): ('20', '15'),\n",
       " ('15 17 18 19 20', '17'): ('17', '18'),\n",
       " ('15 17 19 20', '15'): ('15', '20'),\n",
       " ('15 17 19 20', '17'): ('17', '20'),\n",
       " ('15 17 20', '15'): ('15', '20'),\n",
       " ('15 17 20', '17'): ('17', '20'),\n",
       " ('15 17', '15'): ('15', '17'),\n",
       " ('15 17', '17'): ('17', '15'),\n",
       " ('15 17 20', '20'): ('20', '17'),\n",
       " ('15 17 19 20', '19'): ('19', '17'),\n",
       " ('15 17 19', '15'): ('15', '17'),\n",
       " ('15 17 19', '17'): ('17', '15'),\n",
       " ('15 17 19', '19'): ('19', '17'),\n",
       " ('15 17 19 20', '20'): ('20', '15'),\n",
       " ('15 17 18 19 20', '18'): ('18', '17'),\n",
       " ('15 17 18 20', '15'): ('15', '20'),\n",
       " ('15 17 18 20', '17'): ('17', '18'),\n",
       " ('15 17 18 20', '18'): ('18', '17'),\n",
       " ('15 17 18', '15'): ('15', '18'),\n",
       " ('15 17 18', '17'): ('17', '18'),\n",
       " ('15 17 18', '18'): ('18', '17'),\n",
       " ('15 17 18 20', '20'): ('20', '17'),\n",
       " ('15 17 18 19 20', '19'): ('19', '17'),\n",
       " ('15 17 18 19', '15'): ('15', '18'),\n",
       " ('15 17 18 19', '17'): ('17', '18'),\n",
       " ('15 17 18 19', '18'): ('18', '17'),\n",
       " ('15 17 18 19', '19'): ('19', '17'),\n",
       " ('15 17 18 19 20', '20'): ('20', '15'),\n",
       " ('15 16 17 18 19 20', '16'): ('16', '15'),\n",
       " ('15 16 18 19 20', '15'): ('15', '20'),\n",
       " ('15 16 18 19 20', '16'): ('16', '15'),\n",
       " ('15 16 19 20', '15'): ('15', '20'),\n",
       " ('15 16 19 20', '16'): ('16', '15'),\n",
       " ('15 16 20', '15'): ('15', '20'),\n",
       " ('15 16 20', '16'): ('16', '15'),\n",
       " ('15 16', '15'): ('15', '16'),\n",
       " ('15 16', '16'): ('16', '15'),\n",
       " ('15 16 20', '20'): ('20', '15'),\n",
       " ('15 16 19 20', '19'): ('19', '16'),\n",
       " ('15 16 19', '15'): ('15', '16'),\n",
       " ('15 16 19', '16'): ('16', '15'),\n",
       " ('15 16 19', '19'): ('19', '16'),\n",
       " ('15 16 19 20', '20'): ('20', '15'),\n",
       " ('15 16 18 19 20', '18'): ('18', '20'),\n",
       " ('15 16 18 20', '15'): ('15', '16'),\n",
       " ('15 16 18 20', '16'): ('16', '15'),\n",
       " ('15 16 18 20', '18'): ('18', '20'),\n",
       " ('15 16 18', '15'): ('15', '16'),\n",
       " ('15 16 18', '16'): ('16', '15'),\n",
       " ('15 16 18', '18'): ('18', '15'),\n",
       " ('15 16 18 20', '20'): ('20', '18'),\n",
       " ('15 16 18 19 20', '19'): ('19', '16'),\n",
       " ('15 16 18 19', '15'): ('15', '16'),\n",
       " ('15 16 18 19', '16'): ('16', '15'),\n",
       " ('15 16 18 19', '18'): ('18', '15'),\n",
       " ('15 16 18 19', '19'): ('19', '16'),\n",
       " ('15 16 18 19 20', '20'): ('20', '18'),\n",
       " ('15 16 17 18 19 20', '17'): ('17', '18'),\n",
       " ('15 16 17 19 20', '15'): ('15', '20'),\n",
       " ('15 16 17 19 20', '16'): ('16', '15'),\n",
       " ('15 16 17 19 20', '17'): ('17', '20'),\n",
       " ('15 16 17 20', '15'): ('15', '16'),\n",
       " ('15 16 17 20', '16'): ('16', '15'),\n",
       " ('15 16 17 20', '17'): ('17', '20'),\n",
       " ('15 16 17', '15'): ('15', '16'),\n",
       " ('15 16 17', '16'): ('16', '15'),\n",
       " ('15 16 17', '17'): ('17', '15'),\n",
       " ('15 16 17 20', '20'): ('20', '17'),\n",
       " ('15 16 17 19 20', '19'): ('19', '16'),\n",
       " ('15 16 17 19', '15'): ('15', '16'),\n",
       " ('15 16 17 19', '16'): ('16', '15'),\n",
       " ('15 16 17 19', '17'): ('17', '15'),\n",
       " ('15 16 17 19', '19'): ('19', '16'),\n",
       " ('15 16 17 19 20', '20'): ('20', '17'),\n",
       " ('15 16 17 18 19 20', '18'): ('18', '17'),\n",
       " ('15 16 17 18 20', '15'): ('15', '16'),\n",
       " ('15 16 17 18 20', '16'): ('16', '15'),\n",
       " ('15 16 17 18 20', '17'): ('17', '18'),\n",
       " ('15 16 17 18 20', '18'): ('18', '17'),\n",
       " ('15 16 17 18', '15'): ('15', '16'),\n",
       " ('15 16 17 18', '16'): ('16', '15'),\n",
       " ('15 16 17 18', '17'): ('17', '18'),\n",
       " ('15 16 17 18', '18'): ('18', '17'),\n",
       " ('15 16 17 18 20', '20'): ('20', '17'),\n",
       " ('15 16 17 18 19 20', '19'): ('19', '16'),\n",
       " ('15 16 17 18 19', '15'): ('15', '16'),\n",
       " ('15 16 17 18 19', '16'): ('16', '15'),\n",
       " ('15 16 17 18 19', '17'): ('17', '18'),\n",
       " ('15 16 17 18 19', '18'): ('18', '17'),\n",
       " ('15 16 17 18 19', '19'): ('19', '16'),\n",
       " ('15 16 17 18 19 20', '20'): ('20', '17'),\n",
       " ('14 15 16 17 18 19 20', '14'): ('14', '19'),\n",
       " ('14 16 17 18 19 20', '14'): ('14', '19'),\n",
       " ('14 17 18 19 20', '14'): ('14', '19'),\n",
       " ('14 18 19 20', '14'): ('14', '19'),\n",
       " ('14 19 20', '14'): ('14', '19'),\n",
       " ('14 20', '14'): ('14', '20'),\n",
       " ('14 20', '20'): ('20', '14'),\n",
       " ('14 19 20', '19'): ('19', '14'),\n",
       " ('14 19', '14'): ('14', '19'),\n",
       " ('14 19', '19'): ('19', '14'),\n",
       " ('14 19 20', '20'): ('20', '14'),\n",
       " ('14 18 19 20', '18'): ('18', '20'),\n",
       " ('14 18 20', '14'): ('14', '18'),\n",
       " ('14 18 20', '18'): ('18', '20'),\n",
       " ('14 18', '14'): ('14', '18'),\n",
       " ('14 18', '18'): ('18', '14'),\n",
       " ('14 18 20', '20'): ('20', '18'),\n",
       " ('14 18 19 20', '19'): ('19', '14'),\n",
       " ('14 18 19', '14'): ('14', '19'),\n",
       " ('14 18 19', '18'): ('18', '14'),\n",
       " ('14 18 19', '19'): ('19', '14'),\n",
       " ('14 18 19 20', '20'): ('20', '18'),\n",
       " ('14 17 18 19 20', '17'): ('17', '18'),\n",
       " ('14 17 19 20', '14'): ('14', '19'),\n",
       " ('14 17 19 20', '17'): ('17', '20'),\n",
       " ('14 17 20', '14'): ('14', '20'),\n",
       " ('14 17 20', '17'): ('17', '20'),\n",
       " ('14 17', '14'): ('14', '17'),\n",
       " ('14 17', '17'): ('17', '14'),\n",
       " ('14 17 20', '20'): ('20', '17'),\n",
       " ('14 17 19 20', '19'): ('19', '14'),\n",
       " ('14 17 19', '14'): ('14', '19'),\n",
       " ('14 17 19', '17'): ('17', '14'),\n",
       " ('14 17 19', '19'): ('19', '14'),\n",
       " ('14 17 19 20', '20'): ('20', '17'),\n",
       " ('14 17 18 19 20', '18'): ('18', '17'),\n",
       " ('14 17 18 20', '14'): ('14', '20'),\n",
       " ('14 17 18 20', '17'): ('17', '18'),\n",
       " ('14 17 18 20', '18'): ('18', '17'),\n",
       " ('14 17 18', '14'): ('14', '18'),\n",
       " ('14 17 18', '17'): ('17', '18'),\n",
       " ('14 17 18', '18'): ('18', '17'),\n",
       " ('14 17 18 20', '20'): ('20', '17'),\n",
       " ('14 17 18 19 20', '19'): ('19', '14'),\n",
       " ('14 17 18 19', '14'): ('14', '19'),\n",
       " ('14 17 18 19', '17'): ('17', '18'),\n",
       " ('14 17 18 19', '18'): ('18', '17'),\n",
       " ('14 17 18 19', '19'): ('19', '14'),\n",
       " ('14 17 18 19 20', '20'): ('20', '17'),\n",
       " ('14 16 17 18 19 20', '16'): ('16', '14'),\n",
       " ('14 16 18 19 20', '14'): ('14', '19'),\n",
       " ('14 16 18 19 20', '16'): ('16', '14'),\n",
       " ('14 16 19 20', '14'): ('14', '19'),\n",
       " ('14 16 19 20', '16'): ('16', '14'),\n",
       " ('14 16 20', '14'): ('14', '16'),\n",
       " ('14 16 20', '16'): ('16', '14'),\n",
       " ('14 16', '14'): ('14', '16'),\n",
       " ('14 16', '16'): ('16', '14'),\n",
       " ('14 16 20', '20'): ('20', '14'),\n",
       " ('14 16 19 20', '19'): ('19', '14'),\n",
       " ('14 16 19', '14'): ('14', '19'),\n",
       " ('14 16 19', '16'): ('16', '14'),\n",
       " ('14 16 19', '19'): ('19', '14'),\n",
       " ('14 16 19 20', '20'): ('20', '16'),\n",
       " ('14 16 18 19 20', '18'): ('18', '20'),\n",
       " ('14 16 18 20', '14'): ('14', '16'),\n",
       " ('14 16 18 20', '16'): ('16', '14'),\n",
       " ('14 16 18 20', '18'): ('18', '20'),\n",
       " ('14 16 18', '14'): ('14', '16'),\n",
       " ('14 16 18', '16'): ('16', '14'),\n",
       " ('14 16 18', '18'): ('18', '14'),\n",
       " ('14 16 18 20', '20'): ('20', '18'),\n",
       " ('14 16 18 19 20', '19'): ('19', '14'),\n",
       " ('14 16 18 19', '14'): ('14', '16'),\n",
       " ('14 16 18 19', '16'): ('16', '14'),\n",
       " ('14 16 18 19', '18'): ('18', '19'),\n",
       " ('14 16 18 19', '19'): ('19', '14'),\n",
       " ('14 16 18 19 20', '20'): ('20', '18'),\n",
       " ('14 16 17 18 19 20', '17'): ('17', '18'),\n",
       " ('14 16 17 19 20', '14'): ('14', '19'),\n",
       " ('14 16 17 19 20', '16'): ('16', '14'),\n",
       " ('14 16 17 19 20', '17'): ('17', '20'),\n",
       " ('14 16 17 20', '14'): ('14', '16'),\n",
       " ('14 16 17 20', '16'): ('16', '14'),\n",
       " ('14 16 17 20', '17'): ('17', '20'),\n",
       " ('14 16 17', '14'): ('14', '16'),\n",
       " ('14 16 17', '16'): ('16', '14'),\n",
       " ('14 16 17', '17'): ('17', '14'),\n",
       " ('14 16 17 20', '20'): ('20', '17'),\n",
       " ('14 16 17 19 20', '19'): ('19', '14'),\n",
       " ('14 16 17 19', '14'): ('14', '16'),\n",
       " ('14 16 17 19', '16'): ('16', '14'),\n",
       " ('14 16 17 19', '17'): ('17', '19'),\n",
       " ('14 16 17 19', '19'): ('19', '14'),\n",
       " ('14 16 17 19 20', '20'): ('20', '17'),\n",
       " ('14 16 17 18 19 20', '18'): ('18', '17'),\n",
       " ('14 16 17 18 20', '14'): ('14', '16'),\n",
       " ('14 16 17 18 20', '16'): ('16', '14'),\n",
       " ('14 16 17 18 20', '17'): ('17', '18'),\n",
       " ('14 16 17 18 20', '18'): ('18', '17'),\n",
       " ('14 16 17 18', '14'): ('14', '16'),\n",
       " ('14 16 17 18', '16'): ('16', '14'),\n",
       " ('14 16 17 18', '17'): ('17', '18'),\n",
       " ('14 16 17 18', '18'): ('18', '17'),\n",
       " ('14 16 17 18 20', '20'): ('20', '17'),\n",
       " ('14 16 17 18 19 20', '19'): ('19', '14'),\n",
       " ('14 16 17 18 19', '14'): ('14', '16'),\n",
       " ('14 16 17 18 19', '16'): ('16', '14'),\n",
       " ('14 16 17 18 19', '17'): ('17', '18'),\n",
       " ('14 16 17 18 19', '18'): ('18', '17'),\n",
       " ('14 16 17 18 19', '19'): ('19', '14'),\n",
       " ('14 16 17 18 19 20', '20'): ('20', '18'),\n",
       " ('14 15 16 17 18 19 20', '15'): ('15', '20'),\n",
       " ('14 15 17 18 19 20', '14'): ('14', '19'),\n",
       " ('14 15 17 18 19 20', '15'): ('15', '20'),\n",
       " ('14 15 18 19 20', '14'): ('14', '19'),\n",
       " ('14 15 18 19 20', '15'): ('15', '20'),\n",
       " ('14 15 19 20', '14'): ('14', '19'),\n",
       " ('14 15 19 20', '15'): ('15', '20'),\n",
       " ('14 15 20', '14'): ('14', '15'),\n",
       " ('14 15 20', '15'): ('15', '20'),\n",
       " ('14 15', '14'): ('14', '15'),\n",
       " ('14 15', '15'): ('15', '14'),\n",
       " ('14 15 20', '20'): ('20', '15'),\n",
       " ('14 15 19 20', '19'): ('19', '14'),\n",
       " ('14 15 19', '14'): ('14', '19'),\n",
       " ('14 15 19', '15'): ('15', '14'),\n",
       " ('14 15 19', '19'): ('19', '14'),\n",
       " ('14 15 19 20', '20'): ('20', '15'),\n",
       " ('14 15 18 19 20', '18'): ('18', '20'),\n",
       " ('14 15 18 20', '14'): ('14', '15'),\n",
       " ('14 15 18 20', '15'): ('15', '20'),\n",
       " ('14 15 18 20', '18'): ('18', '20'),\n",
       " ('14 15 18', '14'): ('14', '15'),\n",
       " ('14 15 18', '15'): ('15', '14'),\n",
       " ('14 15 18', '18'): ('18', '15'),\n",
       " ('14 15 18 20', '20'): ('20', '18'),\n",
       " ('14 15 18 19 20', '19'): ('19', '14'),\n",
       " ('14 15 18 19', '14'): ('14', '19'),\n",
       " ('14 15 18 19', '15'): ('15', '18'),\n",
       " ('14 15 18 19', '18'): ('18', '15'),\n",
       " ('14 15 18 19', '19'): ('19', '14'),\n",
       " ('14 15 18 19 20', '20'): ('20', '18'),\n",
       " ('14 15 17 18 19 20', '17'): ('17', '18'),\n",
       " ('14 15 17 19 20', '14'): ('14', '19'),\n",
       " ('14 15 17 19 20', '15'): ('15', '20'),\n",
       " ('14 15 17 19 20', '17'): ('17', '20'),\n",
       " ('14 15 17 20', '14'): ('14', '15'),\n",
       " ('14 15 17 20', '15'): ('15', '20'),\n",
       " ('14 15 17 20', '17'): ('17', '20'),\n",
       " ('14 15 17', '14'): ('14', '15'),\n",
       " ('14 15 17', '15'): ('15', '14'),\n",
       " ('14 15 17', '17'): ('17', '15'),\n",
       " ('14 15 17 20', '20'): ('20', '17'),\n",
       " ('14 15 17 19 20', '19'): ('19', '14'),\n",
       " ('14 15 17 19', '14'): ('14', '19'),\n",
       " ('14 15 17 19', '15'): ('15', '14'),\n",
       " ('14 15 17 19', '17'): ('17', '15'),\n",
       " ('14 15 17 19', '19'): ('19', '14'),\n",
       " ('14 15 17 19 20', '20'): ('20', '17'),\n",
       " ('14 15 17 18 19 20', '18'): ('18', '17'),\n",
       " ('14 15 17 18 20', '14'): ('14', '15'),\n",
       " ('14 15 17 18 20', '15'): ('15', '20'),\n",
       " ('14 15 17 18 20', '17'): ('17', '18'),\n",
       " ('14 15 17 18 20', '18'): ('18', '17'),\n",
       " ('14 15 17 18', '14'): ('14', '15'),\n",
       " ('14 15 17 18', '15'): ('15', '14'),\n",
       " ('14 15 17 18', '17'): ('17', '18'),\n",
       " ('14 15 17 18', '18'): ('18', '17'),\n",
       " ('14 15 17 18 20', '20'): ('20', '17'),\n",
       " ('14 15 17 18 19 20', '19'): ('19', '14'),\n",
       " ('14 15 17 18 19', '14'): ('14', '19'),\n",
       " ('14 15 17 18 19', '15'): ('15', '14'),\n",
       " ('14 15 17 18 19', '17'): ('17', '18'),\n",
       " ('14 15 17 18 19', '18'): ('18', '17'),\n",
       " ('14 15 17 18 19', '19'): ('19', '14'),\n",
       " ('14 15 17 18 19 20', '20'): ('20', '17'),\n",
       " ('14 15 16 17 18 19 20', '16'): ('16', '15'),\n",
       " ('14 15 16 18 19 20', '14'): ('14', '19'),\n",
       " ('14 15 16 18 19 20', '15'): ('15', '20'),\n",
       " ('14 15 16 18 19 20', '16'): ('16', '15'),\n",
       " ('14 15 16 19 20', '14'): ('14', '19'),\n",
       " ('14 15 16 19 20', '15'): ('15', '20'),\n",
       " ('14 15 16 19 20', '16'): ('16', '15'),\n",
       " ('14 15 16 20', '14'): ('14', '16'),\n",
       " ('14 15 16 20', '15'): ('15', '20'),\n",
       " ('14 15 16 20', '16'): ('16', '14'),\n",
       " ('14 15 16', '14'): ('14', '16'),\n",
       " ('14 15 16', '15'): ('15', '16'),\n",
       " ('14 15 16', '16'): ('16', '14'),\n",
       " ('14 15 16 20', '20'): ('20', '15'),\n",
       " ('14 15 16 19 20', '19'): ('19', '14'),\n",
       " ('14 15 16 19', '14'): ('14', '19'),\n",
       " ('14 15 16 19', '15'): ('15', '16'),\n",
       " ('14 15 16 19', '16'): ('16', '15'),\n",
       " ('14 15 16 19', '19'): ('19', '14'),\n",
       " ('14 15 16 19 20', '20'): ('20', '15'),\n",
       " ('14 15 16 18 19 20', '18'): ('18', '20'),\n",
       " ('14 15 16 18 20', '14'): ('14', '16'),\n",
       " ('14 15 16 18 20', '15'): ('15', '20'),\n",
       " ('14 15 16 18 20', '16'): ('16', '14'),\n",
       " ('14 15 16 18 20', '18'): ('18', '20'),\n",
       " ('14 15 16 18', '14'): ('14', '16'),\n",
       " ('14 15 16 18', '15'): ('15', '16'),\n",
       " ('14 15 16 18', '16'): ('16', '14'),\n",
       " ('14 15 16 18', '18'): ('18', '15'),\n",
       " ('14 15 16 18 20', '20'): ('20', '18'),\n",
       " ('14 15 16 18 19 20', '19'): ('19', '14'),\n",
       " ('14 15 16 18 19', '14'): ('14', '19'),\n",
       " ('14 15 16 18 19', '15'): ('15', '16'),\n",
       " ('14 15 16 18 19', '16'): ('16', '15'),\n",
       " ('14 15 16 18 19', '18'): ('18', '15'),\n",
       " ('14 15 16 18 19', '19'): ('19', '14'),\n",
       " ('14 15 16 18 19 20', '20'): ('20', '18'),\n",
       " ('14 15 16 17 18 19 20', '17'): ('17', '18'),\n",
       " ('14 15 16 17 19 20', '14'): ('14', '19'),\n",
       " ('14 15 16 17 19 20', '15'): ('15', '20'),\n",
       " ('14 15 16 17 19 20', '16'): ('16', '15'),\n",
       " ('14 15 16 17 19 20', '17'): ('17', '20'),\n",
       " ('14 15 16 17 20', '14'): ('14', '16'),\n",
       " ('14 15 16 17 20', '15'): ('15', '20'),\n",
       " ('14 15 16 17 20', '16'): ('16', '14'),\n",
       " ('14 15 16 17 20', '17'): ('17', '20'),\n",
       " ('14 15 16 17', '14'): ('14', '16'),\n",
       " ('14 15 16 17', '15'): ('15', '16'),\n",
       " ('14 15 16 17', '16'): ('16', '14'),\n",
       " ('14 15 16 17', '17'): ('17', '15'),\n",
       " ('14 15 16 17 20', '20'): ('20', '17'),\n",
       " ('14 15 16 17 19 20', '19'): ('19', '14'),\n",
       " ('14 15 16 17 19', '14'): ('14', '19'),\n",
       " ('14 15 16 17 19', '15'): ('15', '16'),\n",
       " ('14 15 16 17 19', '16'): ('16', '15'),\n",
       " ('14 15 16 17 19', '17'): ('17', '15'),\n",
       " ('14 15 16 17 19', '19'): ('19', '14'),\n",
       " ('14 15 16 17 19 20', '20'): ('20', '17'),\n",
       " ('14 15 16 17 18 19 20', '18'): ('18', '17'),\n",
       " ('14 15 16 17 18 20', '14'): ('14', '16'),\n",
       " ('14 15 16 17 18 20', '15'): ('15', '20'),\n",
       " ('14 15 16 17 18 20', '16'): ('16', '14'),\n",
       " ('14 15 16 17 18 20', '17'): ('17', '18'),\n",
       " ('14 15 16 17 18 20', '18'): ('18', '17'),\n",
       " ('14 15 16 17 18', '14'): ('14', '16'),\n",
       " ('14 15 16 17 18', '15'): ('15', '16'),\n",
       " ('14 15 16 17 18', '16'): ('16', '14'),\n",
       " ('14 15 16 17 18', '17'): ('17', '18'),\n",
       " ('14 15 16 17 18', '18'): ('18', '17'),\n",
       " ('14 15 16 17 18 20', '20'): ('20', '17'),\n",
       " ('14 15 16 17 18 19 20', '19'): ('19', '14'),\n",
       " ('14 15 16 17 18 19', '14'): ('14', '19'),\n",
       " ('14 15 16 17 18 19', '15'): ('15', '16'),\n",
       " ('14 15 16 17 18 19', '16'): ('16', '15'),\n",
       " ('14 15 16 17 18 19', '17'): ('17', '18'),\n",
       " ('14 15 16 17 18 19', '18'): ('18', '17'),\n",
       " ('14 15 16 17 18 19', '19'): ('19', '14'),\n",
       " ('14 15 16 17 18 19 20', '20'): ('20', '17'),\n",
       " ('13 14 15 16 17 18 19 20', '13'): ('13', '16'),\n",
       " ('13 15 16 17 18 19 20', '13'): ('13', '16'),\n",
       " ('13 16 17 18 19 20', '13'): ('13', '16'),\n",
       " ('13 17 18 19 20', '13'): ('13', '20'),\n",
       " ('13 18 19 20', '13'): ('13', '20'),\n",
       " ('13 19 20', '13'): ('13', '20'),\n",
       " ('13 20', '13'): ('13', '20'),\n",
       " ('13 20', '20'): ('20', '13'),\n",
       " ('13 19 20', '19'): ('19', '13'),\n",
       " ('13 19', '13'): ('13', '19'),\n",
       " ('13 19', '19'): ('19', '13'),\n",
       " ('13 19 20', '20'): ('20', '13'),\n",
       " ('13 18 19 20', '18'): ('18', '20'),\n",
       " ('13 18 20', '13'): ('13', '20'),\n",
       " ('13 18 20', '18'): ('18', '20'),\n",
       " ('13 18', '13'): ('13', '18'),\n",
       " ('13 18', '18'): ('18', '13'),\n",
       " ('13 18 20', '20'): ('20', '18'),\n",
       " ('13 18 19 20', '19'): ('19', '13'),\n",
       " ('13 18 19', '13'): ('13', '19'),\n",
       " ('13 18 19', '18'): ('18', '19'),\n",
       " ('13 18 19', '19'): ('19', '13'),\n",
       " ('13 18 19 20', '20'): ('20', '18'),\n",
       " ('13 17 18 19 20', '17'): ('17', '18'),\n",
       " ('13 17 19 20', '13'): ('13', '20'),\n",
       " ('13 17 19 20', '17'): ('17', '20'),\n",
       " ('13 17 20', '13'): ('13', '20'),\n",
       " ('13 17 20', '17'): ('17', '20'),\n",
       " ('13 17', '13'): ('13', '17'),\n",
       " ('13 17', '17'): ('17', '13'),\n",
       " ('13 17 20', '20'): ('20', '17'),\n",
       " ('13 17 19 20', '19'): ('19', '13'),\n",
       " ('13 17 19', '13'): ('13', '19'),\n",
       " ('13 17 19', '17'): ('17', '19'),\n",
       " ('13 17 19', '19'): ('19', '13'),\n",
       " ('13 17 19 20', '20'): ('20', '17'),\n",
       " ('13 17 18 19 20', '18'): ('18', '17'),\n",
       " ('13 17 18 20', '13'): ('13', '20'),\n",
       " ('13 17 18 20', '17'): ('17', '18'),\n",
       " ('13 17 18 20', '18'): ('18', '17'),\n",
       " ('13 17 18', '13'): ('13', '18'),\n",
       " ('13 17 18', '17'): ('17', '18'),\n",
       " ('13 17 18', '18'): ('18', '17'),\n",
       " ('13 17 18 20', '20'): ('20', '17'),\n",
       " ('13 17 18 19 20', '19'): ('19', '13'),\n",
       " ('13 17 18 19', '13'): ('13', '19'),\n",
       " ('13 17 18 19', '17'): ('17', '18'),\n",
       " ('13 17 18 19', '18'): ('18', '17'),\n",
       " ('13 17 18 19', '19'): ('19', '13'),\n",
       " ('13 17 18 19 20', '20'): ('20', '18'),\n",
       " ('13 16 17 18 19 20', '16'): ('16', '13'),\n",
       " ('13 16 18 19 20', '13'): ('13', '16'),\n",
       " ('13 16 18 19 20', '16'): ('16', '13'),\n",
       " ('13 16 19 20', '13'): ('13', '16'),\n",
       " ('13 16 19 20', '16'): ('16', '13'),\n",
       " ('13 16 20', '13'): ('13', '16'),\n",
       " ('13 16 20', '16'): ('16', '13'),\n",
       " ('13 16', '13'): ('13', '16'),\n",
       " ('13 16', '16'): ('16', '13'),\n",
       " ('13 16 20', '20'): ('20', '13'),\n",
       " ('13 16 19 20', '19'): ('19', '16'),\n",
       " ('13 16 19', '13'): ('13', '16'),\n",
       " ('13 16 19', '16'): ('16', '13'),\n",
       " ('13 16 19', '19'): ('19', '13'),\n",
       " ('13 16 19 20', '20'): ('20', '13'),\n",
       " ('13 16 18 19 20', '18'): ('18', '20'),\n",
       " ('13 16 18 20', '13'): ('13', '16'),\n",
       " ('13 16 18 20', '16'): ('16', '13'),\n",
       " ('13 16 18 20', '18'): ('18', '20'),\n",
       " ('13 16 18', '13'): ('13', '16'),\n",
       " ('13 16 18', '16'): ('16', '13'),\n",
       " ('13 16 18', '18'): ('18', '13'),\n",
       " ('13 16 18 20', '20'): ('20', '18'),\n",
       " ('13 16 18 19 20', '19'): ('19', '16'),\n",
       " ('13 16 18 19', '13'): ('13', '16'),\n",
       " ('13 16 18 19', '16'): ('16', '13'),\n",
       " ('13 16 18 19', '18'): ('18', '19'),\n",
       " ('13 16 18 19', '19'): ('19', '16'),\n",
       " ('13 16 18 19 20', '20'): ('20', '18'),\n",
       " ('13 16 17 18 19 20', '17'): ('17', '18'),\n",
       " ('13 16 17 19 20', '13'): ('13', '16'),\n",
       " ('13 16 17 19 20', '16'): ('16', '13'),\n",
       " ('13 16 17 19 20', '17'): ('17', '20'),\n",
       " ('13 16 17 20', '13'): ('13', '16'),\n",
       " ('13 16 17 20', '16'): ('16', '13'),\n",
       " ('13 16 17 20', '17'): ('17', '20'),\n",
       " ('13 16 17', '13'): ('13', '16'),\n",
       " ('13 16 17', '16'): ('16', '13'),\n",
       " ('13 16 17', '17'): ('17', '13'),\n",
       " ('13 16 17 20', '20'): ('20', '17'),\n",
       " ('13 16 17 19 20', '19'): ('19', '16'),\n",
       " ('13 16 17 19', '13'): ('13', '16'),\n",
       " ('13 16 17 19', '16'): ('16', '13'),\n",
       " ('13 16 17 19', '17'): ('17', '19'),\n",
       " ('13 16 17 19', '19'): ('19', '16'),\n",
       " ('13 16 17 19 20', '20'): ('20', '17'),\n",
       " ('13 16 17 18 19 20', '18'): ('18', '17'),\n",
       " ('13 16 17 18 20', '13'): ('13', '16'),\n",
       " ('13 16 17 18 20', '16'): ('16', '13'),\n",
       " ('13 16 17 18 20', '17'): ('17', '18'),\n",
       " ('13 16 17 18 20', '18'): ('18', '17'),\n",
       " ('13 16 17 18', '13'): ('13', '16'),\n",
       " ('13 16 17 18', '16'): ('16', '13'),\n",
       " ('13 16 17 18', '17'): ('17', '18'),\n",
       " ('13 16 17 18', '18'): ('18', '17'),\n",
       " ('13 16 17 18 20', '20'): ('20', '17'),\n",
       " ('13 16 17 18 19 20', '19'): ('19', '16'),\n",
       " ('13 16 17 18 19', '13'): ('13', '16'),\n",
       " ('13 16 17 18 19', '16'): ('16', '13'),\n",
       " ('13 16 17 18 19', '17'): ('17', '18'),\n",
       " ('13 16 17 18 19', '18'): ('18', '17'),\n",
       " ('13 16 17 18 19', '19'): ('19', '16'),\n",
       " ('13 16 17 18 19 20', '20'): ('20', '18'),\n",
       " ('13 15 16 17 18 19 20', '15'): ('15', '20'),\n",
       " ('13 15 17 18 19 20', '13'): ('13', '15'),\n",
       " ('13 15 17 18 19 20', '15'): ('15', '13'),\n",
       " ('13 15 18 19 20', '13'): ('13', '15'),\n",
       " ('13 15 18 19 20', '15'): ('15', '13'),\n",
       " ('13 15 19 20', '13'): ('13', '15'),\n",
       " ('13 15 19 20', '15'): ('15', '20'),\n",
       " ('13 15 20', '13'): ('13', '15'),\n",
       " ('13 15 20', '15'): ('15', '20'),\n",
       " ('13 15', '13'): ('13', '15'),\n",
       " ('13 15', '15'): ('15', '13'),\n",
       " ('13 15 20', '20'): ('20', '15'),\n",
       " ('13 15 19 20', '19'): ('19', '13'),\n",
       " ('13 15 19', '13'): ('13', '15'),\n",
       " ('13 15 19', '15'): ('15', '13'),\n",
       " ('13 15 19', '19'): ('19', '13'),\n",
       " ('13 15 19 20', '20'): ('20', '15'),\n",
       " ('13 15 18 19 20', '18'): ('18', '20'),\n",
       " ('13 15 18 20', '13'): ('13', '15'),\n",
       " ('13 15 18 20', '15'): ('15', '13'),\n",
       " ('13 15 18 20', '18'): ('18', '20'),\n",
       " ('13 15 18', '13'): ('13', '15'),\n",
       " ('13 15 18', '15'): ('15', '13'),\n",
       " ('13 15 18', '18'): ('18', '15'),\n",
       " ('13 15 18 20', '20'): ('20', '18'),\n",
       " ('13 15 18 19 20', '19'): ('19', '13'),\n",
       " ('13 15 18 19', '13'): ('13', '15'),\n",
       " ('13 15 18 19', '15'): ('15', '13'),\n",
       " ('13 15 18 19', '18'): ('18', '15'),\n",
       " ('13 15 18 19', '19'): ('19', '13'),\n",
       " ('13 15 18 19 20', '20'): ('20', '18'),\n",
       " ('13 15 17 18 19 20', '17'): ('17', '18'),\n",
       " ('13 15 17 19 20', '13'): ('13', '15'),\n",
       " ('13 15 17 19 20', '15'): ('15', '13'),\n",
       " ('13 15 17 19 20', '17'): ('17', '20'),\n",
       " ('13 15 17 20', '13'): ('13', '15'),\n",
       " ('13 15 17 20', '15'): ('15', '13'),\n",
       " ('13 15 17 20', '17'): ('17', '20'),\n",
       " ('13 15 17', '13'): ('13', '15'),\n",
       " ('13 15 17', '15'): ('15', '13'),\n",
       " ('13 15 17', '17'): ('17', '15'),\n",
       " ('13 15 17 20', '20'): ('20', '17'),\n",
       " ('13 15 17 19 20', '19'): ('19', '13'),\n",
       " ('13 15 17 19', '13'): ('13', '15'),\n",
       " ('13 15 17 19', '15'): ('15', '13'),\n",
       " ('13 15 17 19', '17'): ('17', '15'),\n",
       " ('13 15 17 19', '19'): ('19', '13'),\n",
       " ('13 15 17 19 20', '20'): ('20', '17'),\n",
       " ('13 15 17 18 19 20', '18'): ('18', '17'),\n",
       " ('13 15 17 18 20', '13'): ('13', '15'),\n",
       " ('13 15 17 18 20', '15'): ('15', '13'),\n",
       " ('13 15 17 18 20', '17'): ('17', '18'),\n",
       " ('13 15 17 18 20', '18'): ('18', '17'),\n",
       " ('13 15 17 18', '13'): ('13', '15'),\n",
       " ('13 15 17 18', '15'): ('15', '13'),\n",
       " ('13 15 17 18', '17'): ('17', '18'),\n",
       " ('13 15 17 18', '18'): ('18', '17'),\n",
       " ('13 15 17 18 20', '20'): ('20', '17'),\n",
       " ('13 15 17 18 19 20', '19'): ('19', '13'),\n",
       " ('13 15 17 18 19', '13'): ('13', '15'),\n",
       " ('13 15 17 18 19', '15'): ('15', '13'),\n",
       " ('13 15 17 18 19', '17'): ('17', '18'),\n",
       " ('13 15 17 18 19', '18'): ('18', '17'),\n",
       " ('13 15 17 18 19', '19'): ('19', '13'),\n",
       " ('13 15 17 18 19 20', '20'): ('20', '17'),\n",
       " ('13 15 16 17 18 19 20', '16'): ('16', '13'),\n",
       " ('13 15 16 18 19 20', '13'): ('13', '16'),\n",
       " ('13 15 16 18 19 20', '15'): ('15', '20'),\n",
       " ('13 15 16 18 19 20', '16'): ('16', '13'),\n",
       " ('13 15 16 19 20', '13'): ('13', '16'),\n",
       " ('13 15 16 19 20', '15'): ('15', '20'),\n",
       " ('13 15 16 19 20', '16'): ('16', '13'),\n",
       " ('13 15 16 20', '13'): ('13', '16'),\n",
       " ('13 15 16 20', '15'): ('15', '20'),\n",
       " ('13 15 16 20', '16'): ('16', '13'),\n",
       " ('13 15 16', '13'): ('13', '16'),\n",
       " ('13 15 16', '15'): ('15', '13'),\n",
       " ('13 15 16', '16'): ('16', '13'),\n",
       " ('13 15 16 20', '20'): ('20', '15'),\n",
       " ('13 15 16 19 20', '19'): ('19', '16'),\n",
       " ('13 15 16 19', '13'): ('13', '16'),\n",
       " ('13 15 16 19', '15'): ('15', '13'),\n",
       " ('13 15 16 19', '16'): ('16', '13'),\n",
       " ('13 15 16 19', '19'): ('19', '16'),\n",
       " ('13 15 16 19 20', '20'): ('20', '15'),\n",
       " ('13 15 16 18 19 20', '18'): ('18', '20'),\n",
       " ('13 15 16 18 20', '13'): ('13', '16'),\n",
       " ('13 15 16 18 20', '15'): ('15', '16'),\n",
       " ('13 15 16 18 20', '16'): ('16', '13'),\n",
       " ('13 15 16 18 20', '18'): ('18', '20'),\n",
       " ('13 15 16 18', '13'): ('13', '16'),\n",
       " ('13 15 16 18', '15'): ('15', '16'),\n",
       " ('13 15 16 18', '16'): ('16', '13'),\n",
       " ('13 15 16 18', '18'): ('18', '15'),\n",
       " ('13 15 16 18 20', '20'): ('20', '18'),\n",
       " ('13 15 16 18 19 20', '19'): ('19', '16'),\n",
       " ('13 15 16 18 19', '13'): ('13', '16'),\n",
       " ('13 15 16 18 19', '15'): ('15', '13'),\n",
       " ('13 15 16 18 19', '16'): ('16', '13'),\n",
       " ('13 15 16 18 19', '18'): ('18', '15'),\n",
       " ('13 15 16 18 19', '19'): ('19', '16'),\n",
       " ('13 15 16 18 19 20', '20'): ('20', '18'),\n",
       " ('13 15 16 17 18 19 20', '17'): ('17', '18'),\n",
       " ('13 15 16 17 19 20', '13'): ('13', '16'),\n",
       " ('13 15 16 17 19 20', '15'): ('15', '20'),\n",
       " ('13 15 16 17 19 20', '16'): ('16', '13'),\n",
       " ('13 15 16 17 19 20', '17'): ('17', '20'),\n",
       " ('13 15 16 17 20', '13'): ('13', '16'),\n",
       " ('13 15 16 17 20', '15'): ('15', '16'),\n",
       " ('13 15 16 17 20', '16'): ('16', '13'),\n",
       " ('13 15 16 17 20', '17'): ('17', '20'),\n",
       " ('13 15 16 17', '13'): ('13', '16'),\n",
       " ('13 15 16 17', '15'): ('15', '16'),\n",
       " ('13 15 16 17', '16'): ('16', '13'),\n",
       " ('13 15 16 17', '17'): ('17', '15'),\n",
       " ('13 15 16 17 20', '20'): ('20', '17'),\n",
       " ('13 15 16 17 19 20', '19'): ('19', '16'),\n",
       " ('13 15 16 17 19', '13'): ('13', '16'),\n",
       " ('13 15 16 17 19', '15'): ('15', '13'),\n",
       " ('13 15 16 17 19', '16'): ('16', '13'),\n",
       " ('13 15 16 17 19', '17'): ('17', '15'),\n",
       " ('13 15 16 17 19', '19'): ('19', '16'),\n",
       " ('13 15 16 17 19 20', '20'): ('20', '17'),\n",
       " ('13 15 16 17 18 19 20', '18'): ('18', '17'),\n",
       " ('13 15 16 17 18 20', '13'): ('13', '16'),\n",
       " ('13 15 16 17 18 20', '15'): ('15', '16'),\n",
       " ('13 15 16 17 18 20', '16'): ('16', '13'),\n",
       " ('13 15 16 17 18 20', '17'): ('17', '18'),\n",
       " ('13 15 16 17 18 20', '18'): ('18', '17'),\n",
       " ('13 15 16 17 18', '13'): ('13', '16'),\n",
       " ('13 15 16 17 18', '15'): ('15', '16'),\n",
       " ('13 15 16 17 18', '16'): ('16', '13'),\n",
       " ('13 15 16 17 18', '17'): ('17', '18'),\n",
       " ('13 15 16 17 18', '18'): ('18', '17'),\n",
       " ('13 15 16 17 18 20', '20'): ('20', '17'),\n",
       " ('13 15 16 17 18 19 20', '19'): ('19', '16'),\n",
       " ('13 15 16 17 18 19', '13'): ('13', '16'),\n",
       " ('13 15 16 17 18 19', '15'): ('15', '13'),\n",
       " ('13 15 16 17 18 19', '16'): ('16', '13'),\n",
       " ('13 15 16 17 18 19', '17'): ('17', '18'),\n",
       " ('13 15 16 17 18 19', '18'): ('18', '17'),\n",
       " ('13 15 16 17 18 19', '19'): ('19', '16'),\n",
       " ('13 15 16 17 18 19 20', '20'): ('20', '17'),\n",
       " ('13 14 15 16 17 18 19 20', '14'): ('14', '19'),\n",
       " ('13 14 16 17 18 19 20', '13'): ('13', '16'),\n",
       " ('13 14 16 17 18 19 20', '14'): ('14', '19'),\n",
       " ('13 14 17 18 19 20', '13'): ('13', '14'),\n",
       " ('13 14 17 18 19 20', '14'): ('14', '19'),\n",
       " ('13 14 18 19 20', '13'): ('13', '14'),\n",
       " ('13 14 18 19 20', '14'): ('14', '19'),\n",
       " ('13 14 19 20', '13'): ('13', '14'),\n",
       " ('13 14 19 20', '14'): ('14', '19'),\n",
       " ('13 14 20', '13'): ('13', '14'),\n",
       " ('13 14 20', '14'): ('14', '13'),\n",
       " ('13 14', '13'): ('13', '14'),\n",
       " ('13 14', '14'): ('14', '13'),\n",
       " ('13 14 20', '20'): ('20', '13'),\n",
       " ('13 14 19 20', '19'): ('19', '14'),\n",
       " ('13 14 19', '13'): ('13', '14'),\n",
       " ('13 14 19', '14'): ('14', '19'),\n",
       " ('13 14 19', '19'): ('19', '14'),\n",
       " ('13 14 19 20', '20'): ('20', '13'),\n",
       " ('13 14 18 19 20', '18'): ('18', '20'),\n",
       " ('13 14 18 20', '13'): ('13', '14'),\n",
       " ('13 14 18 20', '14'): ('14', '13'),\n",
       " ('13 14 18 20', '18'): ('18', '20'),\n",
       " ('13 14 18', '13'): ('13', '14'),\n",
       " ('13 14 18', '14'): ('14', '13'),\n",
       " ('13 14 18', '18'): ('18', '14'),\n",
       " ('13 14 18 20', '20'): ('20', '18'),\n",
       " ('13 14 18 19 20', '19'): ('19', '14'),\n",
       " ('13 14 18 19', '13'): ('13', '14'),\n",
       " ('13 14 18 19', '14'): ('14', '19'),\n",
       " ('13 14 18 19', '18'): ('18', '19'),\n",
       " ('13 14 18 19', '19'): ('19', '14'),\n",
       " ('13 14 18 19 20', '20'): ('20', '18'),\n",
       " ('13 14 17 18 19 20', '17'): ('17', '18'),\n",
       " ('13 14 17 19 20', '13'): ('13', '14'),\n",
       " ('13 14 17 19 20', '14'): ('14', '19'),\n",
       " ('13 14 17 19 20', '17'): ('17', '20'),\n",
       " ('13 14 17 20', '13'): ('13', '14'),\n",
       " ('13 14 17 20', '14'): ('14', '13'),\n",
       " ('13 14 17 20', '17'): ('17', '20'),\n",
       " ('13 14 17', '13'): ('13', '14'),\n",
       " ('13 14 17', '14'): ('14', '13'),\n",
       " ('13 14 17', '17'): ('17', '14'),\n",
       " ('13 14 17 20', '20'): ('20', '17'),\n",
       " ('13 14 17 19 20', '19'): ('19', '14'),\n",
       " ('13 14 17 19', '13'): ('13', '14'),\n",
       " ('13 14 17 19', '14'): ('14', '13'),\n",
       " ('13 14 17 19', '17'): ('17', '19'),\n",
       " ('13 14 17 19', '19'): ('19', '14'),\n",
       " ('13 14 17 19 20', '20'): ('20', '17'),\n",
       " ('13 14 17 18 19 20', '18'): ('18', '17'),\n",
       " ('13 14 17 18 20', '13'): ('13', '14'),\n",
       " ('13 14 17 18 20', '14'): ('14', '13'),\n",
       " ('13 14 17 18 20', '17'): ('17', '18'),\n",
       " ('13 14 17 18 20', '18'): ('18', '17'),\n",
       " ('13 14 17 18', '13'): ('13', '14'),\n",
       " ('13 14 17 18', '14'): ('14', '13'),\n",
       " ('13 14 17 18', '17'): ('17', '18'),\n",
       " ('13 14 17 18', '18'): ('18', '17'),\n",
       " ('13 14 17 18 20', '20'): ('20', '17'),\n",
       " ('13 14 17 18 19 20', '19'): ('19', '14'),\n",
       " ('13 14 17 18 19', '13'): ('13', '14'),\n",
       " ('13 14 17 18 19', '14'): ('14', '19'),\n",
       " ('13 14 17 18 19', '17'): ('17', '18'),\n",
       " ('13 14 17 18 19', '18'): ('18', '17'),\n",
       " ('13 14 17 18 19', '19'): ('19', '14'),\n",
       " ('13 14 17 18 19 20', '20'): ('20', '18'),\n",
       " ('13 14 16 17 18 19 20', '16'): ('16', '13'),\n",
       " ('13 14 16 18 19 20', '13'): ('13', '16'),\n",
       " ('13 14 16 18 19 20', '14'): ('14', '19'),\n",
       " ('13 14 16 18 19 20', '16'): ('16', '13'),\n",
       " ('13 14 16 19 20', '13'): ('13', '16'),\n",
       " ('13 14 16 19 20', '14'): ('14', '19'),\n",
       " ('13 14 16 19 20', '16'): ('16', '13'),\n",
       " ('13 14 16 20', '13'): ('13', '16'),\n",
       " ('13 14 16 20', '14'): ('14', '16'),\n",
       " ('13 14 16 20', '16'): ('16', '13'),\n",
       " ('13 14 16', '13'): ('13', '16'),\n",
       " ('13 14 16', '14'): ('14', '13'),\n",
       " ('13 14 16', '16'): ('16', '13'),\n",
       " ('13 14 16 20', '20'): ('20', '14'),\n",
       " ('13 14 16 19 20', '19'): ('19', '14'),\n",
       " ('13 14 16 19', '13'): ('13', '16'),\n",
       " ('13 14 16 19', '14'): ('14', '19'),\n",
       " ('13 14 16 19', '16'): ('16', '13'),\n",
       " ('13 14 16 19', '19'): ('19', '14'),\n",
       " ('13 14 16 19 20', '20'): ('20', '13'),\n",
       " ('13 14 16 18 19 20', '18'): ('18', '20'),\n",
       " ('13 14 16 18 20', '13'): ('13', '16'),\n",
       " ('13 14 16 18 20', '14'): ('14', '16'),\n",
       " ('13 14 16 18 20', '16'): ('16', '13'),\n",
       " ('13 14 16 18 20', '18'): ('18', '20'),\n",
       " ('13 14 16 18', '13'): ('13', '16'),\n",
       " ('13 14 16 18', '14'): ('14', '16'),\n",
       " ('13 14 16 18', '16'): ('16', '13'),\n",
       " ('13 14 16 18', '18'): ('18', '14'),\n",
       " ('13 14 16 18 20', '20'): ('20', '18'),\n",
       " ('13 14 16 18 19 20', '19'): ('19', '14'),\n",
       " ('13 14 16 18 19', '13'): ('13', '16'),\n",
       " ('13 14 16 18 19', '14'): ('14', '19'),\n",
       " ('13 14 16 18 19', '16'): ('16', '13'),\n",
       " ('13 14 16 18 19', '18'): ('18', '19'),\n",
       " ('13 14 16 18 19', '19'): ('19', '14'),\n",
       " ('13 14 16 18 19 20', '20'): ('20', '18'),\n",
       " ('13 14 16 17 18 19 20', '17'): ('17', '18'),\n",
       " ('13 14 16 17 19 20', '13'): ('13', '16'),\n",
       " ('13 14 16 17 19 20', '14'): ('14', '19'),\n",
       " ('13 14 16 17 19 20', '16'): ('16', '13'),\n",
       " ('13 14 16 17 19 20', '17'): ('17', '20'),\n",
       " ('13 14 16 17 20', '13'): ('13', '16'),\n",
       " ('13 14 16 17 20', '14'): ('14', '16'),\n",
       " ('13 14 16 17 20', '16'): ('16', '13'),\n",
       " ('13 14 16 17 20', '17'): ('17', '20'),\n",
       " ('13 14 16 17', '13'): ('13', '16'),\n",
       " ('13 14 16 17', '14'): ('14', '16'),\n",
       " ('13 14 16 17', '16'): ('16', '13'),\n",
       " ('13 14 16 17', '17'): ('17', '14'),\n",
       " ('13 14 16 17 20', '20'): ('20', '17'),\n",
       " ('13 14 16 17 19 20', '19'): ('19', '14'),\n",
       " ('13 14 16 17 19', '13'): ('13', '16'),\n",
       " ('13 14 16 17 19', '14'): ('14', '13'),\n",
       " ('13 14 16 17 19', '16'): ('16', '13'),\n",
       " ('13 14 16 17 19', '17'): ('17', '19'),\n",
       " ('13 14 16 17 19', '19'): ('19', '14'),\n",
       " ('13 14 16 17 19 20', '20'): ('20', '17'),\n",
       " ('13 14 16 17 18 19 20', '18'): ('18', '17'),\n",
       " ('13 14 16 17 18 20', '13'): ('13', '16'),\n",
       " ('13 14 16 17 18 20', '14'): ('14', '16'),\n",
       " ('13 14 16 17 18 20', '16'): ('16', '13'),\n",
       " ('13 14 16 17 18 20', '17'): ('17', '18'),\n",
       " ('13 14 16 17 18 20', '18'): ('18', '17'),\n",
       " ('13 14 16 17 18', '13'): ('13', '16'),\n",
       " ('13 14 16 17 18', '14'): ('14', '16'),\n",
       " ('13 14 16 17 18', '16'): ('16', '13'),\n",
       " ('13 14 16 17 18', '17'): ('17', '18'),\n",
       " ('13 14 16 17 18', '18'): ('18', '17'),\n",
       " ('13 14 16 17 18 20', '20'): ('20', '17'),\n",
       " ('13 14 16 17 18 19 20', '19'): ('19', '14'),\n",
       " ('13 14 16 17 18 19', '13'): ('13', '16'),\n",
       " ('13 14 16 17 18 19', '14'): ('14', '19'),\n",
       " ('13 14 16 17 18 19', '16'): ('16', '13'),\n",
       " ('13 14 16 17 18 19', '17'): ('17', '18'),\n",
       " ('13 14 16 17 18 19', '18'): ('18', '17'),\n",
       " ('13 14 16 17 18 19', '19'): ('19', '14'),\n",
       " ('13 14 16 17 18 19 20', '20'): ('20', '18'),\n",
       " ('13 14 15 16 17 18 19 20', '15'): ('15', '20'),\n",
       " ('13 14 15 17 18 19 20', '13'): ('13', '15'),\n",
       " ('13 14 15 17 18 19 20', '14'): ('14', '19'),\n",
       " ('13 14 15 17 18 19 20', '15'): ('15', '20'),\n",
       " ('13 14 15 18 19 20', '13'): ('13', '15'),\n",
       " ('13 14 15 18 19 20', '14'): ('14', '19'),\n",
       " ('13 14 15 18 19 20', '15'): ('15', '20'),\n",
       " ('13 14 15 19 20', '13'): ('13', '15'),\n",
       " ('13 14 15 19 20', '14'): ('14', '19'),\n",
       " ('13 14 15 19 20', '15'): ('15', '20'),\n",
       " ('13 14 15 20', '13'): ('13', '14'),\n",
       " ('13 14 15 20', '14'): ('14', '13'),\n",
       " ('13 14 15 20', '15'): ('15', '20'),\n",
       " ('13 14 15', '13'): ('13', '15'),\n",
       " ('13 14 15', '14'): ('14', '13'),\n",
       " ('13 14 15', '15'): ('15', '13'),\n",
       " ('13 14 15 20', '20'): ('20', '15'),\n",
       " ('13 14 15 19 20', '19'): ('19', '14'),\n",
       " ('13 14 15 19', '13'): ('13', '15'),\n",
       " ('13 14 15 19', '14'): ('14', '19'),\n",
       " ('13 14 15 19', '15'): ('15', '13'),\n",
       " ('13 14 15 19', '19'): ('19', '14'),\n",
       " ('13 14 15 19 20', '20'): ('20', '15'),\n",
       " ('13 14 15 18 19 20', '18'): ('18', '20'),\n",
       " ('13 14 15 18 20', '13'): ('13', '14'),\n",
       " ('13 14 15 18 20', '14'): ('14', '13'),\n",
       " ('13 14 15 18 20', '15'): ('15', '20'),\n",
       " ('13 14 15 18 20', '18'): ('18', '20'),\n",
       " ('13 14 15 18', '13'): ('13', '14'),\n",
       " ('13 14 15 18', '14'): ('14', '13'),\n",
       " ('13 14 15 18', '15'): ('15', '13'),\n",
       " ('13 14 15 18', '18'): ('18', '15'),\n",
       " ('13 14 15 18 20', '20'): ('20', '18'),\n",
       " ('13 14 15 18 19 20', '19'): ('19', '14'),\n",
       " ('13 14 15 18 19', '13'): ('13', '15'),\n",
       " ('13 14 15 18 19', '14'): ('14', '19'),\n",
       " ('13 14 15 18 19', '15'): ('15', '13'),\n",
       " ('13 14 15 18 19', '18'): ('18', '15'),\n",
       " ('13 14 15 18 19', '19'): ('19', '14'),\n",
       " ('13 14 15 18 19 20', '20'): ('20', '18'),\n",
       " ('13 14 15 17 18 19 20', '17'): ('17', '18'),\n",
       " ('13 14 15 17 19 20', '13'): ('13', '15'),\n",
       " ('13 14 15 17 19 20', '14'): ('14', '19'),\n",
       " ('13 14 15 17 19 20', '15'): ('15', '20'),\n",
       " ('13 14 15 17 19 20', '17'): ('17', '20'),\n",
       " ('13 14 15 17 20', '13'): ('13', '14'),\n",
       " ('13 14 15 17 20', '14'): ('14', '13'),\n",
       " ('13 14 15 17 20', '15'): ('15', '13'),\n",
       " ('13 14 15 17 20', '17'): ('17', '20'),\n",
       " ('13 14 15 17', '13'): ('13', '14'),\n",
       " ('13 14 15 17', '14'): ('14', '13'),\n",
       " ('13 14 15 17', '15'): ('15', '13'),\n",
       " ('13 14 15 17', '17'): ('17', '15'),\n",
       " ('13 14 15 17 20', '20'): ('20', '17'),\n",
       " ('13 14 15 17 19 20', '19'): ('19', '14'),\n",
       " ('13 14 15 17 19', '13'): ('13', '15'),\n",
       " ('13 14 15 17 19', '14'): ('14', '19'),\n",
       " ('13 14 15 17 19', '15'): ('15', '13'),\n",
       " ('13 14 15 17 19', '17'): ('17', '15'),\n",
       " ('13 14 15 17 19', '19'): ('19', '14'),\n",
       " ('13 14 15 17 19 20', '20'): ('20', '17'),\n",
       " ('13 14 15 17 18 19 20', '18'): ('18', '17'),\n",
       " ('13 14 15 17 18 20', '13'): ('13', '14'),\n",
       " ('13 14 15 17 18 20', '14'): ('14', '13'),\n",
       " ('13 14 15 17 18 20', '15'): ('15', '13'),\n",
       " ('13 14 15 17 18 20', '17'): ('17', '18'),\n",
       " ('13 14 15 17 18 20', '18'): ('18', '17'),\n",
       " ('13 14 15 17 18', '13'): ('13', '14'),\n",
       " ('13 14 15 17 18', '14'): ('14', '13'),\n",
       " ('13 14 15 17 18', '15'): ('15', '13'),\n",
       " ('13 14 15 17 18', '17'): ('17', '18'),\n",
       " ('13 14 15 17 18', '18'): ('18', '17'),\n",
       " ('13 14 15 17 18 20', '20'): ('20', '17'),\n",
       " ('13 14 15 17 18 19 20', '19'): ('19', '14'),\n",
       " ('13 14 15 17 18 19', '13'): ('13', '15'),\n",
       " ('13 14 15 17 18 19', '14'): ('14', '19'),\n",
       " ('13 14 15 17 18 19', '15'): ('15', '13'),\n",
       " ('13 14 15 17 18 19', '17'): ('17', '18'),\n",
       " ('13 14 15 17 18 19', '18'): ('18', '17'),\n",
       " ('13 14 15 17 18 19', '19'): ('19', '14'),\n",
       " ('13 14 15 17 18 19 20', '20'): ('20', '17'),\n",
       " ('13 14 15 16 17 18 19 20', '16'): ('16', '13'),\n",
       " ('13 14 15 16 18 19 20', '13'): ('13', '16'),\n",
       " ('13 14 15 16 18 19 20', '14'): ('14', '19'),\n",
       " ('13 14 15 16 18 19 20', '15'): ('15', '20'),\n",
       " ('13 14 15 16 18 19 20', '16'): ('16', '13'),\n",
       " ('13 14 15 16 19 20', '13'): ('13', '16'),\n",
       " ('13 14 15 16 19 20', '14'): ('14', '19'),\n",
       " ('13 14 15 16 19 20', '15'): ('15', '20'),\n",
       " ('13 14 15 16 19 20', '16'): ('16', '13'),\n",
       " ('13 14 15 16 20', '13'): ('13', '16'),\n",
       " ('13 14 15 16 20', '14'): ('14', '16'),\n",
       " ('13 14 15 16 20', '15'): ('15', '20'),\n",
       " ('13 14 15 16 20', '16'): ('16', '13'),\n",
       " ('13 14 15 16', '13'): ('13', '16'),\n",
       " ('13 14 15 16', '14'): ('14', '16'),\n",
       " ('13 14 15 16', '15'): ('15', '13'),\n",
       " ('13 14 15 16', '16'): ('16', '13'),\n",
       " ('13 14 15 16 20', '20'): ('20', '15'),\n",
       " ('13 14 15 16 19 20', '19'): ('19', '14'),\n",
       " ('13 14 15 16 19', '13'): ('13', '16'),\n",
       " ('13 14 15 16 19', '14'): ('14', '19'),\n",
       " ('13 14 15 16 19', '15'): ('15', '13'),\n",
       " ('13 14 15 16 19', '16'): ('16', '13'),\n",
       " ('13 14 15 16 19', '19'): ('19', '14'),\n",
       " ('13 14 15 16 19 20', '20'): ('20', '15'),\n",
       " ('13 14 15 16 18 19 20', '18'): ('18', '20'),\n",
       " ('13 14 15 16 18 20', '13'): ('13', '16'),\n",
       " ('13 14 15 16 18 20', '14'): ('14', '16'),\n",
       " ('13 14 15 16 18 20', '15'): ('15', '20'),\n",
       " ('13 14 15 16 18 20', '16'): ('16', '13'),\n",
       " ('13 14 15 16 18 20', '18'): ('18', '20'),\n",
       " ('13 14 15 16 18', '13'): ('13', '16'),\n",
       " ('13 14 15 16 18', '14'): ('14', '16'),\n",
       " ('13 14 15 16 18', '15'): ('15', '13'),\n",
       " ('13 14 15 16 18', '16'): ('16', '13'),\n",
       " ('13 14 15 16 18', '18'): ('18', '15'),\n",
       " ('13 14 15 16 18 20', '20'): ('20', '18'),\n",
       " ('13 14 15 16 18 19 20', '19'): ('19', '14'),\n",
       " ('13 14 15 16 18 19', '13'): ('13', '16'),\n",
       " ('13 14 15 16 18 19', '14'): ('14', '19'),\n",
       " ('13 14 15 16 18 19', '15'): ('15', '13'),\n",
       " ('13 14 15 16 18 19', '16'): ('16', '13'),\n",
       " ('13 14 15 16 18 19', '18'): ('18', '15'),\n",
       " ('13 14 15 16 18 19', '19'): ('19', '14'),\n",
       " ('13 14 15 16 18 19 20', '20'): ('20', '18'),\n",
       " ('13 14 15 16 17 18 19 20', '17'): ('17', '18'),\n",
       " ('13 14 15 16 17 19 20', '13'): ('13', '16'),\n",
       " ('13 14 15 16 17 19 20', '14'): ('14', '19'),\n",
       " ('13 14 15 16 17 19 20', '15'): ('15', '20'),\n",
       " ('13 14 15 16 17 19 20', '16'): ('16', '13'),\n",
       " ('13 14 15 16 17 19 20', '17'): ('17', '20'),\n",
       " ('13 14 15 16 17 20', '13'): ('13', '16'),\n",
       " ('13 14 15 16 17 20', '14'): ('14', '16'),\n",
       " ('13 14 15 16 17 20', '15'): ('15', '13'),\n",
       " ('13 14 15 16 17 20', '16'): ('16', '13'),\n",
       " ('13 14 15 16 17 20', '17'): ('17', '20'),\n",
       " ('13 14 15 16 17', '13'): ('13', '16'),\n",
       " ('13 14 15 16 17', '14'): ('14', '16'),\n",
       " ('13 14 15 16 17', '15'): ('15', '13'),\n",
       " ('13 14 15 16 17', '16'): ('16', '13'),\n",
       " ('13 14 15 16 17', '17'): ('17', '15'),\n",
       " ('13 14 15 16 17 20', '20'): ('20', '17'),\n",
       " ('13 14 15 16 17 19 20', '19'): ('19', '14'),\n",
       " ('13 14 15 16 17 19', '13'): ('13', '16'),\n",
       " ('13 14 15 16 17 19', '14'): ('14', '19'),\n",
       " ('13 14 15 16 17 19', '15'): ('15', '13'),\n",
       " ('13 14 15 16 17 19', '16'): ('16', '13'),\n",
       " ('13 14 15 16 17 19', '17'): ('17', '15'),\n",
       " ('13 14 15 16 17 19', '19'): ('19', '14'),\n",
       " ('13 14 15 16 17 19 20', '20'): ('20', '17'),\n",
       " ('13 14 15 16 17 18 19 20', '18'): ('18', '17'),\n",
       " ('13 14 15 16 17 18 20', '13'): ('13', '16'),\n",
       " ('13 14 15 16 17 18 20', '14'): ('14', '16'),\n",
       " ('13 14 15 16 17 18 20', '15'): ('15', '13'),\n",
       " ('13 14 15 16 17 18 20', '16'): ('16', '13'),\n",
       " ('13 14 15 16 17 18 20', '17'): ('17', '18'),\n",
       " ('13 14 15 16 17 18 20', '18'): ('18', '17'),\n",
       " ...}"
      ]
     },
     "execution_count": 391,
     "metadata": {},
     "output_type": "execute_result"
    }
   ],
   "source": [
    "solution_path"
   ]
  },
  {
   "cell_type": "code",
   "execution_count": 48,
   "metadata": {},
   "outputs": [],
   "source": [
    "def find_path(solution, string, i):\n",
    "    connection = {}\n",
    "    current = string, i\n",
    "   # print(current)\n",
    "    while current in solution:\n",
    "        from_, to_ = solution[current]\n",
    "        connection[from_] = [to_.strip()]\n",
    "        \n",
    "        temp = current[0].split(' ')\n",
    "        temp.remove(from_)\n",
    "        \n",
    "        current =  ' '.join(str(i) for i in temp), to_   \n",
    "    \n",
    "    return connection"
   ]
  },
  {
   "cell_type": "code",
   "execution_count": 49,
   "metadata": {},
   "outputs": [],
   "source": [
    "nn  = find_path(solution_path, string, '21')"
   ]
  },
  {
   "cell_type": "code",
   "execution_count": 50,
   "metadata": {},
   "outputs": [
    {
     "data": {
      "text/plain": [
       "{'21': ['10'],\n",
       " '10': ['16'],\n",
       " '16': ['8'],\n",
       " '8': ['7'],\n",
       " '7': ['20'],\n",
       " '20': ['4'],\n",
       " '4': ['6'],\n",
       " '6': ['19'],\n",
       " '19': ['5'],\n",
       " '5': ['17'],\n",
       " '17': ['9'],\n",
       " '9': ['14'],\n",
       " '14': ['18'],\n",
       " '18': ['13'],\n",
       " '13': ['11'],\n",
       " '11': ['15'],\n",
       " '15': ['12'],\n",
       " '12': ['2'],\n",
       " '2': ['1'],\n",
       " '1': ['3']}"
      ]
     },
     "execution_count": 50,
     "metadata": {},
     "output_type": "execute_result"
    }
   ],
   "source": [
    "nn"
   ]
  },
  {
   "cell_type": "code",
   "execution_count": 51,
   "metadata": {},
   "outputs": [
    {
     "data": {
      "text/plain": [
       "{'1': (-64, 75),\n",
       " '2': (-15, 76),\n",
       " '3': (-88, 83),\n",
       " '4': (-82, -26),\n",
       " '5': (3, -65),\n",
       " '6': (-56, -79),\n",
       " '7': (-86, -8),\n",
       " '8': (-45, -21),\n",
       " '9': (95, -77),\n",
       " '10': (-53, 2),\n",
       " '11': (39, -13),\n",
       " '12': (55, 18),\n",
       " '13': (64, -42),\n",
       " '14': (99, -68),\n",
       " '15': (16, -14),\n",
       " '16': (-42, -2),\n",
       " '17': (35, -60),\n",
       " '18': (84, -29),\n",
       " '19': (-30, -64),\n",
       " '20': (-91, -21),\n",
       " '21': (-50, 10)}"
      ]
     },
     "execution_count": 51,
     "metadata": {},
     "output_type": "execute_result"
    }
   ],
   "source": [
    "point_location"
   ]
  },
  {
   "cell_type": "code",
   "execution_count": 52,
   "metadata": {},
   "outputs": [],
   "source": [
    "import networkx as nx "
   ]
  },
  {
   "cell_type": "code",
   "execution_count": 53,
   "metadata": {},
   "outputs": [
    {
     "name": "stderr",
     "output_type": "stream",
     "text": [
      "D:\\Design Software\\Anaconda\\lib\\site-packages\\networkx\\drawing\\nx_pylab.py:611: MatplotlibDeprecationWarning: isinstance(..., numbers.Number)\n",
      "  if cb.is_numlike(alpha):\n"
     ]
    },
    {
     "data": {
      "image/png": "[encoded data removed]",
      "text/plain": [
       "<Figure size 432x288 with 1 Axes>"
      ]
     },
     "metadata": {},
     "output_type": "display_data"
    }
   ],
   "source": [
    "nx.draw(nx.Graph(nn), point_location, with_labels = True, node_size = 10)"
   ]
  },
  {
   "cell_type": "code",
   "execution_count": 54,
   "metadata": {},
   "outputs": [
    {
     "data": {
      "text/plain": [
       "<matplotlib.collections.PathCollection at 0x19ca33940>"
      ]
     },
     "execution_count": 54,
     "metadata": {},
     "output_type": "execute_result"
    },
    {
     "data": {
      "image/png": "[encoded data removed]",
      "text/plain": [
       "<Figure size 432x288 with 1 Axes>"
      ]
     },
     "metadata": {
      "needs_background": "light"
     },
     "output_type": "display_data"
    }
   ],
   "source": [
    "plt.scatter(latitudes, longitude)\n",
    "plt.scatter([chosen_p[0]], [chosen_p[1]], color='r')"
   ]
  },
  {
   "cell_type": "markdown",
   "metadata": {},
   "source": [
    "之前是用@lru_cache备忘功能实现缓存，现在自定义个memo函数来实现该功能"
   ]
  },
  {
   "cell_type": "code",
   "execution_count": 28,
   "metadata": {},
   "outputs": [],
   "source": [
    "from functools import wraps"
   ]
  },
  {
   "cell_type": "code",
   "execution_count": 29,
   "metadata": {},
   "outputs": [],
   "source": [
    "def memo(f):\n",
    "    memo.already_calcu = {}\n",
    "    @wraps(f)\n",
    "    def wrap(string, i):\n",
    "        if (string, i) not in memo.already_calcu:\n",
    "            distance = f(string, i)\n",
    "           #print('test')\n",
    "            memo.already_calcu[(string, i)] = distance\n",
    "            return distance\n",
    "        else:\n",
    "            return memo.already_calcu[(string, i)]\n",
    "    return wrap     "
   ]
  },
  {
   "cell_type": "code",
   "execution_count": 30,
   "metadata": {},
   "outputs": [],
   "source": [
    "solution_path = {}\n",
    "\n",
    "@memo\n",
    "def min_way_memo(string, i):\n",
    "    ''' string: 点集合，用字符串来表示，主要是为了能添加到缓存中\n",
    "        i：开始的点 ，字符串格式\n",
    "    '''\n",
    "    array_n = string.split(' ')\n",
    "    \n",
    "    if len(array_n) == 2: #Base case 边界条件\n",
    "        solution_path[(string,i)] =  (i, string.replace(i,'').strip())\n",
    "        return distance_calcu(point_location[array_n[0]], point_location[array_n[1]])\n",
    "    \n",
    "    array_n.remove(i)\n",
    "    string_new = ' '.join(str(i) for i in array_n)\n",
    "       \n",
    "    #状态转移候选\n",
    "    candidates = [(distance_calcu(point_location[i], point_location[j])+ min_way(string_new, j),(i,j)) for j in array_n]\n",
    "    \n",
    "    #筛选出最优点\n",
    "    min_distance, way = min(candidates, key = lambda x:x[0])\n",
    "    \n",
    "    #把当前最优添加到solution\n",
    "    solution_path[(string,i)] = way\n",
    "    \n",
    "    return min_distance"
   ]
  },
  {
   "cell_type": "code",
   "execution_count": 31,
   "metadata": {},
   "outputs": [
    {
     "data": {
      "text/plain": [
       "'1 2 3 4 5 6 7 8 9 10 11 12 13 14 15 16 17 18 19 20 21'"
      ]
     },
     "execution_count": 31,
     "metadata": {},
     "output_type": "execute_result"
    }
   ],
   "source": [
    "string"
   ]
  },
  {
   "cell_type": "code",
   "execution_count": 32,
   "metadata": {},
   "outputs": [
    {
     "data": {
      "text/plain": [
       "675.9963624776407"
      ]
     },
     "execution_count": 32,
     "metadata": {},
     "output_type": "execute_result"
    }
   ],
   "source": [
    "min_way_memo(string, '21') #大概要执行6min "
   ]
  },
  {
   "cell_type": "markdown",
   "metadata": {},
   "source": [
    "#### 多个出发点的情况"
   ]
  },
  {
   "cell_type": "code",
   "execution_count": 58,
   "metadata": {},
   "outputs": [
    {
     "data": {
      "text/plain": [
       "<matplotlib.collections.PathCollection at 0x19cc15550>"
      ]
     },
     "execution_count": 58,
     "metadata": {},
     "output_type": "execute_result"
    },
    {
     "data": {
      "image/png": "[encoded data removed]",
      "text/plain": [
       "<Figure size 432x288 with 1 Axes>"
      ]
     },
     "metadata": {
      "needs_background": "light"
     },
     "output_type": "display_data"
    }
   ],
   "source": [
    "latitudes = [random.randint(-100, 100) for _ in range(20)]\n",
    "longitude = [random.randint(-100, 100) for _ in range(20)]\n",
    "chosen_p = (-50, 10)\n",
    "chosen_p2 = (1, 30)\n",
    "chosen_p3 = (99, 15)\n",
    "plt.scatter(latitudes, longitude)\n",
    "plt.scatter([chosen_p[0]], [chosen_p[1]], color='r')\n",
    "plt.scatter([chosen_p2[0]], [chosen_p2[1]], color='r')\n",
    "plt.scatter([chosen_p3[0]], [chosen_p3[1]], color='r')"
   ]
  },
  {
   "cell_type": "markdown",
   "metadata": {},
   "source": [
    "思考中！！！"
   ]
  }
 ],
 "metadata": {
  "kernelspec": {
   "display_name": "Python 3",
   "language": "python",
   "name": "python3"
  },
  "language_info": {
   "codemirror_mode": {
    "name": "ipython",
    "version": 3
   },
   "file_extension": ".py",
   "mimetype": "text/x-python",
   "name": "python",
   "nbconvert_exporter": "python",
   "pygments_lexer": "ipython3",
   "version": "3.7.1"
  },
  "toc": {
   "base_numbering": 1,
   "nav_menu": {},
   "number_sections": true,
   "sideBar": true,
   "skip_h1_title": false,
   "title_cell": "Table of Contents",
   "title_sidebar": "Contents",
   "toc_cell": false,
   "toc_position": {},
   "toc_section_display": true,
   "toc_window_display": false
  }
 },
 "nbformat": 4,
 "nbformat_minor": 2
}
