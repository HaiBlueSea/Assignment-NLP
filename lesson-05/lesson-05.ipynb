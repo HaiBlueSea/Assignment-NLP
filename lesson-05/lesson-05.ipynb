{
 "cells": [
  {
   "cell_type": "markdown",
   "metadata": {
    "heading_collapsed": true
   },
   "source": [
    "## Search Tree -> Similar Words"
   ]
  },
  {
   "cell_type": "code",
   "execution_count": 1,
   "metadata": {
    "hidden": true
   },
   "outputs": [],
   "source": [
    "cut_file = 'article_9k.txt'"
   ]
  },
  {
   "cell_type": "code",
   "execution_count": 1,
   "metadata": {
    "hidden": true
   },
   "outputs": [],
   "source": [
    "import re\n",
    "import jieba"
   ]
  },
  {
   "cell_type": "code",
   "execution_count": 2,
   "metadata": {
    "hidden": true
   },
   "outputs": [],
   "source": [
    "def clean(string): return ''.join(re.findall('\\w+', string))"
   ]
  },
  {
   "cell_type": "code",
   "execution_count": 3,
   "metadata": {
    "hidden": true
   },
   "outputs": [],
   "source": [
    "def cut(string): return ' '.join(jieba.cut(string))"
   ]
  },
  {
   "cell_type": "code",
   "execution_count": 4,
   "metadata": {
    "hidden": true
   },
   "outputs": [],
   "source": [
    "#save_file = open('test.txt', 'w', encoding='utf-8')\n",
    "#for line in open(cut_file):\n",
    "#    string = cut(clean(line))\n",
    "#    save_file.write(string+ '\\n')\n",
    "#save_file.close()"
   ]
  },
  {
   "cell_type": "code",
   "execution_count": 1,
   "metadata": {
    "hidden": true
   },
   "outputs": [
    {
     "name": "stderr",
     "output_type": "stream",
     "text": [
      "D:\\Design Software\\Anaconda\\lib\\site-packages\\gensim\\utils.py:1197: UserWarning: detected Windows; aliasing chunkize to chunkize_serial\n",
      "  warnings.warn(\"detected Windows; aliasing chunkize to chunkize_serial\")\n"
     ]
    }
   ],
   "source": [
    "from gensim.models import Word2Vec\n",
    "from gensim.models.word2vec import LineSentence\n",
    "import logging"
   ]
  },
  {
   "cell_type": "code",
   "execution_count": 2,
   "metadata": {
    "hidden": true,
    "scrolled": true
   },
   "outputs": [
    {
     "name": "stderr",
     "output_type": "stream",
     "text": [
      "2019-08-06 11:12:33,163:INFO:loading Word2Vec object from small_model.model\n",
      "D:\\Design Software\\Anaconda\\lib\\site-packages\\smart_open\\smart_open_lib.py:398: UserWarning: This function is deprecated, use smart_open.open instead. See the migration notes for details: https://github.com/RaRe-Technologies/smart_open/blob/master/README.rst#migrating-to-the-new-open-function\n",
      "  'See the migration notes for details: %s' % _MIGRATION_NOTES_URL\n",
      "2019-08-06 11:12:34,055:INFO:loading wv recursively from small_model.model.wv.* with mmap=None\n",
      "2019-08-06 11:12:34,070:INFO:loading vectors from small_model.model.wv.vectors.npy with mmap=None\n",
      "2019-08-06 11:12:34,134:INFO:setting ignored attribute vectors_norm to None\n",
      "2019-08-06 11:12:34,134:INFO:loading vocabulary recursively from small_model.model.vocabulary.* with mmap=None\n",
      "2019-08-06 11:12:34,134:INFO:loading trainables recursively from small_model.model.trainables.* with mmap=None\n",
      "2019-08-06 11:12:34,134:INFO:loading syn1neg from small_model.model.trainables.syn1neg.npy with mmap=None\n",
      "2019-08-06 11:12:34,196:INFO:setting ignored attribute cum_table to None\n",
      "2019-08-06 11:12:34,196:INFO:loaded small_model.model\n"
     ]
    }
   ],
   "source": [
    "logging.basicConfig(format=\"%(asctime)s:%(levelname)s:%(message)s\",level=logging.INFO)\n",
    "#sentence = LineSentence('test.txt')\n",
    "#test_model = Word2Vec(sentence, size = 50, window =5, min_count=1, sg=1)\n",
    "model = Word2Vec.load('small_model.model')\n",
    "model_wv = model.wv\n",
    "del model"
   ]
  },
  {
   "cell_type": "code",
   "execution_count": 4,
   "metadata": {
    "hidden": true
   },
   "outputs": [
    {
     "data": {
      "text/plain": [
       "[('意大利', 0.85480797290802),\n",
       " ('西班牙', 0.8223181962966919),\n",
       " ('里斯本', 0.8198882341384888),\n",
       " ('摩洛哥', 0.8057718873023987),\n",
       " ('约旦', 0.801590621471405),\n",
       " ('卡塔尔', 0.795912504196167),\n",
       " ('赞比亚', 0.7879955768585205),\n",
       " ('哥德堡', 0.7847501039505005),\n",
       " ('伊斯坦布尔', 0.7846152186393738),\n",
       " ('科鲁谢', 0.7837297916412354),\n",
       " ('马德拉', 0.7825486063957214),\n",
       " ('内特', 0.7796158790588379),\n",
       " ('布尔戈斯', 0.779356837272644),\n",
       " ('拉帕尔马', 0.7781968712806702),\n",
       " ('酋长', 0.7755560278892517),\n",
       " ('特雷维索', 0.7704598903656006),\n",
       " ('哈德', 0.7688297033309937),\n",
       " ('格但斯克', 0.7682871222496033),\n",
       " ('托斯卡纳', 0.7675399780273438),\n",
       " ('盖罗', 0.7624955177307129)]"
      ]
     },
     "execution_count": 4,
     "metadata": {},
     "output_type": "execute_result"
    }
   ],
   "source": [
    "model_wv.most_similar(\"葡萄牙\", topn=20)"
   ]
  },
  {
   "cell_type": "markdown",
   "metadata": {
    "heading_collapsed": true
   },
   "source": [
    "## More Date, Better Results"
   ]
  },
  {
   "cell_type": "markdown",
   "metadata": {
    "hidden": true
   },
   "source": [
    "1. 分词的问题\n",
    "2. **数据量**，数据越多，效果越好，维基百科加进来，那么同义词就要好很多。"
   ]
  },
  {
   "cell_type": "code",
   "execution_count": 5,
   "metadata": {
    "hidden": true
   },
   "outputs": [],
   "source": [
    "from collections import defaultdict"
   ]
  },
  {
   "cell_type": "code",
   "execution_count": 6,
   "metadata": {
    "hidden": true
   },
   "outputs": [
    {
     "data": {
      "text/plain": [
       "[('采纳', 0.8245812654495239),\n",
       " ('意见', 0.8073406219482422),\n",
       " ('明确指出', 0.7985696792602539),\n",
       " ('肖向荣', 0.7976779937744141),\n",
       " ('还应', 0.7967530488967896),\n",
       " ('建言', 0.788849413394928),\n",
       " ('疑问', 0.7759077548980713),\n",
       " ('总结报告', 0.7696285247802734),\n",
       " ('汇报工作', 0.7671388387680054),\n",
       " ('方案', 0.7670916318893433)]"
      ]
     },
     "execution_count": 6,
     "metadata": {},
     "output_type": "execute_result"
    }
   ],
   "source": [
    "model_wv.most_similar('建议', topn=10)"
   ]
  },
  {
   "cell_type": "code",
   "execution_count": 7,
   "metadata": {
    "hidden": true
   },
   "outputs": [
    {
     "data": {
      "text/plain": [
       "[('表示', 0.8482186794281006),\n",
       " ('告诉', 0.8443704843521118),\n",
       " ('举例', 0.7972313165664673),\n",
       " ('看来', 0.7953379154205322),\n",
       " ('时说', 0.7943733334541321),\n",
       " ('认为', 0.7879514694213867),\n",
       " ('纳说', 0.7848470211029053),\n",
       " ('说据', 0.7788673639297485),\n",
       " ('介绍', 0.7779548764228821),\n",
       " ('坦言', 0.7697778940200806)]"
      ]
     },
     "execution_count": 7,
     "metadata": {},
     "output_type": "execute_result"
    }
   ],
   "source": [
    "model_wv.most_similar('说', topn=10)"
   ]
  },
  {
   "cell_type": "code",
   "execution_count": 8,
   "metadata": {
    "hidden": true
   },
   "outputs": [],
   "source": [
    "def get_related_words(initial_words, model):\n",
    "    \"\"\"\n",
    "    @initial_words are initial words we already know. is a list input\n",
    "    @model is the word2vec model\n",
    "    \"\"\"\n",
    "    unseen = initial_words\n",
    "    \n",
    "    seen = defaultdict(int)\n",
    "    \n",
    "    max_size = 500  # could be greater\n",
    "    \n",
    "    while unseen and len(seen) < max_size:\n",
    "        #if len(seen) % 50 == 0: \n",
    "        #    print('seen length : {}'.format(len(seen)))\n",
    "            \n",
    "        #print(unseen)\n",
    "            \n",
    "        node = unseen.pop(0)#类似广度搜索\n",
    "        \n",
    "        new_expanding = [w for w, s in model.most_similar(node, topn=20)]\n",
    "        \n",
    "        unseen += new_expanding\n",
    "        \n",
    "        #if seen['说']== 2:\n",
    "        #    break\n",
    "        \n",
    "        seen[node] += 1\n",
    "        \n",
    "        # optimal: 1. score function could be revised\n",
    "        # optimal: 2. using dymanic programming to reduce computing time\n",
    "    \n",
    "    return seen"
   ]
  },
  {
   "cell_type": "code",
   "execution_count": 9,
   "metadata": {
    "hidden": true
   },
   "outputs": [],
   "source": [
    "related_words  = get_related_words(['说', '表示'], model_wv)"
   ]
  },
  {
   "cell_type": "code",
   "execution_count": 10,
   "metadata": {
    "hidden": true
   },
   "outputs": [],
   "source": [
    "result_sorted = sorted(related_words.items(), key=lambda x: x[1], reverse=True)"
   ]
  },
  {
   "cell_type": "code",
   "execution_count": 11,
   "metadata": {
    "hidden": true
   },
   "outputs": [
    {
     "data": {
      "text/plain": [
       "[('表示', 41),\n",
       " ('说', 35),\n",
       " ('坦言', 32),\n",
       " ('认为', 26),\n",
       " ('告诉', 24),\n",
       " ('举例', 22),\n",
       " ('指出', 22),\n",
       " ('看来', 20),\n",
       " ('时说', 19),\n",
       " ('谈到', 19)]"
      ]
     },
     "execution_count": 11,
     "metadata": {},
     "output_type": "execute_result"
    }
   ],
   "source": [
    "result_sorted[:10]"
   ]
  },
  {
   "cell_type": "markdown",
   "metadata": {
    "hidden": true
   },
   "source": [
    "### 动态规划减少计算时间分析:"
   ]
  },
  {
   "cell_type": "markdown",
   "metadata": {
    "hidden": true
   },
   "source": [
    "- 首次到达A点时候，记录当前统计的seen的状态，这部分状态值是A点之前得到的\n",
    "- 第二次到达A点时候，记录当前unseen状态，只有unseen里面元素全部被\n",
    "\n",
    "没想出来，分析不出来，每一次到达相同点时状态都不一样？？？？"
   ]
  },
  {
   "cell_type": "markdown",
   "metadata": {
    "hidden": true
   },
   "source": [
    "### 优化Score统计"
   ]
  },
  {
   "cell_type": "markdown",
   "metadata": {
    "hidden": true
   },
   "source": [
    "优化思路：\n",
    "\n",
    "- 每一层设置不同score比例\n",
    "- 每一层的元素按照most_similar的相似度也设置不同的score比例"
   ]
  },
  {
   "cell_type": "code",
   "execution_count": 12,
   "metadata": {
    "hidden": true
   },
   "outputs": [],
   "source": [
    "def get_related_words_im(initial_words, model):\n",
    "    \"\"\"\n",
    "    @initial_words are initial words we already know. is a list input\n",
    "    @model is the word2vec model\n",
    "    \"\"\"\n",
    "    unseen = initial_words\n",
    "    \n",
    "    seen = defaultdict(int)\n",
    "    \n",
    "    max_size = 500  # could be greater\n",
    "    \n",
    "    current_layer = 0\n",
    "    current_layer_length = len(unseen)\n",
    "    current_length = len(initial_words)  \n",
    "    \n",
    "    while unseen and len(seen) < max_size:\n",
    "        #if len(seen) % 50 == 0: \n",
    "        #    print('seen length : {}'.format(len(seen)))\n",
    "            \n",
    "        #print(unseen)\n",
    "            \n",
    "        node = unseen.pop(0)#类似广度搜索\n",
    "        \n",
    "        current_length -= 1 \n",
    "        \n",
    "        new_expanding = [w for w, s in model.most_similar(node, topn=20)]\n",
    "        \n",
    "        unseen += new_expanding\n",
    "        \n",
    "        #当前层数遍历完，说明此时的unseen里保存的是下一层所有结点,更新层数和下一层结点个数\n",
    "        if current_length ==0: \n",
    "            current_layer += 1\n",
    "            current_layer_length = len(unseen)\n",
    "            current_length  = len(unseen)\n",
    "            \n",
    "        \n",
    "        #if seen['说']== 2:\n",
    "        #    break\n",
    "        \n",
    "        seen[node] +=  (1 - current_layer*0.1) * ((current_length/current_layer_length)*0.2 + 0.8)\n",
    "        \n",
    "        # optimal: 1. score function could be revised\n",
    "        # optimal: 2. using dymanic programming to reduce computing time\n",
    "    \n",
    "    print(current_layer)\n",
    "    return seen"
   ]
  },
  {
   "cell_type": "code",
   "execution_count": 13,
   "metadata": {
    "hidden": true
   },
   "outputs": [
    {
     "name": "stdout",
     "output_type": "stream",
     "text": [
      "3\n"
     ]
    }
   ],
   "source": [
    "related_words  = get_related_words_im(['说', '表示'], model_wv)"
   ]
  },
  {
   "cell_type": "code",
   "execution_count": 14,
   "metadata": {
    "hidden": true
   },
   "outputs": [],
   "source": [
    "result_sorted = sorted(related_words.items(), key=lambda x: x[1], reverse=True)"
   ]
  },
  {
   "cell_type": "code",
   "execution_count": 15,
   "metadata": {
    "hidden": true
   },
   "outputs": [
    {
     "data": {
      "text/plain": [
       "[('表示', 29.590910000000004),\n",
       " ('说', 25.446121250000004),\n",
       " ('坦言', 23.064600000000002),\n",
       " ('认为', 18.849990000000005),\n",
       " ('告诉', 17.33398125),\n",
       " ('指出', 15.90956125),\n",
       " ('举例', 15.874081250000001),\n",
       " ('看来', 14.58516125),\n",
       " ('时说', 13.821027500000003),\n",
       " ('谈到', 13.757168750000002)]"
      ]
     },
     "execution_count": 15,
     "metadata": {},
     "output_type": "execute_result"
    }
   ],
   "source": [
    "result_sorted[:10]"
   ]
  },
  {
   "cell_type": "markdown",
   "metadata": {
    "hidden": true
   },
   "source": [
    "貌似没什么用,后续再测试"
   ]
  },
  {
   "cell_type": "markdown",
   "metadata": {
    "heading_collapsed": true
   },
   "source": [
    "## TFIDF Key words"
   ]
  },
  {
   "cell_type": "markdown",
   "metadata": {
    "hidden": true
   },
   "source": [
    "**Term Frequnency :** 单词在某个文本中出现的频率\n",
    "\n",
    "**Inverse Document Frequnency :**单词出现过的文本数量/所有文本的数量"
   ]
  },
  {
   "attachments": {
    "%E5%9B%BE%E7%89%87.png": {
     "image/png": "[encoded data removed]"
    }
   },
   "cell_type": "markdown",
   "metadata": {
    "hidden": true
   },
   "source": [
    "![%E5%9B%BE%E7%89%87.png](attachment:%E5%9B%BE%E7%89%87.png)"
   ]
  },
  {
   "cell_type": "code",
   "execution_count": 16,
   "metadata": {
    "hidden": true
   },
   "outputs": [],
   "source": [
    "token_list = []\n",
    "with open(\"test.txt\", encoding='utf-8') as f:\n",
    "    linestr = f.readline()\n",
    "    while linestr != '':\n",
    "        token_list.append(linestr.strip(\"\\n\").split())\n",
    "        linestr = f.readline()"
   ]
  },
  {
   "cell_type": "code",
   "execution_count": 17,
   "metadata": {
    "hidden": true
   },
   "outputs": [
    {
     "data": {
      "text/plain": [
       "89611"
      ]
     },
     "execution_count": 17,
     "metadata": {},
     "output_type": "execute_result"
    }
   ],
   "source": [
    "len(token_list)"
   ]
  },
  {
   "cell_type": "code",
   "execution_count": 18,
   "metadata": {
    "hidden": true
   },
   "outputs": [],
   "source": [
    "def document_frequency(word):\n",
    "    #计算word在多少篇文章中出现过\n",
    "    return sum(1 for linelist in token_list if word in linelist)"
   ]
  },
  {
   "cell_type": "code",
   "execution_count": 19,
   "metadata": {
    "hidden": true
   },
   "outputs": [
    {
     "data": {
      "text/plain": [
       "70302"
      ]
     },
     "execution_count": 19,
     "metadata": {},
     "output_type": "execute_result"
    }
   ],
   "source": [
    "document_frequency(\"的\")"
   ]
  },
  {
   "cell_type": "code",
   "execution_count": 20,
   "metadata": {
    "hidden": true
   },
   "outputs": [],
   "source": [
    "import math\n",
    "def idf(word):\n",
    "    \"\"\"Gets the inversed document frequency\"\"\"\n",
    "    return math.log10(len(token_list) / (document_frequency(word)+1)) #+1避免分母为0"
   ]
  },
  {
   "cell_type": "code",
   "execution_count": 21,
   "metadata": {
    "hidden": true
   },
   "outputs": [
    {
     "data": {
      "text/plain": [
       "0.10538746597539916"
      ]
     },
     "execution_count": 21,
     "metadata": {},
     "output_type": "execute_result"
    }
   ],
   "source": [
    "idf('的')"
   ]
  },
  {
   "cell_type": "code",
   "execution_count": 22,
   "metadata": {
    "hidden": true
   },
   "outputs": [],
   "source": [
    "def tf(word, document):\n",
    "    \"\"\"\n",
    "    Gets the term frequemcy of a @word in a @document.\n",
    "    \"\"\"\n",
    "    return sum(1 for w in document if word == w)"
   ]
  },
  {
   "cell_type": "code",
   "execution_count": 23,
   "metadata": {
    "hidden": true
   },
   "outputs": [
    {
     "data": {
      "text/plain": [
       "8"
      ]
     },
     "execution_count": 23,
     "metadata": {},
     "output_type": "execute_result"
    }
   ],
   "source": [
    "tf(\"的\", token_list[1])"
   ]
  },
  {
   "cell_type": "code",
   "execution_count": 24,
   "metadata": {
    "hidden": true
   },
   "outputs": [
    {
     "data": {
      "text/plain": [
       "6"
      ]
     },
     "execution_count": 24,
     "metadata": {},
     "output_type": "execute_result"
    }
   ],
   "source": [
    "tf('银行', token_list[11])"
   ]
  },
  {
   "cell_type": "code",
   "execution_count": 25,
   "metadata": {
    "hidden": true
   },
   "outputs": [
    {
     "data": {
      "text/plain": [
       "2.5052032924502545"
      ]
     },
     "execution_count": 25,
     "metadata": {},
     "output_type": "execute_result"
    }
   ],
   "source": [
    "idf('创业板')"
   ]
  },
  {
   "cell_type": "code",
   "execution_count": 26,
   "metadata": {
    "hidden": true
   },
   "outputs": [],
   "source": [
    "#获取每篇文章中所有词的tf-idf值\n",
    "def get_keywords_of_a_ducment(document):\n",
    "    \"\"\"\n",
    "    get all word's tf-idf values :return a list\n",
    "    @document is a text list\n",
    "    \"\"\"\n",
    "    words = set(document)\n",
    "    \n",
    "    tfidf = [(word, tf(word, document)*idf(word)) for word in words]\n",
    "    \n",
    "    tfidf = sorted(tfidf, key =lambda x:x[1] ,reverse= True)\n",
    "    \n",
    "    return tfidf"
   ]
  },
  {
   "cell_type": "code",
   "execution_count": 27,
   "metadata": {
    "hidden": true
   },
   "outputs": [
    {
     "data": {
      "text/plain": [
       "[('一加', 14.020813169801018),\n",
       " ('电池', 5.3026626562569845),\n",
       " ('279928992999', 4.651331328128492),\n",
       " ('DashCharge', 4.651331328128492),\n",
       " ('5V4A', 4.651331328128492),\n",
       " ('1080P', 4.651331328128492),\n",
       " ('6G8GBRAM64GB128GBROM', 4.651331328128492),\n",
       " ('3T', 4.651331328128492),\n",
       " ('3400mAh', 4.651331328128492),\n",
       " ('xx99', 4.651331328128492)]"
      ]
     },
     "execution_count": 27,
     "metadata": {},
     "output_type": "execute_result"
    }
   ],
   "source": [
    "get_keywords_of_a_ducment(token_list[2])[:10]"
   ]
  },
  {
   "cell_type": "markdown",
   "metadata": {},
   "source": [
    "## Wordcloud"
   ]
  },
  {
   "cell_type": "code",
   "execution_count": 54,
   "metadata": {},
   "outputs": [],
   "source": [
    "from wordcloud import WordCloud\n",
    "import wordcloud"
   ]
  },
  {
   "cell_type": "code",
   "execution_count": 56,
   "metadata": {},
   "outputs": [
    {
     "name": "stdout",
     "output_type": "stream",
     "text": [
      "1.5.0\n"
     ]
    }
   ],
   "source": [
    "print(wordcloud.__version__)"
   ]
  },
  {
   "cell_type": "code",
   "execution_count": 29,
   "metadata": {},
   "outputs": [],
   "source": [
    "import matplotlib.pyplot as plt"
   ]
  },
  {
   "cell_type": "code",
   "execution_count": 30,
   "metadata": {},
   "outputs": [],
   "source": [
    "%matplotlib inline"
   ]
  },
  {
   "cell_type": "code",
   "execution_count": 46,
   "metadata": {},
   "outputs": [],
   "source": [
    "from PIL import Image\n",
    "import numpy as np"
   ]
  },
  {
   "cell_type": "code",
   "execution_count": 32,
   "metadata": {},
   "outputs": [],
   "source": [
    "new_keywords = get_keywords_of_a_ducment(token_list[101])"
   ]
  },
  {
   "cell_type": "code",
   "execution_count": 33,
   "metadata": {},
   "outputs": [],
   "source": [
    "word_cloud = {w:score for w,score in new_keywords}"
   ]
  },
  {
   "cell_type": "code",
   "execution_count": 220,
   "metadata": {},
   "outputs": [],
   "source": [
    "#获取mask图片\n",
    "mask = np.array(Image.open(\"picture.png\"))"
   ]
  },
  {
   "cell_type": "markdown",
   "metadata": {},
   "source": [
    "需要注意的是在设置自定义背景图片纯白部分不会显示词云"
   ]
  },
  {
   "cell_type": "code",
   "execution_count": 222,
   "metadata": {},
   "outputs": [
    {
     "data": {
      "text/plain": [
       "<matplotlib.image.AxesImage at 0x9001d1d0>"
      ]
     },
     "execution_count": 222,
     "metadata": {},
     "output_type": "execute_result"
    },
    {
     "data": {
      "image/png": "[encoded data removed]",
      "text/plain": [
       "<Figure size 864x864 with 1 Axes>"
      ]
     },
     "metadata": {
      "needs_background": "light"
     },
     "output_type": "display_data"
    }
   ],
   "source": [
    "#绘制云图\n",
    "wc = WordCloud(background_color=\"white\",font_path = './SimHei.ttf' ,mask=mask)\n",
    "wc.generate_from_frequencies(word_cloud)\n",
    "plt.figure(figsize=(12,12))\n",
    "plt.axis(\"off\")\n",
    "plt.imshow(wc,interpolation=\"bilinear\")"
   ]
  },
  {
   "cell_type": "code",
   "execution_count": 66,
   "metadata": {},
   "outputs": [],
   "source": [
    "shenzhen_social_news = get_keywords_of_a_ducment(token_list[4])"
   ]
  },
  {
   "cell_type": "code",
   "execution_count": 67,
   "metadata": {},
   "outputs": [],
   "source": [
    "word_cloud = {k: value for k, value in shenzhen_social_news}"
   ]
  },
  {
   "cell_type": "code",
   "execution_count": 69,
   "metadata": {},
   "outputs": [
    {
     "data": {
      "text/plain": [
       "<matplotlib.image.AxesImage at 0x8172b240>"
      ]
     },
     "execution_count": 69,
     "metadata": {},
     "output_type": "execute_result"
    },
    {
     "data": {
      "image/png": "[encoded data removed]",
      "text/plain": [
       "<Figure size 720x720 with 1 Axes>"
      ]
     },
     "metadata": {
      "needs_background": "light"
     },
     "output_type": "display_data"
    }
   ],
   "source": [
    "#绘制云图\n",
    "wc = WordCloud(background_color=\"white\",font_path = './SimHei.ttf' ,mask=mask)\n",
    "wc.generate_from_frequencies(word_cloud)\n",
    "plt.figure(figsize=(10,10))\n",
    "plt.axis(\"off\")\n",
    "plt.imshow(wc,interpolation=\"bilinear\")"
   ]
  },
  {
   "cell_type": "markdown",
   "metadata": {},
   "source": [
    "## TFIDF Vectorizezd"
   ]
  },
  {
   "cell_type": "markdown",
   "metadata": {},
   "source": [
    "### 用TfidfVectorizer来计算 TFIDF值"
   ]
  },
  {
   "cell_type": "code",
   "execution_count": 70,
   "metadata": {},
   "outputs": [],
   "source": [
    "from sklearn.feature_extraction.text import TfidfVectorizer"
   ]
  },
  {
   "cell_type": "code",
   "execution_count": 163,
   "metadata": {},
   "outputs": [],
   "source": [
    "vectorized = TfidfVectorizer(max_features=10000)#设置文本单词个数最大值"
   ]
  },
  {
   "cell_type": "code",
   "execution_count": 164,
   "metadata": {},
   "outputs": [],
   "source": [
    "sample_num = 50000\n",
    "sub_samples = token_list[:sample_num]\n",
    "sub_samples  = [' '.join(words) for words in sub_samples]"
   ]
  },
  {
   "cell_type": "code",
   "execution_count": 76,
   "metadata": {},
   "outputs": [
    {
     "data": {
      "text/plain": [
       "'骁龙 835 作为 唯一 通过 Windows10 桌面 平台 认证 的 ARM 处理器 高通 强调 不会 因为 只 考虑 性能 而 去 屏蔽掉 小 核心 相反 他们 正 联手 微软 找到 一种 适合 桌面 平台 的 兼顾 性能 和 功耗 的 完美 方案 报道 称 微软 已经 拿到 了 一些 新 的 源码 以便 Windows10 更好 地 理解 biglittle 架构 资料 显示 骁龙 835 作为 一款 集成 了 CPUGPU 基带 蓝牙 WiFi 的 SoC 比 传统 的 Wintel 方案 可以 节省 至少 30 的 PCB 空间 按计划 今年 Q4 华硕 惠普 联想 将 首发 骁龙 835Win10 电脑 预计 均 是 二合一 形态 的 产品 当然 高通 骁龙 只是 个 开始 未来 也许 还 能 见到 三星 Exynos 联发科 华为 麒麟 小米 澎湃 等 进入 Windows10 桌面 平台'"
      ]
     },
     "execution_count": 76,
     "metadata": {},
     "output_type": "execute_result"
    }
   ],
   "source": [
    "sub_samples[1]"
   ]
  },
  {
   "cell_type": "code",
   "execution_count": 165,
   "metadata": {},
   "outputs": [],
   "source": [
    "X = vectorized.fit_transform(sub_samples)"
   ]
  },
  {
   "cell_type": "code",
   "execution_count": 78,
   "metadata": {},
   "outputs": [
    {
     "data": {
      "text/plain": [
       "(50000, 10000)"
      ]
     },
     "execution_count": 78,
     "metadata": {},
     "output_type": "execute_result"
    }
   ],
   "source": [
    "X.shape"
   ]
  },
  {
   "cell_type": "code",
   "execution_count": 91,
   "metadata": {},
   "outputs": [
    {
     "data": {
      "text/plain": [
       "(array([0, 0, 0, 0, 0, 0, 0, 0, 0, 0, 0, 0, 0, 0, 0, 0, 0, 0, 0, 0, 0, 0,\n",
       "        0, 0, 0, 0, 0, 0, 0, 0, 0, 0, 0, 0, 0], dtype=int64),\n",
       " array([  33,   46,  331,  941,  962, 1568, 1766, 1842, 1867, 2579, 2659,\n",
       "        2762, 3992, 4131, 4150, 4424, 4523, 4543, 4816, 4891, 5625, 5641,\n",
       "        5751, 5773, 5821, 5905, 6208, 6888, 7327, 7346, 7616, 7671, 9087,\n",
       "        9144, 9630], dtype=int64))"
      ]
     },
     "execution_count": 91,
     "metadata": {},
     "output_type": "execute_result"
    }
   ],
   "source": [
    "np.where(X[0].toarray()) # get the positions which values are not zero"
   ]
  },
  {
   "cell_type": "code",
   "execution_count": 110,
   "metadata": {},
   "outputs": [
    {
     "data": {
      "text/plain": [
       "0.12485362745516582"
      ]
     },
     "execution_count": 110,
     "metadata": {},
     "output_type": "execute_result"
    }
   ],
   "source": [
    "X[0].toarray()[0, 9087]"
   ]
  },
  {
   "cell_type": "code",
   "execution_count": 111,
   "metadata": {},
   "outputs": [
    {
     "data": {
      "text/plain": [
       "{'此外': 6208,\n",
       " '本周': 5905,\n",
       " '12': 33,\n",
       " '日起': 5625,\n",
       " '小米': 3992,\n",
       " '手机': 4891,\n",
       " '15': 46,\n",
       " '其余': 1867,\n",
       " '暂停': 5751,\n",
       " '更新': 5773,\n",
       " '发布': 2659,\n",
       " '开发': 4424,\n",
       " '影响': 4543,\n",
       " '确保': 7346,\n",
       " '工程师': 4150,\n",
       " '可以': 2762,\n",
       " '集中': 9630,\n",
       " '全部': 1766,\n",
       " '精力': 7671,\n",
       " '进行': 9144,\n",
       " '工作': 4131,\n",
       " '有人': 5821,\n",
       " '猜测': 6888,\n",
       " '主要': 941,\n",
       " '研发': 7327,\n",
       " '之中': 962,\n",
       " '去年': 2579,\n",
       " '一年': 331,\n",
       " '时候': 5641,\n",
       " '当然': 4523,\n",
       " '关于': 1842,\n",
       " '信息': 1568,\n",
       " '我们': 4816,\n",
       " '还是': 9087,\n",
       " '等待': 7616,\n",
       " '作为': 1463,\n",
       " '唯一': 2990,\n",
       " '通过': 9252,\n",
       " '平台': 4274,\n",
       " '认证': 8559,\n",
       " '处理器': 3354,\n",
       " '强调': 4499,\n",
       " '不会': 579,\n",
       " '因为': 3068,\n",
       " '考虑': 7987,\n",
       " '性能': 4657,\n",
       " '核心': 6081,\n",
       " '相反': 7218,\n",
       " '他们': 1270,\n",
       " '联手': 8027,\n",
       " '微软': 4596,\n",
       " '找到': 4960,\n",
       " '一种': 373,\n",
       " '适合': 9196,\n",
       " '兼顾': 1887,\n",
       " '完美': 3802,\n",
       " '方案': 5549,\n",
       " '报道': 5036,\n",
       " '已经': 4174,\n",
       " '拿到': 5103,\n",
       " '一些': 282,\n",
       " '以便': 1286,\n",
       " '更好': 5770,\n",
       " '理解': 6973,\n",
       " '架构': 6035,\n",
       " '资料': 8798,\n",
       " '显示': 5716,\n",
       " '一款': 361,\n",
       " '集成': 9637,\n",
       " '传统': 1381,\n",
       " '节省': 8208,\n",
       " '至少': 8138,\n",
       " '30': 100,\n",
       " '空间': 7507,\n",
       " '按计划': 5135,\n",
       " '今年': 1245,\n",
       " '联想': 8026,\n",
       " '首发': 9824,\n",
       " '电脑': 7074,\n",
       " '预计': 9744,\n",
       " '形态': 4531,\n",
       " '产品': 1162,\n",
       " '只是': 2756,\n",
       " '开始': 4431,\n",
       " '未来': 5899,\n",
       " '也许': 1008,\n",
       " '见到': 8480,\n",
       " '三星': 473,\n",
       " '华为': 2437,\n",
       " '澎湃': 6710,\n",
       " '进入': 9127,\n",
       " '此前': 6206,\n",
       " '搭载': 5264,\n",
       " '电池': 7070,\n",
       " '规格': 8500,\n",
       " '至于': 8135,\n",
       " '可能': 2769,\n",
       " '所说': 4883,\n",
       " '设定': 8590,\n",
       " '有关': 5823,\n",
       " '按照': 5133,\n",
       " '目前': 7194,\n",
       " '掌握': 5172,\n",
       " '拥有': 5094,\n",
       " '55': 137,\n",
       " '摄像头': 5268,\n",
       " '惊喜': 4732,\n",
       " '根据': 6090,\n",
       " '京东': 1171,\n",
       " '泄露': 6417,\n",
       " '售价': 2988,\n",
       " '应该': 4363,\n",
       " '某个': 6038,\n",
       " '这是': 9109,\n",
       " '18': 53,\n",
       " '葡萄牙': 8328,\n",
       " '中部': 887,\n",
       " '地区': 3191,\n",
       " '拍摄': 5075,\n",
       " '森林': 6131,\n",
       " '大火': 3506,\n",
       " '汽车': 6367,\n",
       " '新华社': 5501,\n",
       " '记者': 8574,\n",
       " '标题': 6067,\n",
       " '44': 123,\n",
       " '女子': 3647,\n",
       " '深圳': 6586,\n",
       " '网友': 7896,\n",
       " '暴雨': 5761,\n",
       " '交警': 1147,\n",
       " '昨日': 5707,\n",
       " '清晨': 6614,\n",
       " '发现': 2674,\n",
       " '行走': 8397,\n",
       " '快速': 4637,\n",
       " '期间': 5894,\n",
       " '赶紧': 8859,\n",
       " '一路': 394,\n",
       " '那么': 9302,\n",
       " '事发': 1050,\n",
       " '到底': 2177,\n",
       " '发生': 2676,\n",
       " '什么': 1236,\n",
       " '一起': 393,\n",
       " '还原': 9086,\n",
       " '现场': 6935,\n",
       " '大队': 3539,\n",
       " '中队': 892,\n",
       " '女生': 3653,\n",
       " '一位': 288,\n",
       " '高大': 9919,\n",
       " '说话': 8674,\n",
       " '90': 179,\n",
       " '青年': 9671,\n",
       " '介绍': 1252,\n",
       " '16': 49,\n",
       " '早上': 5630,\n",
       " '36': 111,\n",
       " '正在': 6193,\n",
       " '附近': 9550,\n",
       " '接到': 5189,\n",
       " '机动车': 5941,\n",
       " '危险': 2533,\n",
       " '随后': 9601,\n",
       " '寻找': 3951,\n",
       " '大概': 3497,\n",
       " '大道': 3532,\n",
       " '出口': 2021,\n",
       " '方向': 5547,\n",
       " '身上': 8936,\n",
       " '另外': 2750,\n",
       " '一名': 305,\n",
       " '情绪': 4729,\n",
       " '尝试': 4014,\n",
       " '交流': 1142,\n",
       " '离开': 7411,\n",
       " '愿意': 4779,\n",
       " '接受': 5191,\n",
       " '继续': 7840,\n",
       " '缓慢': 7870,\n",
       " '此时': 6210,\n",
       " '路边': 8925,\n",
       " '聚集': 8041,\n",
       " '市民': 4210,\n",
       " '围观': 3088,\n",
       " '为了': 903,\n",
       " '刺激': 2202,\n",
       " '一边': 400,\n",
       " '群众': 7958,\n",
       " '警方': 8543,\n",
       " '提供': 5227,\n",
       " '一份': 286,\n",
       " '视频': 8514,\n",
       " '了解': 1033,\n",
       " '25': 92,\n",
       " '出现': 2044,\n",
       " '监控': 7171,\n",
       " '穿着': 7511,\n",
       " '白色': 7146,\n",
       " '沿着': 6414,\n",
       " '当时': 4520,\n",
       " '正值': 6192,\n",
       " '上班': 525,\n",
       " '高峰期': 9927,\n",
       " '路上': 8918,\n",
       " '纷纷': 7746,\n",
       " '驻足': 9885,\n",
       " '观望': 8490,\n",
       " '不少': 605,\n",
       " '车辆': 8961,\n",
       " '速度': 9256,\n",
       " '脚步': 8083,\n",
       " '依然': 1506,\n",
       " '行进': 8398,\n",
       " '中间': 890,\n",
       " '一辆': 398,\n",
       " '货车': 8762,\n",
       " '镜头': 9455,\n",
       " '但是': 1405,\n",
       " '全身': 1763,\n",
       " '朝着': 5878,\n",
       " '周围': 2931,\n",
       " '没有': 6384,\n",
       " '或者': 4825,\n",
       " '上前': 491,\n",
       " '看到': 7252,\n",
       " '这样': 9111,\n",
       " '情况': 4723,\n",
       " '恐怕': 4693,\n",
       " '大家': 3480,\n",
       " '办法': 2254,\n",
       " '面对': 9692,\n",
       " '这一': 9090,\n",
       " '表示': 8426,\n",
       " '根本': 6091,\n",
       " '不敢': 616,\n",
       " '心里': 4618,\n",
       " '感觉': 4775,\n",
       " '尴尬': 4032,\n",
       " '跟随': 8912,\n",
       " '作出': 1464,\n",
       " '举动': 948,\n",
       " '突然': 7520,\n",
       " '靠近': 9686,\n",
       " '上面': 540,\n",
       " '控制': 5202,\n",
       " '远离': 9149,\n",
       " '衣服': 8409,\n",
       " '只能': 2758,\n",
       " '紧紧': 7700,\n",
       " '一只': 301,\n",
       " '后面': 2891,\n",
       " '一路上': 395,\n",
       " '耐心': 7997,\n",
       " '安慰': 3786,\n",
       " '听到': 2903,\n",
       " '不断': 617,\n",
       " '重复': 9367,\n",
       " '一句': 300,\n",
       " '要是': 8473,\n",
       " '遭遇': 9291,\n",
       " '不时': 621,\n",
       " '试图': 8631,\n",
       " '大暴雨': 3493,\n",
       " '眼睛': 7278,\n",
       " '瞬间': 7296,\n",
       " '帮助': 4243,\n",
       " '大雨': 3541,\n",
       " '来说': 6008,\n",
       " '回家': 3052,\n",
       " '然后': 6785,\n",
       " '照片': 6792,\n",
       " '旁边': 5558,\n",
       " '场景': 3218,\n",
       " '下来': 555,\n",
       " '带到': 4231,\n",
       " '派出所': 6480,\n",
       " '姑娘': 3691,\n",
       " '什么样': 1237,\n",
       " '事情': 1055,\n",
       " '透露': 9222,\n",
       " '湖北': 6656,\n",
       " '家属': 3902,\n",
       " '反映': 2638,\n",
       " '三天': 467,\n",
       " '陈某': 9557,\n",
       " '老家': 7970,\n",
       " '导致': 3958,\n",
       " '异常': 4461,\n",
       " '产生': 1166,\n",
       " '送往': 9194,\n",
       " '医院': 2402,\n",
       " '治疗': 6411,\n",
       " '大大': 3473,\n",
       " '希望': 4225,\n",
       " '康复': 4382,\n",
       " '其实': 1869,\n",
       " '到来': 2179,\n",
       " '存在': 3728,\n",
       " '年龄': 4315,\n",
       " '限制': 9577,\n",
       " '你们': 1474,\n",
       " '原因': 2564,\n",
       " '这个': 9091,\n",
       " '哥哥': 2977,\n",
       " '一辈子': 399,\n",
       " '自己': 8105,\n",
       " '家人': 3897,\n",
       " '同时': 2856,\n",
       " '感谢': 4776,\n",
       " '聆听': 8003,\n",
       " '心灵': 4613,\n",
       " '点赞': 6756,\n",
       " '警察': 8539,\n",
       " '就是': 4023,\n",
       " '男子': 7087,\n",
       " '20': 60,\n",
       " '50': 130,\n",
       " '上午': 493,\n",
       " '公安局': 1794,\n",
       " '一个': 276,\n",
       " '报警': 5035,\n",
       " '电话': 7079,\n",
       " '声称': 3344,\n",
       " '遭到': 9289,\n",
       " '侵害': 1515,\n",
       " '几个': 1998,\n",
       " '关键词': 1857,\n",
       " '民警': 6298,\n",
       " '紧张': 7697,\n",
       " '起来': 8862,\n",
       " '受到': 2704,\n",
       " 'a股': 194,\n",
       " '纳入': 7739,\n",
       " 'msci': 210,\n",
       " '指数': 5126,\n",
       " '利好': 2159,\n",
       " '消息': 6554,\n",
       " '市场': 4196,\n",
       " '周三': 2925,\n",
       " '再度': 1907,\n",
       " '上演': 524,\n",
       " '行情': 8388,\n",
       " '周四': 2930,\n",
       " '金融股': 9411,\n",
       " '白马股': 7149,\n",
       " '表现': 8425,\n",
       " '尾盘': 4048,\n",
       " '跳水': 8929,\n",
       " '之后': 969,\n",
       " '金融': 9402,\n",
       " '板块': 6014,\n",
       " '状态': 6873,\n",
       " '分析': 2083,\n",
       " '人士': 1199,\n",
       " '认为': 8553,\n",
       " '受益': 2712,\n",
       " '估值': 1400,\n",
       " '资金': 8811,\n",
       " '青睐': 9678,\n",
       " '存量': 3732,\n",
       " '博弈': 2497,\n",
       " '格局': 6094,\n",
       " '风格': 9782,\n",
       " '震荡': 9661,\n",
       " '延续': 4392,\n",
       " '流动性': 6487,\n",
       " '改善': 5345,\n",
       " '经济': 7787,\n",
       " '预期': 9737,\n",
       " '有助于': 5827,\n",
       " '支撑': 5313,\n",
       " '大盘': 3511,\n",
       " '逐步': 9225,\n",
       " '再现': 1910,\n",
       " '未能': 5902,\n",
       " '上行': 531,\n",
       " '态势': 4644,\n",
       " '两市': 738,\n",
       " '成交': 4791,\n",
       " '小幅': 3982,\n",
       " '放量': 5379,\n",
       " '29': 99,\n",
       " '中信': 784,\n",
       " '一级': 381,\n",
       " '行业': 8380,\n",
       " '收盘': 5332,\n",
       " '银行': 9435,\n",
       " '两个': 716,\n",
       " '分别': 2068,\n",
       " '上涨': 520,\n",
       " '180': 54,\n",
       " '二级': 1074,\n",
       " '来看': 6004,\n",
       " '股份制': 8053,\n",
       " '涨幅': 6573,\n",
       " '最高': 5810,\n",
       " '达到': 9026,\n",
       " '222': 89,\n",
       " '信托': 1574,\n",
       " '及其': 2609,\n",
       " '保险': 1558,\n",
       " '证券': 8603,\n",
       " '成分股': 4797,\n",
       " '中共': 785,\n",
       " '21': 87,\n",
       " '其中': 1864,\n",
       " '最大': 5798,\n",
       " '贵阳': 8790,\n",
       " '超过': 8880,\n",
       " '150': 47,\n",
       " '17': 51,\n",
       " '个股': 776,\n",
       " '中国': 799,\n",
       " '居前': 4060,\n",
       " '两名': 724,\n",
       " '新华': 5500,\n",
       " '券商': 2201,\n",
       " '下跌': 565,\n",
       " '近期': 9078,\n",
       " '宣布': 3887,\n",
       " '2018': 81,\n",
       " '新兴': 5495,\n",
       " '群体': 7959,\n",
       " '团队': 3078,\n",
       " '指出': 5115,\n",
       " '最新': 5803,\n",
       " '包含': 2343,\n",
       " '中等': 869,\n",
       " '市值': 4193,\n",
       " '互联互通': 1091,\n",
       " '交易': 1132,\n",
       " '股票': 8058,\n",
       " '以及': 1291,\n",
       " '停牌': 1632,\n",
       " '标的': 6063,\n",
       " '由于': 7040,\n",
       " '很多': 4564,\n",
       " '权重': 5960,\n",
       " '05': 5,\n",
       " '上升': 492,\n",
       " '消费': 6557,\n",
       " '涵盖': 6574,\n",
       " '大部分': 3534,\n",
       " '动态': 2299,\n",
       " '加入': 2264,\n",
       " '增加': 3317,\n",
       " '其他': 1865,\n",
       " '尽管': 4046,\n",
       " '事件': 1044,\n",
       " '短期': 7308,\n",
       " '有所': 5833,\n",
       " '中长期': 889,\n",
       " '海外': 6525,\n",
       " '增量': 3331,\n",
       " '升温': 2422,\n",
       " '短期内': 7309,\n",
       " '不能': 634,\n",
       " '有效': 5834,\n",
       " '放大': 5368,\n",
       " '情景': 4728,\n",
       " '难以': 9616,\n",
       " '持续': 5108,\n",
       " '改变': 5344,\n",
       " '并未': 4321,\n",
       " '引起': 4468,\n",
       " '热情': 6766,\n",
       " '成交量': 4792,\n",
       " '较为': 8998,\n",
       " '较大': 8999,\n",
       " '变化': 2720,\n",
       " '成长': 4814,\n",
       " '全天': 1745,\n",
       " '低迷': 1417,\n",
       " '表明': 8422,\n",
       " '很少': 4567,\n",
       " '不同': 595,\n",
       " '之间': 982,\n",
       " '使得': 1480,\n",
       " '突破': 7521,\n",
       " '中期': 859,\n",
       " '依旧': 1502,\n",
       " '维持': 7848,\n",
       " '虽然': 8359,\n",
       " '至今': 8136,\n",
       " '夏普': 3374,\n",
       " '智能手机': 5750,\n",
       " '无法': 5580,\n",
       " '完全': 3795,\n",
       " '并于': 4318,\n",
       " '2013': 75,\n",
       " '退出': 9189,\n",
       " '月份': 5813,\n",
       " '官方': 3810,\n",
       " '回归': 3054,\n",
       " '预示': 9740,\n",
       " '很快': 4569,\n",
       " '登场': 7134,\n",
       " '登陆': 7139,\n",
       " '怎么样': 4648,\n",
       " '近日': 9077,\n",
       " '型号': 3243,\n",
       " '神秘': 7386,\n",
       " '悄然': 4710,\n",
       " '相关': 7217,\n",
       " '这款': 9113,\n",
       " '并非': 4324,\n",
       " '定位': 3817,\n",
       " '配备': 9336,\n",
       " '最受': 5795,\n",
       " '芯片': 8219,\n",
       " '之一': 959,\n",
       " '采用': 9346,\n",
       " '14': 43,\n",
       " '工艺': 4153,\n",
       " '设计': 8596,\n",
       " '当前': 4510,\n",
       " '只有': 2757,\n",
       " '上市': 504,\n",
       " '销售': 9441,\n",
       " '改进': 5352,\n",
       " '明显': 5678,\n",
       " '所以': 4872,\n",
       " '放在': 5367,\n",
       " '变成': 2724,\n",
       " '高端': 9945,\n",
       " '不过': 643,\n",
       " '签署': 7630,\n",
       " '协议': 2455,\n",
       " '时间': 5662,\n",
       " '既然': 5594,\n",
       " '测试': 6500,\n",
       " '说明': 8672,\n",
       " '只要': 2759,\n",
       " '时期': 5649,\n",
       " '新品': 5505,\n",
       " '之前': 967,\n",
       " '曝光': 5763,\n",
       " '竞争': 7537,\n",
       " '优势': 1342,\n",
       " '全面': 1769,\n",
       " '推出': 5209,\n",
       " '全球': 1755,\n",
       " '多达': 3443,\n",
       " '28': 98,\n",
       " '媒体': 3715,\n",
       " '沟通': 6380,\n",
       " '会上': 1356,\n",
       " '各位': 2803,\n",
       " '时代': 5639,\n",
       " '成为': 4790,\n",
       " '沙漠': 6376,\n",
       " '有利': 5824,\n",
       " '消化': 6552,\n",
       " '开盘': 4447,\n",
       " '上证': 532,\n",
       " '蓝筹': 8344,\n",
       " '带动': 4232,\n",
       " '一度': 333,\n",
       " '站上': 7535,\n",
       " '60': 143,\n",
       " '120': 34,\n",
       " '均线': 3223,\n",
       " '万达': 450,\n",
       " '电影': 7066,\n",
       " '暴跌': 5760,\n",
       " '拖累': 5081,\n",
       " '绝大多数': 7828,\n",
       " '大幅': 3488,\n",
       " '各大': 2807,\n",
       " '全线': 1760,\n",
       " '不见': 639,\n",
       " '不可': 592,\n",
       " '短线': 7312,\n",
       " '策略': 7621,\n",
       " '题材': 9770,\n",
       " '为主': 902,\n",
       " '区域': 2385,\n",
       " '概念股': 6142,\n",
       " '调整': 8692,\n",
       " '压力': 2553,\n",
       " '仍然': 1253,\n",
       " '突出': 7515,\n",
       " '再次': 1909,\n",
       " '大跌': 3528,\n",
       " '处于': 3346,\n",
       " '底部': 4367,\n",
       " '低位': 1412,\n",
       " '反复': 2629,\n",
       " '夯实': 3586,\n",
       " '蓝筹股': 8345,\n",
       " '承压': 4964,\n",
       " '后期': 2886,\n",
       " '需要': 9657,\n",
       " '接力': 5190,\n",
       " '走向': 8843,\n",
       " '今日': 1249,\n",
       " '要闻': 8476,\n",
       " '央行': 3584,\n",
       " '上海': 516,\n",
       " '总部': 4686,\n",
       " '债券': 1604,\n",
       " '北向': 2365,\n",
       " '境外': 3310,\n",
       " '投资者': 5004,\n",
       " '准入': 1981,\n",
       " '备案': 3362,\n",
       " '业务': 688,\n",
       " '指引': 5121,\n",
       " '我国': 4818,\n",
       " '信用': 1575,\n",
       " '法规': 6439,\n",
       " '标准': 6055,\n",
       " '研究': 7328,\n",
       " '加快': 2273,\n",
       " '推进': 5219,\n",
       " '房地产': 4864,\n",
       " '研究院': 7334,\n",
       " '房贷利率': 4869,\n",
       " '楼市': 6138,\n",
       " '报告': 5028,\n",
       " '许多': 8583,\n",
       " '城市': 3254,\n",
       " '个人': 767,\n",
       " '住房贷款': 1421,\n",
       " '利率': 2166,\n",
       " '程度': 7477,\n",
       " '水污染': 6327,\n",
       " '修正案': 1584,\n",
       " '草案': 8267,\n",
       " '二审': 1064,\n",
       " '更大': 5769,\n",
       " '力度': 2244,\n",
       " '保护': 1546,\n",
       " '环境': 6917,\n",
       " '结算': 7821,\n",
       " '开展': 4434,\n",
       " '一人': 283,\n",
       " '多户': 3427,\n",
       " '通知': 9241,\n",
       " '启动': 2907,\n",
       " '同一': 2847,\n",
       " '以上': 1283,\n",
       " '账户': 8756,\n",
       " '文件': 5454,\n",
       " '要求': 8474,\n",
       " '23': 90,\n",
       " '日后': 5601,\n",
       " '交易日': 1138,\n",
       " '26': 95,\n",
       " '确认': 7351,\n",
       " '十三': 2403,\n",
       " '金融市场': 9406,\n",
       " '交易额': 1140,\n",
       " '2000': 62,\n",
       " '万亿': 423,\n",
       " '宏观': 3804,\n",
       " '稳定': 7488,\n",
       " '双重': 2627,\n",
       " '因素': 3072,\n",
       " '鼓舞': 9994,\n",
       " '国际': 3140,\n",
       " '基金': 3289,\n",
       " '经理': 7797,\n",
       " '2017': 80,\n",
       " '下半年': 546,\n",
       " '股市': 8054,\n",
       " '有望': 5837,\n",
       " '十年': 2412,\n",
       " '增长': 3332,\n",
       " '创新': 2138,\n",
       " '驱动': 9879,\n",
       " '回顾': 3066,\n",
       " '早盘': 5638,\n",
       " '冲高': 1968,\n",
       " '回落': 3062,\n",
       " '走势': 8842,\n",
       " '盘面': 7183,\n",
       " '300': 101,\n",
       " '盘中': 7181,\n",
       " '新高': 5543,\n",
       " '分化': 2070,\n",
       " '相当': 7224,\n",
       " '跌幅': 8900,\n",
       " '创业板': 2128,\n",
       " '400': 118,\n",
       " '品种': 2963,\n",
       " '计算': 8550,\n",
       " 'st': 268,\n",
       " '涨停': 6572,\n",
       " '不足': 642,\n",
       " '亿元': 1229,\n",
       " '800': 168,\n",
       " '数据': 5436,\n",
       " '共有': 1837,\n",
       " '主力': 917,\n",
       " '流出': 6485,\n",
       " '一日': 346,\n",
       " '61': 146,\n",
       " '57': 139,\n",
       " '抛售': 5012,\n",
       " '13': 39,\n",
       " '介入': 1251,\n",
       " '医药': 2401,\n",
       " '制造': 2196,\n",
       " '雄安': 9624,\n",
       " '新区': 5499,\n",
       " '更是': 5774,\n",
       " '高达': 9954,\n",
       " '技术': 4973,\n",
       " '临近': 899,\n",
       " '半个': 2429,\n",
       " '小时': 3987,\n",
       " '高位': 9910,\n",
       " '留下': 7101,\n",
       " '以来': 1295,\n",
       " '每次': 6254,\n",
       " '回调': 3063,\n",
       " '相对': 7222,\n",
       " '位置': 1409,\n",
       " '即使': 2534,\n",
       " '乏力': 989,\n",
       " '总体': 4662,\n",
       " '打破': 4919,\n",
       " '攻克': 5357,\n",
       " '当日': 4519,\n",
       " '上方': 509,\n",
       " '触及': 8531,\n",
       " '无疑': 5582,\n",
       " '心理': 4614,\n",
       " '负面影响': 8736,\n",
       " '分钟': 2100,\n",
       " '级别': 7727,\n",
       " '形成': 4532,\n",
       " '一旦': 347,\n",
       " '跌破': 8901,\n",
       " '意味着': 4752,\n",
       " '如此': 3682,\n",
       " '引发': 4463,\n",
       " '综合': 7853,\n",
       " '处在': 3349,\n",
       " '区间': 2387,\n",
       " '脆弱': 8082,\n",
       " '心态': 4610,\n",
       " '碎片': 7353,\n",
       " '主线': 937,\n",
       " '模糊': 6155,\n",
       " '热点': 6771,\n",
       " '赚钱': 8818,\n",
       " '效应': 5402,\n",
       " '以下': 1284,\n",
       " '首先': 9823,\n",
       " '长期': 9469,\n",
       " '人气': 1220,\n",
       " '最近': 5808,\n",
       " '一段时间': 364,\n",
       " '整体': 5445,\n",
       " '走高': 8854,\n",
       " '基础': 3283,\n",
       " '弹性': 4484,\n",
       " '制约': 2192,\n",
       " '绝对': 7830,\n",
       " '大面积': 3543,\n",
       " '与此同时': 649,\n",
       " '现在': 6934,\n",
       " '非常': 9682,\n",
       " '频繁': 9766,\n",
       " '今天': 1244,\n",
       " '明天': 5674,\n",
       " '就要': 4027,\n",
       " '打击': 4909,\n",
       " '积极性': 7461,\n",
       " '其次': 1870,\n",
       " '反弹': 2635,\n",
       " '重要': 9381,\n",
       " '拉升': 5058,\n",
       " '这种': 9116,\n",
       " '大涨': 3503,\n",
       " '似乎': 1404,\n",
       " '一直': 372,\n",
       " '吸引': 2912,\n",
       " '加码': 2285,\n",
       " '中小': 836,\n",
       " '面临': 9687,\n",
       " '强大': 4493,\n",
       " '午后': 2427,\n",
       " '复星': 3367,\n",
       " '收复': 5327,\n",
       " '投资': 5002,\n",
       " '建议': 4412,\n",
       " '始终': 3688,\n",
       " '缺乏': 7888,\n",
       " '支持': 5309,\n",
       " '背景': 8067,\n",
       " '后续': 2889,\n",
       " '跟上': 8908,\n",
       " '活跃': 6477,\n",
       " '降低': 9564,\n",
       " '配置': 9338,\n",
       " '加大': 2267,\n",
       " '纠缠': 7710,\n",
       " '促使': 1528,\n",
       " '能否': 8077,\n",
       " '真正': 7270,\n",
       " '观察': 8487,\n",
       " '基于': 3267,\n",
       " '组合': 7759,\n",
       " '因此': 3070,\n",
       " '股指': 8055,\n",
       " '下方': 553,\n",
       " '获得': 8289,\n",
       " '操作': 5300,\n",
       " '粤港澳': 7668,\n",
       " '大湾': 3504,\n",
       " '论坛': 8585,\n",
       " '腾讯': 8094,\n",
       " '人工智能': 1205,\n",
       " '百度': 7156,\n",
       " '举办': 947,\n",
       " 'ai': 191,\n",
       " '开发者': 4427,\n",
       " '大会': 3452,\n",
       " '亚马逊': 1119,\n",
       " '代表': 1278,\n",
       " '互联网': 1092,\n",
       " '巨头': 4162,\n",
       " '一致': 387,\n",
       " '看好': 7253,\n",
       " '发展': 2653,\n",
       " '产业': 1153,\n",
       " '叠加': 2732,\n",
       " '政策': 5391,\n",
       " '扶持': 4953,\n",
       " '景气': 5739,\n",
       " '一个月': 278,\n",
       " '三次': 478,\n",
       " '加之': 2260,\n",
       " '下周': 550,\n",
       " '月末': 5817,\n",
       " '值得': 1610,\n",
       " '做好': 1624,\n",
       " '应对': 4358,\n",
       " '月初': 5814,\n",
       " '为首': 910,\n",
       " '模式': 6152,\n",
       " '保持': 1549,\n",
       " '随着': 9605,\n",
       " '带来': 4237,\n",
       " '刷新': 2200,\n",
       " '高点': 9942,\n",
       " '降温': 9568,\n",
       " '加剧': 2266,\n",
       " '现象': 6944,\n",
       " '必须': 4622,\n",
       " '重视': 9384,\n",
       " '红利': 7711,\n",
       " '军工': 1919,\n",
       " '上周': 497,\n",
       " '王者': 6906,\n",
       " '荣耀': 8270,\n",
       " '类似': 7664,\n",
       " '来自': 6005,\n",
       " '比较': 6271,\n",
       " '敏感': 5408,\n",
       " '半年': 2434,\n",
       " '容易': 3913,\n",
       " '实际上': 3854,\n",
       " '美联储': 7952,\n",
       " '加息': 2274,\n",
       " '缩表': 7883,\n",
       " '行为': 8382,\n",
       " '货币政策': 8758,\n",
       " '开启': 4428,\n",
       " '流行': 6492,\n",
       " '很难': 4571,\n",
       " '中性': 849,\n",
       " '偏紧': 1621,\n",
       " '常态': 4256,\n",
       " '基本面': 3280,\n",
       " '阶段': 9522,\n",
       " '一段': 363,\n",
       " '高速': 9956,\n",
       " '增速': 3330,\n",
       " '下滑': 559,\n",
       " '而是': 7994,\n",
       " '周期': 2934,\n",
       " '适度': 9199,\n",
       " '供给': 1498,\n",
       " '结构性': 7817,\n",
       " '改革': 5354,\n",
       " '决定': 1970,\n",
       " '运行': 9067,\n",
       " '之下': 961,\n",
       " '前期': 2216,\n",
       " '单纯': 2469,\n",
       " '依托': 1500,\n",
       " '能够': 8078,\n",
       " '担忧': 5053,\n",
       " '尤其': 4016,\n",
       " '越来越': 8883,\n",
       " '甚至': 6993,\n",
       " '排除': 5180,\n",
       " '选择': 9213,\n",
       " '伴随': 1403,\n",
       " '谨慎': 8716,\n",
       " '气氛': 6307,\n",
       " '对于': 3929,\n",
       " '梳理': 6115,\n",
       " '警惕': 8541,\n",
       " '兑现': 1704,\n",
       " '利润': 2163,\n",
       " '重新': 9375,\n",
       " '机会': 5937,\n",
       " '阻力': 9524,\n",
       " '密集': 3924,\n",
       " '及时': 2610,\n",
       " '减仓': 1987,\n",
       " '毕竟': 6277,\n",
       " '通道': 9253,\n",
       " '扭转': 4949,\n",
       " '暂时': 5753,\n",
       " '持有': 5106,\n",
       " '主板': 932,\n",
       " '终于': 7777,\n",
       " '遗憾': 9286,\n",
       " '之际': 983,\n",
       " '周五': 2927,\n",
       " '怎样': 4649,\n",
       " '登记': 7138,\n",
       " '托管': 4927,\n",
       " '实施细则': 3844,\n",
       " '实施': 3842,\n",
       " '发改委': 2667,\n",
       " '抓紧': 4986,\n",
       " '制定': 2185,\n",
       " '出台': 2022,\n",
       " '价格': 1306,\n",
       " '监管': 7177,\n",
       " '规则': 8497,\n",
       " '社部': 7377,\n",
       " '月底': 5815,\n",
       " '基本': 3277,\n",
       " '实现': 3847,\n",
       " '跨省': 8916,\n",
       " '异地': 4460,\n",
       " '就医': 4022,\n",
       " '直接': 7206,\n",
       " '成品油': 4802,\n",
       " '年内': 4296,\n",
       " '下调': 564,\n",
       " '降幅': 9566,\n",
       " '元吨': 1656,\n",
       " '国防': 3137,\n",
       " '科工': 7429,\n",
       " '混改': 6604,\n",
       " '资产': 8796,\n",
       " '证券化': 8604,\n",
       " '进程': 9142,\n",
       " '广电总局': 4346,\n",
       " '新浪': 5523,\n",
       " '微博': 4593,\n",
       " '网站': 7902,\n",
       " '关停': 1843,\n",
       " '视听': 8508,\n",
       " '节目': 8207,\n",
       " '欧美': 6185,\n",
       " '稳健': 7487,\n",
       " '国内': 3098,\n",
       " '形式': 4530,\n",
       " '整理': 5449,\n",
       " '1800': 55,\n",
       " '相比': 7228,\n",
       " '显得': 5712,\n",
       " '弱势': 4483,\n",
       " '转换': 8977,\n",
       " '随时': 9603,\n",
       " '第一': 7557,\n",
       " '第二': 7585,\n",
       " '实质性': 3851,\n",
       " '低开': 1413,\n",
       " '可能性': 2770,\n",
       " '防止': 9512,\n",
       " '极为': 6015,\n",
       " '过程': 9045,\n",
       " '确定': 7347,\n",
       " '将会': 3965,\n",
       " '愈发': 4749,\n",
       " '寻求': 3952,\n",
       " '不大': 598,\n",
       " '加上': 2259,\n",
       " '业绩': 691,\n",
       " '最好': 5799,\n",
       " '执行': 4938,\n",
       " '坚持': 3234,\n",
       " '一次': 359,\n",
       " '证明': 8609,\n",
       " '关注': 1849,\n",
       " '观点': 8492,\n",
       " '正确': 6201,\n",
       " ...}"
      ]
     },
     "execution_count": 111,
     "metadata": {},
     "output_type": "execute_result"
    }
   ],
   "source": [
    "vectorized.vocabulary_ #A mapping of terms to feature indices. 即文章向量中，每个单词所处的位置"
   ]
  },
  {
   "cell_type": "markdown",
   "metadata": {},
   "source": [
    "### 利用TFIDF值计算文本相似度"
   ]
  },
  {
   "attachments": {
    "%E5%9B%BE%E7%89%87.png": {
     "image/png": "[encoded data removed]"
    }
   },
   "cell_type": "markdown",
   "metadata": {},
   "source": [
    "![%E5%9B%BE%E7%89%87.png](attachment:%E5%9B%BE%E7%89%87.png)"
   ]
  },
  {
   "cell_type": "markdown",
   "metadata": {},
   "source": [
    "利用每篇文章得到的TFIDF向量的点积的方式来计算相似度，进行归一化处理，其相似度正好等于向量夹角的余弦值"
   ]
  },
  {
   "cell_type": "markdown",
   "metadata": {},
   "source": [
    "$$cosine(u,v) = 1−\\frac{u⋅v}{||u||v||}$$"
   ]
  },
  {
   "cell_type": "code",
   "execution_count": 117,
   "metadata": {},
   "outputs": [],
   "source": [
    "from scipy.spatial.distance import cosine"
   ]
  },
  {
   "cell_type": "code",
   "execution_count": 118,
   "metadata": {},
   "outputs": [],
   "source": [
    "def distance(v1, v2): return cosine(v1, v2)"
   ]
  },
  {
   "cell_type": "code",
   "execution_count": 127,
   "metadata": {},
   "outputs": [
    {
     "data": {
      "text/plain": [
       "0.9507071941340876"
      ]
     },
     "execution_count": 127,
     "metadata": {},
     "output_type": "execute_result"
    }
   ],
   "source": [
    "distance(X[2].toarray()[0],X[1].toarray()[0])"
   ]
  },
  {
   "cell_type": "code",
   "execution_count": 121,
   "metadata": {},
   "outputs": [
    {
     "data": {
      "text/plain": [
       "1.0"
      ]
     },
     "execution_count": 121,
     "metadata": {},
     "output_type": "execute_result"
    }
   ],
   "source": [
    "distance([1, 0], [0, 1])"
   ]
  },
  {
   "cell_type": "code",
   "execution_count": 122,
   "metadata": {},
   "outputs": [],
   "source": [
    "import random"
   ]
  },
  {
   "cell_type": "code",
   "execution_count": 130,
   "metadata": {},
   "outputs": [
    {
     "data": {
      "text/plain": [
       "246"
      ]
     },
     "execution_count": 130,
     "metadata": {},
     "output_type": "execute_result"
    }
   ],
   "source": [
    "random_choose = random.randint(0, 1000)\n",
    "random_choose"
   ]
  },
  {
   "cell_type": "code",
   "execution_count": 131,
   "metadata": {},
   "outputs": [],
   "source": [
    "#计算某篇文章和所有文章的相似度，排序后返回文章索引号\n",
    "document_similarity = sorted(list(range(10000)), key=lambda i: distance(X[random_choose].toarray()[0], \n",
    "                                      X[i].toarray()[0]))"
   ]
  },
  {
   "cell_type": "code",
   "execution_count": 132,
   "metadata": {},
   "outputs": [
    {
     "data": {
      "text/plain": [
       "[246,\n",
       " 1433,\n",
       " 4442,\n",
       " 184,\n",
       " 2512,\n",
       " 5395,\n",
       " 2292,\n",
       " 2259,\n",
       " 2298,\n",
       " 2285,\n",
       " 2317,\n",
       " 2295,\n",
       " 2305,\n",
       " 2260,\n",
       " 2291,\n",
       " 2257,\n",
       " 2258,\n",
       " 2300,\n",
       " 2313,\n",
       " 2254,\n",
       " 2297,\n",
       " 2273,\n",
       " 2288,\n",
       " 2308,\n",
       " 2309,\n",
       " 2280,\n",
       " 2315,\n",
       " 2294,\n",
       " 2303,\n",
       " 2287,\n",
       " 2271,\n",
       " 2264,\n",
       " 2314,\n",
       " 2274,\n",
       " 2276,\n",
       " 2250,\n",
       " 2278,\n",
       " 2281,\n",
       " 2244,\n",
       " 2256,\n",
       " 2316,\n",
       " 2262,\n",
       " 2277,\n",
       " 2275,\n",
       " 2312,\n",
       " 2319,\n",
       " 2242,\n",
       " 2246,\n",
       " 2299,\n",
       " 2301,\n",
       " 2318,\n",
       " 2290,\n",
       " 2311,\n",
       " 2296,\n",
       " 2261,\n",
       " 2265,\n",
       " 2304,\n",
       " 2270,\n",
       " 2248,\n",
       " 2289,\n",
       " 2247,\n",
       " 2307,\n",
       " 2245,\n",
       " 2293,\n",
       " 2241,\n",
       " 2253,\n",
       " 2255,\n",
       " 2268,\n",
       " 2249,\n",
       " 2283,\n",
       " 2279,\n",
       " 2282,\n",
       " 2269,\n",
       " 2272,\n",
       " 2251,\n",
       " 2286,\n",
       " 2306,\n",
       " 2263,\n",
       " 2266,\n",
       " 2284,\n",
       " 2252,\n",
       " 2240,\n",
       " 2302,\n",
       " 2243,\n",
       " 2267,\n",
       " 2310,\n",
       " 2353,\n",
       " 4253,\n",
       " 4168,\n",
       " 4185,\n",
       " 4179,\n",
       " 4161,\n",
       " 4166,\n",
       " 4182,\n",
       " 4199,\n",
       " 4197,\n",
       " 4169,\n",
       " 4193,\n",
       " 4188,\n",
       " 4162,\n",
       " 4178,\n",
       " 4192,\n",
       " 4164,\n",
       " 4186,\n",
       " 4189,\n",
       " 4173,\n",
       " 4195,\n",
       " 4167,\n",
       " 4171,\n",
       " 4198,\n",
       " 4181,\n",
       " 4196,\n",
       " 4165,\n",
       " 4174,\n",
       " 4170,\n",
       " 4163,\n",
       " 4175,\n",
       " 4172,\n",
       " 4191,\n",
       " 4160,\n",
       " 4176,\n",
       " 4184,\n",
       " 4177,\n",
       " 4180,\n",
       " 4486,\n",
       " 4507,\n",
       " 4488,\n",
       " 4500,\n",
       " 4506,\n",
       " 4491,\n",
       " 4504,\n",
       " 4511,\n",
       " 4516,\n",
       " 4510,\n",
       " 4512,\n",
       " 4498,\n",
       " 4499,\n",
       " 4518,\n",
       " 4515,\n",
       " 4484,\n",
       " 4517,\n",
       " 4502,\n",
       " 4513,\n",
       " 4481,\n",
       " 4514,\n",
       " 4505,\n",
       " 4509,\n",
       " 4496,\n",
       " 4508,\n",
       " 4503,\n",
       " 4483,\n",
       " 4485,\n",
       " 4494,\n",
       " 4492,\n",
       " 4495,\n",
       " 4519,\n",
       " 4489,\n",
       " 4480,\n",
       " 4482,\n",
       " 4487,\n",
       " 4490,\n",
       " 4541,\n",
       " 4564,\n",
       " 4579,\n",
       " 4599,\n",
       " 4575,\n",
       " 4582,\n",
       " 4574,\n",
       " 4570,\n",
       " 4562,\n",
       " 4596,\n",
       " 4569,\n",
       " 4578,\n",
       " 4572,\n",
       " 4573,\n",
       " 4583,\n",
       " 4566,\n",
       " 4584,\n",
       " 4560,\n",
       " 4589,\n",
       " 4593,\n",
       " 4580,\n",
       " 4568,\n",
       " 4586,\n",
       " 4590,\n",
       " 4587,\n",
       " 4563,\n",
       " 4561,\n",
       " 4597,\n",
       " 4577,\n",
       " 4594,\n",
       " 4567,\n",
       " 4571,\n",
       " 4565,\n",
       " 4576,\n",
       " 4581,\n",
       " 4585,\n",
       " 4588,\n",
       " 4591,\n",
       " 4592,\n",
       " 4595,\n",
       " 4635,\n",
       " 4601,\n",
       " 4534,\n",
       " 4629,\n",
       " 4612,\n",
       " 4622,\n",
       " 4639,\n",
       " 4556,\n",
       " 4609,\n",
       " 4537,\n",
       " 4558,\n",
       " 4624,\n",
       " 4611,\n",
       " 4532,\n",
       " 4521,\n",
       " 4524,\n",
       " 4529,\n",
       " 4528,\n",
       " 4615,\n",
       " 4600,\n",
       " 4602,\n",
       " 4603,\n",
       " 4618,\n",
       " 4627,\n",
       " 4538,\n",
       " 4610,\n",
       " 4614,\n",
       " 4559,\n",
       " 4548,\n",
       " 4628,\n",
       " 4530,\n",
       " 4544,\n",
       " 4545,\n",
       " 4552,\n",
       " 4527,\n",
       " 4522,\n",
       " 4625,\n",
       " 4555,\n",
       " 4542,\n",
       " 4621,\n",
       " 4638,\n",
       " 4620,\n",
       " 4554,\n",
       " 4540,\n",
       " 4626,\n",
       " 4616,\n",
       " 4547,\n",
       " 4617,\n",
       " 4543,\n",
       " 4632,\n",
       " 4604,\n",
       " 4535,\n",
       " 4633,\n",
       " 4605,\n",
       " 4608,\n",
       " 4613,\n",
       " 4520,\n",
       " 4526,\n",
       " 4557,\n",
       " 4549,\n",
       " 4546,\n",
       " 4536,\n",
       " 4531,\n",
       " 4525,\n",
       " 4553,\n",
       " 4551,\n",
       " 4533,\n",
       " 4607,\n",
       " 4523,\n",
       " 4493,\n",
       " 4497,\n",
       " 4501,\n",
       " 4539,\n",
       " 4550,\n",
       " 4598,\n",
       " 4606,\n",
       " 4619,\n",
       " 4623,\n",
       " 4636,\n",
       " 4630,\n",
       " 4631,\n",
       " 4634,\n",
       " 4637,\n",
       " 4938,\n",
       " 4828,\n",
       " 4923,\n",
       " 4983,\n",
       " 4992,\n",
       " 4962,\n",
       " 4997,\n",
       " 4981,\n",
       " 4968,\n",
       " 4975,\n",
       " 4961,\n",
       " 4969,\n",
       " 4985,\n",
       " 4978,\n",
       " 4999,\n",
       " 4971,\n",
       " 4990,\n",
       " 4966,\n",
       " 4964,\n",
       " 4982,\n",
       " 4960,\n",
       " 4973,\n",
       " 4995,\n",
       " 4980,\n",
       " 4984,\n",
       " 4998,\n",
       " 4970,\n",
       " 4967,\n",
       " 4974,\n",
       " 4972,\n",
       " 4996,\n",
       " 4963,\n",
       " 4994,\n",
       " 4965,\n",
       " 4977,\n",
       " 4991,\n",
       " 4986,\n",
       " 4976,\n",
       " 4979,\n",
       " 4987,\n",
       " 4988,\n",
       " 4989,\n",
       " 5027,\n",
       " 5023,\n",
       " 5003,\n",
       " 5024,\n",
       " 5018,\n",
       " 5006,\n",
       " 5002,\n",
       " 5007,\n",
       " 5033,\n",
       " 5035,\n",
       " 5029,\n",
       " 5021,\n",
       " 5014,\n",
       " 5037,\n",
       " 5030,\n",
       " 5026,\n",
       " 5013,\n",
       " 5009,\n",
       " 5038,\n",
       " 5016,\n",
       " 5031,\n",
       " 5025,\n",
       " 5015,\n",
       " 5020,\n",
       " 5019,\n",
       " 5005,\n",
       " 5032,\n",
       " 5034,\n",
       " 5022,\n",
       " 5001,\n",
       " 5036,\n",
       " 5011,\n",
       " 5008,\n",
       " 5012,\n",
       " 5004,\n",
       " 5010,\n",
       " 5000,\n",
       " 5017,\n",
       " 5028,\n",
       " 4993,\n",
       " 5039,\n",
       " 5070,\n",
       " 5069,\n",
       " 5065,\n",
       " 5051,\n",
       " 5068,\n",
       " 5055,\n",
       " 5058,\n",
       " 5062,\n",
       " 5046,\n",
       " 5050,\n",
       " 5076,\n",
       " 5042,\n",
       " 5066,\n",
       " 5079,\n",
       " 5057,\n",
       " 5048,\n",
       " 5054,\n",
       " 5061,\n",
       " 5073,\n",
       " 5072,\n",
       " 5047,\n",
       " 5043,\n",
       " 5052,\n",
       " 5041,\n",
       " 5044,\n",
       " 5075,\n",
       " 5045,\n",
       " 5071,\n",
       " 5049,\n",
       " 5067,\n",
       " 5040,\n",
       " 5053,\n",
       " 5059,\n",
       " 5077,\n",
       " 5063,\n",
       " 5056,\n",
       " 5060,\n",
       " 5064,\n",
       " 5074,\n",
       " 5078,\n",
       " 5088,\n",
       " 3184,\n",
       " 4200,\n",
       " 2566,\n",
       " 1190,\n",
       " 1219,\n",
       " 854,\n",
       " 2604,\n",
       " 3739,\n",
       " 3763,\n",
       " 4672,\n",
       " 3577,\n",
       " 2,\n",
       " 888,\n",
       " 2108,\n",
       " 3798,\n",
       " 1600,\n",
       " 4446,\n",
       " 3736,\n",
       " 1013,\n",
       " 3726,\n",
       " 5249,\n",
       " 707,\n",
       " 705,\n",
       " 1615,\n",
       " 2570,\n",
       " 2064,\n",
       " 3405,\n",
       " 368,\n",
       " 2109,\n",
       " 1534,\n",
       " 2781,\n",
       " 5114,\n",
       " 2122,\n",
       " 3730,\n",
       " 1004,\n",
       " 3658,\n",
       " 3195,\n",
       " 1254,\n",
       " 2236,\n",
       " 2543,\n",
       " 1748,\n",
       " 1132,\n",
       " 4661,\n",
       " 1804,\n",
       " 3447,\n",
       " 3602,\n",
       " 5149,\n",
       " 5148,\n",
       " 5145,\n",
       " 5132,\n",
       " 5153,\n",
       " 5130,\n",
       " 5133,\n",
       " 5122,\n",
       " 5140,\n",
       " 5147,\n",
       " 5121,\n",
       " 5146,\n",
       " 5156,\n",
       " 5125,\n",
       " 5158,\n",
       " 5141,\n",
       " 5123,\n",
       " 5126,\n",
       " 5129,\n",
       " 5150,\n",
       " 5137,\n",
       " 5142,\n",
       " 5157,\n",
       " 5135,\n",
       " 5144,\n",
       " 5138,\n",
       " 5155,\n",
       " 5143,\n",
       " 5120,\n",
       " 5152,\n",
       " 5124,\n",
       " 5136,\n",
       " 5127,\n",
       " 5128,\n",
       " 5131,\n",
       " 5134,\n",
       " 5139,\n",
       " 5228,\n",
       " 5185,\n",
       " 5284,\n",
       " 5307,\n",
       " 5169,\n",
       " 5248,\n",
       " 5289,\n",
       " 5303,\n",
       " 5300,\n",
       " 5301,\n",
       " 5295,\n",
       " 5313,\n",
       " 5299,\n",
       " 5305,\n",
       " 5298,\n",
       " 5308,\n",
       " 5294,\n",
       " 5311,\n",
       " 5283,\n",
       " 5282,\n",
       " 5290,\n",
       " 5310,\n",
       " 5288,\n",
       " 5285,\n",
       " 5315,\n",
       " 5296,\n",
       " 5316,\n",
       " 5302,\n",
       " 5280,\n",
       " 5314,\n",
       " 5297,\n",
       " 5281,\n",
       " 5306,\n",
       " 5286,\n",
       " 5291,\n",
       " 5287,\n",
       " 5292,\n",
       " 5330,\n",
       " 5320,\n",
       " 5355,\n",
       " 5356,\n",
       " 5372,\n",
       " 5348,\n",
       " 5399,\n",
       " 5379,\n",
       " 5391,\n",
       " 5388,\n",
       " 5380,\n",
       " 5378,\n",
       " 5386,\n",
       " 5361,\n",
       " 5384,\n",
       " 5382,\n",
       " 5367,\n",
       " 5365,\n",
       " 5396,\n",
       " 5364,\n",
       " 5368,\n",
       " 5397,\n",
       " 5381,\n",
       " 5362,\n",
       " 5374,\n",
       " 5363,\n",
       " 5394,\n",
       " 5360,\n",
       " 5390,\n",
       " 5398,\n",
       " 5393,\n",
       " 5369,\n",
       " 5366,\n",
       " 5370,\n",
       " 5383,\n",
       " 5371,\n",
       " 5389,\n",
       " 5392,\n",
       " 5400,\n",
       " 5375,\n",
       " 5385,\n",
       " 5377,\n",
       " 5401,\n",
       " 5373,\n",
       " 5387,\n",
       " 5402,\n",
       " 5403,\n",
       " 5357,\n",
       " 5241,\n",
       " 5346,\n",
       " 5276,\n",
       " 5321,\n",
       " 5322,\n",
       " 5413,\n",
       " 5209,\n",
       " 5407,\n",
       " 5160,\n",
       " 5256,\n",
       " 5175,\n",
       " 5227,\n",
       " 5237,\n",
       " 5207,\n",
       " 5351,\n",
       " 5182,\n",
       " 5438,\n",
       " 5426,\n",
       " 5271,\n",
       " 5341,\n",
       " 5261,\n",
       " 5338,\n",
       " 5273,\n",
       " 5414,\n",
       " 5427,\n",
       " 5232,\n",
       " 5425,\n",
       " 5166,\n",
       " 5177,\n",
       " 5347,\n",
       " 5188,\n",
       " 5420,\n",
       " 5260,\n",
       " 5178,\n",
       " 5244,\n",
       " 5337,\n",
       " 5419,\n",
       " 5343,\n",
       " 5263,\n",
       " 5216,\n",
       " 5225,\n",
       " 5165,\n",
       " 5217,\n",
       " 5334,\n",
       " 5195,\n",
       " 5219,\n",
       " 5243,\n",
       " 5162,\n",
       " 5336,\n",
       " 5255,\n",
       " 5252,\n",
       " 5324,\n",
       " 5436,\n",
       " 5404,\n",
       " 5409,\n",
       " 5240,\n",
       " 5428,\n",
       " 5205,\n",
       " 5349,\n",
       " 5230,\n",
       " 5340,\n",
       " 5224,\n",
       " 5184,\n",
       " 5406,\n",
       " 5193,\n",
       " 5213,\n",
       " 5196,\n",
       " 5344,\n",
       " 5345,\n",
       " 5206,\n",
       " 5279,\n",
       " 5212,\n",
       " 5353,\n",
       " 5269,\n",
       " 5203,\n",
       " 5410,\n",
       " 5164,\n",
       " 5354,\n",
       " 5163,\n",
       " 5168,\n",
       " 5333,\n",
       " 5424,\n",
       " 5199,\n",
       " 5262,\n",
       " 5416,\n",
       " 5431,\n",
       " 5221,\n",
       " 5433,\n",
       " 5405,\n",
       " 5277,\n",
       " 5259,\n",
       " 5234,\n",
       " 5415,\n",
       " 5332,\n",
       " 5358,\n",
       " 5250,\n",
       " 5430,\n",
       " 5275,\n",
       " 5429,\n",
       " 5325,\n",
       " 5408,\n",
       " 5208,\n",
       " 5220,\n",
       " 5194,\n",
       " 5268,\n",
       " 5187,\n",
       " 5418,\n",
       " 5242,\n",
       " 5422,\n",
       " 5202,\n",
       " 5246,\n",
       " 5267,\n",
       " 5251,\n",
       " 5233,\n",
       " 5329,\n",
       " 5437,\n",
       " 5200,\n",
       " 5170,\n",
       " 5312,\n",
       " 5159,\n",
       " 5223,\n",
       " 5257,\n",
       " 5293,\n",
       " 5350,\n",
       " 5222,\n",
       " 5239,\n",
       " 5304,\n",
       " 5327,\n",
       " 5278,\n",
       " 5258,\n",
       " 5352,\n",
       " 5171,\n",
       " 5264,\n",
       " 5245,\n",
       " 5167,\n",
       " 5318,\n",
       " 5191,\n",
       " 5432,\n",
       " 5236,\n",
       " 5238,\n",
       " 5411,\n",
       " 5253,\n",
       " 5254,\n",
       " 5417,\n",
       " 5176,\n",
       " 5274,\n",
       " 5197,\n",
       " 5328,\n",
       " 5198,\n",
       " 5215,\n",
       " 5265,\n",
       " 5180,\n",
       " 5172,\n",
       " 5235,\n",
       " 5421,\n",
       " 5173,\n",
       " 5210,\n",
       " 5335,\n",
       " 5376,\n",
       " 5229,\n",
       " 5270,\n",
       " 5154,\n",
       " 5435,\n",
       " 5439,\n",
       " 5272,\n",
       " 5186,\n",
       " 5319,\n",
       " 5211,\n",
       " 5161,\n",
       " 5412,\n",
       " 5231,\n",
       " 5359,\n",
       " 5204,\n",
       " 5423,\n",
       " 5151,\n",
       " 5174,\n",
       " 5179,\n",
       " 5181,\n",
       " 5183,\n",
       " 5189,\n",
       " 5190,\n",
       " 5192,\n",
       " 5201,\n",
       " 5214,\n",
       " 5218,\n",
       " 5226,\n",
       " 5247,\n",
       " 5266,\n",
       " 5309,\n",
       " 5317,\n",
       " 5323,\n",
       " 5326,\n",
       " 5331,\n",
       " 5339,\n",
       " 5342,\n",
       " 5434,\n",
       " 5500,\n",
       " 5470,\n",
       " 5512,\n",
       " 5460,\n",
       " 5476,\n",
       " 5448,\n",
       " 5457,\n",
       " 5509,\n",
       " 5456,\n",
       " 5449,\n",
       " 5519,\n",
       " 5496,\n",
       " 5499,\n",
       " 5480,\n",
       " 5485,\n",
       " 5503,\n",
       " 5504,\n",
       " 5455,\n",
       " 5510,\n",
       " 5465,\n",
       " 5477,\n",
       " 5481,\n",
       " 5518,\n",
       " 5472,\n",
       " 5514,\n",
       " 5454,\n",
       " 5459,\n",
       " 5493,\n",
       " 5466,\n",
       " 5442,\n",
       " 5444,\n",
       " 5508,\n",
       " 5478,\n",
       " 5501,\n",
       " 5487,\n",
       " 5497,\n",
       " 5506,\n",
       " 5489,\n",
       " 5492,\n",
       " 5451,\n",
       " 5453,\n",
       " 5511,\n",
       " 5517,\n",
       " 5463,\n",
       " 5441,\n",
       " 5516,\n",
       " 5513,\n",
       " 5479,\n",
       " 5505,\n",
       " 5443,\n",
       " 5467,\n",
       " 5491,\n",
       " 5452,\n",
       " 5475,\n",
       " 5458,\n",
       " 5445,\n",
       " 5468,\n",
       " 5450,\n",
       " 5515,\n",
       " 5446,\n",
       " 5462,\n",
       " 5482,\n",
       " 5447,\n",
       " 5483,\n",
       " 5461,\n",
       " 5484,\n",
       " 5469,\n",
       " 5502,\n",
       " 5473,\n",
       " 5474,\n",
       " 5464,\n",
       " 5471,\n",
       " 5507,\n",
       " 5494,\n",
       " 5488,\n",
       " 5498,\n",
       " 5440,\n",
       " 5486,\n",
       " 5490,\n",
       " 5495,\n",
       " 5524,\n",
       " 5529,\n",
       " 5554,\n",
       " 5587,\n",
       " 5528,\n",
       " 5539,\n",
       " 5550,\n",
       " 5525,\n",
       " 5520,\n",
       " 5564,\n",
       " 5593,\n",
       " 5598,\n",
       " 5562,\n",
       " 5555,\n",
       " 5597,\n",
       " 5558,\n",
       " 5553,\n",
       " 5581,\n",
       " 5559,\n",
       " 5534,\n",
       " 5536,\n",
       " 5588,\n",
       " 5570,\n",
       " 5544,\n",
       " 5521,\n",
       " 5541,\n",
       " 5540,\n",
       " 5556,\n",
       " 5576,\n",
       " 5590,\n",
       " 5527,\n",
       " 5591,\n",
       " 5594,\n",
       " 5523,\n",
       " 5569,\n",
       " 5565,\n",
       " 5560,\n",
       " 5543,\n",
       " 5552,\n",
       " 5583,\n",
       " 5578,\n",
       " 5571,\n",
       " 5537,\n",
       " 5582,\n",
       " 5532,\n",
       " 5599,\n",
       " 5535,\n",
       " 5538,\n",
       " 5551,\n",
       " 5580,\n",
       " 5546,\n",
       " 5577,\n",
       " 5531,\n",
       " 5579,\n",
       " 5548,\n",
       " 5549,\n",
       " 5530,\n",
       " 5595,\n",
       " 5566,\n",
       " 5596,\n",
       " 5547,\n",
       " 5563,\n",
       " 5573,\n",
       " 5542,\n",
       " 5526,\n",
       " 5592,\n",
       " 5545,\n",
       " 5568,\n",
       " 5585,\n",
       " 5586,\n",
       " 5567,\n",
       " 5533,\n",
       " 5522,\n",
       " 5557,\n",
       " 5561,\n",
       " 5572,\n",
       " 5574,\n",
       " 5575,\n",
       " 5584,\n",
       " 5589,\n",
       " 5606,\n",
       " 5612,\n",
       " 5626,\n",
       " 5617,\n",
       " 5628,\n",
       " 5623,\n",
       " 5603,\n",
       " 5602,\n",
       " 5615,\n",
       " 5632,\n",
       " 5636,\n",
       " 5611,\n",
       " 5634,\n",
       " 5616,\n",
       " 5608,\n",
       " 5600,\n",
       " 5629,\n",
       " 5601,\n",
       " 5620,\n",
       " 5631,\n",
       " 5610,\n",
       " 5609,\n",
       " 5621,\n",
       " 5605,\n",
       " 5618,\n",
       " 5624,\n",
       " 5607,\n",
       " 5633,\n",
       " 5637,\n",
       " 5639,\n",
       " 5625,\n",
       " 5604,\n",
       " 5613,\n",
       " 5638,\n",
       " 5614,\n",
       " 5619,\n",
       " 5622,\n",
       " 5627,\n",
       " 5630,\n",
       " 5669,\n",
       " 5652,\n",
       " 5677,\n",
       " 5670,\n",
       " 5658,\n",
       " 5642,\n",
       " 5678,\n",
       " 5663,\n",
       " 5650,\n",
       " 5676,\n",
       " 5651,\n",
       " 5665,\n",
       " 5664,\n",
       " 5667,\n",
       " 5673,\n",
       " 5646,\n",
       " 5671,\n",
       " 5655,\n",
       " 5674,\n",
       " 5659,\n",
       " 5661,\n",
       " 5648,\n",
       " 5657,\n",
       " 5649,\n",
       " 5668,\n",
       " 5641,\n",
       " 5644,\n",
       " 5662,\n",
       " 5640,\n",
       " ...]"
      ]
     },
     "execution_count": 132,
     "metadata": {},
     "output_type": "execute_result"
    }
   ],
   "source": [
    "document_similarity# 和文章246最类似的是246本身，其次是索引号为1433的文章"
   ]
  },
  {
   "cell_type": "code",
   "execution_count": 134,
   "metadata": {},
   "outputs": [
    {
     "data": {
      "text/plain": [
       "'图片来自于特斯拉官方网站普通民众初创企业以及老牌发电公司都在参与到这场变革中但是这种趋势的最大梦想家受益者之一就是特斯拉电动汽车公司首席执行官伊隆马斯克ElonMusk他正向你出售能够发电的太阳能屋顶能够储存所有电能的大型电池以及能够利用太阳能蓄电池充电的电动汽车相比其他公司马斯克已经在市场上处于领先地位但他正帮助建造新的电网系统这里每个人都能发电而每个人又都是消费者住宅甚至电力公司安装的大型电池可以吸收这些电能并在电力供应紧张时释放出来美国加州电力公司PacificGasElectric负责领导电网创新努力的高管维韦克那拉扬南VivekNarayanan说我们正努力摆脱传统的单向电网并向未来电网演进图2住宅和发电站中的太阳能电池和大型蓄电池可能彻底改变100多年前出现的电网系统绝大多数人会在汽车燃油耗尽前为其重新加油但是电网的工作机制完全不同无论在任何时候电力公司都必须确保供应的电力与人们消耗的电力保持精确平衡当电视肥皂剧EastEnders结束后英国电力供应商必须做好应对电量需求激增的情况因为成千上万的人开始煮茶值得注意的是电网系统的工作非常稳定与个人财务相比许多人需要在银行账户中保留一笔现金以应对日常的财务波动但电网运营商的过河钱几乎为零而这正是未来非常棘手的地方煤炭发电水力发电以及核能发电通常可产生稳定的电力供应其他发电方式比如日益增多的天然气发电都是为了满足用电高峰期需求而出现的但是替代能源主要是太阳能发电和风力发电需要在有太阳或风大的时候才会有效这令匹配电力供应与需求变得更难特别是当人们下班回家后太阳能电池板也刚好停止发电图32年前马斯克为个人住户发布了Powerwall电池为公司和电力公司推出了Powerpack为行业客户提供咨询服务的资产管理公司Lazard负责北美能源基础设施业务的主管乔纳森米尔JonathanMir说尽管全球变暖趋势日益明显但特朗普政府希望重新复兴煤炭发电行业虽然暴跌的天然气价格意味着煤炭发电时代被终结电池制造商EosEnergyStorage首席执行官迈克尔奥斯特MichaelOster也称现在是数十年来最热的时候如今的电网必须满足更大的供电需求如果你拥有储电设施就可以建立更接近平均水平的电网这可以让电力公司受益匪浅电网级的电池储存系统比如特斯拉的Powerpack足以满足数百家用户的供电需求虽然这些电池并不便宜足以为750户家庭供电4小时的1兆瓦Powerpack安装成本达180万美元但与升级输电线路和其他设备相比成本依然更低PacificGasElectric已经在萨克拉门托以北80公里处的变电站安装了2000千万时的电池足以为375户家庭供电4小时这些电力足以为33辆ChevroletBolt电动汽车充满电或支持364万部苹果13英寸笔记本电脑MacBookPro特斯拉另外两个Powerpack项目规模更大即夏威夷考艾岛UtilityCooperative安装52万兆时电池可为870辆ChevyBolt充电南加州爱迪生电力公司新安装的80兆瓦时电池则可支持1330辆ChevyBolt图4特斯拉宣称单块Powerwall2可满足普通两居室住宅全天电力供应除此之外特斯拉认为当其超级工厂于2018年到2020年进入满负荷运转时电池成本有望下降30Lazard的米尔表示随着成本下降以及存储方式的进步太阳能发电和风能发电将会更受欢迎对于电力公司来说电网级的存储系统变得更有意义但特斯拉可能更希望你为住宅购买5500美元的Powerwall2电池称单块Powerwall2就可满足普通两居室住宅全天电力供应但其加上安装费用成本将达到7000美元但米尔认为这样的电池很难销售对我们大多数人来说没有经济意义RegulatoryAssistanceProject高级顾问吉姆拉扎尔JimLazar也很看好电池存储系统的潜力但只有人们接受更便宜的选择比如电力公司控制的热水器或制冰空调只有在非用电高峰期时才会使用但是能源价格变化将会改变这个方程式如今大多数屋顶安装太阳能电池板的人会在减去自家发电外才会向功用电网支付剩余费用这种方法叫净额计量如果你消耗的电量与发电相当那么自己就不必支付电费这对个人来说是个好消息但对电力公司来说则相当糟糕目前美国40多个州已经采用净额计量方案这在电力公司和太阳能发电用户之间产生摩擦为了更好地调整用电高峰期的电力成本加州等州正改变净额计量率与监管规则取消或调整净额计量可鼓励人们购买电池在家储存电力在用电高峰期账单可能更高这已经是越来越普遍的计费策略最终可能令电池变得更有经济意义南加州爱迪生电力公司先进能源存储团队负责人洛埃克盖拉克LoicGaillac说如果关税和监管规则改变住宅存储将得到急剧扩张拉扎尔说当数以百万计的家庭为电网供电时电力公司将面临着生死抉择这种演变是不可避免的有必要的且正在进行中尽管目前显得有点儿混乱但像马斯克这样的科技领袖总是倾向于颠覆现状随着太阳能屋顶和电动汽车的到来你最好能够习惯它'"
      ]
     },
     "execution_count": 134,
     "metadata": {},
     "output_type": "execute_result"
    }
   ],
   "source": [
    "'' .join(token_list[246])"
   ]
  },
  {
   "cell_type": "code",
   "execution_count": 135,
   "metadata": {},
   "outputs": [
    {
     "data": {
      "text/plain": [
       "'输电网络建成至今已有一个多世纪如今它正迎来有史以来最大的变革以往电力生产和分发的控制权被电力公司牢牢掌控但未来它将分散到我们每一个人手中这场变革波及甚广普通居民创业公司以及拥有数十年历史的老牌电力公司都牵涉其中但要说到其中最具远见卓识以及收益最多的还要数特斯拉的CEO埃隆马斯克除了大众所熟知的特斯拉电动汽车马斯克还推出了太阳能屋顶发电系统以及家庭储能系统Powerwall特斯拉家庭储能系统Powerwall在这场电力网络的变革中马斯克不过刚刚迈出了几小步但影响十分深远他正在努力搭建一个人人可以发电人人可以用电同时家家户户甚至电力公司拥有大型储能电池的新型电力网络这些大型储能电池可以在电力富余时存储电能供电力紧张时使用太平洋煤气电力公司的电网创新主管VivekNarayanan对此描述道我们正在努力摆脱传统的单向电力网络朝着未来电网进发零缓冲的电力网络通常我们会在汽车油箱里的油耗尽之前补充燃料但电力网络的工作方式与此不同每年的不同季节每天的不同时段我们对于电力的需求都在不断变化以英国为例很多人会在肥皂剧EastEnders结束后烧开水泡茶导致电力需求激增电力运营商必须随时调整以确保电力供应与用户的需求保持平衡再以一个日常生活场景为例很多人会在银行账户中储蓄以备不时之需但电力运营商并没有这样的储蓄账户面对电力需求的波动他们没有任何缓冲余地而这正是替代能源的瓶颈所在煤电水力发电和核能发电通常能产生稳定的电力输出其他发电方式比如越来越常见的天然气发电供电部门也可以在用电高峰期时开启以保证电力供应但替代能源尤其是太阳能发电和风力发电只有在有阳光和风的情况下才能工作这就使得供需匹配难以实现晚上你下班回到家后正准备开灯太阳能发电系统却早已停止了工作不久前美国总统特朗普在白宫宣布退出巴黎协定引发轩然大波美国能源基础设施实践总监JonathanMir表示特朗普政府无视全球气候变暖仍然试图复兴煤电但天然气价格暴跌已经宣示了煤电时代的终结可再生能源一旦变得比化石能源发电更便宜用新型电力取代煤电便是水到渠成的事情储能电池打破僵局Eos储能公司的首席执行官MichaelOster指出我们今天使用的电力网络是以能满足最极端的用电情况为标准而设计的如果我们拥有电力存储系统那么只需要建设能满足平均用电需求的电力网络就够了电力存储系统的问世将削弱传统电力运营商的重要性以特斯拉的Powerpack电力存储系统为例它可以为数百户人家提供足够的电力不过这些电力存储系统并不便宜一个兆瓦级的Powerpack可以供750个家庭使用4小时同时其成本也高达180万美元不过与升级传输线和其他设备的成本相比它们还是很便宜的太平洋煤气电力公司在萨克拉门托以北50英里的一个变电站安装了容量为2000千瓦时的电池这块电池足以供375个家庭使用4小时2000千瓦时是一个什么概念呢大致相当于33辆雪佛兰Bolt电动汽车或者36400台13英寸MacBookPro笔记本电脑的电池容量总和雷锋网了解到还有两个更大容量的Powerpack系统也已经投入使用其中一个位于夏威夷容量高达52兆瓦时相当于870辆雪佛兰Bolt另一个则位于南加利福尼亚州容量为80兆瓦时相当于1330雪佛兰Bolt特斯拉位于夏威夷考艾岛的太阳能设施特斯拉认为其电池工厂Gigafactory将在20182020年间实现满负荷运转届时能将电池的成本再压缩30Mir指出太阳能和风能在价格下降后便开始流行开来电力存储也将遵循同样的规律电网级的电力存储系统对电力公司来说很有价值但特斯拉志不在此它希望向家庭用户销售价值5500美元的Powerwall2据特斯拉宣称这样一块电池可以供普通两居室家庭使用一整天据雷锋网了解如果将安装费用计算在内Powerwall2的成本高达7000美元Mir认为这样的电池对大多数人来说并不经济实惠难以在市场推广RegulatoryAssistanceProject高级顾问吉姆拉扎尔JimLazar认为储能电池有用武之地但前提是它能变得更加便宜在美国有许多由电力公司控制的热水器和制冰空调它们会在非高峰用电时段工作拉扎尔认为价值5500美元的Powerwall存储的能量还没有这些价值500美元的热水器多未来更加经济不过随着能源价格的变化这一局面有可能发生变化目前大多数屋顶太阳能电池板的用户仅需要为超出产生部分的电力付费这种方案被称作净计量这意味着如果你使用的电能与你家的太阳能电池产生的电能一样多就无需支付任何费用这对消费者来说自然是一桩好消息但电力公司可不这么认为美国已经有40个州出台了净计量政策但这导致了电力公司和太阳能用户间的摩擦为了更好地调整用电高峰期的用电成本加州等地正在修改净计量率和相关法规净计量政策的废除和调整可能会促使人们购买大型电池用于储存家庭产生的电能供用电高峰时段使用这一做法正变得越来越普遍最终可能会让储能电池更加经济实惠南加利福尼亚州爱迪生先进能源储存集团高级经理LoicGaillac预计如果净计量率和相关法规发生变化家庭电力存储将迎来爆发式增长随着数以百万的家庭开始使用电力存储系统传统电力公司面临着两个选择要么主动适应要么被时代淘汰拉扎尔指出这种演变不可避免同时也很必要当然电力网络的变革之路也很坎坷但马斯克这样的企业家们正在奋力前行如今太阳能屋顶和特斯拉电动汽车已经走进了我们的生活相信全新的电力网络也已经离我们不远了viacnet'"
      ]
     },
     "execution_count": 135,
     "metadata": {},
     "output_type": "execute_result"
    }
   ],
   "source": [
    "'' .join(token_list[1433])"
   ]
  },
  {
   "cell_type": "markdown",
   "metadata": {},
   "source": [
    "## Build Search Engine "
   ]
  },
  {
   "cell_type": "markdown",
   "metadata": {},
   "source": [
    "```\n",
    "Input: Words\n",
    "Output: Documents\n",
    "```\n",
    "1. 生成Words的TFIDF向量\n",
    "2. 从所有文章中找出包含Words的所有文章\n",
    "3. 计算Words和2中找出文章的相似度，利用两者的TFIDF向量值进行相似度计算\n",
    "4. 对3种的相似度进行排序，从找到最接近Words的 Document"
   ]
  },
  {
   "cell_type": "markdown",
   "metadata": {},
   "source": [
    "### Input word ：find  the documents which contain this word"
   ]
  },
  {
   "cell_type": "code",
   "execution_count": 166,
   "metadata": {},
   "outputs": [
    {
     "data": {
      "text/plain": [
       "(50000, 10000)"
      ]
     },
     "execution_count": 166,
     "metadata": {},
     "output_type": "execute_result"
    }
   ],
   "source": [
    "X.shape"
   ]
  },
  {
   "cell_type": "code",
   "execution_count": 137,
   "metadata": {},
   "outputs": [],
   "source": [
    "transposed_x = X.transpose().toarray()"
   ]
  },
  {
   "cell_type": "code",
   "execution_count": 138,
   "metadata": {},
   "outputs": [
    {
     "data": {
      "text/plain": [
       "array([[0., 0., 0., ..., 0., 0., 0.],\n",
       "       [0., 0., 0., ..., 0., 0., 0.],\n",
       "       [0., 0., 0., ..., 0., 0., 0.],\n",
       "       ...,\n",
       "       [0., 0., 0., ..., 0., 0., 0.],\n",
       "       [0., 0., 0., ..., 0., 0., 0.],\n",
       "       [0., 0., 0., ..., 0., 0., 0.]])"
      ]
     },
     "execution_count": 138,
     "metadata": {},
     "output_type": "execute_result"
    }
   ],
   "source": [
    "transposed_x"
   ]
  },
  {
   "cell_type": "code",
   "execution_count": 167,
   "metadata": {},
   "outputs": [],
   "source": [
    ">>> from sklearn.feature_extraction.text import TfidfVectorizer\n",
    ">>> corpus = [\n",
    "...     'This is the first document.',\n",
    "...     'This document is the second document.',\n",
    "...     'And this is the third one.',\n",
    "...     'Is this the first document?',\n",
    "... ]\n",
    ">>> vectorizer_test = TfidfVectorizer()\n",
    ">>> T = vectorizer_test.fit_transform(corpus)"
   ]
  },
  {
   "cell_type": "code",
   "execution_count": 170,
   "metadata": {},
   "outputs": [
    {
     "data": {
      "text/plain": [
       "{'this': 8,\n",
       " 'is': 3,\n",
       " 'the': 6,\n",
       " 'first': 2,\n",
       " 'document': 1,\n",
       " 'second': 5,\n",
       " 'and': 0,\n",
       " 'third': 7,\n",
       " 'one': 4}"
      ]
     },
     "execution_count": 170,
     "metadata": {},
     "output_type": "execute_result"
    }
   ],
   "source": [
    "vectorizer_test.vocabulary_ #例如this在  9维度向量表示的TFIDF向量中 8的位置"
   ]
  },
  {
   "cell_type": "code",
   "execution_count": 141,
   "metadata": {},
   "outputs": [],
   "source": [
    "word_2_id = vectorized.vocabulary_"
   ]
  },
  {
   "cell_type": "code",
   "execution_count": 142,
   "metadata": {},
   "outputs": [
    {
     "data": {
      "text/plain": [
       "1244"
      ]
     },
     "execution_count": 142,
     "metadata": {},
     "output_type": "execute_result"
    }
   ],
   "source": [
    "word_2_id['今天']"
   ]
  },
  {
   "cell_type": "code",
   "execution_count": 143,
   "metadata": {},
   "outputs": [],
   "source": [
    "id_2_word = {d: w for w, d in word_2_id.items()}"
   ]
  },
  {
   "cell_type": "code",
   "execution_count": 146,
   "metadata": {},
   "outputs": [
    {
     "data": {
      "text/plain": [
       "'上天'"
      ]
     },
     "execution_count": 146,
     "metadata": {},
     "output_type": "execute_result"
    }
   ],
   "source": [
    "id_2_word[500]"
   ]
  },
  {
   "cell_type": "code",
   "execution_count": 147,
   "metadata": {},
   "outputs": [],
   "source": [
    "from functools import reduce"
   ]
  },
  {
   "cell_type": "code",
   "execution_count": 148,
   "metadata": {},
   "outputs": [],
   "source": [
    "d1, d2, d3 = {1, 2, 3}, {4, 5, 6, 3, 2}, {1, 3, 4}"
   ]
  },
  {
   "cell_type": "code",
   "execution_count": 153,
   "metadata": {},
   "outputs": [],
   "source": [
    "from operator import and_ #and_求交集"
   ]
  },
  {
   "cell_type": "code",
   "execution_count": 151,
   "metadata": {},
   "outputs": [
    {
     "name": "stdout",
     "output_type": "stream",
     "text": [
      "Help on built-in function and_ in module _operator:\n",
      "\n",
      "and_(a, b, /)\n",
      "    Same as a & b.\n",
      "\n"
     ]
    }
   ],
   "source": [
    "help(and_)"
   ]
  },
  {
   "cell_type": "code",
   "execution_count": 150,
   "metadata": {},
   "outputs": [
    {
     "data": {
      "text/plain": [
       "{3}"
      ]
     },
     "execution_count": 150,
     "metadata": {},
     "output_type": "execute_result"
    }
   ],
   "source": [
    "reduce(and_, [d1, d2, d3])"
   ]
  },
  {
   "cell_type": "code",
   "execution_count": 176,
   "metadata": {},
   "outputs": [],
   "source": [
    "def search_engine(query):\n",
    "    \"\"\"\n",
    "    @query is the searched words, splited by space\n",
    "    @return is the related documents which ranked by tfidf similarity\n",
    "    \"\"\"\n",
    "    words = query.split()\n",
    "    \n",
    "    query_vec = vectorized.transform([' '.join(words)]).toarray()[0]#获取输入query的词的TFIDF向量\n",
    "\n",
    "    candidates_ids = [word_2_id[w] for w in words] #找出TFIDF向量中代表 query的词 的位置\n",
    "    \n",
    "    #找出所有存在query的词的文章的索引号\n",
    "    documents_ids = [\n",
    "         set(np.where(transposed_x[_id])[0]) for _id in candidates_ids\n",
    "    ]\n",
    "    \n",
    "    #找出同时存在query中所有词的 文章的索引号\n",
    "    merged_documents = reduce(and_, documents_ids)\n",
    "    \n",
    "    # we could know the documents which contain these words\n",
    "    # 计算 包含所有query的词的文章TFIDF值和 query的TFIDF的值的相似度\n",
    "    sorted_docuemtns_id = sorted(merged_documents, key=lambda i: distance(query_vec, X[i].toarray()))\n",
    "\n",
    "    return sorted_docuemtns_id"
   ]
  },
  {
   "cell_type": "markdown",
   "metadata": {},
   "source": [
    "### 对6.1找到Document里的Words进行加粗显示处理"
   ]
  },
  {
   "cell_type": "code",
   "execution_count": 177,
   "metadata": {},
   "outputs": [
    {
     "data": {
      "text/plain": [
       "[2189]"
      ]
     },
     "execution_count": 177,
     "metadata": {},
     "output_type": "execute_result"
    }
   ],
   "source": [
    "query = '美联储 加息 次数'\n",
    "search_engine(query)"
   ]
  },
  {
   "cell_type": "code",
   "execution_count": 178,
   "metadata": {},
   "outputs": [],
   "source": [
    "import re"
   ]
  },
  {
   "cell_type": "code",
   "execution_count": 179,
   "metadata": {},
   "outputs": [],
   "source": [
    "text = \"\"\"美国有线电视新闻网援引美国军方官员的话说\"\"\"\n",
    "pat = r'(新闻|官员)'"
   ]
  },
  {
   "cell_type": "code",
   "execution_count": 180,
   "metadata": {},
   "outputs": [
    {
     "data": {
      "text/plain": [
       "'美国有线电视**新闻**网援引美国军方**官员**的话说'"
      ]
     },
     "execution_count": 180,
     "metadata": {},
     "output_type": "execute_result"
    }
   ],
   "source": [
    "re.compile(pat).sub(repl=\"**\\g<1>**\", string=text) # \\g<1> 代表前面pattern里面第一个分组在这里就是(新闻|官员)"
   ]
  },
  {
   "cell_type": "code",
   "execution_count": 196,
   "metadata": {},
   "outputs": [
    {
     "data": {
      "text/plain": [
       "'美国有线电视**新闻**网援**新闻****官员**引美国军方**官员**的话说'"
      ]
     },
     "execution_count": 196,
     "metadata": {},
     "output_type": "execute_result"
    }
   ],
   "source": [
    "text = \"\"\"美国有线电视新闻网援新闻官员引美国军方官员的话说\"\"\"\n",
    "pat = r'(新闻|官员)'\n",
    "re.compile(pat).sub(repl=\"**\\g<1>**\", string=text) # \\g<1> 代表前面pattern里面第一个分组在这里就是(新闻|官员)"
   ]
  },
  {
   "cell_type": "code",
   "execution_count": 184,
   "metadata": {},
   "outputs": [],
   "source": [
    "#return like ：'(新闻|官员)'\n",
    "def get_query_pat(query):\n",
    "    return re.compile('({})'.format('|'.join(query.split())))"
   ]
  },
  {
   "cell_type": "code",
   "execution_count": 185,
   "metadata": {},
   "outputs": [
    {
     "data": {
      "text/plain": [
       "'(美联储|加息|次数)'"
      ]
     },
     "execution_count": 185,
     "metadata": {},
     "output_type": "execute_result"
    }
   ],
   "source": [
    "query = '美联储 加息 次数'\n",
    "'({})'.format('|'.join(query.split()))"
   ]
  },
  {
   "cell_type": "code",
   "execution_count": 186,
   "metadata": {},
   "outputs": [],
   "source": [
    "#对文中的pat中所compile得元素进行加粗处理，即文字前后加 **\n",
    "def highlight_keywords(pat, document):\n",
    "    return pat.sub(repl=\"**\\g<1>**\", string=document) "
   ]
  },
  {
   "cell_type": "code",
   "execution_count": 188,
   "metadata": {},
   "outputs": [
    {
     "data": {
      "text/plain": [
       "'新华社北京４月１０日电新闻分析卡尔文森号**航母**缘何成西太平洋军情新主角n新华社记者刘莉莉n美国海军第三舰队下属的卡尔文森号**航母**打击群即将抵达西太平洋朝鲜半岛附近水域分析人士认为美方此次急调**航母**打击群北上向朝鲜施压意图明显很可能会加剧朝鲜半岛紧张局势n小标题侧重对地攻击n据第三舰队网站主页发布的消息**美军**太平洋**司令**部**司令**哈里哈里斯指示卡尔文森号**航母**打击群从新加坡向北航行这一打击群还包括海军第二航空队两艘阿利伯克级导弹驱逐舰和一艘泰孔德罗加级导弹巡洋舰n卡尔文森号是尼米兹级核动力**航母**母港位于美国加利福尼亚州的圣迭戈今年１月初卡尔文森号曾前往西太平洋地区执行任务并参与美日韩三国军事演习尼米兹级**航母**是核动力多用途**航母**也是美国海军远洋作战群的核心力量n卡尔文森**航母**打击群中阿利伯克级导弹驱逐舰和泰孔德罗加级导弹巡洋舰也不可小视阿利伯克级导弹驱逐舰是世界上最先配备四面相控阵雷达的驱逐舰舰队防空是其主要作战任务泰孔德罗加级导弹巡洋舰的武器配备也比较全面涵盖了反潜反舰防空和对地４个种类n据军事专业人士介绍**航母**打击群与**航母**战斗群其实是两个概念战斗群侧重于夺取制海权例如海战而**航母**打击群更侧重于对地攻击作战一般而言打击群的舰艇数量要远少于战斗群n小标题配角跻身主角n第三舰队是美国海军太平洋舰队两大舰队之一拥有４个**航母**打击群分别是以卡尔文森号为核心的第一**航母**打击群以约翰斯坦尼斯号为核心的第三**航母**打击群以西奥多罗斯福号为核心的第九**航母**打击群和以尼米兹号为核心的第十一**航母**打击群n资深军事评论员石宏说在美国海军力量中第三舰队原本地位一般因为其所管辖的国际日期变更线以东的东太平洋比较安稳所以更多扮演战略预备队的配角角色只有在负责执行前沿部署和应急反应任务的第七舰队有需要时第三舰队才会奉令前去换班或增援但自２０１５年下半年以来太平洋舰队打破了延续数十年的惯例大幅提升第三舰队的活跃度令其开始更多涉足西太平洋地区n实际上这是**美军**根据新的全球一体化军事战略而做的调整目的是优化资源改变本土与前沿的兵力平衡缓解目前美国海军兵力不足与战线过长资源下滑与保持战备之间的尖锐矛盾石宏说n正因如此卡尔文森号**航母**开始忙碌起来自从今年１月离开母港后卡尔文森号边走边练特别是在夏威夷和关岛水域与当地驻扎部队进行了多轮演训２月１８日卡尔文森号**航母**进入南海水域进行所谓巡航３月１５日卡尔文森号抵达韩国釜山随后在２０日参加了美韩关键决断联合军演４月４日卡尔文森号抵达新加坡原本计划南下前往澳大利亚但随后接到再度北上命令赶往朝鲜半岛附近海域n小标题或在火上浇油n一名不愿公开姓名的五角大楼官员告诉美国有线电视新闻网卡尔文森号**航母**打击群驶向西太平洋的朝鲜半岛水域旨在对近期朝鲜的挑衅行为作出回应n包括卡尔文森号在内的美国海军新近动向引起各方关注不少人担心这一行动将给半岛紧张局势火上浇油俄罗斯议会上院防务和安全委员会主席维克托奥泽罗夫警告说美国动作可能会刺激朝鲜方面作出急躁反应n石宏认为美国急调卡尔文森号**航母**打击群赶赴半岛附近水域是想通过军事施压迫使朝鲜放弃进行新一轮核试验的打算但从以往经验看美国用不断加码的军事威慑不仅不会让半岛局势降温反而会刺激朝鲜越发强硬完'"
      ]
     },
     "execution_count": 188,
     "metadata": {},
     "output_type": "execute_result"
    }
   ],
   "source": [
    "highlight_keywords(get_query_pat('美军 司令 航母'), ''.join(token_list[22987]))"
   ]
  },
  {
   "cell_type": "code",
   "execution_count": 189,
   "metadata": {},
   "outputs": [],
   "source": [
    "from IPython.display import display, Markdown"
   ]
  },
  {
   "cell_type": "code",
   "execution_count": 201,
   "metadata": {},
   "outputs": [],
   "source": [
    "#找到与query词相似的文章，并在文章中加粗query中所含的单词\n",
    "def search_engine_with_pretty_print(query):\n",
    "    candidates_ids = search_engine(query)\n",
    "    for i, _id in enumerate(candidates_ids):\n",
    "        title = '## Search Result {}'.format(i)\n",
    "        c = ''.join(token_list[_id])  #c = content['content'][_id] 因为这里没导入content文件，直接用token合并进行处理\n",
    "        #print(c)\n",
    "        c = highlight_keywords(get_query_pat(query), c)    \n",
    "        \n",
    "        display(Markdown(title + '\\n' + c))"
   ]
  },
  {
   "cell_type": "code",
   "execution_count": 202,
   "metadata": {},
   "outputs": [
    {
     "data": {
      "text/markdown": [
       "美国有线电视**新闻**网援**新闻****官员**引美国军方**官员**的话说"
      ],
      "text/plain": [
       "<IPython.core.display.Markdown object>"
      ]
     },
     "execution_count": 202,
     "metadata": {},
     "output_type": "execute_result"
    }
   ],
   "source": [
    "Markdown('美国有线电视**新闻**网援**新闻****官员**引美国军方**官员**的话说') #连在一起会出现这个问题"
   ]
  },
  {
   "cell_type": "code",
   "execution_count": 203,
   "metadata": {},
   "outputs": [
    {
     "data": {
      "text/markdown": [
       "## Search Result 0\n",
       "最近不少人在朋友圈等个人社交媒体上吐槽打车难人们发现不仅在早晚高峰甚至是传统的非高峰时段都出现了路上扬招成功率越来越低打车软件不加价或是加价少难以吸引司机接单的情况而类似的情况在上海北京武汉等地都或多或少地存在对此一些城市迅游车的驾驶员们表示历年**春节**前都会遇到活多车少的情况对司机而言能加价赚到钱何乐而不为呢21日晚8点滴滴高级产品总监罗文在知乎上发文回应称根据后台数据显示今年司机回家早运力下降在其晒出有关滴滴在线司机数据和北京订单需求的两张手绘图表中虽然隐去了具体数值但可以明显看出前一张图表近期呈现了直线下降趋势标注数据显示下降超过25而出行订单数量则同期上涨了3成不过在线司机变少的情况仅仅是因为临近**假期**专车司机纷纷提早回家过年造成的吗相关数据显示自去年国庆之后地方版网约车新政陆续出台后市场上的网约车供给量就呈现出大幅减少的趋势以上海为例网约车新政之后上海合规的网约车数量只有1万辆左右市场供给大幅减少打车难开始悄然回潮与此同时网约车市场过度集中部分平台一家独大也让消费者瞬间难以从补贴优惠的温情脉脉中回过神来瞬间跌入了加价才能叫到车的冰冷现实中一位Uber中国早期员工指出滴滴打车软件自动设置了加价选项即便第一次加价没被接单还可以再次加价叫车司机知道用户可以多次选择加价就有意不接那些不加价的单子他知道你叫不到车就会提高小费就故意等着于是这个潜规则的结果就是乘客反复加价才能叫到车既浪费了时间也付了更多的钱对于近日有消费者称打车难打车贵的问题23日下午滴滴出行官方微博发布致广大用户的一封信表示将从即日起在全国范围内阶段性取消出租车建议调度费功能以减少因为春运期间本身供不应求和价格因素带来的体验问题滴滴方面表示此举将有可能给部分乘客带来呼叫等待时间的增加以及打车成功率降低的影响不过为了鼓励在**春节**期间坚持出车的司机师傅仍会保留用户主动给予调度费的功能**春节**过后会根据用户的反馈再做决策并强调所有调度费滴滴分文不取"
      ],
      "text/plain": [
       "<IPython.core.display.Markdown object>"
      ]
     },
     "metadata": {},
     "output_type": "display_data"
    },
    {
     "data": {
      "text/markdown": [
       "## Search Result 1\n",
       "n新华社上海4月4日新媒体专电题中国人愿意为旅游投入更多时间和金钱n新华社记者陈爱平许晓青n28岁的上海白领林夏今年清明节没有留在家乡而是提前请了年假赴印度洋上的岛国斯里兰卡自助游n一个人全部花费不超过1万元人民币约等于一个月的工资完全可以负担得起她说n对于不少中国人来说旅游已经成为一种生活必需品nn图为在上海市徐汇区的一家旅行社门店一位市民询问欧洲游情况新华社记者陈爱平摄nn除了扫墓祭祖踏青赏花中国的清明节**假期**也成为出游旺季国内游出境游人数都不可小觑n前不久记者来到上海市黄浦区出入境办证中心大厅工作人员说今年以来前来办理出入境证件的居民络绎不绝尤其是祖孙三代一起来办理证件的全家出行者增多除了**春节**七天长假还有清明五一端午等三天左右的小长假这些**假期**到来前的一个月突击办理出入境证件的居民往往会扎堆n中国2016年国民经济和社会发展统计公报显示2016年全国国内游客44亿人次比上年增长112国内居民出境13513万人次增长57n旅游消费旺盛的趋势在2017年开年后仍然延续根据中国国家旅游局数据中心综合测算2017年**春节**期间全国共接待游客344亿人次同比增长138实现旅游总收入4233亿元同比增长159nn斯里兰卡的狮子岩景区由林夏提供nn远在北欧的瑞典当地的旅游主管部门也感受到了中国人越来越高涨的出游热情n统计显示2017年1月中国游客在瑞典全国的间夜量衡量酒店在一定时间内出租率的计算单位同比增长742同期瑞典首都斯德哥尔摩总间夜量增长超过10其中中国游客增长幅度最为显著高达82n瑞典旅游局中国区首席代表李春梅表示瑞典冬季旅游市场在中国发展迅速得益于中国游客对于新鲜目的地和独特旅游体验的旺盛需求n在线旅行社携程旅行网近日发布的2017中国旅游者意愿调查报告研判中国人愿意为旅游投入更多的时间和金钱n报告称2017年98的受访者有出游意愿其中计划出行频次13次的受访者占比72计划出行46次的受访者占比19n作为一种必需品旅游正成为中国人消费的重要支出同是携程这份根据25亿会员进行的随机抽样调查及大数据分析报告显示57的受访者预计全年旅游花费占年收入的10以上19的受访者甚至愿意将20的年收入用于旅游从具体金额来看73的受访者表示全年旅游人均花费将超过1万元nn超过5成受访者预计全年旅游花费占年收入的１０以上由携程旅行网提供nn林夏在接受采访时也证实自己花费在旅游上的年均消费大约为2万元n专家分析随着中国居民收入提升在旅游方面的支出提升成为居民消费升级的例证多花一点钱可以多体验一点旅行的幸福感这成为大部分游客的一项共识n也正是基于上述原因多家在线旅行社大数据显示越来越多的中国居民愿意选择更舒适的酒店体验美食和享受服务旅游产品亦更加多样化定制游自由行等选择空间更大亲子游中老年游等满足社会多层次需求的旅游产品在2017年将持续火爆n从出行时间看携程报告显示随着带薪休假制度的落实以及中国居民出行观念的改变利用年假周末出游的受访者分别占比527及19n清明节**假期**仅4月2日当天上海顾村公园就刷新了接待游客纪录迎来1829万人驴妈妈旅游网分析今年国内赏樱游人次预计同比增长近7成n驴妈妈旅游网介绍赏花亦是近期出境旅游的热词之一清明节前后赴日赏樱游预订人次较去年同期增加了近3成nn无锡十八湾风景区赏花游人络绎不绝由驴妈妈旅游网提供nn上海财经大学旅游管理系主任何建民分析旅游成为中国居民的必需品亦成为中国国民经济的必需品见证着中国正在推进的供给侧改革n中国国家旅游局数据显示全国旅游直接投资在2016年达到12997亿元同比增长2905而据联合国世界旅游组织测算2016年中国旅游业对国民经济综合贡献率达11对社会就业综合贡献超过1026n此前中国发布的十三五旅游业发展规划提出十三五时期旅游业对国民经济的综合贡献度达到12对餐饮住宿民航铁路客运业的综合贡献率达到85以上年均新增旅游就业人数100万人以上n今年3月初公布的十三五全国旅游公共服务规划重点部署了未来旅游公共服务发展的16项重点工程专家认为这将为中国居民出游提供更好保障n我计划每年至少到境外旅游一次这样在下一次更换护照的时候又会收集到更多各国特色的出入境签证及印章加上国内游短途游今后还会花更多钱和时间去享受旅行林夏说n"
      ],
      "text/plain": [
       "<IPython.core.display.Markdown object>"
      ]
     },
     "metadata": {},
     "output_type": "display_data"
    },
    {
     "data": {
      "text/markdown": [
       "## Search Result 2\n",
       "新华社北京3月31日电记者魏梦佳钟雅记者31日从北京市公园管理中心获悉今年清明假日期间北京市属11家公园及中国园林博物馆将举办25项假日游园活动其中各大公园内总面积近1000公顷的主题赏花景区将掀起市民游客游园赏花热潮n目前北京各大公园内一片春意盎然各类春花正热闹绽放北京市公园管理中心表示今年春季市属11家公园的春花观赏面积达到了园内绿地面积的70除了常年定植的四季花木各园还采用了花期调控精品盆栽室内花展等多种技术手段和展示方式使今春花卉布置总面积增加近10n今年清明**假期**各园近千公顷的赏花景区将成为市民游客度假的首选玉渊潭公园的樱花节陶然亭公园的海棠春花节中山公园的郁金香展北京植物园的桃花节等**春节**赏花活动都已展开各色春花依山傍水争相吐艳本周末还将迎来新一轮盛花期其中陶然亭公园栽植和展出的海棠达45个品种3000多株n除赏花外清明诗会民俗展示文化展演主题纪念等多种展示清明文化的活动也将在陶然亭公园玉渊潭公园中国园林博物馆等上演香山公园双清别墅中山公园孙中山像等13处北京公园爱国主义教育基地也将迎来大批前来缅怀祭扫的游客市民清明期间各公园内的祭扫纪念景区将市民及团体提供讲解举行纪念仪式牌示导览等服务完n"
      ],
      "text/plain": [
       "<IPython.core.display.Markdown object>"
      ]
     },
     "metadata": {},
     "output_type": "display_data"
    },
    {
     "data": {
      "text/markdown": [
       "## Search Result 3\n",
       "即将进入7月对于城市学生而言美好的暑假又如期而至了而对于另一群人留守儿童而言迎接他们的却是一个冷清的**假期**离开了学校没有了老师和同学的陪伴也没有父母的守护他们的**假期**是孤单而乏味的记者从清远相关部门获悉清远农村留守儿童约239万名数量在全省排名第四留守儿童长期缺乏亲情关爱和有效保护处境堪忧为做好农村留守儿童关爱保护工作促进农村留守儿童健康成长近年来清远不断完善制度方案为留守儿童撑起保护伞就在今年4月份清远市政府常务会议审议了清远市关于加强农村留守儿童关爱保护工作的实施方案稿提出建立考核机制强化激励问责对成效明显的按照国家有关规定予以激励对工作不力措施不实造成不良影响的按规定追究相关人员的党纪政纪责任造成严重后果的将对有关领导进行问责清远市心理学会会长张万英认为不能让留守儿童成为缺爱儿童不能经常和孩子在一起生活的父母要争取多与孩子保持常态联系不要让留守儿童成为无助儿童政府要完善社区中留守儿童服务的功能关注学生成长中遇到的生理心理问题采写整理魏金锋半年难见爹和娘的无奈每年七八月间都是清远最热的时段而往日喧闹的校园一到这时便进入**假期**一片沉寂留守儿童真凄凉半年难见爹和娘放学回家忙家务夜里梦中唤爹娘是农村留守儿童的真实写照在粤北山区的清远市农村半年难见爹和娘的儿童实在是太普遍了为了给家人更好的生活环境许多青壮年选择了背井离乡他们像候鸟一样每年**春节**刚过便飞向沿海各个城市打工直到下一个**春节**的到来半年甚至几年不回家也是常有的事对于很多父母在外务工的农村留守儿童而言无论是留在家里还是到父母身边团聚怎样度过长达两个月的暑假都是个难题一位经常在清远参加各种公益活动的志愿者刘小姐说很多次当他们乘坐的车子进入到村头时就像突然注入了活力一般孩子们三三两两飞奔过来小村瞬间变得生动起来孩子们好奇地围着大巴转因为他们盼望父母会从车上走下来可惜不是目前清远农村留守儿童数量在全省排名第四留守儿童因为家庭环境的特殊性在性格方面容易出现孤僻偏激冲动攻击性比较强等缺陷而亲情的缺乏和监管的缺失让他们更容易受到外界因素的伤害笔者走访了解到喜的是由于父母不在身边不少留守儿童在艰难的环境中早早学会了生存的技能变得顽强独立忧的是个别留守儿童因为缺乏大人监管安全隐患重重留守儿童也牵动着政府的心近年来清远各地通过政府购买服务等形式探索和创新解决留守儿童问题的方式和途径取得一定成效但依旧任重道远还需不断健全关爱留守儿童的法律和政策体系强化父母法定监护责任等途径缓解留守儿童问题亲情缺失监管缺乏的隐患由于外出打工的父母长年累月难得有机会回一趟家留守儿童缺乏父母的监护和保护往往容易遭受伤害比如溺水烧伤车祸甚至是性侵等等其实我们也知道父母长期不在家对孩子的身心健康和学习会带来负面影响但这是痛苦无奈的选择家住清远阳山的何先生夫妇感慨良多他家有一双儿女由于家里田地少经济窘困在小女儿断奶后就把孩子留给年迈的父母抚养夫妇俩到了佛山打工一干就是9年多每半年夫妻俩才轮流回家一两天9年过去了夫妻俩好不容易挣了一些钱去年回家盖起了新楼并添置了一批家用电器可谁知由于他俩长年不在家两个孩子对父母的感情似乎都很生疏大儿子经常逃学小小年纪学会了抽烟饮酒让这何先生夫妇非常伤心业内人士指出留守儿童之所以容易出问题主要还是思想道德教育得不到足够的重视由于学校师资力量及父母不在身边教育的原因留守儿童思想道德教育被严重忽视隔代监护人大多忙于务农无暇教育儿童而且隔代监护人由于自身素质限制教育水平不高手段不当不少留守儿童隔代监护人采取暴力手段教育儿童错误的教育方式导致错误的教育成果此外由于农村师资力量水平的限制留守儿童在音乐美术舞蹈等艺术类学习上机会非常少甚至是基本空白乡村小学对体育课心理健康教育课的师资投入极少留守儿童长期得不到心理生理健康教育上的辅导导致容易出现沉迷网络电视及抽烟喝酒等不良习惯让留守儿童的暑假不再孤单张万英认为留守儿童因为家庭环境的特殊性在性格方面容易出现孤僻偏激冲动攻击性比较强等缺陷人格上容易出现精神问题如抑郁症焦虑恐惧人际交往障碍等在学习方面容易出现学习落后缺乏动力等跟家庭关系也会相对紧张容易跟家里人产生冲突难以和谐相处农村留守儿童问题需要家庭学校和社会的共同努力一是加快新农村建设和小城镇建设吸引外出农民工返乡就业创业使留守儿童能够与父母团聚二是学校要加强对留守儿童的关爱和照顾可通过及时家访定时为孩子做心理疏导等方式多方位关爱留守儿童的身心健康三是政府要健全关爱留守儿童的法律和政策体系完善监护制度和国家救助体系强化父母法定监护责任张万英认为不要让留守儿童成为缺爱儿童不能经常和孩子在一起生活的父母要争取多与孩子保持常态联系经常打电话关心孩子了解他们的心理需要给予更多的心理关爱如发现自己孩子出现异常行为要及时和孩子沟通避免孩子走上极端的道路业内人士指出相对于父母在身边的孩子不同留守儿童的暑假一般只有三个选择而这三个选择都潜伏着很大的安全隐患一是乘车前往父母所在地与父母一起度过**假期**旅途比较危险尤其是独自前往二是在家帮助爷爷奶奶干活小小年纪很容易出现安全事故三是自由安排这是最危险的没有大人看护孩子极有可能出事该业内人士建议要给孩子制定好科学作息时间有大人在家的应该严厉监督别让孩子养成坏习惯在制定作息时间时父母们应该以少量平均的安排学习任务避免孩子荒废学业有大人家督可以很好地防止孩子到处乱跑引发安全事故因为暑假不像平时在学校孩子有同学朋友相伴长时间的呆在家里孩子很容易孤单这需要父母的关怀来开解不然很容易让孩子的叛逆情绪增长起来甚至让孩子逐渐自闭此外不妨借用智能设备掌握孩子行踪避免孩子靠近危险地带或出入禁止未成年人进入的场所把影响孩子成长的一切不安因素拒之千里聚焦超6个月不履行职责或撤销监护资格清远市关于加强农村留守儿童关爱保护工作的实施方案指出建立农村留守儿童摸底排查机制按照属地管理分级负责的原则建立县镇村居委会关爱农村留守儿童三级工作服务网络建立农村留守儿童发现报告机制民政部门要会同财政教育卫计公安住建团委等部门和单位建立社会参与面广覆盖面大渠道顺畅和相应快速的留守儿童报告网络制定留守儿童信息报告激励办法鼓励社会各界积极参与留守儿童关爱保护工作对实施家庭暴力虐待或遗弃农村家庭留守儿童的父母或受委托监护人公安机关应当给予批评教育必要时给予治安管理处罚情节恶劣构成犯罪的依法立案侦查对于监护人将农村留守儿童置于无人监管和照看状态导致其面临危险且经教育不改的或者拒不履行监护职责6个月以上导致农村留守儿童生活无着的或者实施家庭暴力虐待或遗弃农村留守儿童导致其身心健康严重受损的其近亲属村居委会县民政部门等有关人员或单位要依法向人民法院申请撤销监护人资格另行指定监护人方案指出父母要依法履行对未成年子女的监护职责和抚养义务外出务工人员要尽量携带未成年子女共同生活或父母一方留家照料暂不具备条件的应当委托有监护能力的亲属或其他成年人代为监护不得让未满16周岁的儿童脱离监护单独居住生活外出务工时父母要向当地村居委会报告外出务工及留守儿童委托监护人的情况父母或其他监护人不依法履行监护职责村居委会公安机关和有关部门要及时上门予以劝诫制止情节严重或造成严重后果的公安机关等要依法追究其责任强化家庭监护主体责任加大教育部门和学校关爱保护力度各县级政府要完善控辍保学部门协调机制督促监护人送适龄儿童少年入学并完成义务教育教育部门要负责落实免费义务教育和教育资助政策确保农村留守儿童不因贫困而失学改善留守儿童教育条件加强留守儿童教育基础设施建设优化农村义务教育学校布局关注如何防止留守儿童溺亡悲剧清远是依山傍水的城市每到夏季游泳是不少人的至爱尤其在学生放**假期**间江河边戏水似乎成了一种不可或缺的乐趣可惜几乎每年都有学生溺水身亡的事故发生留守儿童的安全一直是个大问题在上学时有学校的约束还好可是一旦放假后父母又不在身边家里老人又看不住孩子孩子的身边就像埋藏了无数颗炸弹而且儿童自救能力较差不少去玩水的儿童都不会游泳但在同伴邀约下冒险下水嬉戏溺水后由于同伴大多年纪小能力有限一旦遇险惊慌失措难以互救极易发生群体溺亡事故笔者从清远市教育部门获悉近年来清远全市因溺水事故死亡学生每年都有10人左右占所有非正常死亡学生数的大约一半为此今年5月份召开的清远全市防溺水视频工作会议强调各地各部门要把预防学生溺水工作纳入当前重要议事日程抓好辖区内中小学幼儿园安全管理加强安全宣传教育强化周边水域排查加强隐患整改对因制度不健全管理不到位责任不落实导致安全责任事故的将按照有关规定严肃追究相关人员的责任学校还要会同村委会社区居委会做好校园及其周边溺水安全隐患的排查一方面要在校内水池河道沟渠等易发生溺水的地方设置警示标志加强防护设施另一方面要通过教师学生家长或社区居委会村委会摸清学校周边各类江河池塘溪流等水域的安全隐患在校内提前对学生进行安全警示据悉清远市政府将组织相关人员成立督查组对各地及相关部门的防溺水工作落实情况进行督查对发生安全事故的要按照四不放过原则加强责任追究对因制度不健全管理不到位责任不落实导致安全责任事故的要按照有关规定严肃追究相关人员的责任"
      ],
      "text/plain": [
       "<IPython.core.display.Markdown object>"
      ]
     },
     "metadata": {},
     "output_type": "display_data"
    },
    {
     "data": {
      "text/markdown": [
       "## Search Result 4\n",
       "中国新闻nn公鉴关于新华全媒新闻服务平台上线的公告nn脱贫攻坚6云南禄劝苗寨村民易地搬迁过上新生活nn新华社摄影部今日重要稿件预告nn图片故事10挠挠所长履职记nn新华视点图片版2港珠澳大桥岛隧工程海底隧道的最终接头对接完成nn法治8中意警方在沪联合巡逻nn时代先锋图文互动5仰望最亮星勿忘造星人记航天科技集团五院通信卫星创新团队nn文化8民族翰骨潘天寿诞辰120周年纪念大展在京开幕nn文化2校园里的朗读者nn图文互动5台籍青年教师黄志伟我在武汉找到了舞台新华旺中台胞在大陆联合采访报道之二nn一带一路5一带一路好日子元旦nn一带一路5一带一路好日子**春节**nn一带一路5一带一路好日子泼水节nn一带一路4一带一路好日子洒红节nn一带一路4一带一路好日子诺鲁孜节nn社会2铁路青年工地约会觅良缘nn经济河北宣化发展现代农业助农增收nn经济2河北宣化打造高端装备制造产业集群nn服务3西安高速公路收费站开通手机支付业务nn文化3东京审判为了世界和平一书国内首发nn社会2校园倡清风nn社会3重温入团誓词传承五四精神nn体育2排球朱婷回乡与媒体球迷互动nn社会4扎根农村干事业村官摸索致富路nn体育1自行车第五届环巴松措国际山地自行车赛落幕nn社会4高铁微客服受旅客欢迎nn时政张高丽会见阿联酋外交与国际合作部长阿卜杜拉nn新华全媒头条图文互动10港珠澳大桥全线贯通在即粤港澳大湾区加速起航nn社会2辽宁海警开展清查整治三无船舶专项行动nn环境乌鲁木齐遭遇短时雨雪冰雹天气nn社会5港珠澳大桥工程上的大国重器nn体育2足球足协杯杭州绿城胜辽宁开新nn经济3三峡船闸累计货运量突破10亿吨nn社会3内蒙古大兴安岭北部火场外线合围明火被扑灭nn环境3湖北宣恩鸽子花悄然开放nn社会4山西永济鹳雀楼前旗袍秀nn图片故事7苗乡90后草根乐队寻梦记nnn国际新闻nnXHDW2奥地利外长访问利比亚nn国际5德国一快速列车在多特蒙德中央火车站发生出轨事故nn国际5非洲火人节收官nn新华视界10在纽约寄兴园体验中国园林之美nn国际10在纽约寄兴园体验中国园林之美nnXHDW重庆芭蕾舞团参加阿尔及利亚国际现代舞艺术节nn国际10美国各地民众举行劳动节游行nn国际3圣彼得堡举行五一劳动节游行nn国际哈马斯发布新政策文件接受划界建国nn一带一路好项目7蒙内铁路肯尼亚的铁路中国造nnXHDW3第48届休斯敦国际海洋油气技术大会及设备展开幕nn国际图文互动专访中国的发展将对欧洲未来发展产生重大影响访匈牙利外交与对外经济部长西亚尔托nn国际图文互动3走进挪威峡湾深处的书镇nn国际中国海军远航访问编队结束访问离开菲律宾nnXHDW5昂山素季访问欧盟nn国际6科学家丁肇中的日常生活nn国际9韩国举行最后一次总统候选人电视辩论nn国际4以色列庆祝独立日nn新华视界5以色列庆祝独立日nn一带一路好项目11中国企业承建特拉维夫轻轨项目nn国际5德国一快速列车在多特蒙德中央火车站发生出轨事故nn国际5非洲火人节收官nn国际10在纽约寄兴园体验中国园林之美nn国际10美国各地民众举行劳动节游行nn国际3圣彼得堡举行五一劳动节游行nn国际哈马斯发布新政策文件接受划界建国nn一带一路好项目7蒙内铁路肯尼亚的铁路中国造nn国际图文互动专访中国的发展将对欧洲未来发展产生重大影响访匈牙利外交与对外经济部长西亚尔托nn新华社摄影部2017年05月02日白班发稿目录国际对内nn国际图文互动3走进挪威峡湾深处的书镇nn国际中国海军远航访问编队结束访问离开菲律宾nn国际6科学家丁肇中的日常生活nn国际9韩国举行最后一次总统候选人电视辩论nn国际4以色列庆祝独立日nn一带一路好项目11中国企业承建特拉维夫轻轨项目nnn体育专线nn一发专线稿件n体育8斯诺克塞尔比夺得世锦赛冠军n体育6足球英超联赛利物浦客场告捷n体育6篮球NBA季后赛火箭胜马刺n体育7篮球NBA季后赛骑士胜猛龙n体育5排球朱婷回乡与媒体球迷互动n体育2自行车第五届环巴松措国际山地自行车赛落幕n体育5足球在葡萄牙托里什人队训练的中国小球员n体育8足球足协杯呼和浩特小草胜长春亚泰n体育5足球足协杯杭州绿城胜辽宁开新n体育7足球足协杯山东鲁能胜吉林百嘉nn二发对外稿件nXHDW体育10篮球香港甲一男子篮球联赛赛况nnn图表专线nn公鉴关于新华全媒新闻服务平台上线的公告nn图表财经股市纽约股市涨跌互现nn图表财经金价纽约金价1日大幅下跌nn图表财经油价纽约油价1日下跌nn图表突发事件哥伦比亚一军用飞机坠毁nn图表科技科普冥想有助集中精力nn新华社摄影部2017年05月02日白天发稿目录图表专线nn图表关注五一五一**假期**全国铁路发送旅客近4900万人次nn图表漫画财经聚焦美化nn图表漫画财经聚焦突击增长nn图表漫画科技成功破译nn图表科技月掩恒星轩辕十四罕见天象5月4日上演nn图表经济美财长说美国经济有望实现3增长目标nn图表漫画新华视点签约nn图表漫画解读经济开局季民生工程精神敬老nn图表受权发布国务院关于修改大中型水利水电工程建设征地补偿和移民安置条例的决定nn图表漫画解读经济开局季民生工程精神孤独nn图表财经动态深圳新房均价出现七连跌4月成交量环比大涨146nn图表经济财政部物流企业大宗商品仓储用地土地使用税享50优惠nnn外代图片一线nn外代一线9德国一快速列车在多特蒙德中央火车站发生出轨事故nn外代一线10美国得州一大学校园发生持刀扎人事件nn外代一线5阿联酋与德国讨论地区安全形势nn外代一线12马杜罗宣布将启动制宪大会重新制定宪法nn外代一线2奥地利外长表示将继续支持利比亚民族团结政府nn外代一线6哈马斯发布新政策文件接受划界建国nn外代一线7加拿大多伦多金融区传出爆炸声nn新华社摄影部2017年05月02日白班发稿目录外代图片一线nn外代一线9摩苏尔战事nn外代一线18特朗普说愿在合适情况下与金正恩会面nn外代一线2朴槿惠案首次预审在首尔举行辩方律师否认全部指控nn外代一线5昂山素季访问欧盟nn外代一线4韩国举行最后一次总统候选人电视辩论nn外代一线13以色列庆祝独立日nnn外代图片二线nn外代二线印度传统婚嫁日nn1外代二线城市里的农民nn2外代二线城市里的农民nn3外代二线城市里的农民nn4外代二线城市里的农民nn5外代二线城市里的农民nn6外代二线城市里的农民nn7外代二线城市里的农民nn8外代二线城市里的农民nn9外代二线城市里的农民nn6外代二线戈马舞蹈节nn1外代二线彩色烟雾nn2外代二线彩色烟雾nn3外代二线彩色烟雾nn4外代二线彩色烟雾nn5外代二线彩色烟雾nn6外代二线彩色烟雾nn7外代二线彩色烟雾nn6外代二线墨西哥航空航天展闭幕表演nn7外代二线墨西哥航空航天展闭幕表演nn8外代二线墨西哥航空航天展闭幕表演nn1外代二线墨西哥航空航天展闭幕表演nn2外代二线墨西哥航空航天展闭幕表演nn3外代二线墨西哥航空航天展闭幕表演nn4外代二线墨西哥航空航天展闭幕表演nn5外代二线墨西哥航空航天展闭幕表演nn10外代二线戈马舞蹈节nn3外代二线福塔莱萨海滨风光nn4外代二线福塔莱萨海滨风光nn1外代二线福塔莱萨海滨风光nn2外代二线福塔莱萨海滨风光nn1外代二线俄罗斯摩托车节表演nn2外代二线俄罗斯摩托车节表演nn3外代二线俄罗斯摩托车节表演nn4外代二线俄罗斯摩托车节表演nn5外代二线俄罗斯摩托车节表演nn6外代二线俄罗斯摩托车节表演nn7外代二线俄罗斯摩托车节表演nn1外代二线波兰举行第24届蒸汽机车游行nn2外代二线波兰举行第24届蒸汽机车游行nn3外代二线波兰举行第24届蒸汽机车游行nn4外代二线波兰举行第24届蒸汽机车游行nn5外代二线波兰举行第24届蒸汽机车游行nn6外代二线波兰举行第24届蒸汽机车游行nn7外代二线波兰举行第24届蒸汽机车游行nn8外代二线波兰举行第24届蒸汽机车游行nn9外代二线波兰举行第24届蒸汽机车游行nn10外代二线波兰举行第24届蒸汽机车游行nn11外代二线波兰举行第24届蒸汽机车游行nn12外代二线波兰举行第24届蒸汽机车游行nn13外代二线波兰举行第24届蒸汽机车游行nn14外代二线波兰举行第24届蒸汽机车游行nn15外代二线波兰举行第24届蒸汽机车游行nn16外代二线波兰举行第24届蒸汽机车游行nn17外代二线波兰举行第24届蒸汽机车游行nn18外代二线波兰举行第24届蒸汽机车游行nn19外代二线波兰举行第24届蒸汽机车游行nn20外代二线波兰举行第24届蒸汽机车游行nn21外代二线波兰举行第24届蒸汽机车游行nn22外代二线波兰举行第24届蒸汽机车游行nn公鉴关于新华全媒新闻服务平台上线的公告nn2外代二线多彩花环nn3外代二线多彩花环nn4外代二线多彩花环nnnn新华社摄影部"
      ],
      "text/plain": [
       "<IPython.core.display.Markdown object>"
      ]
     },
     "metadata": {},
     "output_type": "display_data"
    }
   ],
   "source": [
    "query = '春节 假期'\n",
    "search_engine_with_pretty_print(query)"
   ]
  },
  {
   "cell_type": "markdown",
   "metadata": {},
   "source": [
    "## PageRank"
   ]
  },
  {
   "cell_type": "code",
   "execution_count": 204,
   "metadata": {},
   "outputs": [],
   "source": [
    "import networkx as nx"
   ]
  },
  {
   "cell_type": "code",
   "execution_count": 205,
   "metadata": {},
   "outputs": [],
   "source": [
    "import random"
   ]
  },
  {
   "cell_type": "code",
   "execution_count": 206,
   "metadata": {},
   "outputs": [],
   "source": [
    "from string import ascii_uppercase"
   ]
  },
  {
   "cell_type": "code",
   "execution_count": 212,
   "metadata": {},
   "outputs": [
    {
     "data": {
      "text/plain": [
       "'ABCDEFGHIJKLMNOPQRSTUVWXYZ'"
      ]
     },
     "execution_count": 212,
     "metadata": {},
     "output_type": "execute_result"
    }
   ],
   "source": [
    "ascii_uppercase"
   ]
  },
  {
   "cell_type": "code",
   "execution_count": 207,
   "metadata": {},
   "outputs": [],
   "source": [
    "def genearte_random_website():\n",
    "    return ''.join([random.choice(ascii_uppercase) for _ in range(random.randint(3, 5))]) + '.'  + random.choice(['com', 'cn', 'net'])"
   ]
  },
  {
   "cell_type": "code",
   "execution_count": 211,
   "metadata": {},
   "outputs": [
    {
     "data": {
      "text/plain": [
       "'MML.cn'"
      ]
     },
     "execution_count": 211,
     "metadata": {},
     "output_type": "execute_result"
    }
   ],
   "source": [
    "genearte_random_website()"
   ]
  },
  {
   "cell_type": "code",
   "execution_count": 213,
   "metadata": {},
   "outputs": [],
   "source": [
    "websites = [genearte_random_website() for _ in range(25)]"
   ]
  },
  {
   "cell_type": "code",
   "execution_count": 214,
   "metadata": {},
   "outputs": [
    {
     "data": {
      "text/plain": [
       "['SUMOM.cn',\n",
       " 'NVO.cn',\n",
       " 'JHMD.cn',\n",
       " 'HSD.net',\n",
       " 'BQXAO.com',\n",
       " 'RSQO.com',\n",
       " 'KWZYT.net',\n",
       " 'HVHY.com',\n",
       " 'QION.com',\n",
       " 'SCTEH.net']"
      ]
     },
     "execution_count": 214,
     "metadata": {},
     "output_type": "execute_result"
    }
   ],
   "source": [
    "random.sample(websites, 10) # 从list中随机获取10个元素，作为一个片断返回"
   ]
  },
  {
   "cell_type": "code",
   "execution_count": 215,
   "metadata": {},
   "outputs": [],
   "source": [
    "website_connection = {\n",
    "    websites[0]: random.sample(websites, 10),\n",
    "    websites[1]: random.sample(websites, 5),\n",
    "    websites[3]: random.sample(websites, 7),\n",
    "    websites[4]: random.sample(websites, 2),\n",
    "    websites[5]: random.sample(websites, 1),\n",
    "}"
   ]
  },
  {
   "cell_type": "code",
   "execution_count": 216,
   "metadata": {},
   "outputs": [],
   "source": [
    "website_network = nx.graph.Graph(website_connection)"
   ]
  },
  {
   "cell_type": "code",
   "execution_count": 217,
   "metadata": {},
   "outputs": [
    {
     "name": "stderr",
     "output_type": "stream",
     "text": [
      "D:\\Design Software\\Anaconda\\lib\\site-packages\\networkx\\drawing\\nx_pylab.py:563: MatplotlibDeprecationWarning: \n",
      "The iterable function was deprecated in Matplotlib 3.1 and will be removed in 3.3. Use np.iterable instead.\n",
      "  if not cb.iterable(width):\n",
      "D:\\Design Software\\Anaconda\\lib\\site-packages\\networkx\\drawing\\nx_pylab.py:611: MatplotlibDeprecationWarning: \n",
      "The is_numlike function was deprecated in Matplotlib 3.0 and will be removed in 3.2. Use isinstance(..., numbers.Number) instead.\n",
      "  if cb.is_numlike(alpha):\n"
     ]
    },
    {
     "data": {
      "image/png": "[encoded data removed]",
      "text/plain": [
       "<Figure size 864x864 with 1 Axes>"
      ]
     },
     "metadata": {
      "needs_background": "light"
     },
     "output_type": "display_data"
    }
   ],
   "source": [
    "plt.figure(3,figsize=(12,12))\n",
    "nx.draw_networkx(website_network, font_size=10)"
   ]
  },
  {
   "cell_type": "code",
   "execution_count": 218,
   "metadata": {},
   "outputs": [
    {
     "data": {
      "text/plain": [
       "[('NLNIA.cn', 0.2178899120215719),\n",
       " ('JDI.cn', 0.13446907550727352),\n",
       " ('HVHY.com', 0.1080334181874481),\n",
       " ('QION.com', 0.07688023312964788),\n",
       " ('RSQO.com', 0.0629260313556392),\n",
       " ('NVO.cn', 0.041069102731473975),\n",
       " ('IGZ.cn', 0.041060706402905836),\n",
       " ('QEK.net', 0.041060706402905836),\n",
       " ('HSD.net', 0.02626010090689551),\n",
       " ('NNFNL.net', 0.02626010090689551),\n",
       " ('CMRQC.cn', 0.02626010090689551),\n",
       " ('VGIPH.com', 0.025723367952443853),\n",
       " ('NDZ.cn', 0.02473208569932699),\n",
       " ('BQXAO.com', 0.02473208569932699),\n",
       " ('JHMD.cn', 0.02473208569932699),\n",
       " ('IAU.com', 0.02473208569932699),\n",
       " ('SUMOM.cn', 0.02473208569932699),\n",
       " ('SCTEH.net', 0.024223357545684113),\n",
       " ('NNW.com', 0.024223357545684113)]"
      ]
     },
     "execution_count": 218,
     "metadata": {},
     "output_type": "execute_result"
    }
   ],
   "source": [
    "sorted(nx.pagerank(website_network).items(),key=lambda x: x[1], reverse=True)"
   ]
  },
  {
   "cell_type": "code",
   "execution_count": 219,
   "metadata": {},
   "outputs": [
    {
     "name": "stdout",
     "output_type": "stream",
     "text": [
      "Help on function pagerank in module networkx.algorithms.link_analysis.pagerank_alg:\n",
      "\n",
      "pagerank(G, alpha=0.85, personalization=None, max_iter=100, tol=1e-06, nstart=None, weight='weight', dangling=None)\n",
      "    Return the PageRank of the nodes in the graph.\n",
      "    \n",
      "    PageRank computes a ranking of the nodes in the graph G based on\n",
      "    the structure of the incoming links. It was originally designed as\n",
      "    an algorithm to rank web pages.\n",
      "    \n",
      "    Parameters\n",
      "    ----------\n",
      "    G : graph\n",
      "      A NetworkX graph.  Undirected graphs will be converted to a directed\n",
      "      graph with two directed edges for each undirected edge.\n",
      "    \n",
      "    alpha : float, optional\n",
      "      Damping parameter for PageRank, default=0.85.\n",
      "    \n",
      "    personalization: dict, optional\n",
      "      The \"personalization vector\" consisting of a dictionary with a\n",
      "      key some subset of graph nodes and personalization value each of those.\n",
      "      At least one personalization value must be non-zero.\n",
      "      If not specfiied, a nodes personalization value will be zero.\n",
      "      By default, a uniform distribution is used.\n",
      "    \n",
      "    max_iter : integer, optional\n",
      "      Maximum number of iterations in power method eigenvalue solver.\n",
      "    \n",
      "    tol : float, optional\n",
      "      Error tolerance used to check convergence in power method solver.\n",
      "    \n",
      "    nstart : dictionary, optional\n",
      "      Starting value of PageRank iteration for each node.\n",
      "    \n",
      "    weight : key, optional\n",
      "      Edge data key to use as weight.  If None weights are set to 1.\n",
      "    \n",
      "    dangling: dict, optional\n",
      "      The outedges to be assigned to any \"dangling\" nodes, i.e., nodes without\n",
      "      any outedges. The dict key is the node the outedge points to and the dict\n",
      "      value is the weight of that outedge. By default, dangling nodes are given\n",
      "      outedges according to the personalization vector (uniform if not\n",
      "      specified). This must be selected to result in an irreducible transition\n",
      "      matrix (see notes under google_matrix). It may be common to have the\n",
      "      dangling dict to be the same as the personalization dict.\n",
      "    \n",
      "    Returns\n",
      "    -------\n",
      "    pagerank : dictionary\n",
      "       Dictionary of nodes with PageRank as value\n",
      "    \n",
      "    Examples\n",
      "    --------\n",
      "    >>> G = nx.DiGraph(nx.path_graph(4))\n",
      "    >>> pr = nx.pagerank(G, alpha=0.9)\n",
      "    \n",
      "    Notes\n",
      "    -----\n",
      "    The eigenvector calculation is done by the power iteration method\n",
      "    and has no guarantee of convergence.  The iteration will stop after\n",
      "    an error tolerance of ``len(G) * tol`` has been reached. If the\n",
      "    number of iterations exceed `max_iter`, a\n",
      "    :exc:`networkx.exception.PowerIterationFailedConvergence` exception\n",
      "    is raised.\n",
      "    \n",
      "    The PageRank algorithm was designed for directed graphs but this\n",
      "    algorithm does not check if the input graph is directed and will\n",
      "    execute on undirected graphs by converting each edge in the\n",
      "    directed graph to two edges.\n",
      "    \n",
      "    See Also\n",
      "    --------\n",
      "    pagerank_numpy, pagerank_scipy, google_matrix\n",
      "    \n",
      "    Raises\n",
      "    ------\n",
      "    PowerIterationFailedConvergence\n",
      "        If the algorithm fails to converge to the specified tolerance\n",
      "        within the specified number of iterations of the power iteration\n",
      "        method.\n",
      "    \n",
      "    References\n",
      "    ----------\n",
      "    .. [1] A. Langville and C. Meyer,\n",
      "       \"A survey of eigenvector methods of web information retrieval.\"\n",
      "       http://citeseer.ist.psu.edu/713792.html\n",
      "    .. [2] Page, Lawrence; Brin, Sergey; Motwani, Rajeev and Winograd, Terry,\n",
      "       The PageRank citation ranking: Bringing order to the Web. 1999\n",
      "       http://dbpubs.stanford.edu:8090/pub/showDoc.Fulltext?lang=en&doc=1999-66&format=pdf\n",
      "\n"
     ]
    }
   ],
   "source": [
    "help(nx.pagerank)"
   ]
  },
  {
   "cell_type": "code",
   "execution_count": null,
   "metadata": {},
   "outputs": [],
   "source": []
  }
 ],
 "metadata": {
  "kernelspec": {
   "display_name": "Python 3",
   "language": "python",
   "name": "python3"
  },
  "language_info": {
   "codemirror_mode": {
    "name": "ipython",
    "version": 3
   },
   "file_extension": ".py",
   "mimetype": "text/x-python",
   "name": "python",
   "nbconvert_exporter": "python",
   "pygments_lexer": "ipython3",
   "version": "3.7.1"
  },
  "toc": {
   "base_numbering": 1,
   "nav_menu": {},
   "number_sections": true,
   "sideBar": true,
   "skip_h1_title": false,
   "title_cell": "Table of Contents",
   "title_sidebar": "Contents",
   "toc_cell": false,
   "toc_position": {},
   "toc_section_display": true,
   "toc_window_display": false
  }
 },
 "nbformat": 4,
 "nbformat_minor": 2
}
