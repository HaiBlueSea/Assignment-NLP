{
 "cells": [
  {
   "cell_type": "code",
   "execution_count": 0,
   "metadata": {
    "colab": {},
    "colab_type": "code",
    "id": "9H_AAL6aKGlB"
   },
   "outputs": [],
   "source": [
    "import os"
   ]
  },
  {
   "cell_type": "code",
   "execution_count": 0,
   "metadata": {
    "colab": {},
    "colab_type": "code",
    "id": "mMu3f0YoKSzM"
   },
   "outputs": [],
   "source": [
    "print(os.getcwd())"
   ]
  },
  {
   "cell_type": "code",
   "execution_count": 0,
   "metadata": {
    "colab": {},
    "colab_type": "code",
    "id": "DkwaYY0rKZy_"
   },
   "outputs": [],
   "source": [
    "!pip install tensorflow"
   ]
  },
  {
   "cell_type": "code",
   "execution_count": 8,
   "metadata": {
    "colab": {
     "base_uri": "https://localhost:8080/",
     "height": 54
    },
    "colab_type": "code",
    "id": "VI-zpAa2K8d-",
    "outputId": "326d060c-b62b-4f5f-f531-7979a91c48cb"
   },
   "outputs": [
    {
     "data": {
      "text/plain": [
       "('/content/sample_data/toxic_classification.pickle',\n",
       " <http.client.HTTPMessage at 0x7f678d298400>)"
      ]
     },
     "execution_count": 8,
     "metadata": {
      "tags": []
     },
     "output_type": "execute_result"
    }
   ],
   "source": [
    "from urllib.request import urlretrieve\n",
    "url = 'https://download.wetransfer.com//us2/5bb11a202aa730ace4122fb91c3043e320191005083240/316f30ced5f12241389f70c041cfb90b9cf5bb86/toxic_classification.pickle?cf=y&token=eyJhbGciOiJIUzI1NiJ9.eyJleHAiOjE1NzAyNjcxNjIsInVuaXF1ZSI6IjViYjExYTIwMmFhNzMwYWNlNDEyMmZiOTFjMzA0M2UzMjAxOTEwMDUwODMyNDAiLCJmaWxlbmFtZSI6InRveGljX2NsYXNzaWZpY2F0aW9uLnBpY2tsZSIsImhvdCI6ZmFsc2UsImJ5dGVzX2VzdGltYXRlZCI6MzYxMTk5NzU3LCJ3YXliaWxsX3VybCI6Imh0dHA6Ly9wcm9kdWN0aW9uLmJhY2tlbmQuc2VydmljZS51cy1lYXN0LTEud3Q6OTI5Mi93YXliaWxsL3YxL2EwZGI3YzkwZmFkNzUxNWM3ZDA5NzczMTI4NmQzZTIzYzQxYTZlNTBhZmM3NjI1MjQzYjUzODE5YjFmNzcwNDNhMWI5ODBhYTcwM2RlZTVjZjFkYzNkMjk3ZGE2NWZjYzllNDFiMzI1ZDI5NmU1MWE1YWE1MzBiZDNmMTE0OWU1IiwiY2FsbGJhY2siOiJ7XCJmb3JtZGF0YVwiOntcImFjdGlvblwiOlwiaHR0cDovL3Byb2R1Y3Rpb24uZnJvbnRlbmQuc2VydmljZS5ldS13ZXN0LTEud3Q6MzAwMC9hcGkvYmFja2VuZC90cmFuc2ZlcnMvNWJiMTFhMjAyYWE3MzBhY2U0MTIyZmI5MWMzMDQzZTMyMDE5MTAwNTA4MzI0MC9kb3dubG9hZHMvNzQyNTY2MDE2Ny9jb21wbGV0ZWRcIn0sXCJmb3JtXCI6e1wic3RhdHVzXCI6W1wicGFyYW1cIixcInN0YXR1c1wiXSxcImRvd25sb2FkX2lkXCI6XCI3NDI1NjYwMTY3XCJ9fSJ9.5riIV8H7KzWX88yF0xaG3jNTWwFjwdYjYfyQhM90vH8'  \n",
    "urlretrieve(url, \"/content/sample_data/toxic_classification.pickle\")"
   ]
  },
  {
   "cell_type": "code",
   "execution_count": 0,
   "metadata": {
    "colab": {},
    "colab_type": "code",
    "id": "dsi8EbxAMPpH"
   },
   "outputs": [],
   "source": [
    "import pickle\n",
    "import os\n",
    "data_root = '/content/sample_data'\n",
    "pickle_file = os.path.join(data_root, 'toxic_classification.pickle')"
   ]
  },
  {
   "cell_type": "code",
   "execution_count": 9,
   "metadata": {
    "colab": {
     "base_uri": "https://localhost:8080/",
     "height": 35
    },
    "colab_type": "code",
    "id": "Ku1R8eEcMtyv",
    "outputId": "de377297-6390-4216-8107-60c2192ebc14"
   },
   "outputs": [
    {
     "name": "stderr",
     "output_type": "stream",
     "text": [
      "Using TensorFlow backend.\n"
     ]
    }
   ],
   "source": [
    "import numpy as np\n",
    "np.random.seed(42)\n",
    "import pandas as pd\n",
    "\n",
    "from sklearn.model_selection import train_test_split\n",
    "from sklearn.metrics import roc_auc_score\n",
    "\n",
    "from keras.models import Model\n",
    "from keras.layers import Input, Embedding, Dense, Conv2D, MaxPool2D\n",
    "from keras.layers import Reshape, Flatten, Concatenate, Dropout, SpatialDropout1D\n",
    "from keras.layers import GRU, Bidirectional, GlobalAveragePooling1D, GlobalMaxPooling1D,concatenate\n",
    "from keras.preprocessing import text, sequence\n",
    "from keras.callbacks import Callback"
   ]
  },
  {
   "cell_type": "code",
   "execution_count": 0,
   "metadata": {
    "colab": {},
    "colab_type": "code",
    "id": "18XFmmLiMw1O"
   },
   "outputs": [],
   "source": [
    "with open(pickle_file, 'rb') as f:\n",
    "    save = pickle.load(f)\n",
    "    x_train = save['x_train']\n",
    "    y_train = save['y_train']\n",
    "    x_test = save['x_test']\n",
    "    y_test = save['y_test']\n",
    "    embedding_matrix = save['embedding_matrix']\n",
    "    del save  # hint to help gc free up memory"
   ]
  },
  {
   "cell_type": "code",
   "execution_count": 0,
   "metadata": {
    "colab": {},
    "colab_type": "code",
    "id": "GzdcYcX1Mws2"
   },
   "outputs": [],
   "source": [
    "class RocAucEvaluation(Callback):\n",
    "    def __init__(self, validation_data=(), interval=1):\n",
    "        super(Callback, self).__init__()\n",
    "\n",
    "        self.interval = interval\n",
    "        self.X_val, self.y_val = validation_data\n",
    "\n",
    "    def on_epoch_end(self, epoch, logs={}):\n",
    "        if epoch % self.interval == 0:\n",
    "            y_pred = self.model.predict(self.X_val, verbose=0)\n",
    "            score = roc_auc_score(self.y_val, y_pred)\n",
    "            print(\"\\n ROC-AUC - epoch: %d - score: %.6f \\n\" % (epoch+1, score))"
   ]
  },
  {
   "cell_type": "code",
   "execution_count": 0,
   "metadata": {
    "colab": {},
    "colab_type": "code",
    "id": "qwoiGZX4Mwge"
   },
   "outputs": [],
   "source": [
    "max_features = 40000\n",
    "maxlen = 200\n",
    "embed_size = 300\n",
    "\n",
    "HIDDNE_SIZE_1 = 256\n",
    "HIDDNE_SIZE_2 = 128\n",
    "\n",
    "def get_model():\n",
    "    ###embedding 和textcnn一样处理\n",
    "    inp = Input(shape=(maxlen, ))\n",
    "    x = Embedding(max_features, embed_size, weights=[embedding_matrix])(inp)\n",
    "    x = SpatialDropout1D(0.2)(x)\n",
    "    \n",
    "    #conv_0 = Conv1D(num_filters, kernel_size=kernel_size, strides=1)(x_emb)#这里也可以用conv1D，因为在embed_size\n",
    "    #等于词向量维度大小，故在列方向相当于没有做卷积操作，使用Conv2D的效果和Conv1D一样\n",
    "    GRU1 = Bidirectional(GRU(HIDDNE_SIZE_1, return_sequences=True, recurrent_dropout= 0.2,\n",
    "                              input_shape=(maxlen, embed_size)))(x)\n",
    "    \n",
    "    GRU2 = Bidirectional(GRU(HIDDNE_SIZE_1, return_sequences=False, recurrent_dropout= 0.2,\n",
    "                      input_shape=(maxlen, HIDDNE_SIZE_1)))(GRU1)\n",
    "    \n",
    "    z = Dropout(0.2)(GRU2)\n",
    "    \n",
    "    fully1 = Dense(HIDDNE_SIZE_2, activation='relu')(z)\n",
    "    \n",
    "    outp = Dense(6, activation='sigmoid')(fully1)  \n",
    "    \n",
    "    model = Model(inputs=inp, outputs=outp)\n",
    "    model.compile(loss='binary_crossentropy',\n",
    "                  optimizer='adam',\n",
    "                  metrics=['accuracy'])\n",
    "    return model"
   ]
  },
  {
   "cell_type": "code",
   "execution_count": 14,
   "metadata": {
    "colab": {
     "base_uri": "https://localhost:8080/",
     "height": 661
    },
    "colab_type": "code",
    "id": "Ik6aERBMMwJT",
    "outputId": "a9f24138-01ae-47e3-c71d-1cf32c198171"
   },
   "outputs": [
    {
     "name": "stdout",
     "output_type": "stream",
     "text": [
      "WARNING:tensorflow:From /usr/local/lib/python3.6/dist-packages/keras/backend/tensorflow_backend.py:66: The name tf.get_default_graph is deprecated. Please use tf.compat.v1.get_default_graph instead.\n",
      "\n",
      "WARNING:tensorflow:From /usr/local/lib/python3.6/dist-packages/keras/backend/tensorflow_backend.py:541: The name tf.placeholder is deprecated. Please use tf.compat.v1.placeholder instead.\n",
      "\n",
      "WARNING:tensorflow:From /usr/local/lib/python3.6/dist-packages/keras/backend/tensorflow_backend.py:4432: The name tf.random_uniform is deprecated. Please use tf.random.uniform instead.\n",
      "\n",
      "WARNING:tensorflow:From /usr/local/lib/python3.6/dist-packages/keras/backend/tensorflow_backend.py:190: The name tf.get_default_session is deprecated. Please use tf.compat.v1.get_default_session instead.\n",
      "\n",
      "WARNING:tensorflow:From /usr/local/lib/python3.6/dist-packages/keras/backend/tensorflow_backend.py:197: The name tf.ConfigProto is deprecated. Please use tf.compat.v1.ConfigProto instead.\n",
      "\n",
      "WARNING:tensorflow:From /usr/local/lib/python3.6/dist-packages/keras/backend/tensorflow_backend.py:3733: calling dropout (from tensorflow.python.ops.nn_ops) with keep_prob is deprecated and will be removed in a future version.\n",
      "Instructions for updating:\n",
      "Please use `rate` instead of `keep_prob`. Rate should be set to `rate = 1 - keep_prob`.\n",
      "WARNING:tensorflow:From /usr/local/lib/python3.6/dist-packages/keras/optimizers.py:793: The name tf.train.Optimizer is deprecated. Please use tf.compat.v1.train.Optimizer instead.\n",
      "\n",
      "WARNING:tensorflow:From /usr/local/lib/python3.6/dist-packages/tensorflow/python/ops/nn_impl.py:180: add_dispatch_support.<locals>.wrapper (from tensorflow.python.ops.array_ops) is deprecated and will be removed in a future version.\n",
      "Instructions for updating:\n",
      "Use tf.where in 2.0, which has the same broadcast rule as np.where\n",
      "Train on 143613 samples, validate on 15958 samples\n",
      "Epoch 1/3\n",
      "143613/143613 [==============================] - 948s 7ms/step - loss: 0.0577 - acc: 0.9795 - val_loss: 0.0438 - val_acc: 0.9834\n",
      "\n",
      " ROC-AUC - epoch: 1 - score: 0.985593 \n",
      "\n",
      "Epoch 2/3\n",
      "143613/143613 [==============================] - 946s 7ms/step - loss: 0.0398 - acc: 0.9843 - val_loss: 0.0426 - val_acc: 0.9834\n",
      "\n",
      " ROC-AUC - epoch: 2 - score: 0.987848 \n",
      "\n",
      "Epoch 3/3\n",
      "143613/143613 [==============================] - 947s 7ms/step - loss: 0.0348 - acc: 0.9859 - val_loss: 0.0429 - val_acc: 0.9836\n",
      "\n",
      " ROC-AUC - epoch: 3 - score: 0.987713 \n",
      "\n"
     ]
    }
   ],
   "source": [
    "model = get_model()\n",
    "batch_size = 256\n",
    "epochs = 3\n",
    "\n",
    "X_tra, X_val, y_tra, y_val = train_test_split(x_train, y_train, train_size=0.9, random_state=233)\n",
    "RocAuc = RocAucEvaluation(validation_data=(X_val, y_val), interval=1)\n",
    "\n",
    "hist = model.fit(X_tra, y_tra, batch_size=batch_size, epochs=epochs, validation_data=(X_val, y_val),\n",
    "                 callbacks=[RocAuc])"
   ]
  }
 ],
 "metadata": {
  "accelerator": "GPU",
  "colab": {
   "collapsed_sections": [],
   "name": "Untitled0.ipynb",
   "provenance": []
  },
  "kernelspec": {
   "display_name": "Python 3",
   "language": "python",
   "name": "python3"
  },
  "language_info": {
   "codemirror_mode": {
    "name": "ipython",
    "version": 3
   },
   "file_extension": ".py",
   "mimetype": "text/x-python",
   "name": "python",
   "nbconvert_exporter": "python",
   "pygments_lexer": "ipython3",
   "version": "3.6.9"
  },
  "toc": {
   "base_numbering": 1,
   "nav_menu": {},
   "number_sections": true,
   "sideBar": true,
   "skip_h1_title": false,
   "title_cell": "Table of Contents",
   "title_sidebar": "Contents",
   "toc_cell": false,
   "toc_position": {},
   "toc_section_display": true,
   "toc_window_display": false
  }
 },
 "nbformat": 4,
 "nbformat_minor": 1
}
